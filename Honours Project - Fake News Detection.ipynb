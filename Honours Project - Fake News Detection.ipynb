{
 "cells": [
  {
   "cell_type": "markdown",
   "metadata": {},
   "source": [
    "# Honours Project - Fake News Detection"
   ]
  },
  {
   "cell_type": "markdown",
   "metadata": {},
   "source": [
    "\n"
   ]
  },
  {
   "cell_type": "code",
   "execution_count": 1,
   "metadata": {},
   "outputs": [
    {
     "data": {
      "text/plain": [
       "'\\ngit code:\\ngit add .\\ngit commit -m \"First commit\"\\ngit push origin master\\n'"
      ]
     },
     "execution_count": 1,
     "metadata": {},
     "output_type": "execute_result"
    }
   ],
   "source": [
    "\"\"\"\n",
    "git code:\n",
    "git add .\n",
    "git commit -m \"First commit\"\n",
    "git push origin master\n",
    "\"\"\""
   ]
  },
  {
   "cell_type": "markdown",
   "metadata": {},
   "source": [
    "This project will be using the approach of CRISP-DM (Cross-industry standard process for data mining), which is a widely used process for knowledge discovery in data sets. \n",
    "The process encompasses several phases:\n",
    "\n",
    "    1. Business Understanding\n",
    "    2. Data Understanding\n",
    "    3. Data Preparation\n",
    "    4. Modeling\n",
    "    5. Evaluation\n",
    "    6. Deployment"
   ]
  },
  {
   "cell_type": "markdown",
   "metadata": {},
   "source": [
    "Possible data sets:"
   ]
  },
  {
   "cell_type": "markdown",
   "metadata": {},
   "source": [
    "https://www.kaggle.com/pontes/fake-news-sample"
   ]
  },
  {
   "cell_type": "markdown",
   "metadata": {},
   "source": [
    "Real News: https://archive.ics.uci.edu/ml/datasets/News+Aggregator"
   ]
  },
  {
   "cell_type": "markdown",
   "metadata": {},
   "source": [
    "https://toolbox.google.com/datasetsearch/search?query=fake%20news&docid=sHyIQgRMuTsFH02AAAAAAA%3D%3D"
   ]
  },
  {
   "cell_type": "markdown",
   "metadata": {},
   "source": [
    "https://github.com/hanselowski/athene_system/tree/master/data"
   ]
  },
  {
   "cell_type": "markdown",
   "metadata": {},
   "source": []
  },
  {
   "cell_type": "markdown",
   "metadata": {},
   "source": [
    "## Step 1 - Business Understanding"
   ]
  },
  {
   "cell_type": "markdown",
   "metadata": {},
   "source": [
    "TODO\n",
    "\n",
    "Goals/ Objectives &\n",
    "Success Criteria"
   ]
  },
  {
   "cell_type": "markdown",
   "metadata": {},
   "source": [
    "## Step 2 - Data Understanding"
   ]
  },
  {
   "cell_type": "markdown",
   "metadata": {},
   "source": [
    "### 2 a) - Importing Libraries"
   ]
  },
  {
   "cell_type": "code",
   "execution_count": 2,
   "metadata": {},
   "outputs": [],
   "source": [
    "import pandas as pd\n",
    "import numpy as np\n",
    "import nltk\n",
    "import sklearn\n",
    "import string\n",
    "\n",
    "#nltk.download('punkt')\n",
    "\n",
    "#from sklearn.model_selection import train_test_split\n",
    "#import sklearn.model_selection as ms\n",
    "#import sklearn.feature_extraction.text as text\n",
    "#import sklearn.naive_bayes as nb\n",
    "#from sklearn.feature_extraction.text import CountVectorizer\n",
    "#from sklearn.naive_bayes import MultinomialNB\n",
    "#from sklearn.naive_bayes import BernoulliNB\n",
    "#from sklearn.naive_bayes import GaussianNB\n",
    "#from sklearn.metrics import confusion_matrix\n",
    "#from sklearn.metrics import accuracy_score"
   ]
  },
  {
   "cell_type": "markdown",
   "metadata": {},
   "source": [
    "### 2 b) - Loading the Data Set"
   ]
  },
  {
   "cell_type": "code",
   "execution_count": 3,
   "metadata": {},
   "outputs": [
    {
     "data": {
      "text/html": [
       "<div>\n",
       "<style scoped>\n",
       "    .dataframe tbody tr th:only-of-type {\n",
       "        vertical-align: middle;\n",
       "    }\n",
       "\n",
       "    .dataframe tbody tr th {\n",
       "        vertical-align: top;\n",
       "    }\n",
       "\n",
       "    .dataframe thead th {\n",
       "        text-align: right;\n",
       "    }\n",
       "</style>\n",
       "<table border=\"1\" class=\"dataframe\">\n",
       "  <thead>\n",
       "    <tr style=\"text-align: right;\">\n",
       "      <th></th>\n",
       "      <th>Unnamed: 0</th>\n",
       "      <th>title</th>\n",
       "      <th>text</th>\n",
       "      <th>label</th>\n",
       "    </tr>\n",
       "  </thead>\n",
       "  <tbody>\n",
       "    <tr>\n",
       "      <th>0</th>\n",
       "      <td>8476</td>\n",
       "      <td>You Can Smell Hillary’s Fear</td>\n",
       "      <td>Daniel Greenfield, a Shillman Journalism Fello...</td>\n",
       "      <td>FAKE</td>\n",
       "    </tr>\n",
       "    <tr>\n",
       "      <th>1</th>\n",
       "      <td>10294</td>\n",
       "      <td>Watch The Exact Moment Paul Ryan Committed Pol...</td>\n",
       "      <td>Google Pinterest Digg Linkedin Reddit Stumbleu...</td>\n",
       "      <td>FAKE</td>\n",
       "    </tr>\n",
       "    <tr>\n",
       "      <th>2</th>\n",
       "      <td>3608</td>\n",
       "      <td>Kerry to go to Paris in gesture of sympathy</td>\n",
       "      <td>U.S. Secretary of State John F. Kerry said Mon...</td>\n",
       "      <td>REAL</td>\n",
       "    </tr>\n",
       "    <tr>\n",
       "      <th>3</th>\n",
       "      <td>10142</td>\n",
       "      <td>Bernie supporters on Twitter erupt in anger ag...</td>\n",
       "      <td>— Kaydee King (@KaydeeKing) November 9, 2016 T...</td>\n",
       "      <td>FAKE</td>\n",
       "    </tr>\n",
       "    <tr>\n",
       "      <th>4</th>\n",
       "      <td>875</td>\n",
       "      <td>The Battle of New York: Why This Primary Matters</td>\n",
       "      <td>It's primary day in New York and front-runners...</td>\n",
       "      <td>REAL</td>\n",
       "    </tr>\n",
       "  </tbody>\n",
       "</table>\n",
       "</div>"
      ],
      "text/plain": [
       "   Unnamed: 0                                              title  \\\n",
       "0        8476                       You Can Smell Hillary’s Fear   \n",
       "1       10294  Watch The Exact Moment Paul Ryan Committed Pol...   \n",
       "2        3608        Kerry to go to Paris in gesture of sympathy   \n",
       "3       10142  Bernie supporters on Twitter erupt in anger ag...   \n",
       "4         875   The Battle of New York: Why This Primary Matters   \n",
       "\n",
       "                                                text label  \n",
       "0  Daniel Greenfield, a Shillman Journalism Fello...  FAKE  \n",
       "1  Google Pinterest Digg Linkedin Reddit Stumbleu...  FAKE  \n",
       "2  U.S. Secretary of State John F. Kerry said Mon...  REAL  \n",
       "3  — Kaydee King (@KaydeeKing) November 9, 2016 T...  FAKE  \n",
       "4  It's primary day in New York and front-runners...  REAL  "
      ]
     },
     "execution_count": 3,
     "metadata": {},
     "output_type": "execute_result"
    }
   ],
   "source": [
    "df = pd.read_csv(\"data/FakeNews-(balanced)/fake_or_real_news.csv\", encoding=\"utf-8\")\n",
    "df.head()"
   ]
  },
  {
   "cell_type": "code",
   "execution_count": 4,
   "metadata": {},
   "outputs": [
    {
     "data": {
      "text/plain": [
       "'Shocking! Michele Obama & Hillary Caught Glamorizing Date Rape Promoters First lady claims moral high ground while befriending rape-glorifying rappers Infowars.com - October 27, 2016 Comments \\nAlex Jones breaks down the complete hypocrisy of Michele Obama and Hillary Clinton attacking Trump for comments he made over a decade ago while The White House is hosting and promoting rappers who boast about date raping women and selling drugs in their music. \\nRappers who have been welcomed to the White House by the Obama’s include “Rick Ross,” who promotes drugging and raping woman in his song “U.O.N.E.O.” \\nWhile attacking Trump as a sexual predator, Michelle and Hillary have further mainstreamed the degradation of women through their support of so-called musicians who attempt to normalize rape. NEWSLETTER SIGN UP Get the latest breaking news & specials from Alex Jones and the Infowars Crew. Related Articles'"
      ]
     },
     "execution_count": 4,
     "metadata": {},
     "output_type": "execute_result"
    }
   ],
   "source": [
    "#preview of an FAKE article\n",
    "df.iloc[16,2]"
   ]
  },
  {
   "cell_type": "code",
   "execution_count": 5,
   "metadata": {},
   "outputs": [
    {
     "data": {
      "text/plain": [
       "'Hillary Clinton and Donald Trump made some inaccurate claims during an NBC “commander-in-chief” forum on military and veterans issues:\\n\\n• Clinton wrongly claimed Trump supported the war in Iraq after it started, while Trump was wrong, once again, in saying he was against the war before it started.\\n\\n•\\xa0Trump said that President Obama set a “certain date” for withdrawing troops from Iraq, when that date was set before Obama was sworn in.\\n\\n•\\xa0Trump said that Obama’s visits to China, Saudi Arabia and Cuba were “the first time in the history, the storied history of Air Force One” when “high officials” of a host country did not appear to greet the president. Not true.\\n\\n•\\xa0Clinton said that Trump supports privatizing the Veterans Health Administration. That’s false. Trump said he supports allowing veterans to seek care at either public or private hospitals.\\n\\n•\\xa0Trump said Clinton made “a terrible mistake on Libya” when she was secretary of State. But, at the time, Trump also supported U.S. action that led to the removal of Moammar Gadhafi from power.\\n\\n•\\xa0Trump cherry-picked Clinton’s words when he claimed Clinton said “vets are being treated, essentially, just fine.” Clinton had said the problems in the Department of Veterans Affairs were not as “widespread” as some Republicans claimed, but she went on to acknowledge problems, including the issue of wait times for doctors.\\n\\nThe forum, sponsored by NBC News and the Iraq and Afghanistan Veterans of America, was held Sept. 7 at the Intrepid Sea, Air & Space Museum in New York City. Today\\xa0show host Matt Lauer, and members of the military and veterans in the audience, questioned the candidates separately.\\n\\nTrump said he “was totally against the war in Iraq,” while Clinton claimed that he supported the Iraq War before and after it started. The facts don’t support either candidate’s strong assertions.\\n\\nOur review of Trump’s statements before and after the Iraq War started found no evidence that Trump opposed the war before it started. In fact, he expressed mild support for invading Iraq when asked about it on the Howard Stern radio show on Sept. 11, 2002 — about six months before the war started.\\n\\nStern asked Trump if he supported a war with Iraq, and Trump responded, “Yeah, I guess so.”\\n\\nIn the NBC commander in chief forum, Trump cited an Esquire article that appeared in August 2004 to show his opposition to the war. But that article appeared 17 months after the war started.\\n\\nAs for Clinton, who as a senator voted in October 2002 to authorize the war in Iraq, the Democratic nominee claimed that Trump “supported it before it happened, he supported it as it was happening and he is on record as supporting it after it happened.”\\n\\nBut just as there is no evidence that Trump opposed the Iraq War before it started, the Clinton campaign offered no evidence that Trump supported the war “after it happened.”\\n\\nThe Clinton campaign cited Trump’s interview on March 21, 2003, with Neil Cavuto of Fox Business just two days after the war started.\\n\\nCavuto asked Trump about the impact of the war on the stock market. Trump said the war “looks like a tremendous success from a military standpoint,” and he predicted the market will “go up like a rocket” after the war. But Cavuto does not ask Trump whether the U.S. should have gone to war with Iraq or whether he supports the war, and Trump doesn’t offer an opinion.\\n\\nAs early as July 2003, Trump expressed concern on Hardball with Chris Matthews\\xa0about money being spent in Iraq rather than in the U.S. Two months later, Trump told MSNBC’s Joe Scarborough, “I guess maybe if I had to do it, I would have fought terrorism but not necessarily Iraq.”\\n\\nClinton invited her audience to read Trump’s comments on the Iraq War. They can read our timeline, “Donald Trump and the Iraq War.”\\n\\nTrump said President Obama set a “certain date” for withdrawing troops from Iraq, but that date was actually set by President George W. Bush.\\n\\nNBC’s Matt Lauer asked Trump about his tendency to respond, when pushed for details on his military proposals, that he’s not going to give details because he wants to be “unpredictable.” Trump responded, “Absolutely,” and went on to criticize Obama for revealing the withdrawal date.\\n\\nAs we said then, Republicans and Democrats disagree on whether Obama or Bush is to blame for withdrawing all combat troops from Iraq at the end of 2011. But that date was set when Bush signed the Status of Forces Agreement on Dec. 14, 2008. It said: “All the United States Forces shall withdraw from all Iraqi territory no later than December 31, 2011.”\\n\\nIn the NBC forum, Trump also called the withdrawal of troops “a terrible decision.” As we’ve explained before, Condoleezza Rice, Bush’s secretary of State, later wrote that Bush wanted an agreement for a residual force to remain, but Iraqi Prime Minister Nouri al-Maliki objected.\\n\\nOnce Obama took office in January 2009, he had three years to renegotiate the deal, which his administration tried to do, to leave a residual American troop force. But Maliki still didn’t agree. Negotiations broke down in October 2011 over the issue of whether U.S. troops would be shielded from criminal prosecution by Iraqi authorities. Whether Obama did enough is a matter of opinion: His then defense secretary, Leon Panetta, later wrote that the president didn’t press hard enough for a deal. But some experts say Iraq was more closely aligned at the time with Iran and there wasn’t a deal to be made with Maliki.\\n\\nSo, both presidents had a role in the withdrawal of troops. But Trump wrongly said that Obama was the one who set a “certain date” for withdrawal and let U.S. enemies know about it, when that date was set before Obama was sworn in.\\n\\nIt’s worth noting that Trump said in a March 16, 2007, interview on CNN that the troops should be withdrawn quickly from Iraq.\\n\\nTrump said that Obama’s visits to China, Saudi Arabia and Cuba were “the first time in the history, the storied history of Air Force One” when “high officials” of a host country did not appear to greet the president.\\n\\nThat’s not true. Other presidents have encountered similar low-key greetings on foreign trips aboard the presidential aircraft.\\n\\nTrump referred to the fact that Cuba’s president, Raul Castro, did not greet Obama at the airport on his historic visit to Cuba in March, that Saudi Arabia’s King Salman did not meet Air Force One at the start of Obama’s trip to Riyadh in April, and he referred to China’s handling of the president’s arrival in Hangzhou last Saturday for a Group of 20 meeting.\\n\\nWhether or not those arrivals constituted snubs of a U.S. president as Trump claims is a matter of debate. But Trump is wrong on the facts when he claims it has not happened before. It has.\\n\\nIn 1984, for example, Ronald Reagan landed in Beijing and was received by China’s foreign minister rather than the president, whom he met only later. Similarly, on a 1985 trip to West Germany, Reagan was met by the foreign minister and not Chancellor Helmut Kohl.\\n\\nThese and other examples were dug up by our friend Glenn Kessler, the Washington Post‘s “Fact Checker,” who researched a Trump claim in April that Cuba’s and Saudi Arabia’s handling of Obama’s visits were “without precedent.” Kessler said of Trump, “once again he’s wrong, wrong, wrong.”\\n\\nKessler also noted that during Richard Nixon’s historic 1972 visit to China he was greeted at the airport by the country’s number two man, Premier Zhou Enlai. His boss, Chairman Mao, didn’t even agree to meet with Nixon until after he had arrived at a guest house.\\n\\nClinton said that her plan to overhaul the Veterans Health Administration would not include privatization, which she said Trump supports.\\n\\nBut Trump refuted that statement when it was his turn to discuss his plan to help veterans. “I would not do that,” Trump said, referring to Clinton’s claim that he supports privatization.\\n\\nTrump’s campaign published “The Goals Of Donald J. Trump’s Veterans Plan” on its website last October. It doesn’t call for the VA to be completely privatized.\\n\\nOne of the biggest changes that plan would make to the current VA health care system is allowing veterans to get care at any non-VA medical center that accepts Medicare.\\n\\n“Under a Trump Administration, all veterans eligible for VA health care can bring their veteran’s ID card to any doctor or care facility that accepts Medicare to get the care they need immediately,” the plan states.\\n\\n“The power to choose will stop the wait time backlogs and force the VA to improve and compete if the department wants to keep receiving veterans’ healthcare dollars,” the plan says.\\n\\nTrump’s proposal would seemingly go further than the Non-VA Medical Care Program, which allows eligible veterans to access care outside of the VA under certain circumstances, such as when VA medical centers cannot provide services. The program requires pre-approval for veterans to receive care at a non-VA facility in non-emergency situations.\\n\\nTrump’s proposal would also go further than the bipartisan Veterans Choice Act of 2014 that President Obama signed into law, creating a temporary program, separate from the Non-VA Medical Care Program, that allows eligible veterans to receive health care at a non-VA facility if they would have to wait more than 30 days for an appointment at a VA medical center, or if they live more than 40 miles from the nearest VA hospital.\\n\\nTrump stuck to the idea of allowing veterans to choose between public and private hospitals when he released his most recent “Ten Point Plan To Reform The VA” in July.\\n\\nPoint 10 of the plan says: “Mr. Trump will ensure every veteran has the choice to seek care at the VA or at a private service provider of their own choice. Under a Trump Administration, no veteran will die waiting for service.”\\n\\nTrump reinforced that part of his plan during the NBC News forum as well.\\n\\nTo be clear, Trump supports giving veterans a choice between VA hospitals and private ones. That’s not the same thing as supporting the complete privatization of the system that provides care to veterans.\\n\\nTrump criticized Clinton for making “a terrible mistake on Libya” when she was secretary of State. But, at the time, Trump also supported U.S. action that led to the removal of Moammar Gadhafi from power.\\n\\nTrump made his claim in response to a question posed by Lauer on whether Trump will be “prepared on Day One,” if elected president, to tackle “complex national security issues.”\\n\\nThis isn’t the first time Trump has ignored his past support for the U.S. intervention in Libya.\\n\\nDuring the 10th GOP debate, Trump said he had “never discussed that subject” when Sen. Ted Cruz called him out on supporting U.S. action in the country. But, as we wrote, Trump said in 2011 that the U.S. should go into Libya “on a humanitarian basis” and “knock [Gadhafi] out very quickly, very surgically, very effectively and save the lives.”\\n\\nTrump made that comment in a video posted to his YouTube channel in February 2011:\\n\\nEven though Trump now says Clinton’s support for intervention in Libya was a “terrible mistake,” it doesn’t change the fact that five years ago he supported Gadhafi’s removal.\\n\\nTrump twisted Clinton’s words when he claimed Clinton said “vets are being treated, essentially, just fine.” Clinton said the problems in the Department of Veterans Affairs were not as “widespread” as some Republican supporters of privatization of the VA claim, but she went on to acknowledge problems in the VA system — including the issue of wait times for doctors — and what she would do to address them.\\n\\nTrump highlighted the issue of wait times to see a doctor as “one of the big problems” in the VA, and then suggested Clinton doesn’t think the VA has problems.\\n\\nLauer interrupted, noting that Clinton “went on after that and laid out a litany of problems within the VA.”\\n\\nTrump insisted his version was accurate, adding, “I’m telling you … she said she was satisfied with what was going on in the Veterans Administration.”\\n\\nThat’s not accurate. The comments in question from Clinton came during an interview with MSNBC’s Rachel Maddow on Oct. 23, 2015. Maddow asked about talk among some Republicans of abolishing the VA and privatizing it. “The reason they are able to propose something that radical is because the problems at the VA seem so intractable,” Maddow said.\\n\\nMaddow asked if Clinton had any “new ideas for trying to fix” the VA. Here was Clinton’s response, with the part Trump is referring to in bold.\\n\\nClinton accused Republicans of underfunding the VA because they “want it to fail” so they can privatize it.\\n\\nClinton added, “But we have to be more creative about trying to fix the problems that are the legitimate concern, so that we can try to stymie the Republican assault.”\\n\\nIndeed, the Clinton campaign website states that Clinton wants to “fundamentally reform veterans’ health care to ensure access to timely and high quality care.” The campaign says Clinton “was outraged by the recent scandals at the VA, and as president, she will demand accountability and performance from VA leadership.” The site specifically mentions Clinton’s dissatisfaction that “[m]any veterans have to wait an unacceptably long time to see a doctor or to process disability claims and appeals” and promises she will “[b]uild a 21st-century Department of Veterans Affairs to deliver world-class care.”\\n\\nTrump cherry-picked the part of Clinton’s response that said problems in the VA have “not been as widespread as it has been made out to be,” to make the blanket claim that Clinton is “satisfied with what was going on in the Veterans Administration” and that “vets are being treated, essentially, just fine.” But Trump is leaving out the parts of Clinton’s answer that acknowledged problems in the VA — including the wait time issue Trump highlighted as one of his biggest concerns.'"
      ]
     },
     "execution_count": 5,
     "metadata": {},
     "output_type": "execute_result"
    }
   ],
   "source": [
    "#preview of an REAL article\n",
    "df.iloc[8,2]"
   ]
  },
  {
   "cell_type": "code",
   "execution_count": 6,
   "metadata": {},
   "outputs": [
    {
     "data": {
      "text/plain": [
       "<bound method DataFrame.info of       Unnamed: 0                                              title  \\\n",
       "0           8476                       You Can Smell Hillary’s Fear   \n",
       "1          10294  Watch The Exact Moment Paul Ryan Committed Pol...   \n",
       "2           3608        Kerry to go to Paris in gesture of sympathy   \n",
       "3          10142  Bernie supporters on Twitter erupt in anger ag...   \n",
       "4            875   The Battle of New York: Why This Primary Matters   \n",
       "5           6903                                        Tehran, USA   \n",
       "6           7341  Girl Horrified At What She Watches Boyfriend D...   \n",
       "7             95                  ‘Britain’s Schindler’ Dies at 106   \n",
       "8           4869  Fact check: Trump and Clinton at the 'commande...   \n",
       "9           2909  Iran reportedly makes new push for uranium con...   \n",
       "10          1357  With all three Clintons in Iowa, a glimpse at ...   \n",
       "11           988  Donald Trump’s Shockingly Weak Delegate Game S...   \n",
       "12          7041  Strong Solar Storm, Tech Risks Today | S0 News...   \n",
       "13          7623       10 Ways America Is Preparing for World War 3   \n",
       "14          1571                   Trump takes on Cruz, but lightly   \n",
       "15          4739                         How women lead differently   \n",
       "16          7737  Shocking! Michele Obama & Hillary Caught Glamo...   \n",
       "17          8716  Hillary Clinton in HUGE Trouble After America ...   \n",
       "18          3304  What's in that Iran bill that Obama doesn't like?   \n",
       "19          3078  The 1 chart that explains everything you need ...   \n",
       "20          2517  The slippery slope to Trump’s proposed ban on ...   \n",
       "21         10348  Episode #160 – SUNDAY WIRE: ‘Hail to the Deplo...   \n",
       "22           778  Hillary Clinton Makes A Bipartisan Appeal on S...   \n",
       "23          3300  New Senate majority leader’s main goal for GOP...   \n",
       "24          6155              ‘Inferno’ and the Overpopulation Myth   \n",
       "25           636  Anti-Trump forces seek last-ditch delegate revolt   \n",
       "26           755  Sanders Trounces Clinton in W. Va. -- But Will...   \n",
       "27           626  Donald Trump Is Changing His Campaign Slogan t...   \n",
       "28           691  Pure chaos: Donald Trump’s campaign management...   \n",
       "29          5743  Syrian War Report – November 1, 2016: Syrian M...   \n",
       "...          ...                                                ...   \n",
       "6305        6457  Colin Kaepernick hosts ‘Know Your Rights’ camp...   \n",
       "6306        7030  Wikileaks Emails Disclose Aliens Linked to Vat...   \n",
       "6307        9013  US abstains from UN vote calling for end to Cu...   \n",
       "6308        9509  West Ham fans laud aerodynamic properties of n...   \n",
       "6309        3825      How the Obama White House runs foreign policy   \n",
       "6310        4515  ISIS claims responsibility for Garland, Texas,...   \n",
       "6311        2747  The “blame the left” crew: What the right’s ne...   \n",
       "6312        6516  ADHD NATION: How Big Pharma Created the ADHD E...   \n",
       "6313        9636  Donald Trump claims the election will be 'rigg...   \n",
       "6314        7398  REPORT: Dirty Reporter Blackmails Montel… Help...   \n",
       "6315        3717  Police Arrest Suspect In Charleston Church Sho...   \n",
       "6316        5205  Donald Trump’s collapse was caused by one big ...   \n",
       "6317        6696  FINA suspends Russian swimmer for 8 years over...   \n",
       "6318        7991  BREAKING : Hillary Campaign Manager Deletes hi...   \n",
       "6319        1303  Why Ted Cruz Has the Most to Lose in New Hamps...   \n",
       "6320        9051  “Nothing Good Can Come of This Election”–and T...   \n",
       "6321       10200   List of Republicans opposing Trump | OffGuardian   \n",
       "6322       10009  Putin: Use of 'mythical' Russian military thre...   \n",
       "6323        4214  Bernie Sanders says private meeting with Pope ...   \n",
       "6324        2316  Alabama Lawmaker: Same-Sex Couples Don’t Deser...   \n",
       "6325        8411  Will the Media Reset After the Election or Are...   \n",
       "6326        6143  DOJ COMPLAINT: Comey Under Fire Over Partisan ...   \n",
       "6327        3262  GOP Senator David Perdue Jokes About Praying f...   \n",
       "6328        9337  Radio Derb Is On The Air–Leonardo And Brazil’s...   \n",
       "6329        8737  Assange claims ‘crazed’ Clinton campaign tried...   \n",
       "6330        4490  State Department says it can't find emails fro...   \n",
       "6331        8062  The ‘P’ in PBS Should Stand for ‘Plutocratic’ ...   \n",
       "6332        8622  Anti-Trump Protesters Are Tools of the Oligarc...   \n",
       "6333        4021  In Ethiopia, Obama seeks progress on peace, se...   \n",
       "6334        4330  Jeb Bush Is Suddenly Attacking Trump. Here's W...   \n",
       "\n",
       "                                                   text label  \n",
       "0     Daniel Greenfield, a Shillman Journalism Fello...  FAKE  \n",
       "1     Google Pinterest Digg Linkedin Reddit Stumbleu...  FAKE  \n",
       "2     U.S. Secretary of State John F. Kerry said Mon...  REAL  \n",
       "3     — Kaydee King (@KaydeeKing) November 9, 2016 T...  FAKE  \n",
       "4     It's primary day in New York and front-runners...  REAL  \n",
       "5       \\nI’m not an immigrant, but my grandparents ...  FAKE  \n",
       "6     Share This Baylee Luciani (left), Screenshot o...  FAKE  \n",
       "7     A Czech stockbroker who saved more than 650 Je...  REAL  \n",
       "8     Hillary Clinton and Donald Trump made some ina...  REAL  \n",
       "9     Iranian negotiators reportedly have made a las...  REAL  \n",
       "10    CEDAR RAPIDS, Iowa — “I had one of the most wo...  REAL  \n",
       "11    Donald Trump’s organizational problems have go...  REAL  \n",
       "12    Click Here To Learn More About Alexandra's Per...  FAKE  \n",
       "13    October 31, 2016 at 4:52 am \\nPretty factual e...  FAKE  \n",
       "14    Killing Obama administration rules, dismantlin...  REAL  \n",
       "15    As more women move into high offices, they oft...  REAL  \n",
       "16    Shocking! Michele Obama & Hillary Caught Glamo...  FAKE  \n",
       "17    0 \\nHillary Clinton has barely just lost the p...  FAKE  \n",
       "18    Washington (CNN) For months, the White House a...  REAL  \n",
       "19    While paging through Pew's best data visualiza...  REAL  \n",
       "20    With little fanfare this fall, the New York de...  REAL  \n",
       "21    November 13, 2016 By 21wire Leave a Comment \\n...  FAKE  \n",
       "22    Hillary Clinton told a Staten Island crowd tod...  REAL  \n",
       "23    Mitch McConnell has an unusual admonition for ...  REAL  \n",
       "24    Mises.org November 1, 2016 Inferno is a great ...  FAKE  \n",
       "25    Washington (CNN) The faction of the GOP that i...  REAL  \n",
       "26    Meanwhile, Democrat Bernie Sanders picked up m...  REAL  \n",
       "27    After a week of nonstop criticism from Democra...  REAL  \n",
       "28    If you want a glimpse into a presidential cand...  REAL  \n",
       "29    Syrian War Report – October 31, 2016: Al-Nusra...  FAKE  \n",
       "...                                                 ...   ...  \n",
       "6305  Print \\n[Ed. – Now teaching the gospel of raci...  FAKE  \n",
       "6306  Sound too “strange” to be true? We have proof!...  FAKE  \n",
       "6307  US abstains from UN vote calling for end to Cu...  FAKE  \n",
       "6308  Tuesday 1 November 2016 by Formelia Alberthine...  FAKE  \n",
       "6309  When Susan E. Rice took over as President Obam...  REAL  \n",
       "6310  (CNN) ISIS has claimed responsibility for the ...  REAL  \n",
       "6311  It was inevitable that liberals would end up b...  REAL  \n",
       "6312  By Kalee Brown\\nWhile I was at university, man...  FAKE  \n",
       "6313  Email \\nDonald Trump is again riling up his vo...  FAKE  \n",
       "6314  BREAKING: Trump Jumps in FL, Takes 4 Point Lea...  FAKE  \n",
       "6315  Police in Charleston, S.C., say a man they sus...  REAL  \n",
       "6316  Silver of FiveThirtyEight.com has laid out fou...  REAL  \n",
       "6317  This post was originally published on this sit...  FAKE  \n",
       "6318  BREAKING : Hillary Campaign Manager Deletes hi...  FAKE  \n",
       "6319  Ted Cruz took first prize in the Iowa caucuses...  REAL  \n",
       "6320  Posted on November 4, 2016 by Charles Hugh Smi...  FAKE  \n",
       "6321  Charlie Baker , Massachusetts (2015–present)[3...  FAKE  \n",
       "6322  vladimir putin , Valdai , sochi , RBTH Daily R...  FAKE  \n",
       "6323  ROME —  U.S. Democratic presidential candidate...  REAL  \n",
       "6324  Most conservatives who oppose marriage equalit...  REAL  \n",
       "6325  Written by Peter Van Buren   venerable New Yor...  FAKE  \n",
       "6326  DOJ COMPLAINT: Comey Under Fire Over Partisan ...  FAKE  \n",
       "6327  The freshman senator from Georgia quoted scrip...  REAL  \n",
       "6328                                                     FAKE  \n",
       "6329  Julian Assange has claimed the Hillary Clinton...  FAKE  \n",
       "6330  The State Department told the Republican Natio...  REAL  \n",
       "6331  The ‘P’ in PBS Should Stand for ‘Plutocratic’ ...  FAKE  \n",
       "6332   Anti-Trump Protesters Are Tools of the Oligar...  FAKE  \n",
       "6333  ADDIS ABABA, Ethiopia —President Obama convene...  REAL  \n",
       "6334  Jeb Bush Is Suddenly Attacking Trump. Here's W...  REAL  \n",
       "\n",
       "[6335 rows x 4 columns]>"
      ]
     },
     "execution_count": 6,
     "metadata": {},
     "output_type": "execute_result"
    }
   ],
   "source": [
    "df.info"
   ]
  },
  {
   "cell_type": "code",
   "execution_count": 7,
   "metadata": {},
   "outputs": [],
   "source": [
    "columns = df.columns.tolist()"
   ]
  },
  {
   "cell_type": "code",
   "execution_count": 8,
   "metadata": {},
   "outputs": [
    {
     "name": "stdout",
     "output_type": "stream",
     "text": [
      "['Unnamed: 0', 'title', 'text', 'label']\n"
     ]
    }
   ],
   "source": [
    "print(columns)"
   ]
  },
  {
   "cell_type": "code",
   "execution_count": 9,
   "metadata": {},
   "outputs": [
    {
     "data": {
      "text/plain": [
       "REAL    3171\n",
       "FAKE    3164\n",
       "Name: label, dtype: int64"
      ]
     },
     "execution_count": 9,
     "metadata": {},
     "output_type": "execute_result"
    }
   ],
   "source": [
    "df[\"label\"].value_counts()"
   ]
  },
  {
   "cell_type": "markdown",
   "metadata": {},
   "source": [
    "The data set seems to be well balanced."
   ]
  },
  {
   "cell_type": "code",
   "execution_count": 10,
   "metadata": {},
   "outputs": [
    {
     "data": {
      "text/plain": [
       "pandas.core.series.Series"
      ]
     },
     "execution_count": 10,
     "metadata": {},
     "output_type": "execute_result"
    }
   ],
   "source": [
    "type(df[\"title\"])"
   ]
  },
  {
   "cell_type": "code",
   "execution_count": 11,
   "metadata": {},
   "outputs": [
    {
     "data": {
      "text/plain": [
       "pandas.core.series.Series"
      ]
     },
     "execution_count": 11,
     "metadata": {},
     "output_type": "execute_result"
    }
   ],
   "source": [
    "type(df[\"text\"])"
   ]
  },
  {
   "cell_type": "code",
   "execution_count": 12,
   "metadata": {},
   "outputs": [
    {
     "data": {
      "text/plain": [
       "Unnamed: 0     int64\n",
       "title         object\n",
       "text          object\n",
       "label         object\n",
       "dtype: object"
      ]
     },
     "execution_count": 12,
     "metadata": {},
     "output_type": "execute_result"
    }
   ],
   "source": [
    "df.dtypes"
   ]
  },
  {
   "cell_type": "markdown",
   "metadata": {},
   "source": [
    "It appears that \"Unnamed: 0\" is the index since it only contains numbers. The column will be checked for duplicates to check."
   ]
  },
  {
   "cell_type": "code",
   "execution_count": 13,
   "metadata": {},
   "outputs": [
    {
     "name": "stdout",
     "output_type": "stream",
     "text": [
      "False\n"
     ]
    }
   ],
   "source": [
    "print(any(df[\"Unnamed: 0\"].duplicated()))"
   ]
  },
  {
   "cell_type": "code",
   "execution_count": 14,
   "metadata": {},
   "outputs": [
    {
     "data": {
      "text/plain": [
       "False"
      ]
     },
     "execution_count": 14,
     "metadata": {},
     "output_type": "execute_result"
    }
   ],
   "source": [
    "df.isnull().values.any()"
   ]
  },
  {
   "cell_type": "markdown",
   "metadata": {},
   "source": [
    "## Step 3 - Data Preparation"
   ]
  },
  {
   "cell_type": "markdown",
   "metadata": {},
   "source": [
    "### 3 a) - General Polishing"
   ]
  },
  {
   "cell_type": "code",
   "execution_count": 15,
   "metadata": {},
   "outputs": [],
   "source": [
    "#rename \"Unnamed: 0\" and make it the index of the data frame\n",
    "df.columns = [\"index\", \"title\", \"text\", \"label\"]\n",
    "df.set_index(\"index\", inplace=True)"
   ]
  },
  {
   "cell_type": "code",
   "execution_count": 16,
   "metadata": {},
   "outputs": [
    {
     "data": {
      "text/html": [
       "<div>\n",
       "<style scoped>\n",
       "    .dataframe tbody tr th:only-of-type {\n",
       "        vertical-align: middle;\n",
       "    }\n",
       "\n",
       "    .dataframe tbody tr th {\n",
       "        vertical-align: top;\n",
       "    }\n",
       "\n",
       "    .dataframe thead th {\n",
       "        text-align: right;\n",
       "    }\n",
       "</style>\n",
       "<table border=\"1\" class=\"dataframe\">\n",
       "  <thead>\n",
       "    <tr style=\"text-align: right;\">\n",
       "      <th></th>\n",
       "      <th>title</th>\n",
       "      <th>text</th>\n",
       "      <th>label</th>\n",
       "    </tr>\n",
       "    <tr>\n",
       "      <th>index</th>\n",
       "      <th></th>\n",
       "      <th></th>\n",
       "      <th></th>\n",
       "    </tr>\n",
       "  </thead>\n",
       "  <tbody>\n",
       "    <tr>\n",
       "      <th>8476</th>\n",
       "      <td>You Can Smell Hillary’s Fear</td>\n",
       "      <td>Daniel Greenfield, a Shillman Journalism Fello...</td>\n",
       "      <td>FAKE</td>\n",
       "    </tr>\n",
       "    <tr>\n",
       "      <th>10294</th>\n",
       "      <td>Watch The Exact Moment Paul Ryan Committed Pol...</td>\n",
       "      <td>Google Pinterest Digg Linkedin Reddit Stumbleu...</td>\n",
       "      <td>FAKE</td>\n",
       "    </tr>\n",
       "    <tr>\n",
       "      <th>3608</th>\n",
       "      <td>Kerry to go to Paris in gesture of sympathy</td>\n",
       "      <td>U.S. Secretary of State John F. Kerry said Mon...</td>\n",
       "      <td>REAL</td>\n",
       "    </tr>\n",
       "    <tr>\n",
       "      <th>10142</th>\n",
       "      <td>Bernie supporters on Twitter erupt in anger ag...</td>\n",
       "      <td>— Kaydee King (@KaydeeKing) November 9, 2016 T...</td>\n",
       "      <td>FAKE</td>\n",
       "    </tr>\n",
       "    <tr>\n",
       "      <th>875</th>\n",
       "      <td>The Battle of New York: Why This Primary Matters</td>\n",
       "      <td>It's primary day in New York and front-runners...</td>\n",
       "      <td>REAL</td>\n",
       "    </tr>\n",
       "  </tbody>\n",
       "</table>\n",
       "</div>"
      ],
      "text/plain": [
       "                                                   title  \\\n",
       "index                                                      \n",
       "8476                        You Can Smell Hillary’s Fear   \n",
       "10294  Watch The Exact Moment Paul Ryan Committed Pol...   \n",
       "3608         Kerry to go to Paris in gesture of sympathy   \n",
       "10142  Bernie supporters on Twitter erupt in anger ag...   \n",
       "875     The Battle of New York: Why This Primary Matters   \n",
       "\n",
       "                                                    text label  \n",
       "index                                                           \n",
       "8476   Daniel Greenfield, a Shillman Journalism Fello...  FAKE  \n",
       "10294  Google Pinterest Digg Linkedin Reddit Stumbleu...  FAKE  \n",
       "3608   U.S. Secretary of State John F. Kerry said Mon...  REAL  \n",
       "10142  — Kaydee King (@KaydeeKing) November 9, 2016 T...  FAKE  \n",
       "875    It's primary day in New York and front-runners...  REAL  "
      ]
     },
     "execution_count": 16,
     "metadata": {},
     "output_type": "execute_result"
    }
   ],
   "source": [
    "df.head()"
   ]
  },
  {
   "cell_type": "code",
   "execution_count": 17,
   "metadata": {},
   "outputs": [],
   "source": [
    "#order by index\n",
    "df.sort_index(inplace=True)"
   ]
  },
  {
   "cell_type": "code",
   "execution_count": 18,
   "metadata": {},
   "outputs": [
    {
     "data": {
      "text/html": [
       "<div>\n",
       "<style scoped>\n",
       "    .dataframe tbody tr th:only-of-type {\n",
       "        vertical-align: middle;\n",
       "    }\n",
       "\n",
       "    .dataframe tbody tr th {\n",
       "        vertical-align: top;\n",
       "    }\n",
       "\n",
       "    .dataframe thead th {\n",
       "        text-align: right;\n",
       "    }\n",
       "</style>\n",
       "<table border=\"1\" class=\"dataframe\">\n",
       "  <thead>\n",
       "    <tr style=\"text-align: right;\">\n",
       "      <th></th>\n",
       "      <th>title</th>\n",
       "      <th>text</th>\n",
       "      <th>label</th>\n",
       "    </tr>\n",
       "    <tr>\n",
       "      <th>index</th>\n",
       "      <th></th>\n",
       "      <th></th>\n",
       "      <th></th>\n",
       "    </tr>\n",
       "  </thead>\n",
       "  <tbody>\n",
       "    <tr>\n",
       "      <th>2</th>\n",
       "      <td>Study: women had to drive 4 times farther afte...</td>\n",
       "      <td>Ever since Texas laws closed about half of the...</td>\n",
       "      <td>REAL</td>\n",
       "    </tr>\n",
       "    <tr>\n",
       "      <th>3</th>\n",
       "      <td>Trump, Clinton clash in dueling DC speeches</td>\n",
       "      <td>Donald Trump and Hillary Clinton, now at the s...</td>\n",
       "      <td>REAL</td>\n",
       "    </tr>\n",
       "    <tr>\n",
       "      <th>5</th>\n",
       "      <td>As Reproductive Rights Hang In The Balance, De...</td>\n",
       "      <td>WASHINGTON -- Forty-three years after the Supr...</td>\n",
       "      <td>REAL</td>\n",
       "    </tr>\n",
       "    <tr>\n",
       "      <th>6</th>\n",
       "      <td>Despite Constant Debate, Americans' Abortion O...</td>\n",
       "      <td>It's been a big week for abortion news.\\n\\nCar...</td>\n",
       "      <td>REAL</td>\n",
       "    </tr>\n",
       "    <tr>\n",
       "      <th>7</th>\n",
       "      <td>Obama Argues Against Goverment Shutdown Over P...</td>\n",
       "      <td>President Barack Obama said Saturday night tha...</td>\n",
       "      <td>REAL</td>\n",
       "    </tr>\n",
       "  </tbody>\n",
       "</table>\n",
       "</div>"
      ],
      "text/plain": [
       "                                                   title  \\\n",
       "index                                                      \n",
       "2      Study: women had to drive 4 times farther afte...   \n",
       "3            Trump, Clinton clash in dueling DC speeches   \n",
       "5      As Reproductive Rights Hang In The Balance, De...   \n",
       "6      Despite Constant Debate, Americans' Abortion O...   \n",
       "7      Obama Argues Against Goverment Shutdown Over P...   \n",
       "\n",
       "                                                    text label  \n",
       "index                                                           \n",
       "2      Ever since Texas laws closed about half of the...  REAL  \n",
       "3      Donald Trump and Hillary Clinton, now at the s...  REAL  \n",
       "5      WASHINGTON -- Forty-three years after the Supr...  REAL  \n",
       "6      It's been a big week for abortion news.\\n\\nCar...  REAL  \n",
       "7      President Barack Obama said Saturday night tha...  REAL  "
      ]
     },
     "execution_count": 18,
     "metadata": {},
     "output_type": "execute_result"
    }
   ],
   "source": [
    "df.head()"
   ]
  },
  {
   "cell_type": "code",
   "execution_count": 19,
   "metadata": {},
   "outputs": [
    {
     "data": {
      "text/plain": [
       "Int64Index([    2,     3,     5,     6,     7,     9,    10,    12,    14,\n",
       "               16,\n",
       "            ...\n",
       "            10543, 10545, 10546, 10547, 10548, 10549, 10551, 10553, 10555,\n",
       "            10557],\n",
       "           dtype='int64', name='index', length=6335)"
      ]
     },
     "execution_count": 19,
     "metadata": {},
     "output_type": "execute_result"
    }
   ],
   "source": [
    "df.index"
   ]
  },
  {
   "cell_type": "markdown",
   "metadata": {},
   "source": [
    "The index seems to skip some numbers, for example 8 and 11. The index will be properly assigned."
   ]
  },
  {
   "cell_type": "code",
   "execution_count": 20,
   "metadata": {},
   "outputs": [],
   "source": [
    "df['index'] = df.reset_index().index"
   ]
  },
  {
   "cell_type": "code",
   "execution_count": 21,
   "metadata": {},
   "outputs": [
    {
     "data": {
      "text/html": [
       "<div>\n",
       "<style scoped>\n",
       "    .dataframe tbody tr th:only-of-type {\n",
       "        vertical-align: middle;\n",
       "    }\n",
       "\n",
       "    .dataframe tbody tr th {\n",
       "        vertical-align: top;\n",
       "    }\n",
       "\n",
       "    .dataframe thead th {\n",
       "        text-align: right;\n",
       "    }\n",
       "</style>\n",
       "<table border=\"1\" class=\"dataframe\">\n",
       "  <thead>\n",
       "    <tr style=\"text-align: right;\">\n",
       "      <th></th>\n",
       "      <th>title</th>\n",
       "      <th>text</th>\n",
       "      <th>label</th>\n",
       "    </tr>\n",
       "    <tr>\n",
       "      <th>index</th>\n",
       "      <th></th>\n",
       "      <th></th>\n",
       "      <th></th>\n",
       "    </tr>\n",
       "  </thead>\n",
       "  <tbody>\n",
       "    <tr>\n",
       "      <th>0</th>\n",
       "      <td>Study: women had to drive 4 times farther afte...</td>\n",
       "      <td>Ever since Texas laws closed about half of the...</td>\n",
       "      <td>REAL</td>\n",
       "    </tr>\n",
       "    <tr>\n",
       "      <th>1</th>\n",
       "      <td>Trump, Clinton clash in dueling DC speeches</td>\n",
       "      <td>Donald Trump and Hillary Clinton, now at the s...</td>\n",
       "      <td>REAL</td>\n",
       "    </tr>\n",
       "    <tr>\n",
       "      <th>2</th>\n",
       "      <td>As Reproductive Rights Hang In The Balance, De...</td>\n",
       "      <td>WASHINGTON -- Forty-three years after the Supr...</td>\n",
       "      <td>REAL</td>\n",
       "    </tr>\n",
       "    <tr>\n",
       "      <th>3</th>\n",
       "      <td>Despite Constant Debate, Americans' Abortion O...</td>\n",
       "      <td>It's been a big week for abortion news.\\n\\nCar...</td>\n",
       "      <td>REAL</td>\n",
       "    </tr>\n",
       "    <tr>\n",
       "      <th>4</th>\n",
       "      <td>Obama Argues Against Goverment Shutdown Over P...</td>\n",
       "      <td>President Barack Obama said Saturday night tha...</td>\n",
       "      <td>REAL</td>\n",
       "    </tr>\n",
       "  </tbody>\n",
       "</table>\n",
       "</div>"
      ],
      "text/plain": [
       "                                                   title  \\\n",
       "index                                                      \n",
       "0      Study: women had to drive 4 times farther afte...   \n",
       "1            Trump, Clinton clash in dueling DC speeches   \n",
       "2      As Reproductive Rights Hang In The Balance, De...   \n",
       "3      Despite Constant Debate, Americans' Abortion O...   \n",
       "4      Obama Argues Against Goverment Shutdown Over P...   \n",
       "\n",
       "                                                    text label  \n",
       "index                                                           \n",
       "0      Ever since Texas laws closed about half of the...  REAL  \n",
       "1      Donald Trump and Hillary Clinton, now at the s...  REAL  \n",
       "2      WASHINGTON -- Forty-three years after the Supr...  REAL  \n",
       "3      It's been a big week for abortion news.\\n\\nCar...  REAL  \n",
       "4      President Barack Obama said Saturday night tha...  REAL  "
      ]
     },
     "execution_count": 21,
     "metadata": {},
     "output_type": "execute_result"
    }
   ],
   "source": [
    "df.set_index(\"index\", inplace=True)\n",
    "df.head()"
   ]
  },
  {
   "cell_type": "markdown",
   "metadata": {},
   "source": [
    "It appears that the data contains several characters like \\n or \\a. They will be removed from the data set."
   ]
  },
  {
   "cell_type": "markdown",
   "metadata": {},
   "source": [
    "### 3 b) - Normalising The Data"
   ]
  },
  {
   "cell_type": "code",
   "execution_count": 22,
   "metadata": {},
   "outputs": [
    {
     "name": "stdout",
     "output_type": "stream",
     "text": [
      "\u0007 abc\n"
     ]
    }
   ],
   "source": [
    "# the function strip() will be used to remove those characters\n",
    "# Example:\n",
    "s = \"\\n \\a abc \\n \\n\"\n",
    "print(s.strip())"
   ]
  },
  {
   "cell_type": "code",
   "execution_count": 23,
   "metadata": {},
   "outputs": [
    {
     "name": "stdout",
     "output_type": "stream",
     "text": [
      "Car\n"
     ]
    }
   ],
   "source": [
    "s = \"\\n\\nCar\"\n",
    "print(s.strip())"
   ]
  },
  {
   "cell_type": "code",
   "execution_count": 24,
   "metadata": {},
   "outputs": [],
   "source": [
    "df[\"text\"] = df[\"text\"].apply(lambda x: x.strip())"
   ]
  },
  {
   "cell_type": "code",
   "execution_count": 25,
   "metadata": {},
   "outputs": [],
   "source": [
    "# since some characters are part of the string, they have to be removed with the replace function\n",
    "df[\"text\"] = df[\"text\"].apply(lambda x: x.replace(\"\\n\", \"\"))\n",
    "df[\"text\"] = df[\"text\"].apply(lambda x: x.replace(\"\\t\", \"\"))\n",
    "#df[\"text\"] = df[\"text\"].apply(lambda x: x.replace(\"\\x\", \"\"))\n",
    "df[\"text\"] = df[\"text\"].apply(lambda x: x.replace(\"\\xa0\", \"\"))\n",
    "\n",
    "df[\"title\"] = df[\"title\"].apply(lambda x: x.replace(\"\\n\", \"\"))\n",
    "df[\"title\"] = df[\"title\"].apply(lambda x: x.replace(\"\\t\", \"\"))\n",
    "#df[\"title\"] = df[\"title\"].apply(lambda x: x.replace(\"\\x\", \"\"))\n",
    "df[\"title\"] = df[\"title\"].apply(lambda x: x.replace(\"\\xa0\", \"\"))"
   ]
  },
  {
   "cell_type": "code",
   "execution_count": 26,
   "metadata": {},
   "outputs": [
    {
     "data": {
      "text/html": [
       "<div>\n",
       "<style scoped>\n",
       "    .dataframe tbody tr th:only-of-type {\n",
       "        vertical-align: middle;\n",
       "    }\n",
       "\n",
       "    .dataframe tbody tr th {\n",
       "        vertical-align: top;\n",
       "    }\n",
       "\n",
       "    .dataframe thead th {\n",
       "        text-align: right;\n",
       "    }\n",
       "</style>\n",
       "<table border=\"1\" class=\"dataframe\">\n",
       "  <thead>\n",
       "    <tr style=\"text-align: right;\">\n",
       "      <th></th>\n",
       "      <th>title</th>\n",
       "      <th>text</th>\n",
       "      <th>label</th>\n",
       "    </tr>\n",
       "    <tr>\n",
       "      <th>index</th>\n",
       "      <th></th>\n",
       "      <th></th>\n",
       "      <th></th>\n",
       "    </tr>\n",
       "  </thead>\n",
       "  <tbody>\n",
       "    <tr>\n",
       "      <th>0</th>\n",
       "      <td>Study: women had to drive 4 times farther afte...</td>\n",
       "      <td>Ever since Texas laws closed about half of the...</td>\n",
       "      <td>REAL</td>\n",
       "    </tr>\n",
       "    <tr>\n",
       "      <th>1</th>\n",
       "      <td>Trump, Clinton clash in dueling DC speeches</td>\n",
       "      <td>Donald Trump and Hillary Clinton, now at the s...</td>\n",
       "      <td>REAL</td>\n",
       "    </tr>\n",
       "    <tr>\n",
       "      <th>2</th>\n",
       "      <td>As Reproductive Rights Hang In The Balance, De...</td>\n",
       "      <td>WASHINGTON -- Forty-three years after the Supr...</td>\n",
       "      <td>REAL</td>\n",
       "    </tr>\n",
       "    <tr>\n",
       "      <th>3</th>\n",
       "      <td>Despite Constant Debate, Americans' Abortion O...</td>\n",
       "      <td>It's been a big week for abortion news.Carly F...</td>\n",
       "      <td>REAL</td>\n",
       "    </tr>\n",
       "    <tr>\n",
       "      <th>4</th>\n",
       "      <td>Obama Argues Against Goverment Shutdown Over P...</td>\n",
       "      <td>President Barack ObamasaidSaturday night that ...</td>\n",
       "      <td>REAL</td>\n",
       "    </tr>\n",
       "  </tbody>\n",
       "</table>\n",
       "</div>"
      ],
      "text/plain": [
       "                                                   title  \\\n",
       "index                                                      \n",
       "0      Study: women had to drive 4 times farther afte...   \n",
       "1            Trump, Clinton clash in dueling DC speeches   \n",
       "2      As Reproductive Rights Hang In The Balance, De...   \n",
       "3      Despite Constant Debate, Americans' Abortion O...   \n",
       "4      Obama Argues Against Goverment Shutdown Over P...   \n",
       "\n",
       "                                                    text label  \n",
       "index                                                           \n",
       "0      Ever since Texas laws closed about half of the...  REAL  \n",
       "1      Donald Trump and Hillary Clinton, now at the s...  REAL  \n",
       "2      WASHINGTON -- Forty-three years after the Supr...  REAL  \n",
       "3      It's been a big week for abortion news.Carly F...  REAL  \n",
       "4      President Barack ObamasaidSaturday night that ...  REAL  "
      ]
     },
     "execution_count": 26,
     "metadata": {},
     "output_type": "execute_result"
    }
   ],
   "source": [
    "df.head()"
   ]
  },
  {
   "cell_type": "markdown",
   "metadata": {},
   "source": [
    "The next step is to remove punctuation."
   ]
  },
  {
   "cell_type": "code",
   "execution_count": 27,
   "metadata": {},
   "outputs": [],
   "source": [
    "#df[\"text\"] = df[\"text\"].apply(lambda x: x.replace(string.punctuation, \"\"))\n",
    "#df[\"title\"] = df[\"title\"].apply(lambda x: x.replace(string.punctuation, \"\"))\n",
    "\n",
    "df[\"title\"] = df[\"title\"].str.replace(\"[{}]\".format(string.punctuation), \"\")\n",
    "df[\"text\"] = df[\"text\"].str.replace(\"[{}]\".format(string.punctuation), \"\")"
   ]
  },
  {
   "cell_type": "code",
   "execution_count": 28,
   "metadata": {},
   "outputs": [],
   "source": [
    "#convert every word to lower case - normalising case\n",
    "df[\"title\"] = df[\"title\"].str.lower()\n",
    "df[\"text\"] = df[\"text\"].str.lower()\n",
    "df[\"label\"] = df[\"label\"].str.lower()"
   ]
  },
  {
   "cell_type": "code",
   "execution_count": 29,
   "metadata": {},
   "outputs": [
    {
     "data": {
      "text/html": [
       "<div>\n",
       "<style scoped>\n",
       "    .dataframe tbody tr th:only-of-type {\n",
       "        vertical-align: middle;\n",
       "    }\n",
       "\n",
       "    .dataframe tbody tr th {\n",
       "        vertical-align: top;\n",
       "    }\n",
       "\n",
       "    .dataframe thead th {\n",
       "        text-align: right;\n",
       "    }\n",
       "</style>\n",
       "<table border=\"1\" class=\"dataframe\">\n",
       "  <thead>\n",
       "    <tr style=\"text-align: right;\">\n",
       "      <th></th>\n",
       "      <th>title</th>\n",
       "      <th>text</th>\n",
       "      <th>label</th>\n",
       "    </tr>\n",
       "    <tr>\n",
       "      <th>index</th>\n",
       "      <th></th>\n",
       "      <th></th>\n",
       "      <th></th>\n",
       "    </tr>\n",
       "  </thead>\n",
       "  <tbody>\n",
       "    <tr>\n",
       "      <th>0</th>\n",
       "      <td>study women had to drive 4 times farther after...</td>\n",
       "      <td>ever since texas laws closed about half of the...</td>\n",
       "      <td>real</td>\n",
       "    </tr>\n",
       "    <tr>\n",
       "      <th>1</th>\n",
       "      <td>trump clinton clash in dueling dc speeches</td>\n",
       "      <td>donald trump and hillary clinton now at the st...</td>\n",
       "      <td>real</td>\n",
       "    </tr>\n",
       "    <tr>\n",
       "      <th>2</th>\n",
       "      <td>as reproductive rights hang in the balance deb...</td>\n",
       "      <td>washington  fortythree years after the supreme...</td>\n",
       "      <td>real</td>\n",
       "    </tr>\n",
       "    <tr>\n",
       "      <th>3</th>\n",
       "      <td>despite constant debate americans abortion opi...</td>\n",
       "      <td>its been a big week for abortion newscarly fio...</td>\n",
       "      <td>real</td>\n",
       "    </tr>\n",
       "    <tr>\n",
       "      <th>4</th>\n",
       "      <td>obama argues against goverment shutdown over p...</td>\n",
       "      <td>president barack obamasaidsaturday night that ...</td>\n",
       "      <td>real</td>\n",
       "    </tr>\n",
       "  </tbody>\n",
       "</table>\n",
       "</div>"
      ],
      "text/plain": [
       "                                                   title  \\\n",
       "index                                                      \n",
       "0      study women had to drive 4 times farther after...   \n",
       "1             trump clinton clash in dueling dc speeches   \n",
       "2      as reproductive rights hang in the balance deb...   \n",
       "3      despite constant debate americans abortion opi...   \n",
       "4      obama argues against goverment shutdown over p...   \n",
       "\n",
       "                                                    text label  \n",
       "index                                                           \n",
       "0      ever since texas laws closed about half of the...  real  \n",
       "1      donald trump and hillary clinton now at the st...  real  \n",
       "2      washington  fortythree years after the supreme...  real  \n",
       "3      its been a big week for abortion newscarly fio...  real  \n",
       "4      president barack obamasaidsaturday night that ...  real  "
      ]
     },
     "execution_count": 29,
     "metadata": {},
     "output_type": "execute_result"
    }
   ],
   "source": [
    "df.head()"
   ]
  },
  {
   "cell_type": "markdown",
   "metadata": {},
   "source": [
    "In the next step stopwords such as \"the\" or \"a\" will be removed since they do not contribute to a deeper meaning of a sentence."
   ]
  },
  {
   "cell_type": "code",
   "execution_count": 30,
   "metadata": {},
   "outputs": [
    {
     "name": "stdout",
     "output_type": "stream",
     "text": [
      "['i', 'me', 'my', 'myself', 'we', 'our', 'ours', 'ourselves', 'you', \"you're\", \"you've\", \"you'll\", \"you'd\", 'your', 'yours', 'yourself', 'yourselves', 'he', 'him', 'his', 'himself', 'she', \"she's\", 'her', 'hers', 'herself', 'it', \"it's\", 'its', 'itself', 'they', 'them', 'their', 'theirs', 'themselves', 'what', 'which', 'who', 'whom', 'this', 'that', \"that'll\", 'these', 'those', 'am', 'is', 'are', 'was', 'were', 'be', 'been', 'being', 'have', 'has', 'had', 'having', 'do', 'does', 'did', 'doing', 'a', 'an', 'the', 'and', 'but', 'if', 'or', 'because', 'as', 'until', 'while', 'of', 'at', 'by', 'for', 'with', 'about', 'against', 'between', 'into', 'through', 'during', 'before', 'after', 'above', 'below', 'to', 'from', 'up', 'down', 'in', 'out', 'on', 'off', 'over', 'under', 'again', 'further', 'then', 'once', 'here', 'there', 'when', 'where', 'why', 'how', 'all', 'any', 'both', 'each', 'few', 'more', 'most', 'other', 'some', 'such', 'no', 'nor', 'not', 'only', 'own', 'same', 'so', 'than', 'too', 'very', 's', 't', 'can', 'will', 'just', 'don', \"don't\", 'should', \"should've\", 'now', 'd', 'll', 'm', 'o', 're', 've', 'y', 'ain', 'aren', \"aren't\", 'couldn', \"couldn't\", 'didn', \"didn't\", 'doesn', \"doesn't\", 'hadn', \"hadn't\", 'hasn', \"hasn't\", 'haven', \"haven't\", 'isn', \"isn't\", 'ma', 'mightn', \"mightn't\", 'mustn', \"mustn't\", 'needn', \"needn't\", 'shan', \"shan't\", 'shouldn', \"shouldn't\", 'wasn', \"wasn't\", 'weren', \"weren't\", 'won', \"won't\", 'wouldn', \"wouldn't\"]\n"
     ]
    }
   ],
   "source": [
    "from nltk.corpus import stopwords\n",
    "stop_words = stopwords.words('english')\n",
    "print(stop_words)"
   ]
  },
  {
   "cell_type": "code",
   "execution_count": null,
   "metadata": {},
   "outputs": [],
   "source": []
  },
  {
   "cell_type": "code",
   "execution_count": 31,
   "metadata": {},
   "outputs": [],
   "source": [
    "from nltk.tokenize import word_tokenize\n",
    "import string\n",
    "\n",
    "#function that tokenises words and removes stop words, punctuation and non alphanumerical characters in a sentence\n",
    "def func_normalise(sentence):\n",
    "    tokens = word_tokenize(sentence)\n",
    "    #print(tokens)\n",
    "    stop_words = set(stopwords.words(\"english\"))\n",
    "    stop_words.add(\"n't\")\n",
    "    stop_words.add(\"nt\")\n",
    "    \n",
    "    table = str.maketrans(\"\", \"\", string.punctuation)\n",
    "    stripped = [w.translate(table) for w in tokens]\n",
    "    \n",
    "    words = [word for word in stripped if word.isalpha()]\n",
    "    \n",
    "    new_sentence = [w for w in words if not w in stop_words] \n",
    "            \n",
    "    new_sentence_str = \" \".join(new_sentence)\n",
    "    \n",
    "    return new_sentence_str"
   ]
  },
  {
   "cell_type": "code",
   "execution_count": 32,
   "metadata": {},
   "outputs": [
    {
     "data": {
      "text/plain": [
       "'ever since texas laws closed half'"
      ]
     },
     "execution_count": 32,
     "metadata": {},
     "output_type": "execute_result"
    }
   ],
   "source": [
    "#testing the function\n",
    "func_normalise(\"ever ? since hasn't the / texa*s laws closed about half of the where didn't\")"
   ]
  },
  {
   "cell_type": "markdown",
   "metadata": {},
   "source": [
    "Now the above function will be applied to the data in order to normalise it."
   ]
  },
  {
   "cell_type": "code",
   "execution_count": 33,
   "metadata": {},
   "outputs": [],
   "source": [
    "df[\"title\"] = df[\"title\"].apply(func_normalise)"
   ]
  },
  {
   "cell_type": "code",
   "execution_count": 34,
   "metadata": {},
   "outputs": [],
   "source": [
    "df[\"text\"] = df[\"text\"].apply(func_normalise)"
   ]
  },
  {
   "cell_type": "code",
   "execution_count": 35,
   "metadata": {},
   "outputs": [
    {
     "data": {
      "text/html": [
       "<div>\n",
       "<style scoped>\n",
       "    .dataframe tbody tr th:only-of-type {\n",
       "        vertical-align: middle;\n",
       "    }\n",
       "\n",
       "    .dataframe tbody tr th {\n",
       "        vertical-align: top;\n",
       "    }\n",
       "\n",
       "    .dataframe thead th {\n",
       "        text-align: right;\n",
       "    }\n",
       "</style>\n",
       "<table border=\"1\" class=\"dataframe\">\n",
       "  <thead>\n",
       "    <tr style=\"text-align: right;\">\n",
       "      <th></th>\n",
       "      <th>title</th>\n",
       "      <th>text</th>\n",
       "      <th>label</th>\n",
       "    </tr>\n",
       "    <tr>\n",
       "      <th>index</th>\n",
       "      <th></th>\n",
       "      <th></th>\n",
       "      <th></th>\n",
       "    </tr>\n",
       "  </thead>\n",
       "  <tbody>\n",
       "    <tr>\n",
       "      <th>0</th>\n",
       "      <td>study women drive times farther texas laws clo...</td>\n",
       "      <td>ever since texas laws closed half states abort...</td>\n",
       "      <td>real</td>\n",
       "    </tr>\n",
       "    <tr>\n",
       "      <th>1</th>\n",
       "      <td>trump clinton clash dueling dc speeches</td>\n",
       "      <td>donald trump hillary clinton starting line gen...</td>\n",
       "      <td>real</td>\n",
       "    </tr>\n",
       "    <tr>\n",
       "      <th>2</th>\n",
       "      <td>reproductive rights hang balance debate modera...</td>\n",
       "      <td>washington fortythree years supreme court esta...</td>\n",
       "      <td>real</td>\n",
       "    </tr>\n",
       "    <tr>\n",
       "      <th>3</th>\n",
       "      <td>despite constant debate americans abortion opi...</td>\n",
       "      <td>big week abortion newscarly fiorinas passionat...</td>\n",
       "      <td>real</td>\n",
       "    </tr>\n",
       "    <tr>\n",
       "      <th>4</th>\n",
       "      <td>obama argues goverment shutdown planned parent...</td>\n",
       "      <td>president barack obamasaidsaturday night congr...</td>\n",
       "      <td>real</td>\n",
       "    </tr>\n",
       "  </tbody>\n",
       "</table>\n",
       "</div>"
      ],
      "text/plain": [
       "                                                   title  \\\n",
       "index                                                      \n",
       "0      study women drive times farther texas laws clo...   \n",
       "1                trump clinton clash dueling dc speeches   \n",
       "2      reproductive rights hang balance debate modera...   \n",
       "3      despite constant debate americans abortion opi...   \n",
       "4      obama argues goverment shutdown planned parent...   \n",
       "\n",
       "                                                    text label  \n",
       "index                                                           \n",
       "0      ever since texas laws closed half states abort...  real  \n",
       "1      donald trump hillary clinton starting line gen...  real  \n",
       "2      washington fortythree years supreme court esta...  real  \n",
       "3      big week abortion newscarly fiorinas passionat...  real  \n",
       "4      president barack obamasaidsaturday night congr...  real  "
      ]
     },
     "execution_count": 35,
     "metadata": {},
     "output_type": "execute_result"
    }
   ],
   "source": [
    "df.head()"
   ]
  },
  {
   "cell_type": "markdown",
   "metadata": {},
   "source": [
    "As seen in the above example the text data has been (successfully) normalised."
   ]
  },
  {
   "cell_type": "markdown",
   "metadata": {},
   "source": [
    "### 3 c) - Stemming "
   ]
  },
  {
   "cell_type": "markdown",
   "metadata": {},
   "source": [
    "Stemming is the process of reducing words to their root. For example, \"playing\" and \"played\" reduce to the stem \"play\". Therefore stemming helps with reducing the vocabulary and allows to focus on the sense of a sentence."
   ]
  },
  {
   "cell_type": "code",
   "execution_count": 36,
   "metadata": {},
   "outputs": [],
   "source": [
    "#from nltk.stem.porter import PorterStemmer\n",
    "#according to the nltk website the snowballstemmer is better than the \"original\" porter stemmer\n",
    "#https://www.nltk.org/howto/stem.html\n",
    "\n",
    "from nltk.stem.snowball import SnowballStemmer\n",
    "\n",
    "#function that stems words in a sentence\n",
    "def func_stem(sentence):\n",
    "    tokens = word_tokenize(sentence)\n",
    "    snowball_stemmer = SnowballStemmer(\"english\")\n",
    "    stemmed_sentence = [snowball_stemmer.stem(word) for word in tokens]\n",
    "    stemmed_sentence_str = \" \".join(stemmed_sentence)\n",
    "    return stemmed_sentence_str"
   ]
  },
  {
   "cell_type": "code",
   "execution_count": 37,
   "metadata": {},
   "outputs": [
    {
     "data": {
      "text/plain": [
       "'play player play play'"
      ]
     },
     "execution_count": 37,
     "metadata": {},
     "output_type": "execute_result"
    }
   ],
   "source": [
    "#test\n",
    "func_stem(\"playing player play played\")"
   ]
  },
  {
   "cell_type": "code",
   "execution_count": 38,
   "metadata": {},
   "outputs": [],
   "source": [
    "df[\"title\"] = df[\"title\"].apply(func_stem)"
   ]
  },
  {
   "cell_type": "code",
   "execution_count": 39,
   "metadata": {},
   "outputs": [],
   "source": [
    "df[\"text\"] = df[\"text\"].apply(func_stem)"
   ]
  },
  {
   "cell_type": "code",
   "execution_count": 40,
   "metadata": {},
   "outputs": [
    {
     "data": {
      "text/html": [
       "<div>\n",
       "<style scoped>\n",
       "    .dataframe tbody tr th:only-of-type {\n",
       "        vertical-align: middle;\n",
       "    }\n",
       "\n",
       "    .dataframe tbody tr th {\n",
       "        vertical-align: top;\n",
       "    }\n",
       "\n",
       "    .dataframe thead th {\n",
       "        text-align: right;\n",
       "    }\n",
       "</style>\n",
       "<table border=\"1\" class=\"dataframe\">\n",
       "  <thead>\n",
       "    <tr style=\"text-align: right;\">\n",
       "      <th></th>\n",
       "      <th>title</th>\n",
       "      <th>text</th>\n",
       "      <th>label</th>\n",
       "    </tr>\n",
       "    <tr>\n",
       "      <th>index</th>\n",
       "      <th></th>\n",
       "      <th></th>\n",
       "      <th></th>\n",
       "    </tr>\n",
       "  </thead>\n",
       "  <tbody>\n",
       "    <tr>\n",
       "      <th>0</th>\n",
       "      <td>studi women drive time farther texa law close ...</td>\n",
       "      <td>ever sinc texa law close half state abort clin...</td>\n",
       "      <td>real</td>\n",
       "    </tr>\n",
       "    <tr>\n",
       "      <th>1</th>\n",
       "      <td>trump clinton clash duel dc speech</td>\n",
       "      <td>donald trump hillari clinton start line genera...</td>\n",
       "      <td>real</td>\n",
       "    </tr>\n",
       "    <tr>\n",
       "      <th>2</th>\n",
       "      <td>reproduct right hang balanc debat moder drop ball</td>\n",
       "      <td>washington fortythre year suprem court establi...</td>\n",
       "      <td>real</td>\n",
       "    </tr>\n",
       "    <tr>\n",
       "      <th>3</th>\n",
       "      <td>despit constant debat american abort opinion r...</td>\n",
       "      <td>big week abort newscar fiorina passion inaccur...</td>\n",
       "      <td>real</td>\n",
       "    </tr>\n",
       "    <tr>\n",
       "      <th>4</th>\n",
       "      <td>obama argu gover shutdown plan parenthood</td>\n",
       "      <td>presid barack obamasaidsaturday night congress...</td>\n",
       "      <td>real</td>\n",
       "    </tr>\n",
       "  </tbody>\n",
       "</table>\n",
       "</div>"
      ],
      "text/plain": [
       "                                                   title  \\\n",
       "index                                                      \n",
       "0      studi women drive time farther texa law close ...   \n",
       "1                     trump clinton clash duel dc speech   \n",
       "2      reproduct right hang balanc debat moder drop ball   \n",
       "3      despit constant debat american abort opinion r...   \n",
       "4              obama argu gover shutdown plan parenthood   \n",
       "\n",
       "                                                    text label  \n",
       "index                                                           \n",
       "0      ever sinc texa law close half state abort clin...  real  \n",
       "1      donald trump hillari clinton start line genera...  real  \n",
       "2      washington fortythre year suprem court establi...  real  \n",
       "3      big week abort newscar fiorina passion inaccur...  real  \n",
       "4      presid barack obamasaidsaturday night congress...  real  "
      ]
     },
     "execution_count": 40,
     "metadata": {},
     "output_type": "execute_result"
    }
   ],
   "source": [
    "df.head()"
   ]
  },
  {
   "cell_type": "code",
   "execution_count": 42,
   "metadata": {},
   "outputs": [],
   "source": [
    "df_a = pd.get_dummies(df)"
   ]
  },
  {
   "cell_type": "code",
   "execution_count": 43,
   "metadata": {},
   "outputs": [
    {
     "data": {
      "text/html": [
       "<div>\n",
       "<style scoped>\n",
       "    .dataframe tbody tr th:only-of-type {\n",
       "        vertical-align: middle;\n",
       "    }\n",
       "\n",
       "    .dataframe tbody tr th {\n",
       "        vertical-align: top;\n",
       "    }\n",
       "\n",
       "    .dataframe thead th {\n",
       "        text-align: right;\n",
       "    }\n",
       "</style>\n",
       "<table border=\"1\" class=\"dataframe\">\n",
       "  <thead>\n",
       "    <tr style=\"text-align: right;\">\n",
       "      <th></th>\n",
       "      <th>title_</th>\n",
       "      <th>title_abbi martin expos hillari clinton chair john podesta</th>\n",
       "      <th>title_abedin weiner testifi clinton</th>\n",
       "      <th>title_abnorm normal nuclear terror</th>\n",
       "      <th>title_abort bill drop amid concern femal gop lawmak</th>\n",
       "      <th>title_abort gaff show trump leftw caricatur conserv</th>\n",
       "      <th>title_accident case obamacar</th>\n",
       "      <th>title_accord colleg prof cano symbol cultur appropri</th>\n",
       "      <th>title_accord reach sander sue dnc suspend access critic voter list</th>\n",
       "      <th>title_account</th>\n",
       "      <th>...</th>\n",
       "      <th>text_yves smith yves real news network segment continu discuss yet anoth acronym trip much econom play field tilt ordinari worker pleas note transcript publish without apostroph ad best could may miss lynn fri welcom real news network lynn fri geneva part seri peter draho explain stori intellectu properti link trade join us australia peter draho professor australian nation univers school regul global govern hold chair intellectu properti queen mari univers london peter draho coauthor inform feudal own knowledg economi welcom peter peter draho thank fri part talk ownership intellectu properti right concentr among key multin incumb player profit trip agreement way global intellectu properti right concentr power hand multin draho one thing probabl fulli appreci intellectu properti right form privat tax patent owner copyright owner essenti requir produc say develop countri pay licens fee use relev bit intellectu properti whether copi book make use film make use patent essenti intellectu properti right form privat taxat innov minim global intellectu properti right essenti put hand owner intellectu properti right global privat form tax power pretti big form power effect peopl countri develop countri cost textbook exampl sever impact access cours textbook develop countri student unit state europ would probabl abl say lot cost textbook pay chanc student chanc pay textbook peopl develop countri basic point global ipr effect put hand multin compani form privat tax power right across board relat copyright good relat patent good relat trade mark good see citizen essenti pay pay public tax support lot research develop us univers european univers australian univers lot research develop support public tax lot research develop ultim end patent patent system compani levi privat tax said intellectu properti right form taxat good produc innov produc public expens recycl intellectu properti system peopl sens pay licens fee privat tax form doubl payment public tax privat tax happen time think exampl book produc univers academ academ paid tax payer book end publish publish basic collect fee univers use book part book various cours problem copyright cartel essenti obtain high profit recycl textbook produc public expens sever problem fri argument favor global ipr need innov talk view draho look histori innov countri see public invest play huge import role public institut research extrem import intellectu properti often confus innov explan innov lie state commit fund basic research true unit state look histori unit state feder govern unit state realli play huge role promot excel univers fund public research intellectu properti right modest role problem grown like topsi grown control thing march like frankenstein economi real problem argument role ipr recogn govern commit use public tax past fund basic research fund univers one great danger reli intellectu properti right system actual undermin public research thing histor given us great innov whether biotechnolog whether area mathemat contribut public research profound import move world excess relianc intellectu properti mistaken belief intellectu properti somehow promot innov mani sens intellectu properti global intellectu properti actual antiinnov one think recogn role public invest innov obsess intellectu properti right unexpect repercuss research cultur think mani scientist would say research environ univers profound differ thirti forti year ago mean scientist exampl work recombin dna technolog earli public spoke danger recombin dna technolog spoke advantag abl work public institut unit state public univers drove much research recombin dna technolog think spoke research mani would say kind public discuss direct research much harder societi scientist worri undermin valid patent applic exampl fri problem reli intern patent system draho mani complic problem around patent one big problem patent tend serv peopl afford pay patent commod tenni racket big problem patent commod medicin big problem patent drive cost medicin way prefer measur abil pay cours billion peopl world abil pay patent medicin essenc patent system pick prefer predomin wealthi citizen mani diseas tropic diseas essenti research market patent medicin big enough enough incent pharmaceut compani enter particular market reli patent system serv entir globe citizen world essenti flaw fri hard see critic need public institut research state fund state collect less tax bring us role intellectu properti right tax avoid game tell us draho one issu confront countri rais suffici revenu get compani pay suffici tax intern level perenni problem issu transfer price basic larg compani transfer particular asset subsidiari exampl licens agreement one part compani licens anoth part compani produc particular good whole idea behind transfer price point view countri tax high particular subsidiari pay licens word claim biggest cost purpos taxat system countri theori tax depart requir compani valu transfer asset purpos transfer price length work fair well relat physic good factori exampl reason easi determin valu sale factori realli actual difficult valu invis intang properti tri valu particular licens patent licens worth quit complic problem tax bureaucraci transfer price problem around decad tax depart world struggl realli led problem fiscal degrad taxat game play around intellectu properti right ultim harm state whether rich poor lot concern unit state exampl intellectu properti right use shift profit us compani us tax jurisdict us congress exampl year ago heard exampl licens agreement ireland exampl use conduit land profit various tax haven whether bahama elsewher problem use intellectu properti right shift profit depriv state proper share public tax problem unit state much problem china india australia fri go break back part pleas join us continu convers peter draho peter draho thank draho thank fri thank join us real news network</th>\n",
       "      <th>text_yves smith yves strong suspect nake capit reader find lot love propos let comment section start two first set program bond like trust account amount grant set birth lot children suffer sever setback birth like death parent debilit injuri second propos noth address express problem issu even though children lowerincom background might get colleg mix muchat social better student spend money allow bond provid spend money perceivedtobelegitim purpos like educ even though go ski trip kid might key econom advanc would polit unaccept govern program pay sort thing lynn parramor senior research analyst institut new econom think origin publish institut new econom think websit imagin black child famili modest resourc get opportun attend elit colleg preparatori school motiv love learn strong desir achiev excel school goe attend high regard univers earn advanc degre sure child well posit ascend ladder econom prosper america right fast goal broaden financi wealth american regardless race get plenti applaus across polit spectrum far goal remain devilish elus understand know peopl come wealth first place popular say build wealth disciplin hit book work hard save money realiti littl differ past injustic shape present realiti darrick hamilton know person experi despit famili modest mean poor hard affluent attend brooklyn friend school elit privat institut teacher emphas social justic hamilton start colleg oberlin excit seek path american dream soon found path smoother other around white kid affluent famili get check mail parent money could spent tuition extracurricular activ kind social build profession network black student modest mean hand often disadvantag even parent abl help financi receiv money home thing besid book demand financi attent true job even black student work hard save dilig money often spoken time pay tuition bill semest reason cumul effect centuri gross econom disadvantag black famili endur slaveri jim crow beyond legaci sever headwind even individu famili abl reach middl class still like constel poorer extend famili member need various kind financi assist call help economist call wealth leakag hamilton notic phenomenon play among black student school profession realm rather enjoy resourc parent grandpar often provid money cousin niec uncl sibl obtain phd econom uncchapel hill hamilton teach econom urban polici new school new york focus poverti famili increas racial wealth gap middl class black individu sourc wealth build america realiz less save capac invest asset money given parent grandpar transfer critic acquisit asset like home small busi kind thing requir huge payment fortun enough get payment resourc key junctur life observ hamilton pathway toward build econom secur somebodi els could jerk could good person littl particular individu logic fli face longcherish belief educ hard work great equal american societi mani still insist much present day inequ caus bad individu decis structur problem associ discrimin vast inequ black white citizen suggest go poor choic accord feder reserv survey consum financ median household wealth white compar paltri black american reason say hamilton pretti clear capitalist system lack capit lock inequ fortun think problem allevi will aim attack sourc hamilton colleagu william dariti jr duke univers stratif economist pioneer emerg subfield social scienc focus structur dimens person econom posit propos solut wealth inequ may appeal across polit spectrum give everi american babi seed capit grow take part capitalist system could done argu babi bond would set everi child born babi bond work babi bond hamilton formul would fund direct treasuri held account feder govern similar social secur amount child receiv would depend wealth posit born offspr oprah winfrey bill gate might get upward born lowest rung econom ladder averag amount child would around account would guarante nomin one half rate return payout would take place child becom adult time get spend money anyth fund would use clear defin asset enhanc activ like financ debtfre educ purchas busi buy home program would need coupl financi reform regul mitig predatori effect includ extraordinari tuition increas aim exploit betterresourc young adult babi bond recipi commiss would set identifi exact kind activ might qualifi condit set protect resourc say hamilton situat receiv infus cash young adult would lot famili need take care could begin think selfinvest like purchas home specifi money spent may guarante outcom peopl still choos invest engag least ensur invest assetenhanc endeavor help build wealth long run unlik past propos child save account babi bond design matter parent contribut hamilton say done howev good bad affluent poor parent may citizen get seed capit take part american econom mobil system program cost say hamilton note million children born everi year averag account whole program might cost billion add anoth billion highest estim administ program come billion maximum might sound like lot consid feder govern alreadi spend tri promot asset ownership tax code cite report polici like mortgag interest reduct reduct capit gain cfed washingtonbas nonprofit focus expand econom opportun lowtomoder incom american told program cost billion dollar mortgag interest deduct alon estim cost billion tax year next figur babi bond look like bargain also advantag distribut capit need feder program alreadi place tend funnel money toward affluent say hamilton note bottom percent earner get percent billion top percent get well half think babi bond could fulli fund simpli cap exist mortgag interest reduct would raceblind program help close gap wealth incom black white american hamilton point percent black household fall nation median wealth distribut mean test babi bond program well target need keen focus wealth babi bond address wealth two way first way black peopl cluster poorer end wealth distribut qualifi program second program focus assetenhanc activ benefit becom adult abl use fund build kind asset often reach histor potenti polit winner inequ hot topic polit season much discuss focus student debt hamilton acknowledg import enough close racial wealth gap help avoid wealth leakag million peopl black individu end go colleg say certain case black student disproportion impact student debt help actual end go colleg limit approach someth need note countri program similar babi bond alreadi implement child trust program set gave everi british citizen born septemb invest account build save would help fund transit adult life uk program differ babi bond sever key way smaller scale parent could add account trust uncondit mean money could use anyth rather specif set potenti wealthbuild activ unfortun program sank wave auster follow global recess unclear exact well work children receiv account yet old enough use could babi bond work america hamilton observ past conserv liber endors program design give american children stake futur kidsav program conceiv thensen bob kerrey nebraska thensen joe lieberman connecticut cosponsor would allot child small deposit birth around addit deposit everi year five year money would invest limit number mutual fund withdrawn retir substanti nest egg would theoret grown various version plan attract support conserv like senat rick santorum pennsylvania heritag foundat premis behind babi bond slight differ base recognit problem build wealth save american save period say hamilton realli get access asset go appreci home give american wealth home asset move us bit narrat leverag poor peopl better thing give incent say well empow account actual make decis lead mobil hamilton observ babi bond simpli arm everybodi opportun benefit idea diehard free market champion might appreci conserv realli believ fair market say let give everybodi opportun particip talk babi start come narrat deserv poor undeserv poor say birth go give everybodi chanc engag econom mobil america</th>\n",
       "      <th>text_zero hedg project verita releas part iv multipart seri expos numer scandal surround dnc clinton campaign includ effort incit violenc trump ralli least seem illeg coordin dnc hillari america various super pac part iv focus foreign donat made undercov project verita journalist american unit chang aufc iron short donat wire releas contributor niec offer internship creamer firm democraci partner new video creamer say everi morn call goe messag driven campaign headquart campaign main deal earn media televis radio earn media social media paid media advertis also mention confer call discuss woman potenti come forward accus trump inappropri behavior creamer season chicago activist marri rep jan schakowski dil whose republican oppon joan mccarthi lasond call resign husband activ also talk work barack obama say known sinc obama communiti organ chicago pro known presid sinc communiti organ chicago elsewher creamer add lot work white hous issu help run issu campaign involv mean immigr reform health care bill tri make america like britain come gun violenc issu</th>\n",
       "      <th>text_zero hedgeit least week sinc deutsch bank appear flash red break news section newswir news most negat stock sinc rebound materi wipe loss sinc doj billion rmbs settlement leak appear everyth back normal largest german lender may worst news yet db employe moment ago bloomberg report german bank explor altern pay bonus cash chief execut offic john cryan seek boost capit buffersaccord bloomberg db execut discuss option includ give banker share noncor unit instead cash bonus anoth idea review replac cash compon deutsch bank stockth supervisori board may discuss topic variabl pay meet wednesday though final decis expect peopl said day report thirdquart earn measur pursu come month would most impact invest bank peopl said frankfurtbas lender still consid altern saida bloomberg add bonusrel decis depend size time deutsch bank settlement us depart justic probe sale faulti realest secur last year deutsch bank award staff billion euro billion bonus billion euro combin invest bank trade unit billion euro percent defer stock cash remaind paid immedi appear db want take number make biggerth idea echo similar move credit suiss group ag height financi crisi swiss firm use illiquid loan bond pay employe yearend bonusesth report compar similar announc made exact one year ago db announc may slash bonus much one third sinc howev db aggress cost cut init made life bank employe progress miser sinc take cryan suspend dividend reduc bonus cut riski asset frozen new hire announc plan shed job ceo alreadi said deutsch bank may fail profit year post first annual loss sinc last year db banker may end get paid billion impair tanker loan carri quiet bank book cds interest rate swap db certain lot ofshould db success signific shift compens strategi without lead exodus worker like attempt bank core problem face deutsch bank name declin profit becom system across entir bank sector bad news invest banker everywheresourc zero hedg</th>\n",
       "      <th>text_zhe unveil first imag new nuclear missil capabl reach us soil russian presid vladimir putin warn today washington action push russian nuclear arm race forc russia develop nuclear attack system yesterday russia reveal photo new high advanc liquid fuell heavi icbm capabl evad antimissil defenc hit us territori tonn nuclear payloadth makeyev design bureau design russia heavi liquid fuell intercontinent ballist missil icbm ie missil capabl reach us territori russian territori publish first pictur russia new heavi sarmat icbm due enter servic short probabl pictur accompani short statement read accord decre russian govern state defenc order plan period makeyev rocket design bureau instruct start design develop work sarmat june bureau russian ministri defens sign state contract sarmat develop prospect strateg missil system develop order assur effect fulfil object nuclear deterr russia strateg forc today putin explainsputin intermedi nuclear forc treati observ putin russia us must break vicious circl confront putin russia develop nuclear attack system putin us push russia arm race nuclear sphere</th>\n",
       "      <th>text_zika masterpiec public mind control saturday octob natur news editor tag zika mind control propaganda naturalnew near nine month sinc word zika flash like lightn bolt headlin mainstream news januari zika one mani virus public health offici monitor sudden januari year everyth chang near harmless virus transform worldwid threatarticl john p thoma republish healthimpactnewscom see zika propaganda machin turn octob run wild ever sinc classic exampl mind control program public brainwash project high power market campaignregardless call clear mainstream news media world health organ pan american health organ paho us center diseas control prevent cdc big pharma big chem republican democrat join forc sell zika erad program peopl unit state rest worldthi continu one best orchestr program propaganda recent histori articl discuss program start develop go zika threat babi world absolut clear begin solid evid zika threat human minim danger viral infect caus microcephalyin almost year sinc zika virus patent rockefel foundat one ever notic associ zika infect pregnant women babi born abnorm small head defect brain develop sudden made awar suppos problem claim base noth circumstanti evid begin point propaganda campaign propaganda claim doesnt need true need repeat peopl believ trueafter half year fear hysteria mainstream media even offici brazil admit zika unlik caus microcephali report natur news comment juli offici brazil ministri health rais doubt suggest zika factor report microcephali surg countri report state zika virus spread throughout brazil extrem high rate microcephali report countri northeast although evid suggest zika caus microcephali cluster pattern hint environment socioeconom biolog factor could play suspect someth zika virus caus high intens sever case say fatima marinho director inform health analysi brazil ministri health turn true could chang research assess risk zika pose pregnant women children despit admiss brazil zika propaganda campaign move ahead without interrupt campaign stop contrari evid zika microcephali zika mild viral infect peopl get zika complet unawar infect get sick similar mani way cold mild case flu peopl experi fever rash joint pain conjunct ill usual mild symptom last sever day week infect thought provid lifelong immun sever diseas requir hospit uncommon death rare fact almost one die zika infect made unlik candid develop vaccin actual feel sick zika infect receiv comfort care rest immun system overcom viral ill zika press releas set stage propaganda campaign howev zika could connect horribl consequ microcephali paralysi guillainbarr syndrom exampl peopl would insist creat zika vaccin would insist everi person planet earth take would will give basic individu freedom benefit societi alway goal mind control programsin number press releas report releas pan american health organ world health organ pahowho cdc set stage unfold grand mind control projectth document publish rais red flag alarm zika epidem unfold throughout south america mexico convent media got excit epidem saw word microcephali prospect larg number babi born abnorm small head brain stori would realli grab attent audienceth media use pictur deform babi build fear heart peopl creat percept better watch zika go get us babi work realli hard instil public panic zika januari februari timelin follow see word autochthon public health agenc use word autochthon say infect local generat autochthon case zika one acquir local area person live contrast zika infect acquir visit anoth region countryi list key point press releas show foundat zika campaign built momentum establish project campaign mainstream media may brazil confirm first autochthon case zika octob columbia confirm first autochthon case zika octob brazil report unusu high number babi microcephali novemb el salvador guatemala mexico paraguay surinam venezuela report autochthon zika infect novemb call upon member state watch occurr microcephali decemb pahowho issu first dozen report chronicl histori grow zika epidem warn microcephali decemb report autochthon zika infect hondura decemb report autochthon zika infect panama decemb us cdc report autochthon zika infect puerto rico make note microcephali brazil count babi microcephali mainstream media sudden pick zikamicrocephali stori januari began sensation general concern quick transform alarm offici brazil report steadi increas number microcephali case januari report case microcephali andor central nervous system cns malform suggest congenit infect compar data averag microcephali case brazil data babi poor didnt know definit microcephali didnt know mani mother actual test posit zika didnt know data collect also didnt know strong level insist thing could caus birth defect infect zika virus propaganda campaign alway dismiss viewpoint one promot dont want investig truth debat fact want belief submiss us propaganda machin goe public januari cdc offici begin ponder situat first say might associ zika microcephali far assert kind causat relationship thought heard report appar wisdom took nosed minut later cdc offici went issu travel warn women avoid travel brazil south american countri pregnant think might pregnant think becom pregnant next coupl yearswhat cdc say evid causat dont even know even problem women stay home way strang thought began rememb convent media cdc hype african ebola epidem similar kind propaganda campaign month earlier worldwid threat ebola zair complet die long vaccin could develop must major disappoint big pharmabut time virus go die time propaganda campaign much sophist make major step toward accept univers mandatori vaccin diseas zika fals intern crisi involv deform babi justifi action januari earli februari news media provid us nonstop litani stori zika deform babi previous articl examin headlin propaganda campaignth cdc still use word possibl associ news media insist use word caus despit initi reserv cdc news media began shout messag across america zika go deform head babi womb there vaccin protect usit seem like everi zika stori saw includ least one photo babi microcephali alway state vaccin yet remind zika caus babi born abnorm small head mental retard blind warn babi die birth sever brain deform told babi born microcephali cost ten million dollar medic expens child life stori creat ever increas level apprehens fear intend doa mainstream media struggl keep fear level high keep stori line flow week week began focus govern effort save us zika didnt take long find peopl interview would ask question want ask govern go protect babi question ask even though proof zika infect microcephali relat question ask mani time media politician could dare say go anyth far know zika doesnt caus microcephali presid obama respond question februari presid obama request billion dollar studi situat develop zika vaccin look care go spend billion dollar develop vaccin virus almost never kill anyon proven caus birth defect safe someth els go hereperhap real stori big pharma want anoth cash cow vaccin zika threat promot way peopl insist big pharma develop zika vaccin us sudden big pharma compani abl put white hat rescu babi world would sweet decept could pull cdc declar zika caus microcephali cdc announc april zika caus microcephali decis base cdc analysi avail data conduct comprehens research use quack duck kind analysi quack like duck walk like duck must duck couldnt tell feather like duck bill like duck still insist call duck name zika ignor import criteria analysiscdc research state seventh shepard criterion proof experiment system agent act unalt state aim medic chemic exposur appli infecti agent thus given shepard criteria framework criteria satisfi evid consid suffici identifi agent teratogen word use set seven criteria determin whether zika could consid caus microcephali determin associ zika infect microcephali causat criteria suggest addit studi need criteria could met exclud seventh criteria altogeth examin whether medic chemic might caus microcephalyi couldnt believ exclud seventh criteria clear microcephali known caus pesticid exposur could easili caus vaccin pregnanc like caus zika infectionthes cdc scientist look causat infecti agent noth els seem matter exclusionari mindset present sinc begin zika propaganda campaignthey ignor effect tdap vaccin given pregnant women brazil ignor side effect medic ignor consumpt gmo food glyphos pyriproxyfen wide use brazil ignor chemic exposur brazil larg chemic manufactur facil ignor alcohol drug use ignor effect extrem multigener nutrit defici extrem poverti ignor introduct genet modifi mosquito releas brazil ignor exposur rubella toxoplasmosi cytomegalovirus ignor combin effect factor well multigener modif local gene pool potenti causesi discuss potenti caus microcephali first articl zika publish januari one key point want bring forward previous articl concern number babi born microcephali first heard case microcephali brazil initi shock panic produc learn investig show number confirm case mainstream media also didnt mention number babi born unit state microcephali typic year adjust popul differ us brazil find rate microcephali us actual time higher rate brazilin word us microcephali incid much higher brazil babi didnt get zika mayb babi got various potenti caus discuss previous articlei also state research put name articl employe cdc must question whether analysi truli object whether find influenc cdc tie big pharma zika vaccin pipelin base singl poor qualiti analysi full speed ahead develop zika vaccin least four compani plus cdc work zika vaccin told still take sever year zika vaccin proper test made avail larg quantiti popul worldzika vaccin trial alreadi begun alreadi recruit volunt us us nation institut health hope start phase ii trial vaccin earli congress tri protect babi zika fund cdc settl zikamicrocephali question time get congress fund presid request zika vaccin develop program hous senat pass zika fund bill howev differ idea much money spent fund generat fund process stall end june senat hous could reconcil differ went seven week summer vacat wasnt avail tri resolv differ creat problem zika mind control campaign might mean would new zika news report summer keep propaganda campaign go kill mosquito mainstream media switch focus vaccin develop erad aed aegypti mosquito known carri zika virus infect mosquito bite person person might develop infect fact one disput great mosquito chase cdc continu count number zika case us puerto rico number continu rise spring earli summer look autochthon case zika us could find infect peopl travel zika infect countri sex peopl travel countriesfin end juli peopl wynnewood section miami florida found zika even though travel zika infect countri sex zika infect person health offici state feder level interpret presenc case mean zika must transmit peopl mosquito bite ignor possibl infect peopl might lie exposur exampl sexual contact infect person nevertheless offici conclud must implement strong mosquito control program prevent zika spread furthernow zika epidem us home soil media anoth fear induc stori add propaganda campaign mosquito get babi governor florida goe door door find peopl zika august governor florida contact us public health system ask send special train squad feder public health agent help zika emerg miami agent florida offici went door door wynwood neighborhood miami collect urin sampl identifi addit case case found asymptomat peopl didnt even know infect problem cant find zika infect mosquito mosquito test presenc zika test negat dismiss negat infect result say find zika infect mosquito like find needl haystack aerial mosquito spray program initi governor florida conjunct feder public health agent decid need aerial spray pesticid even though aed aegypti mosquito wouldnt travel feet birth place wynwood neighborhood autochthon zika case locat offici decid spray ten squar mile area safe spray program cover ten squar mile would make sensat stori media would much alarm stori neighborhood aerial spray zone also would expos mani peopl toxic pesticid laterth first aerial spray took place august toxic pesticid use aerial spray caus microcephali offici told public worri pesticid spray nale harmless point epa report support claim didnt mention nale ban europ didnt mention offici puerto rico recent refus allow spray nale citizen didnt mention nale kill mani type insect aquat creatur addit mosquito import offici didnt mention nale chemic creat break environ potenti caus human birth defect could pesticid nale caus microcephali life threaten diseas offici didnt mention pesticid spray dens popul minor neighborhood wynwood particular danger babi wombthi journal pesticid reform say nale like organophosph nale dibrom toxic nervous system symptom exposur includ headach nausea diarrhea nale toxic exposur occur breath contamin air kind exposur laboratori test nale exposur caus increas aggress deterior memori learn nale breakdown product dichlorvo anoth organophosph insecticid interfer prenat brain develop laboratori anim exposur day pregnanc brain grow quick reduc brain size percent dichlorvo also caus cancer accord intern agenc research carcinogen laboratori test caus leukemia pancreat cancer two independ studi shown children expos household nopest strip contain dichlorvo higher incid brain cancer unexpos children emphasi ad nale exposur caus increas aggress deterior memori learn symptom also found children autism spectrumon toxic break product nale dichlorvo chemic caus reduct brain size pregnant lab anim day exposur anoth word reduc brain size microcephalyso pesticid spray could increas rate autism among children spray zone could caus microcephali occur babi pregnant womenquest babi born miami microcephali next nine month autism rate spray zone increas blame zika nale sure one cdc public health agenc ever point finger nale use children prove beyond shadow doubt zika blame nale also harm adult dr naresh kumar professor public health univers miami comment risk use pesticid aerial spray statement came cbs miami neurotoxin mean direct affect nervous system affect pregnant woman also equal children asthma airway diseas spray air aerosol stay air least five day miami herald provid advic peopl pesticid spray zone state agenc epa say insecticid pose risk major peopl sensit chemic may want stay insid spray close window turn window air condition fruit veget also wash eat outdoor furnitur grill cover concern expos chemic spray stay insid day pesticid fall air keep window close turn window air condition wonder mani peopl abl follow advic subtrop urban climat miami augustmind control program alway tri make life difficult live outsid box normal want us follow instruct case would worri spray concern take ridicul suggest wont realli protect spray zika also caus guillainbarr syndrom appar cdc suspect zika caus paralyt syndrom call guillainbarr look data collect form monitor zika us see anoth master stroke mind control make count case guillainbarr syndrom form case zika would cdc tri make connect cdc indic guillainbarr syndrom page sure caus syndrom mention case guillainbarr syndrom associ swine flu vaccin otherwis condit rare unknown etiolog make case zika virus caus guillainbarr syndrom shift attent away fact mani vaccin pesticid harm effect human nervous system abl produc type paralysisi anticip see guillainbarr syndrom research paper like one produc cdc microcephali new paper substitut phrase guillainbarr syndrom word microcephali show statist smoke mirror zika virus causat guillainbarr syndrom well microcephalyif pull zika virus blame case vaccin damag microcephali paralysi result pull suspect pesticid manufactur also abl blame zika virus microcephali neurolog malform paralysi result use product zika virus perfect scapegoat list birth defect blame zika evid increas propaganda campaign alway seek worsen devast effect whatev want us fear first heard zika caus microcephali heard might also caus guillainbarr syndrom hear zika caus whole host birth defect might appear month even year birthth new york time state imag babi microcephali publish tuesday journal radiolog also suggest grim possibl damag seen brain area continu develop birth may babi born without obvious impair experi problem grow imag anoth babi girl show contract hand arm result anoth common symptom zika seem damag nerv develop fetus sometim muscl arent develop normal dont nerv impuls move normal dr levin said vicious unpredict virus key realiz zika microcephali there number abnorm theyv shown paper effect go even broad said dr spong whose agenc begun studi ultim babi born zika epidem area includ brazil puerto rico go essenti follow look develop look abil learn look hear problem balanc problem behavior problem issu make sure dont miss anyon zika new scapegoat childhood diseas tell go seem plan put togeth catalog major injuri result zika infectionit includ injuri result vaccin pesticid gmo food pharmaceut drug highcarbohydr lowfat standard american diet anyth els might lead success lawsuit big pharma big chem zika might becom standard defens suit corpor wasnt product harm littl babi zika conclus anoth govern tool greater good strip away freedom wont long mainstream media show us pictur us babi florida born microcephali mainstream media tug heartstr remind us horror soon becom prevent zika vaccin developedw hear connect zika terribl health condit experienc children told suffer expens avoid mosquito kill everyon receiv zika vaccinemind control program alway talk greater good individu must give individu freedom right even prefer sake collect benefit zika one tool use mind control rule elit move us toward mass vaccin total govern control livesread healthimpactnewscom zika virus properti rockefel foundat feb anonewsco brazil ask whether zika act alon caus birth defect juli naturecom first case zika virus report puerto rico dec cdcgov epidemiolog alert neurolog syndrom congenit malform zika virus infect implic public health america dec pahoorg epidemiolog alert increas microcephali northeast brazil nov pahoorg epidemiolog alert neurolog syndrom congenit malform zika virus infect implic public health america dec pahoorg archiv diseas zika virus infect pahoorg zika virus infect hondura dec whoint zika virus infect panama dec whoint first case zika virus report puerto rico dec cdcgov paho report increas congenit microcephali central nervous system symptom februari pahoorg zika virus spread quick jan youtubecom zika virus miami outbreak spark concern demand test among pregnant women aug miamiheraldcom letter presid zika virus feb whitehousegov zika virus caus birth defect health offici confirm april nytimescom zika virus birth defect review evid causal may nejmorg becam billion zika aug thevaccinereactionorg nih kick phi trial zika vax caseload rise us aug fiercepharmacom zika deal congress like delay recess june nytimescom florida health offici confirm local zika transmiss juli cnncom gov scott florida call cdc activ emerg respons team follow confirm mosquitoborn transmiss aug flgovcom florida mosquito control forc mobil zika threat may khnorg florida confirm first state local transmit zika juli statnewscom zika virus miamidad counti plan spray nale wynwood aug miamiheraldcom spray begin miami combat zika virus aug nytimescom nale mosquito control aug epagov friday flight plan spray zika mosquito aug miamiheraldcom florida spray resid like bug zika chemic iron reduc fetal brain size studi aug activistpostcom free zip code map statist miami fl unitedstateszipcodesorg altern pesticid factsheet nale cloudfrontnet epa insecticid use fight zika safe miamicbslocalcom zika virus miamidad counti plan spray nale wynwood friday aug miamiheraldcom zika guillainbarr syndrom cdcgov ibid</th>\n",
       "      <th>text_zimbabw daili oct lord peter mandelson warn uk govern endgam underway zimbabw give two exampl crisi play mr mandelson chair lazard intern invest bank told british civil servant zimbabwean dictat prepar endgam countri suggest believ close death bed one creator new labour toni blair mr mandelson visit countri februari busi civil purpos claim howev later becam embroil lobbi row mr mugab financ minist patrick chinamasa flew london discuss bailout plan countri mr mugab regim appar attempt borrow billion facilit peer bank reveal mr mandelson sent letter uk govern give advic approach diplomat relat countri warn countri need encourag debt restructur inject addit liquid month met zimbabwean govern minist discuss bail letter parliamentari secretari state foreign offic mr mandelson also discuss countri corrupt wrote immedi danger suppli cash dollar dri danger bank failur liquid crisi consequ impact function whole economi mr mandelson issu statement british newspap august trip deni advis zimbabwean govern spokesman said meet repres busi communiti civil societi encourag continu process reform howev reveal decid inform uk civil servant believ mr mugab point endgam underway partial redact freedom inform request highlight mr mandelson met clear point polit faction wrote discuss busi inde aspect life inevit discuss polit intens specul manoeuvr success presid mugab domin arm polic surround protest harar zimbabw monday juli click enlarg clear endgam underway battl vocifer play zimbabwean press less clear end prevail whether play presid still aliv mr mugab recent appear public open school follow rumour death maintain retain grip countri die mr mugab strip british knighthood despit opposit mr mandelson labour colleagu gordon brown lord malloch brown foreign offic minist mr mandelson appear warn british govern crisi threaten unfold soon hint intern communiti must establish right incent reform mugab africa oldest leader led former british coloni sinc independ critic say presid destruct oncepromis countri polici seizur whiteown farm mugab rule zimbabw african nation unionpatriot front parti blame foreign power sabotag economi sanction mugab govern experienc increas bad cash shortag past seven year sinc abandon currenc bid end hyperinfl zimbabwean dollar abandon mugab order zimbabwean dollar note print quick becom worthless black market us dollar take becom southern african countri offici currenc much zimbabw industri compani close due demand whiteown busi hand per cent black zimbabwean high tax labour law make almost imposs sack anybodi mr mugab rule high controversi evict white farmer meant near everi supermarket product import unlik year ago produc local sourc protest mar dictat leadership year worker across countri take part shut strike juli biggest protest sinc april opposit leader morgan tsvangirai led antimugab demonstr</th>\n",
       "      <th>text_главная news googl appoint vicepresid googl appoint vicepresid tuesday novemb israel meir brand becom new vice presid googl corpor sundar pichai chief execut offic ceo googl inc report inform brand first googl israel employe appoint ceo googl israel time meir brand continu rule israel middl east africa russia turkey greec background latest wikileak data rig custom queri googl yahoo favor clinton assist provid corpor democrat parti headquart also financ isra billionair appoint meir brand mean strengthen israel role inform space despit fact googl apolog chang map palestin exampl mark autonomi one serbian monasteri visoki dečani tel aviv known use activ possibl censorship internet recent chang like aim activ inform attack includ strateg import area meir brand familiar russia turkey middl eastern countri relat link</th>\n",
       "      <th>label_fake</th>\n",
       "      <th>label_real</th>\n",
       "    </tr>\n",
       "    <tr>\n",
       "      <th>index</th>\n",
       "      <th></th>\n",
       "      <th></th>\n",
       "      <th></th>\n",
       "      <th></th>\n",
       "      <th></th>\n",
       "      <th></th>\n",
       "      <th></th>\n",
       "      <th></th>\n",
       "      <th></th>\n",
       "      <th></th>\n",
       "      <th></th>\n",
       "      <th></th>\n",
       "      <th></th>\n",
       "      <th></th>\n",
       "      <th></th>\n",
       "      <th></th>\n",
       "      <th></th>\n",
       "      <th></th>\n",
       "      <th></th>\n",
       "      <th></th>\n",
       "      <th></th>\n",
       "    </tr>\n",
       "  </thead>\n",
       "  <tbody>\n",
       "    <tr>\n",
       "      <th>0</th>\n",
       "      <td>0</td>\n",
       "      <td>0</td>\n",
       "      <td>0</td>\n",
       "      <td>0</td>\n",
       "      <td>0</td>\n",
       "      <td>0</td>\n",
       "      <td>0</td>\n",
       "      <td>0</td>\n",
       "      <td>0</td>\n",
       "      <td>0</td>\n",
       "      <td>...</td>\n",
       "      <td>0</td>\n",
       "      <td>0</td>\n",
       "      <td>0</td>\n",
       "      <td>0</td>\n",
       "      <td>0</td>\n",
       "      <td>0</td>\n",
       "      <td>0</td>\n",
       "      <td>0</td>\n",
       "      <td>0</td>\n",
       "      <td>1</td>\n",
       "    </tr>\n",
       "    <tr>\n",
       "      <th>1</th>\n",
       "      <td>0</td>\n",
       "      <td>0</td>\n",
       "      <td>0</td>\n",
       "      <td>0</td>\n",
       "      <td>0</td>\n",
       "      <td>0</td>\n",
       "      <td>0</td>\n",
       "      <td>0</td>\n",
       "      <td>0</td>\n",
       "      <td>0</td>\n",
       "      <td>...</td>\n",
       "      <td>0</td>\n",
       "      <td>0</td>\n",
       "      <td>0</td>\n",
       "      <td>0</td>\n",
       "      <td>0</td>\n",
       "      <td>0</td>\n",
       "      <td>0</td>\n",
       "      <td>0</td>\n",
       "      <td>0</td>\n",
       "      <td>1</td>\n",
       "    </tr>\n",
       "    <tr>\n",
       "      <th>2</th>\n",
       "      <td>0</td>\n",
       "      <td>0</td>\n",
       "      <td>0</td>\n",
       "      <td>0</td>\n",
       "      <td>0</td>\n",
       "      <td>0</td>\n",
       "      <td>0</td>\n",
       "      <td>0</td>\n",
       "      <td>0</td>\n",
       "      <td>0</td>\n",
       "      <td>...</td>\n",
       "      <td>0</td>\n",
       "      <td>0</td>\n",
       "      <td>0</td>\n",
       "      <td>0</td>\n",
       "      <td>0</td>\n",
       "      <td>0</td>\n",
       "      <td>0</td>\n",
       "      <td>0</td>\n",
       "      <td>0</td>\n",
       "      <td>1</td>\n",
       "    </tr>\n",
       "    <tr>\n",
       "      <th>3</th>\n",
       "      <td>0</td>\n",
       "      <td>0</td>\n",
       "      <td>0</td>\n",
       "      <td>0</td>\n",
       "      <td>0</td>\n",
       "      <td>0</td>\n",
       "      <td>0</td>\n",
       "      <td>0</td>\n",
       "      <td>0</td>\n",
       "      <td>0</td>\n",
       "      <td>...</td>\n",
       "      <td>0</td>\n",
       "      <td>0</td>\n",
       "      <td>0</td>\n",
       "      <td>0</td>\n",
       "      <td>0</td>\n",
       "      <td>0</td>\n",
       "      <td>0</td>\n",
       "      <td>0</td>\n",
       "      <td>0</td>\n",
       "      <td>1</td>\n",
       "    </tr>\n",
       "    <tr>\n",
       "      <th>4</th>\n",
       "      <td>0</td>\n",
       "      <td>0</td>\n",
       "      <td>0</td>\n",
       "      <td>0</td>\n",
       "      <td>0</td>\n",
       "      <td>0</td>\n",
       "      <td>0</td>\n",
       "      <td>0</td>\n",
       "      <td>0</td>\n",
       "      <td>0</td>\n",
       "      <td>...</td>\n",
       "      <td>0</td>\n",
       "      <td>0</td>\n",
       "      <td>0</td>\n",
       "      <td>0</td>\n",
       "      <td>0</td>\n",
       "      <td>0</td>\n",
       "      <td>0</td>\n",
       "      <td>0</td>\n",
       "      <td>0</td>\n",
       "      <td>1</td>\n",
       "    </tr>\n",
       "  </tbody>\n",
       "</table>\n",
       "<p>5 rows × 12258 columns</p>\n",
       "</div>"
      ],
      "text/plain": [
       "       title_  title_abbi martin expos hillari clinton chair john podesta  \\\n",
       "index                                                                       \n",
       "0           0                                                  0            \n",
       "1           0                                                  0            \n",
       "2           0                                                  0            \n",
       "3           0                                                  0            \n",
       "4           0                                                  0            \n",
       "\n",
       "       title_abedin weiner testifi clinton  \\\n",
       "index                                        \n",
       "0                                        0   \n",
       "1                                        0   \n",
       "2                                        0   \n",
       "3                                        0   \n",
       "4                                        0   \n",
       "\n",
       "       title_abnorm normal nuclear terror  \\\n",
       "index                                       \n",
       "0                                       0   \n",
       "1                                       0   \n",
       "2                                       0   \n",
       "3                                       0   \n",
       "4                                       0   \n",
       "\n",
       "       title_abort bill drop amid concern femal gop lawmak  \\\n",
       "index                                                        \n",
       "0                                                      0     \n",
       "1                                                      0     \n",
       "2                                                      0     \n",
       "3                                                      0     \n",
       "4                                                      0     \n",
       "\n",
       "       title_abort gaff show trump leftw caricatur conserv  \\\n",
       "index                                                        \n",
       "0                                                      0     \n",
       "1                                                      0     \n",
       "2                                                      0     \n",
       "3                                                      0     \n",
       "4                                                      0     \n",
       "\n",
       "       title_accident case obamacar  \\\n",
       "index                                 \n",
       "0                                 0   \n",
       "1                                 0   \n",
       "2                                 0   \n",
       "3                                 0   \n",
       "4                                 0   \n",
       "\n",
       "       title_accord colleg prof cano symbol cultur appropri  \\\n",
       "index                                                         \n",
       "0                                                      0      \n",
       "1                                                      0      \n",
       "2                                                      0      \n",
       "3                                                      0      \n",
       "4                                                      0      \n",
       "\n",
       "       title_accord reach sander sue dnc suspend access critic voter list  \\\n",
       "index                                                                       \n",
       "0                                                      0                    \n",
       "1                                                      0                    \n",
       "2                                                      0                    \n",
       "3                                                      0                    \n",
       "4                                                      0                    \n",
       "\n",
       "       title_account  ...  \\\n",
       "index                 ...   \n",
       "0                  0  ...   \n",
       "1                  0  ...   \n",
       "2                  0  ...   \n",
       "3                  0  ...   \n",
       "4                  0  ...   \n",
       "\n",
       "       text_yves smith yves real news network segment continu discuss yet anoth acronym trip much econom play field tilt ordinari worker pleas note transcript publish without apostroph ad best could may miss lynn fri welcom real news network lynn fri geneva part seri peter draho explain stori intellectu properti link trade join us australia peter draho professor australian nation univers school regul global govern hold chair intellectu properti queen mari univers london peter draho coauthor inform feudal own knowledg economi welcom peter peter draho thank fri part talk ownership intellectu properti right concentr among key multin incumb player profit trip agreement way global intellectu properti right concentr power hand multin draho one thing probabl fulli appreci intellectu properti right form privat tax patent owner copyright owner essenti requir produc say develop countri pay licens fee use relev bit intellectu properti whether copi book make use film make use patent essenti intellectu properti right form privat taxat innov minim global intellectu properti right essenti put hand owner intellectu properti right global privat form tax power pretti big form power effect peopl countri develop countri cost textbook exampl sever impact access cours textbook develop countri student unit state europ would probabl abl say lot cost textbook pay chanc student chanc pay textbook peopl develop countri basic point global ipr effect put hand multin compani form privat tax power right across board relat copyright good relat patent good relat trade mark good see citizen essenti pay pay public tax support lot research develop us univers european univers australian univers lot research develop support public tax lot research develop ultim end patent patent system compani levi privat tax said intellectu properti right form taxat good produc innov produc public expens recycl intellectu properti system peopl sens pay licens fee privat tax form doubl payment public tax privat tax happen time think exampl book produc univers academ academ paid tax payer book end publish publish basic collect fee univers use book part book various cours problem copyright cartel essenti obtain high profit recycl textbook produc public expens sever problem fri argument favor global ipr need innov talk view draho look histori innov countri see public invest play huge import role public institut research extrem import intellectu properti often confus innov explan innov lie state commit fund basic research true unit state look histori unit state feder govern unit state realli play huge role promot excel univers fund public research intellectu properti right modest role problem grown like topsi grown control thing march like frankenstein economi real problem argument role ipr recogn govern commit use public tax past fund basic research fund univers one great danger reli intellectu properti right system actual undermin public research thing histor given us great innov whether biotechnolog whether area mathemat contribut public research profound import move world excess relianc intellectu properti mistaken belief intellectu properti somehow promot innov mani sens intellectu properti global intellectu properti actual antiinnov one think recogn role public invest innov obsess intellectu properti right unexpect repercuss research cultur think mani scientist would say research environ univers profound differ thirti forti year ago mean scientist exampl work recombin dna technolog earli public spoke danger recombin dna technolog spoke advantag abl work public institut unit state public univers drove much research recombin dna technolog think spoke research mani would say kind public discuss direct research much harder societi scientist worri undermin valid patent applic exampl fri problem reli intern patent system draho mani complic problem around patent one big problem patent tend serv peopl afford pay patent commod tenni racket big problem patent commod medicin big problem patent drive cost medicin way prefer measur abil pay cours billion peopl world abil pay patent medicin essenc patent system pick prefer predomin wealthi citizen mani diseas tropic diseas essenti research market patent medicin big enough enough incent pharmaceut compani enter particular market reli patent system serv entir globe citizen world essenti flaw fri hard see critic need public institut research state fund state collect less tax bring us role intellectu properti right tax avoid game tell us draho one issu confront countri rais suffici revenu get compani pay suffici tax intern level perenni problem issu transfer price basic larg compani transfer particular asset subsidiari exampl licens agreement one part compani licens anoth part compani produc particular good whole idea behind transfer price point view countri tax high particular subsidiari pay licens word claim biggest cost purpos taxat system countri theori tax depart requir compani valu transfer asset purpos transfer price length work fair well relat physic good factori exampl reason easi determin valu sale factori realli actual difficult valu invis intang properti tri valu particular licens patent licens worth quit complic problem tax bureaucraci transfer price problem around decad tax depart world struggl realli led problem fiscal degrad taxat game play around intellectu properti right ultim harm state whether rich poor lot concern unit state exampl intellectu properti right use shift profit us compani us tax jurisdict us congress exampl year ago heard exampl licens agreement ireland exampl use conduit land profit various tax haven whether bahama elsewher problem use intellectu properti right shift profit depriv state proper share public tax problem unit state much problem china india australia fri go break back part pleas join us continu convers peter draho peter draho thank draho thank fri thank join us real news network  \\\n",
       "index                                                                                                                                                                                                                                                                                                                                                                                                                                                                                                                                                                                                                                                                                                                                                                                                                                                                                                                                                                                                                                                                                                                                                                                                                                                                                                                                                                                                                                                                                                                                                                                                                                                                                                                                                                                                                                                                                                                                                                                                                                                                                                                                                                                                                                                                                                                                                                                                                                                                                                                                                                                                                                                                                                                                                                                                                                                                                                                                                                                                                                                                                                                                                                                                                                                                                                                                                                                                                                                                                                                                                                                                                                                                                                                                                                                                                                                                                                                                                                                                                                                                                                                                                                                                                                                                                                                                                                                                                                                                                                                                                                                                                                                                                                                                                                                                                                                                                                                                                                                                                                                                                                                                                                                                                                                                                                                                                                                                                                                                                                                                                                                                                                                                                                                                                                                                                                                                                                                                                                                                                                                                                                                                                           \n",
       "0                                                      0                                                                                                                                                                                                                                                                                                                                                                                                                                                                                                                                                                                                                                                                                                                                                                                                                                                                                                                                                                                                                                                                                                                                                                                                                                                                                                                                                                                                                                                                                                                                                                                                                                                                                                                                                                                                                                                                                                                                                                                                                                                                                                                                                                                                                                                                                                                                                                                                                                                                                                                                                                                                                                                                                                                                                                                                                                                                                                                                                                                                                                                                                                                                                                                                                                                                                                                                                                                                                                                                                                                                                                                                                                                                                                                                                                                                                                                                                                                                                                                                                                                                                                                                                                                                                                                                                                                                                                                                                                                                                                                                                                                                                                                                                                                                                                                                                                                                                                                                                                                                                                                                                                                                                                                                                                                                                                                                                                                                                                                                                                                                                                                                                                                                                                                                                                                                                                                                                                                                                                                                                                                                                                        \n",
       "1                                                      0                                                                                                                                                                                                                                                                                                                                                                                                                                                                                                                                                                                                                                                                                                                                                                                                                                                                                                                                                                                                                                                                                                                                                                                                                                                                                                                                                                                                                                                                                                                                                                                                                                                                                                                                                                                                                                                                                                                                                                                                                                                                                                                                                                                                                                                                                                                                                                                                                                                                                                                                                                                                                                                                                                                                                                                                                                                                                                                                                                                                                                                                                                                                                                                                                                                                                                                                                                                                                                                                                                                                                                                                                                                                                                                                                                                                                                                                                                                                                                                                                                                                                                                                                                                                                                                                                                                                                                                                                                                                                                                                                                                                                                                                                                                                                                                                                                                                                                                                                                                                                                                                                                                                                                                                                                                                                                                                                                                                                                                                                                                                                                                                                                                                                                                                                                                                                                                                                                                                                                                                                                                                                                        \n",
       "2                                                      0                                                                                                                                                                                                                                                                                                                                                                                                                                                                                                                                                                                                                                                                                                                                                                                                                                                                                                                                                                                                                                                                                                                                                                                                                                                                                                                                                                                                                                                                                                                                                                                                                                                                                                                                                                                                                                                                                                                                                                                                                                                                                                                                                                                                                                                                                                                                                                                                                                                                                                                                                                                                                                                                                                                                                                                                                                                                                                                                                                                                                                                                                                                                                                                                                                                                                                                                                                                                                                                                                                                                                                                                                                                                                                                                                                                                                                                                                                                                                                                                                                                                                                                                                                                                                                                                                                                                                                                                                                                                                                                                                                                                                                                                                                                                                                                                                                                                                                                                                                                                                                                                                                                                                                                                                                                                                                                                                                                                                                                                                                                                                                                                                                                                                                                                                                                                                                                                                                                                                                                                                                                                                                        \n",
       "3                                                      0                                                                                                                                                                                                                                                                                                                                                                                                                                                                                                                                                                                                                                                                                                                                                                                                                                                                                                                                                                                                                                                                                                                                                                                                                                                                                                                                                                                                                                                                                                                                                                                                                                                                                                                                                                                                                                                                                                                                                                                                                                                                                                                                                                                                                                                                                                                                                                                                                                                                                                                                                                                                                                                                                                                                                                                                                                                                                                                                                                                                                                                                                                                                                                                                                                                                                                                                                                                                                                                                                                                                                                                                                                                                                                                                                                                                                                                                                                                                                                                                                                                                                                                                                                                                                                                                                                                                                                                                                                                                                                                                                                                                                                                                                                                                                                                                                                                                                                                                                                                                                                                                                                                                                                                                                                                                                                                                                                                                                                                                                                                                                                                                                                                                                                                                                                                                                                                                                                                                                                                                                                                                                                        \n",
       "4                                                      0                                                                                                                                                                                                                                                                                                                                                                                                                                                                                                                                                                                                                                                                                                                                                                                                                                                                                                                                                                                                                                                                                                                                                                                                                                                                                                                                                                                                                                                                                                                                                                                                                                                                                                                                                                                                                                                                                                                                                                                                                                                                                                                                                                                                                                                                                                                                                                                                                                                                                                                                                                                                                                                                                                                                                                                                                                                                                                                                                                                                                                                                                                                                                                                                                                                                                                                                                                                                                                                                                                                                                                                                                                                                                                                                                                                                                                                                                                                                                                                                                                                                                                                                                                                                                                                                                                                                                                                                                                                                                                                                                                                                                                                                                                                                                                                                                                                                                                                                                                                                                                                                                                                                                                                                                                                                                                                                                                                                                                                                                                                                                                                                                                                                                                                                                                                                                                                                                                                                                                                                                                                                                                        \n",
       "\n",
       "       text_yves smith yves strong suspect nake capit reader find lot love propos let comment section start two first set program bond like trust account amount grant set birth lot children suffer sever setback birth like death parent debilit injuri second propos noth address express problem issu even though children lowerincom background might get colleg mix muchat social better student spend money allow bond provid spend money perceivedtobelegitim purpos like educ even though go ski trip kid might key econom advanc would polit unaccept govern program pay sort thing lynn parramor senior research analyst institut new econom think origin publish institut new econom think websit imagin black child famili modest resourc get opportun attend elit colleg preparatori school motiv love learn strong desir achiev excel school goe attend high regard univers earn advanc degre sure child well posit ascend ladder econom prosper america right fast goal broaden financi wealth american regardless race get plenti applaus across polit spectrum far goal remain devilish elus understand know peopl come wealth first place popular say build wealth disciplin hit book work hard save money realiti littl differ past injustic shape present realiti darrick hamilton know person experi despit famili modest mean poor hard affluent attend brooklyn friend school elit privat institut teacher emphas social justic hamilton start colleg oberlin excit seek path american dream soon found path smoother other around white kid affluent famili get check mail parent money could spent tuition extracurricular activ kind social build profession network black student modest mean hand often disadvantag even parent abl help financi receiv money home thing besid book demand financi attent true job even black student work hard save dilig money often spoken time pay tuition bill semest reason cumul effect centuri gross econom disadvantag black famili endur slaveri jim crow beyond legaci sever headwind even individu famili abl reach middl class still like constel poorer extend famili member need various kind financi assist call help economist call wealth leakag hamilton notic phenomenon play among black student school profession realm rather enjoy resourc parent grandpar often provid money cousin niec uncl sibl obtain phd econom uncchapel hill hamilton teach econom urban polici new school new york focus poverti famili increas racial wealth gap middl class black individu sourc wealth build america realiz less save capac invest asset money given parent grandpar transfer critic acquisit asset like home small busi kind thing requir huge payment fortun enough get payment resourc key junctur life observ hamilton pathway toward build econom secur somebodi els could jerk could good person littl particular individu logic fli face longcherish belief educ hard work great equal american societi mani still insist much present day inequ caus bad individu decis structur problem associ discrimin vast inequ black white citizen suggest go poor choic accord feder reserv survey consum financ median household wealth white compar paltri black american reason say hamilton pretti clear capitalist system lack capit lock inequ fortun think problem allevi will aim attack sourc hamilton colleagu william dariti jr duke univers stratif economist pioneer emerg subfield social scienc focus structur dimens person econom posit propos solut wealth inequ may appeal across polit spectrum give everi american babi seed capit grow take part capitalist system could done argu babi bond would set everi child born babi bond work babi bond hamilton formul would fund direct treasuri held account feder govern similar social secur amount child receiv would depend wealth posit born offspr oprah winfrey bill gate might get upward born lowest rung econom ladder averag amount child would around account would guarante nomin one half rate return payout would take place child becom adult time get spend money anyth fund would use clear defin asset enhanc activ like financ debtfre educ purchas busi buy home program would need coupl financi reform regul mitig predatori effect includ extraordinari tuition increas aim exploit betterresourc young adult babi bond recipi commiss would set identifi exact kind activ might qualifi condit set protect resourc say hamilton situat receiv infus cash young adult would lot famili need take care could begin think selfinvest like purchas home specifi money spent may guarante outcom peopl still choos invest engag least ensur invest assetenhanc endeavor help build wealth long run unlik past propos child save account babi bond design matter parent contribut hamilton say done howev good bad affluent poor parent may citizen get seed capit take part american econom mobil system program cost say hamilton note million children born everi year averag account whole program might cost billion add anoth billion highest estim administ program come billion maximum might sound like lot consid feder govern alreadi spend tri promot asset ownership tax code cite report polici like mortgag interest reduct reduct capit gain cfed washingtonbas nonprofit focus expand econom opportun lowtomoder incom american told program cost billion dollar mortgag interest deduct alon estim cost billion tax year next figur babi bond look like bargain also advantag distribut capit need feder program alreadi place tend funnel money toward affluent say hamilton note bottom percent earner get percent billion top percent get well half think babi bond could fulli fund simpli cap exist mortgag interest reduct would raceblind program help close gap wealth incom black white american hamilton point percent black household fall nation median wealth distribut mean test babi bond program well target need keen focus wealth babi bond address wealth two way first way black peopl cluster poorer end wealth distribut qualifi program second program focus assetenhanc activ benefit becom adult abl use fund build kind asset often reach histor potenti polit winner inequ hot topic polit season much discuss focus student debt hamilton acknowledg import enough close racial wealth gap help avoid wealth leakag million peopl black individu end go colleg say certain case black student disproportion impact student debt help actual end go colleg limit approach someth need note countri program similar babi bond alreadi implement child trust program set gave everi british citizen born septemb invest account build save would help fund transit adult life uk program differ babi bond sever key way smaller scale parent could add account trust uncondit mean money could use anyth rather specif set potenti wealthbuild activ unfortun program sank wave auster follow global recess unclear exact well work children receiv account yet old enough use could babi bond work america hamilton observ past conserv liber endors program design give american children stake futur kidsav program conceiv thensen bob kerrey nebraska thensen joe lieberman connecticut cosponsor would allot child small deposit birth around addit deposit everi year five year money would invest limit number mutual fund withdrawn retir substanti nest egg would theoret grown various version plan attract support conserv like senat rick santorum pennsylvania heritag foundat premis behind babi bond slight differ base recognit problem build wealth save american save period say hamilton realli get access asset go appreci home give american wealth home asset move us bit narrat leverag poor peopl better thing give incent say well empow account actual make decis lead mobil hamilton observ babi bond simpli arm everybodi opportun benefit idea diehard free market champion might appreci conserv realli believ fair market say let give everybodi opportun particip talk babi start come narrat deserv poor undeserv poor say birth go give everybodi chanc engag econom mobil america  \\\n",
       "index                                                                                                                                                                                                                                                                                                                                                                                                                                                                                                                                                                                                                                                                                                                                                                                                                                                                                                                                                                                                                                                                                                                                                                                                                                                                                                                                                                                                                                                                                                                                                                                                                                                                                                                                                                                                                                                                                                                                                                                                                                                                                                                                                                                                                                                                                                                                                                                                                                                                                                                                                                                                                                                                                                                                                                                                                                                                                                                                                                                                                                                                                                                                                                                                                                                                                                                                                                                                                                                                                                                                                                                                                                                                                                                                                                                                                                                                                                                                                                                                                                                                                                                                                                                                                                                                                                                                                                                                                                                                                                                                                                                                                                                                                                                                                                                                                                                                                                                                                                                                                                                                                                                                                                                                                                                                                                                                                                                                                                                                                                                                                                                                                                                                                                                                                                                                                                                                                                                                                                                                                                                                                                                                                                                                                                                                                                                                                                                                                                                                                                                                                                                                                                                                                                                                                                                                                                                                                                                                                                                                                                                                                                                                                                                                                                                                                                                                                                                                                                                                                                                                                                                                                                                                                                                                                                                                                                                                                                                                                                                                                                                                                                                                                                                                                                   \n",
       "0                                                      0                                                                                                                                                                                                                                                                                                                                                                                                                                                                                                                                                                                                                                                                                                                                                                                                                                                                                                                                                                                                                                                                                                                                                                                                                                                                                                                                                                                                                                                                                                                                                                                                                                                                                                                                                                                                                                                                                                                                                                                                                                                                                                                                                                                                                                                                                                                                                                                                                                                                                                                                                                                                                                                                                                                                                                                                                                                                                                                                                                                                                                                                                                                                                                                                                                                                                                                                                                                                                                                                                                                                                                                                                                                                                                                                                                                                                                                                                                                                                                                                                                                                                                                                                                                                                                                                                                                                                                                                                                                                                                                                                                                                                                                                                                                                                                                                                                                                                                                                                                                                                                                                                                                                                                                                                                                                                                                                                                                                                                                                                                                                                                                                                                                                                                                                                                                                                                                                                                                                                                                                                                                                                                                                                                                                                                                                                                                                                                                                                                                                                                                                                                                                                                                                                                                                                                                                                                                                                                                                                                                                                                                                                                                                                                                                                                                                                                                                                                                                                                                                                                                                                                                                                                                                                                                                                                                                                                                                                                                                                                                                                                                                                                                                                                                \n",
       "1                                                      0                                                                                                                                                                                                                                                                                                                                                                                                                                                                                                                                                                                                                                                                                                                                                                                                                                                                                                                                                                                                                                                                                                                                                                                                                                                                                                                                                                                                                                                                                                                                                                                                                                                                                                                                                                                                                                                                                                                                                                                                                                                                                                                                                                                                                                                                                                                                                                                                                                                                                                                                                                                                                                                                                                                                                                                                                                                                                                                                                                                                                                                                                                                                                                                                                                                                                                                                                                                                                                                                                                                                                                                                                                                                                                                                                                                                                                                                                                                                                                                                                                                                                                                                                                                                                                                                                                                                                                                                                                                                                                                                                                                                                                                                                                                                                                                                                                                                                                                                                                                                                                                                                                                                                                                                                                                                                                                                                                                                                                                                                                                                                                                                                                                                                                                                                                                                                                                                                                                                                                                                                                                                                                                                                                                                                                                                                                                                                                                                                                                                                                                                                                                                                                                                                                                                                                                                                                                                                                                                                                                                                                                                                                                                                                                                                                                                                                                                                                                                                                                                                                                                                                                                                                                                                                                                                                                                                                                                                                                                                                                                                                                                                                                                                                                \n",
       "2                                                      0                                                                                                                                                                                                                                                                                                                                                                                                                                                                                                                                                                                                                                                                                                                                                                                                                                                                                                                                                                                                                                                                                                                                                                                                                                                                                                                                                                                                                                                                                                                                                                                                                                                                                                                                                                                                                                                                                                                                                                                                                                                                                                                                                                                                                                                                                                                                                                                                                                                                                                                                                                                                                                                                                                                                                                                                                                                                                                                                                                                                                                                                                                                                                                                                                                                                                                                                                                                                                                                                                                                                                                                                                                                                                                                                                                                                                                                                                                                                                                                                                                                                                                                                                                                                                                                                                                                                                                                                                                                                                                                                                                                                                                                                                                                                                                                                                                                                                                                                                                                                                                                                                                                                                                                                                                                                                                                                                                                                                                                                                                                                                                                                                                                                                                                                                                                                                                                                                                                                                                                                                                                                                                                                                                                                                                                                                                                                                                                                                                                                                                                                                                                                                                                                                                                                                                                                                                                                                                                                                                                                                                                                                                                                                                                                                                                                                                                                                                                                                                                                                                                                                                                                                                                                                                                                                                                                                                                                                                                                                                                                                                                                                                                                                                                \n",
       "3                                                      0                                                                                                                                                                                                                                                                                                                                                                                                                                                                                                                                                                                                                                                                                                                                                                                                                                                                                                                                                                                                                                                                                                                                                                                                                                                                                                                                                                                                                                                                                                                                                                                                                                                                                                                                                                                                                                                                                                                                                                                                                                                                                                                                                                                                                                                                                                                                                                                                                                                                                                                                                                                                                                                                                                                                                                                                                                                                                                                                                                                                                                                                                                                                                                                                                                                                                                                                                                                                                                                                                                                                                                                                                                                                                                                                                                                                                                                                                                                                                                                                                                                                                                                                                                                                                                                                                                                                                                                                                                                                                                                                                                                                                                                                                                                                                                                                                                                                                                                                                                                                                                                                                                                                                                                                                                                                                                                                                                                                                                                                                                                                                                                                                                                                                                                                                                                                                                                                                                                                                                                                                                                                                                                                                                                                                                                                                                                                                                                                                                                                                                                                                                                                                                                                                                                                                                                                                                                                                                                                                                                                                                                                                                                                                                                                                                                                                                                                                                                                                                                                                                                                                                                                                                                                                                                                                                                                                                                                                                                                                                                                                                                                                                                                                                                \n",
       "4                                                      0                                                                                                                                                                                                                                                                                                                                                                                                                                                                                                                                                                                                                                                                                                                                                                                                                                                                                                                                                                                                                                                                                                                                                                                                                                                                                                                                                                                                                                                                                                                                                                                                                                                                                                                                                                                                                                                                                                                                                                                                                                                                                                                                                                                                                                                                                                                                                                                                                                                                                                                                                                                                                                                                                                                                                                                                                                                                                                                                                                                                                                                                                                                                                                                                                                                                                                                                                                                                                                                                                                                                                                                                                                                                                                                                                                                                                                                                                                                                                                                                                                                                                                                                                                                                                                                                                                                                                                                                                                                                                                                                                                                                                                                                                                                                                                                                                                                                                                                                                                                                                                                                                                                                                                                                                                                                                                                                                                                                                                                                                                                                                                                                                                                                                                                                                                                                                                                                                                                                                                                                                                                                                                                                                                                                                                                                                                                                                                                                                                                                                                                                                                                                                                                                                                                                                                                                                                                                                                                                                                                                                                                                                                                                                                                                                                                                                                                                                                                                                                                                                                                                                                                                                                                                                                                                                                                                                                                                                                                                                                                                                                                                                                                                                                                \n",
       "\n",
       "       text_zero hedg project verita releas part iv multipart seri expos numer scandal surround dnc clinton campaign includ effort incit violenc trump ralli least seem illeg coordin dnc hillari america various super pac part iv focus foreign donat made undercov project verita journalist american unit chang aufc iron short donat wire releas contributor niec offer internship creamer firm democraci partner new video creamer say everi morn call goe messag driven campaign headquart campaign main deal earn media televis radio earn media social media paid media advertis also mention confer call discuss woman potenti come forward accus trump inappropri behavior creamer season chicago activist marri rep jan schakowski dil whose republican oppon joan mccarthi lasond call resign husband activ also talk work barack obama say known sinc obama communiti organ chicago pro known presid sinc communiti organ chicago elsewher creamer add lot work white hous issu help run issu campaign involv mean immigr reform health care bill tri make america like britain come gun violenc issu  \\\n",
       "index                                                                                                                                                                                                                                                                                                                                                                                                                                                                                                                                                                                                                                                                                                                                                                                                                                                                                                                                                                                                                                                                                                                 \n",
       "0                                                      0                                                                                                                                                                                                                                                                                                                                                                                                                                                                                                                                                                                                                                                                                                                                                                                                                                                                                                                                                                                                                                                              \n",
       "1                                                      0                                                                                                                                                                                                                                                                                                                                                                                                                                                                                                                                                                                                                                                                                                                                                                                                                                                                                                                                                                                                                                                              \n",
       "2                                                      0                                                                                                                                                                                                                                                                                                                                                                                                                                                                                                                                                                                                                                                                                                                                                                                                                                                                                                                                                                                                                                                              \n",
       "3                                                      0                                                                                                                                                                                                                                                                                                                                                                                                                                                                                                                                                                                                                                                                                                                                                                                                                                                                                                                                                                                                                                                              \n",
       "4                                                      0                                                                                                                                                                                                                                                                                                                                                                                                                                                                                                                                                                                                                                                                                                                                                                                                                                                                                                                                                                                                                                                              \n",
       "\n",
       "       text_zero hedgeit least week sinc deutsch bank appear flash red break news section newswir news most negat stock sinc rebound materi wipe loss sinc doj billion rmbs settlement leak appear everyth back normal largest german lender may worst news yet db employe moment ago bloomberg report german bank explor altern pay bonus cash chief execut offic john cryan seek boost capit buffersaccord bloomberg db execut discuss option includ give banker share noncor unit instead cash bonus anoth idea review replac cash compon deutsch bank stockth supervisori board may discuss topic variabl pay meet wednesday though final decis expect peopl said day report thirdquart earn measur pursu come month would most impact invest bank peopl said frankfurtbas lender still consid altern saida bloomberg add bonusrel decis depend size time deutsch bank settlement us depart justic probe sale faulti realest secur last year deutsch bank award staff billion euro billion bonus billion euro combin invest bank trade unit billion euro percent defer stock cash remaind paid immedi appear db want take number make biggerth idea echo similar move credit suiss group ag height financi crisi swiss firm use illiquid loan bond pay employe yearend bonusesth report compar similar announc made exact one year ago db announc may slash bonus much one third sinc howev db aggress cost cut init made life bank employe progress miser sinc take cryan suspend dividend reduc bonus cut riski asset frozen new hire announc plan shed job ceo alreadi said deutsch bank may fail profit year post first annual loss sinc last year db banker may end get paid billion impair tanker loan carri quiet bank book cds interest rate swap db certain lot ofshould db success signific shift compens strategi without lead exodus worker like attempt bank core problem face deutsch bank name declin profit becom system across entir bank sector bad news invest banker everywheresourc zero hedg  \\\n",
       "index                                                                                                                                                                                                                                                                                                                                                                                                                                                                                                                                                                                                                                                                                                                                                                                                                                                                                                                                                                                                                                                                                                                                                                                                                                                                                                                                                                                                                                                                                                                                                                                                                                                                                                                                                                                                                                                                                                                                                                                                                    \n",
       "0                                                      0                                                                                                                                                                                                                                                                                                                                                                                                                                                                                                                                                                                                                                                                                                                                                                                                                                                                                                                                                                                                                                                                                                                                                                                                                                                                                                                                                                                                                                                                                                                                                                                                                                                                                                                                                                                                                                                                                                                                                                 \n",
       "1                                                      0                                                                                                                                                                                                                                                                                                                                                                                                                                                                                                                                                                                                                                                                                                                                                                                                                                                                                                                                                                                                                                                                                                                                                                                                                                                                                                                                                                                                                                                                                                                                                                                                                                                                                                                                                                                                                                                                                                                                                                 \n",
       "2                                                      0                                                                                                                                                                                                                                                                                                                                                                                                                                                                                                                                                                                                                                                                                                                                                                                                                                                                                                                                                                                                                                                                                                                                                                                                                                                                                                                                                                                                                                                                                                                                                                                                                                                                                                                                                                                                                                                                                                                                                                 \n",
       "3                                                      0                                                                                                                                                                                                                                                                                                                                                                                                                                                                                                                                                                                                                                                                                                                                                                                                                                                                                                                                                                                                                                                                                                                                                                                                                                                                                                                                                                                                                                                                                                                                                                                                                                                                                                                                                                                                                                                                                                                                                                 \n",
       "4                                                      0                                                                                                                                                                                                                                                                                                                                                                                                                                                                                                                                                                                                                                                                                                                                                                                                                                                                                                                                                                                                                                                                                                                                                                                                                                                                                                                                                                                                                                                                                                                                                                                                                                                                                                                                                                                                                                                                                                                                                                 \n",
       "\n",
       "       text_zhe unveil first imag new nuclear missil capabl reach us soil russian presid vladimir putin warn today washington action push russian nuclear arm race forc russia develop nuclear attack system yesterday russia reveal photo new high advanc liquid fuell heavi icbm capabl evad antimissil defenc hit us territori tonn nuclear payloadth makeyev design bureau design russia heavi liquid fuell intercontinent ballist missil icbm ie missil capabl reach us territori russian territori publish first pictur russia new heavi sarmat icbm due enter servic short probabl pictur accompani short statement read accord decre russian govern state defenc order plan period makeyev rocket design bureau instruct start design develop work sarmat june bureau russian ministri defens sign state contract sarmat develop prospect strateg missil system develop order assur effect fulfil object nuclear deterr russia strateg forc today putin explainsputin intermedi nuclear forc treati observ putin russia us must break vicious circl confront putin russia develop nuclear attack system putin us push russia arm race nuclear sphere  \\\n",
       "index                                                                                                                                                                                                                                                                                                                                                                                                                                                                                                                                                                                                                                                                                                                                                                                                                                                                                                                                                                                                                                                                                                                                                          \n",
       "0                                                      0                                                                                                                                                                                                                                                                                                                                                                                                                                                                                                                                                                                                                                                                                                                                                                                                                                                                                                                                                                                                                                                                                                       \n",
       "1                                                      0                                                                                                                                                                                                                                                                                                                                                                                                                                                                                                                                                                                                                                                                                                                                                                                                                                                                                                                                                                                                                                                                                                       \n",
       "2                                                      0                                                                                                                                                                                                                                                                                                                                                                                                                                                                                                                                                                                                                                                                                                                                                                                                                                                                                                                                                                                                                                                                                                       \n",
       "3                                                      0                                                                                                                                                                                                                                                                                                                                                                                                                                                                                                                                                                                                                                                                                                                                                                                                                                                                                                                                                                                                                                                                                                       \n",
       "4                                                      0                                                                                                                                                                                                                                                                                                                                                                                                                                                                                                                                                                                                                                                                                                                                                                                                                                                                                                                                                                                                                                                                                                       \n",
       "\n",
       "       text_zika masterpiec public mind control saturday octob natur news editor tag zika mind control propaganda naturalnew near nine month sinc word zika flash like lightn bolt headlin mainstream news januari zika one mani virus public health offici monitor sudden januari year everyth chang near harmless virus transform worldwid threatarticl john p thoma republish healthimpactnewscom see zika propaganda machin turn octob run wild ever sinc classic exampl mind control program public brainwash project high power market campaignregardless call clear mainstream news media world health organ pan american health organ paho us center diseas control prevent cdc big pharma big chem republican democrat join forc sell zika erad program peopl unit state rest worldthi continu one best orchestr program propaganda recent histori articl discuss program start develop go zika threat babi world absolut clear begin solid evid zika threat human minim danger viral infect caus microcephalyin almost year sinc zika virus patent rockefel foundat one ever notic associ zika infect pregnant women babi born abnorm small head defect brain develop sudden made awar suppos problem claim base noth circumstanti evid begin point propaganda campaign propaganda claim doesnt need true need repeat peopl believ trueafter half year fear hysteria mainstream media even offici brazil admit zika unlik caus microcephali report natur news comment juli offici brazil ministri health rais doubt suggest zika factor report microcephali surg countri report state zika virus spread throughout brazil extrem high rate microcephali report countri northeast although evid suggest zika caus microcephali cluster pattern hint environment socioeconom biolog factor could play suspect someth zika virus caus high intens sever case say fatima marinho director inform health analysi brazil ministri health turn true could chang research assess risk zika pose pregnant women children despit admiss brazil zika propaganda campaign move ahead without interrupt campaign stop contrari evid zika microcephali zika mild viral infect peopl get zika complet unawar infect get sick similar mani way cold mild case flu peopl experi fever rash joint pain conjunct ill usual mild symptom last sever day week infect thought provid lifelong immun sever diseas requir hospit uncommon death rare fact almost one die zika infect made unlik candid develop vaccin actual feel sick zika infect receiv comfort care rest immun system overcom viral ill zika press releas set stage propaganda campaign howev zika could connect horribl consequ microcephali paralysi guillainbarr syndrom exampl peopl would insist creat zika vaccin would insist everi person planet earth take would will give basic individu freedom benefit societi alway goal mind control programsin number press releas report releas pan american health organ world health organ pahowho cdc set stage unfold grand mind control projectth document publish rais red flag alarm zika epidem unfold throughout south america mexico convent media got excit epidem saw word microcephali prospect larg number babi born abnorm small head brain stori would realli grab attent audienceth media use pictur deform babi build fear heart peopl creat percept better watch zika go get us babi work realli hard instil public panic zika januari februari timelin follow see word autochthon public health agenc use word autochthon say infect local generat autochthon case zika one acquir local area person live contrast zika infect acquir visit anoth region countryi list key point press releas show foundat zika campaign built momentum establish project campaign mainstream media may brazil confirm first autochthon case zika octob columbia confirm first autochthon case zika octob brazil report unusu high number babi microcephali novemb el salvador guatemala mexico paraguay surinam venezuela report autochthon zika infect novemb call upon member state watch occurr microcephali decemb pahowho issu first dozen report chronicl histori grow zika epidem warn microcephali decemb report autochthon zika infect hondura decemb report autochthon zika infect panama decemb us cdc report autochthon zika infect puerto rico make note microcephali brazil count babi microcephali mainstream media sudden pick zikamicrocephali stori januari began sensation general concern quick transform alarm offici brazil report steadi increas number microcephali case januari report case microcephali andor central nervous system cns malform suggest congenit infect compar data averag microcephali case brazil data babi poor didnt know definit microcephali didnt know mani mother actual test posit zika didnt know data collect also didnt know strong level insist thing could caus birth defect infect zika virus propaganda campaign alway dismiss viewpoint one promot dont want investig truth debat fact want belief submiss us propaganda machin goe public januari cdc offici begin ponder situat first say might associ zika microcephali far assert kind causat relationship thought heard report appar wisdom took nosed minut later cdc offici went issu travel warn women avoid travel brazil south american countri pregnant think might pregnant think becom pregnant next coupl yearswhat cdc say evid causat dont even know even problem women stay home way strang thought began rememb convent media cdc hype african ebola epidem similar kind propaganda campaign month earlier worldwid threat ebola zair complet die long vaccin could develop must major disappoint big pharmabut time virus go die time propaganda campaign much sophist make major step toward accept univers mandatori vaccin diseas zika fals intern crisi involv deform babi justifi action januari earli februari news media provid us nonstop litani stori zika deform babi previous articl examin headlin propaganda campaignth cdc still use word possibl associ news media insist use word caus despit initi reserv cdc news media began shout messag across america zika go deform head babi womb there vaccin protect usit seem like everi zika stori saw includ least one photo babi microcephali alway state vaccin yet remind zika caus babi born abnorm small head mental retard blind warn babi die birth sever brain deform told babi born microcephali cost ten million dollar medic expens child life stori creat ever increas level apprehens fear intend doa mainstream media struggl keep fear level high keep stori line flow week week began focus govern effort save us zika didnt take long find peopl interview would ask question want ask govern go protect babi question ask even though proof zika infect microcephali relat question ask mani time media politician could dare say go anyth far know zika doesnt caus microcephali presid obama respond question februari presid obama request billion dollar studi situat develop zika vaccin look care go spend billion dollar develop vaccin virus almost never kill anyon proven caus birth defect safe someth els go hereperhap real stori big pharma want anoth cash cow vaccin zika threat promot way peopl insist big pharma develop zika vaccin us sudden big pharma compani abl put white hat rescu babi world would sweet decept could pull cdc declar zika caus microcephali cdc announc april zika caus microcephali decis base cdc analysi avail data conduct comprehens research use quack duck kind analysi quack like duck walk like duck must duck couldnt tell feather like duck bill like duck still insist call duck name zika ignor import criteria analysiscdc research state seventh shepard criterion proof experiment system agent act unalt state aim medic chemic exposur appli infecti agent thus given shepard criteria framework criteria satisfi evid consid suffici identifi agent teratogen word use set seven criteria determin whether zika could consid caus microcephali determin associ zika infect microcephali causat criteria suggest addit studi need criteria could met exclud seventh criteria altogeth examin whether medic chemic might caus microcephalyi couldnt believ exclud seventh criteria clear microcephali known caus pesticid exposur could easili caus vaccin pregnanc like caus zika infectionthes cdc scientist look causat infecti agent noth els seem matter exclusionari mindset present sinc begin zika propaganda campaignthey ignor effect tdap vaccin given pregnant women brazil ignor side effect medic ignor consumpt gmo food glyphos pyriproxyfen wide use brazil ignor chemic exposur brazil larg chemic manufactur facil ignor alcohol drug use ignor effect extrem multigener nutrit defici extrem poverti ignor introduct genet modifi mosquito releas brazil ignor exposur rubella toxoplasmosi cytomegalovirus ignor combin effect factor well multigener modif local gene pool potenti causesi discuss potenti caus microcephali first articl zika publish januari one key point want bring forward previous articl concern number babi born microcephali first heard case microcephali brazil initi shock panic produc learn investig show number confirm case mainstream media also didnt mention number babi born unit state microcephali typic year adjust popul differ us brazil find rate microcephali us actual time higher rate brazilin word us microcephali incid much higher brazil babi didnt get zika mayb babi got various potenti caus discuss previous articlei also state research put name articl employe cdc must question whether analysi truli object whether find influenc cdc tie big pharma zika vaccin pipelin base singl poor qualiti analysi full speed ahead develop zika vaccin least four compani plus cdc work zika vaccin told still take sever year zika vaccin proper test made avail larg quantiti popul worldzika vaccin trial alreadi begun alreadi recruit volunt us us nation institut health hope start phase ii trial vaccin earli congress tri protect babi zika fund cdc settl zikamicrocephali question time get congress fund presid request zika vaccin develop program hous senat pass zika fund bill howev differ idea much money spent fund generat fund process stall end june senat hous could reconcil differ went seven week summer vacat wasnt avail tri resolv differ creat problem zika mind control campaign might mean would new zika news report summer keep propaganda campaign go kill mosquito mainstream media switch focus vaccin develop erad aed aegypti mosquito known carri zika virus infect mosquito bite person person might develop infect fact one disput great mosquito chase cdc continu count number zika case us puerto rico number continu rise spring earli summer look autochthon case zika us could find infect peopl travel zika infect countri sex peopl travel countriesfin end juli peopl wynnewood section miami florida found zika even though travel zika infect countri sex zika infect person health offici state feder level interpret presenc case mean zika must transmit peopl mosquito bite ignor possibl infect peopl might lie exposur exampl sexual contact infect person nevertheless offici conclud must implement strong mosquito control program prevent zika spread furthernow zika epidem us home soil media anoth fear induc stori add propaganda campaign mosquito get babi governor florida goe door door find peopl zika august governor florida contact us public health system ask send special train squad feder public health agent help zika emerg miami agent florida offici went door door wynwood neighborhood miami collect urin sampl identifi addit case case found asymptomat peopl didnt even know infect problem cant find zika infect mosquito mosquito test presenc zika test negat dismiss negat infect result say find zika infect mosquito like find needl haystack aerial mosquito spray program initi governor florida conjunct feder public health agent decid need aerial spray pesticid even though aed aegypti mosquito wouldnt travel feet birth place wynwood neighborhood autochthon zika case locat offici decid spray ten squar mile area safe spray program cover ten squar mile would make sensat stori media would much alarm stori neighborhood aerial spray zone also would expos mani peopl toxic pesticid laterth first aerial spray took place august toxic pesticid use aerial spray caus microcephali offici told public worri pesticid spray nale harmless point epa report support claim didnt mention nale ban europ didnt mention offici puerto rico recent refus allow spray nale citizen didnt mention nale kill mani type insect aquat creatur addit mosquito import offici didnt mention nale chemic creat break environ potenti caus human birth defect could pesticid nale caus microcephali life threaten diseas offici didnt mention pesticid spray dens popul minor neighborhood wynwood particular danger babi wombthi journal pesticid reform say nale like organophosph nale dibrom toxic nervous system symptom exposur includ headach nausea diarrhea nale toxic exposur occur breath contamin air kind exposur laboratori test nale exposur caus increas aggress deterior memori learn nale breakdown product dichlorvo anoth organophosph insecticid interfer prenat brain develop laboratori anim exposur day pregnanc brain grow quick reduc brain size percent dichlorvo also caus cancer accord intern agenc research carcinogen laboratori test caus leukemia pancreat cancer two independ studi shown children expos household nopest strip contain dichlorvo higher incid brain cancer unexpos children emphasi ad nale exposur caus increas aggress deterior memori learn symptom also found children autism spectrumon toxic break product nale dichlorvo chemic caus reduct brain size pregnant lab anim day exposur anoth word reduc brain size microcephalyso pesticid spray could increas rate autism among children spray zone could caus microcephali occur babi pregnant womenquest babi born miami microcephali next nine month autism rate spray zone increas blame zika nale sure one cdc public health agenc ever point finger nale use children prove beyond shadow doubt zika blame nale also harm adult dr naresh kumar professor public health univers miami comment risk use pesticid aerial spray statement came cbs miami neurotoxin mean direct affect nervous system affect pregnant woman also equal children asthma airway diseas spray air aerosol stay air least five day miami herald provid advic peopl pesticid spray zone state agenc epa say insecticid pose risk major peopl sensit chemic may want stay insid spray close window turn window air condition fruit veget also wash eat outdoor furnitur grill cover concern expos chemic spray stay insid day pesticid fall air keep window close turn window air condition wonder mani peopl abl follow advic subtrop urban climat miami augustmind control program alway tri make life difficult live outsid box normal want us follow instruct case would worri spray concern take ridicul suggest wont realli protect spray zika also caus guillainbarr syndrom appar cdc suspect zika caus paralyt syndrom call guillainbarr look data collect form monitor zika us see anoth master stroke mind control make count case guillainbarr syndrom form case zika would cdc tri make connect cdc indic guillainbarr syndrom page sure caus syndrom mention case guillainbarr syndrom associ swine flu vaccin otherwis condit rare unknown etiolog make case zika virus caus guillainbarr syndrom shift attent away fact mani vaccin pesticid harm effect human nervous system abl produc type paralysisi anticip see guillainbarr syndrom research paper like one produc cdc microcephali new paper substitut phrase guillainbarr syndrom word microcephali show statist smoke mirror zika virus causat guillainbarr syndrom well microcephalyif pull zika virus blame case vaccin damag microcephali paralysi result pull suspect pesticid manufactur also abl blame zika virus microcephali neurolog malform paralysi result use product zika virus perfect scapegoat list birth defect blame zika evid increas propaganda campaign alway seek worsen devast effect whatev want us fear first heard zika caus microcephali heard might also caus guillainbarr syndrom hear zika caus whole host birth defect might appear month even year birthth new york time state imag babi microcephali publish tuesday journal radiolog also suggest grim possibl damag seen brain area continu develop birth may babi born without obvious impair experi problem grow imag anoth babi girl show contract hand arm result anoth common symptom zika seem damag nerv develop fetus sometim muscl arent develop normal dont nerv impuls move normal dr levin said vicious unpredict virus key realiz zika microcephali there number abnorm theyv shown paper effect go even broad said dr spong whose agenc begun studi ultim babi born zika epidem area includ brazil puerto rico go essenti follow look develop look abil learn look hear problem balanc problem behavior problem issu make sure dont miss anyon zika new scapegoat childhood diseas tell go seem plan put togeth catalog major injuri result zika infectionit includ injuri result vaccin pesticid gmo food pharmaceut drug highcarbohydr lowfat standard american diet anyth els might lead success lawsuit big pharma big chem zika might becom standard defens suit corpor wasnt product harm littl babi zika conclus anoth govern tool greater good strip away freedom wont long mainstream media show us pictur us babi florida born microcephali mainstream media tug heartstr remind us horror soon becom prevent zika vaccin developedw hear connect zika terribl health condit experienc children told suffer expens avoid mosquito kill everyon receiv zika vaccinemind control program alway talk greater good individu must give individu freedom right even prefer sake collect benefit zika one tool use mind control rule elit move us toward mass vaccin total govern control livesread healthimpactnewscom zika virus properti rockefel foundat feb anonewsco brazil ask whether zika act alon caus birth defect juli naturecom first case zika virus report puerto rico dec cdcgov epidemiolog alert neurolog syndrom congenit malform zika virus infect implic public health america dec pahoorg epidemiolog alert increas microcephali northeast brazil nov pahoorg epidemiolog alert neurolog syndrom congenit malform zika virus infect implic public health america dec pahoorg archiv diseas zika virus infect pahoorg zika virus infect hondura dec whoint zika virus infect panama dec whoint first case zika virus report puerto rico dec cdcgov paho report increas congenit microcephali central nervous system symptom februari pahoorg zika virus spread quick jan youtubecom zika virus miami outbreak spark concern demand test among pregnant women aug miamiheraldcom letter presid zika virus feb whitehousegov zika virus caus birth defect health offici confirm april nytimescom zika virus birth defect review evid causal may nejmorg becam billion zika aug thevaccinereactionorg nih kick phi trial zika vax caseload rise us aug fiercepharmacom zika deal congress like delay recess june nytimescom florida health offici confirm local zika transmiss juli cnncom gov scott florida call cdc activ emerg respons team follow confirm mosquitoborn transmiss aug flgovcom florida mosquito control forc mobil zika threat may khnorg florida confirm first state local transmit zika juli statnewscom zika virus miamidad counti plan spray nale wynwood aug miamiheraldcom spray begin miami combat zika virus aug nytimescom nale mosquito control aug epagov friday flight plan spray zika mosquito aug miamiheraldcom florida spray resid like bug zika chemic iron reduc fetal brain size studi aug activistpostcom free zip code map statist miami fl unitedstateszipcodesorg altern pesticid factsheet nale cloudfrontnet epa insecticid use fight zika safe miamicbslocalcom zika virus miamidad counti plan spray nale wynwood friday aug miamiheraldcom zika guillainbarr syndrom cdcgov ibid  \\\n",
       "index                                                                                                                                                                                                                                                                                                                                                                                                                                                                                                                                                                                                                                                                                                                                                                                                                                                                                                                                                                                                                                                                                                                                                                                                                                                                                                                                                                                                                                                                                                                                                                                                                                                                                                                                                                                                                                                                                                                                                                                                                                                                                                                                                                                                                                                                                                                                                                                                                                                                                                                                                                                                                                                                                                                                                                                                                                                                                                                                                                                                                                                                                                                                                                                                                                                                                                                                                                                                                                                                                                                                                                                                                                                                                                                                                                                                                                                                                                                                                                                                                                                                                                                                                                                                                                                                                                                                                                                                                                                                                                                                                                                                                                                                                                                                                                                                                                                                                                                                                                                                                                                                                                                                                                                                                                                                                                                                                                                                                                                                                                                                                                                                                                                                                                                                                                                                                                                                                                                                                                                                                                                                                                                                                                                                                                                                                                                                                                                                                                                                                                                                                                                                                                                                                                                                                                                                                                                                                                                                                                                                                                                                                                                                                                                                                                                                                                                                                                                                                                                                                                                                                                                                                                                                                                                                                                                                                                                                                                                                                                                                                                                                                                                                                                                                                                                                                                                                                                                                                                                                                                                                                                                                                                                                                                                                                                                                                                                                                                                                                                                                                                                                                                                                                                                                                                                                                                                                                                                                                                                                                                                                                                                                                                                                                                                                                                                                                                                                                                                                                                                                                                                                                                                                                                                                                                                                                                                                                                                                                                                                                                                                                                                                                                                                                                                                                                                                                                                                                                                                                                                                                                                                                                                                                                                                                                                                                                                                                                                                                                                                                                                                                                                                                                                                                                                                                                                                                                                                                                                                                                                                                                                                                                                                                                                                                                                                                                                                                                                                                                                                                                                                                                                                                                                                                                                                                                                                                                                                                                                                                                                                                                                                                                                                                                                                                                                                                                                                                                                                                                                                                                                                                                                                                                                                                                                                                                                                                                                                                                                                                                                                                                                                                                                                                                                                                                                                                                                                                                                                                                                                                                                                                                                                                                                                                                                                                                                                                                                                                                                                                                                                                                                                                                                                                                                                                                                                                                                                                                                                                                                                                                                                                                                                                                                                                                                                                                                                                                                                                                                                                                                                                                                                                                                                                                                                                                                                                                                                                                                                                                                                                                                                                                                                                                                                                                                                                                                                                                                                                                                                                                                                                                                                                                                                                                                                                                                                                                                                                                                                                                                                                                                                                                                                                                                                                                                                                                                                                                                                                                                                                                                                                                                                                                                                                                                                                                                                                                                                                                                                                                                                                                                                                                                                                                                                                                                                                                                                                                                                                                                                                                                                                                                                                                                                                                                                                                                                                                                                                                                                                                                                                                                                                                                                                                                                                                                                                                                                                                                                                                                                                                                                                                                                                                                                                                                                                                                                                                                                                                                                                                                                                                                                                                                 \n",
       "0                                                      0                                                                                                                                                                                                                                                                                                                                                                                                                                                                                                                                                                                                                                                                                                                                                                                                                                                                                                                                                                                                                                                                                                                                                                                                                                                                                                                                                                                                                                                                                                                                                                                                                                                                                                                                                                                                                                                                                                                                                                                                                                                                                                                                                                                                                                                                                                                                                                                                                                                                                                                                                                                                                                                                                                                                                                                                                                                                                                                                                                                                                                                                                                                                                                                                                                                                                                                                                                                                                                                                                                                                                                                                                                                                                                                                                                                                                                                                                                                                                                                                                                                                                                                                                                                                                                                                                                                                                                                                                                                                                                                                                                                                                                                                                                                                                                                                                                                                                                                                                                                                                                                                                                                                                                                                                                                                                                                                                                                                                                                                                                                                                                                                                                                                                                                                                                                                                                                                                                                                                                                                                                                                                                                                                                                                                                                                                                                                                                                                                                                                                                                                                                                                                                                                                                                                                                                                                                                                                                                                                                                                                                                                                                                                                                                                                                                                                                                                                                                                                                                                                                                                                                                                                                                                                                                                                                                                                                                                                                                                                                                                                                                                                                                                                                                                                                                                                                                                                                                                                                                                                                                                                                                                                                                                                                                                                                                                                                                                                                                                                                                                                                                                                                                                                                                                                                                                                                                                                                                                                                                                                                                                                                                                                                                                                                                                                                                                                                                                                                                                                                                                                                                                                                                                                                                                                                                                                                                                                                                                                                                                                                                                                                                                                                                                                                                                                                                                                                                                                                                                                                                                                                                                                                                                                                                                                                                                                                                                                                                                                                                                                                                                                                                                                                                                                                                                                                                                                                                                                                                                                                                                                                                                                                                                                                                                                                                                                                                                                                                                                                                                                                                                                                                                                                                                                                                                                                                                                                                                                                                                                                                                                                                                                                                                                                                                                                                                                                                                                                                                                                                                                                                                                                                                                                                                                                                                                                                                                                                                                                                                                                                                                                                                                                                                                                                                                                                                                                                                                                                                                                                                                                                                                                                                                                                                                                                                                                                                                                                                                                                                                                                                                                                                                                                                                                                                                                                                                                                                                                                                                                                                                                                                                                                                                                                                                                                                                                                                                                                                                                                                                                                                                                                                                                                                                                                                                                                                                                                                                                                                                                                                                                                                                                                                                                                                                                                                                                                                                                                                                                                                                                                                                                                                                                                                                                                                                                                                                                                                                                                                                                                                                                                                                                                                                                                                                                                                                                                                                                                                                                                                                                                                                                                                                                                                                                                                                                                                                                                                                                                                                                                                                                                                                                                                                                                                                                                                                                                                                                                                                                                                                                                                                                                                                                                                                                                                                                                                                                                                                                                                                                                                                                                                                                                                                                                                                                                                                                                                                                                                                                                                                                                                                                                                                                                                                                                                                                                                                                                                                                                                                                                                                                                              \n",
       "1                                                      0                                                                                                                                                                                                                                                                                                                                                                                                                                                                                                                                                                                                                                                                                                                                                                                                                                                                                                                                                                                                                                                                                                                                                                                                                                                                                                                                                                                                                                                                                                                                                                                                                                                                                                                                                                                                                                                                                                                                                                                                                                                                                                                                                                                                                                                                                                                                                                                                                                                                                                                                                                                                                                                                                                                                                                                                                                                                                                                                                                                                                                                                                                                                                                                                                                                                                                                                                                                                                                                                                                                                                                                                                                                                                                                                                                                                                                                                                                                                                                                                                                                                                                                                                                                                                                                                                                                                                                                                                                                                                                                                                                                                                                                                                                                                                                                                                                                                                                                                                                                                                                                                                                                                                                                                                                                                                                                                                                                                                                                                                                                                                                                                                                                                                                                                                                                                                                                                                                                                                                                                                                                                                                                                                                                                                                                                                                                                                                                                                                                                                                                                                                                                                                                                                                                                                                                                                                                                                                                                                                                                                                                                                                                                                                                                                                                                                                                                                                                                                                                                                                                                                                                                                                                                                                                                                                                                                                                                                                                                                                                                                                                                                                                                                                                                                                                                                                                                                                                                                                                                                                                                                                                                                                                                                                                                                                                                                                                                                                                                                                                                                                                                                                                                                                                                                                                                                                                                                                                                                                                                                                                                                                                                                                                                                                                                                                                                                                                                                                                                                                                                                                                                                                                                                                                                                                                                                                                                                                                                                                                                                                                                                                                                                                                                                                                                                                                                                                                                                                                                                                                                                                                                                                                                                                                                                                                                                                                                                                                                                                                                                                                                                                                                                                                                                                                                                                                                                                                                                                                                                                                                                                                                                                                                                                                                                                                                                                                                                                                                                                                                                                                                                                                                                                                                                                                                                                                                                                                                                                                                                                                                                                                                                                                                                                                                                                                                                                                                                                                                                                                                                                                                                                                                                                                                                                                                                                                                                                                                                                                                                                                                                                                                                                                                                                                                                                                                                                                                                                                                                                                                                                                                                                                                                                                                                                                                                                                                                                                                                                                                                                                                                                                                                                                                                                                                                                                                                                                                                                                                                                                                                                                                                                                                                                                                                                                                                                                                                                                                                                                                                                                                                                                                                                                                                                                                                                                                                                                                                                                                                                                                                                                                                                                                                                                                                                                                                                                                                                                                                                                                                                                                                                                                                                                                                                                                                                                                                                                                                                                                                                                                                                                                                                                                                                                                                                                                                                                                                                                                                                                                                                                                                                                                                                                                                                                                                                                                                                                                                                                                                                                                                                                                                                                                                                                                                                                                                                                                                                                                                                                                                                                                                                                                                                                                                                                                                                                                                                                                                                                                                                                                                                                                                                                                                                                                                                                                                                                                                                                                                                                                                                                                                                                                                                                                                                                                                                                                                                                                                                                                                                                                                                                              \n",
       "2                                                      0                                                                                                                                                                                                                                                                                                                                                                                                                                                                                                                                                                                                                                                                                                                                                                                                                                                                                                                                                                                                                                                                                                                                                                                                                                                                                                                                                                                                                                                                                                                                                                                                                                                                                                                                                                                                                                                                                                                                                                                                                                                                                                                                                                                                                                                                                                                                                                                                                                                                                                                                                                                                                                                                                                                                                                                                                                                                                                                                                                                                                                                                                                                                                                                                                                                                                                                                                                                                                                                                                                                                                                                                                                                                                                                                                                                                                                                                                                                                                                                                                                                                                                                                                                                                                                                                                                                                                                                                                                                                                                                                                                                                                                                                                                                                                                                                                                                                                                                                                                                                                                                                                                                                                                                                                                                                                                                                                                                                                                                                                                                                                                                                                                                                                                                                                                                                                                                                                                                                                                                                                                                                                                                                                                                                                                                                                                                                                                                                                                                                                                                                                                                                                                                                                                                                                                                                                                                                                                                                                                                                                                                                                                                                                                                                                                                                                                                                                                                                                                                                                                                                                                                                                                                                                                                                                                                                                                                                                                                                                                                                                                                                                                                                                                                                                                                                                                                                                                                                                                                                                                                                                                                                                                                                                                                                                                                                                                                                                                                                                                                                                                                                                                                                                                                                                                                                                                                                                                                                                                                                                                                                                                                                                                                                                                                                                                                                                                                                                                                                                                                                                                                                                                                                                                                                                                                                                                                                                                                                                                                                                                                                                                                                                                                                                                                                                                                                                                                                                                                                                                                                                                                                                                                                                                                                                                                                                                                                                                                                                                                                                                                                                                                                                                                                                                                                                                                                                                                                                                                                                                                                                                                                                                                                                                                                                                                                                                                                                                                                                                                                                                                                                                                                                                                                                                                                                                                                                                                                                                                                                                                                                                                                                                                                                                                                                                                                                                                                                                                                                                                                                                                                                                                                                                                                                                                                                                                                                                                                                                                                                                                                                                                                                                                                                                                                                                                                                                                                                                                                                                                                                                                                                                                                                                                                                                                                                                                                                                                                                                                                                                                                                                                                                                                                                                                                                                                                                                                                                                                                                                                                                                                                                                                                                                                                                                                                                                                                                                                                                                                                                                                                                                                                                                                                                                                                                                                                                                                                                                                                                                                                                                                                                                                                                                                                                                                                                                                                                                                                                                                                                                                                                                                                                                                                                                                                                                                                                                                                                                                                                                                                                                                                                                                                                                                                                                                                                                                                                                                                                                                                                                                                                                                                                                                                                                                                                                                                                                                                                                                                                                                                                                                                                                                                                                                                                                                                                                                                                                                                                                                                                                                                                                                                                                                                                                                                                                                                                                                                                                                                                                                                                                                                                                                                                                                                                                                                                                                                                                                                                                                                                                                                                                                                                                                                                                                                                                                                                                                                                                                                                                                                                                                              \n",
       "3                                                      0                                                                                                                                                                                                                                                                                                                                                                                                                                                                                                                                                                                                                                                                                                                                                                                                                                                                                                                                                                                                                                                                                                                                                                                                                                                                                                                                                                                                                                                                                                                                                                                                                                                                                                                                                                                                                                                                                                                                                                                                                                                                                                                                                                                                                                                                                                                                                                                                                                                                                                                                                                                                                                                                                                                                                                                                                                                                                                                                                                                                                                                                                                                                                                                                                                                                                                                                                                                                                                                                                                                                                                                                                                                                                                                                                                                                                                                                                                                                                                                                                                                                                                                                                                                                                                                                                                                                                                                                                                                                                                                                                                                                                                                                                                                                                                                                                                                                                                                                                                                                                                                                                                                                                                                                                                                                                                                                                                                                                                                                                                                                                                                                                                                                                                                                                                                                                                                                                                                                                                                                                                                                                                                                                                                                                                                                                                                                                                                                                                                                                                                                                                                                                                                                                                                                                                                                                                                                                                                                                                                                                                                                                                                                                                                                                                                                                                                                                                                                                                                                                                                                                                                                                                                                                                                                                                                                                                                                                                                                                                                                                                                                                                                                                                                                                                                                                                                                                                                                                                                                                                                                                                                                                                                                                                                                                                                                                                                                                                                                                                                                                                                                                                                                                                                                                                                                                                                                                                                                                                                                                                                                                                                                                                                                                                                                                                                                                                                                                                                                                                                                                                                                                                                                                                                                                                                                                                                                                                                                                                                                                                                                                                                                                                                                                                                                                                                                                                                                                                                                                                                                                                                                                                                                                                                                                                                                                                                                                                                                                                                                                                                                                                                                                                                                                                                                                                                                                                                                                                                                                                                                                                                                                                                                                                                                                                                                                                                                                                                                                                                                                                                                                                                                                                                                                                                                                                                                                                                                                                                                                                                                                                                                                                                                                                                                                                                                                                                                                                                                                                                                                                                                                                                                                                                                                                                                                                                                                                                                                                                                                                                                                                                                                                                                                                                                                                                                                                                                                                                                                                                                                                                                                                                                                                                                                                                                                                                                                                                                                                                                                                                                                                                                                                                                                                                                                                                                                                                                                                                                                                                                                                                                                                                                                                                                                                                                                                                                                                                                                                                                                                                                                                                                                                                                                                                                                                                                                                                                                                                                                                                                                                                                                                                                                                                                                                                                                                                                                                                                                                                                                                                                                                                                                                                                                                                                                                                                                                                                                                                                                                                                                                                                                                                                                                                                                                                                                                                                                                                                                                                                                                                                                                                                                                                                                                                                                                                                                                                                                                                                                                                                                                                                                                                                                                                                                                                                                                                                                                                                                                                                                                                                                                                                                                                                                                                                                                                                                                                                                                                                                                                                                                                                                                                                                                                                                                                                                                                                                                                                                                                                                                                                                                                                                                                                                                                                                                                                                                                                                                                                                                                                                                                              \n",
       "4                                                      0                                                                                                                                                                                                                                                                                                                                                                                                                                                                                                                                                                                                                                                                                                                                                                                                                                                                                                                                                                                                                                                                                                                                                                                                                                                                                                                                                                                                                                                                                                                                                                                                                                                                                                                                                                                                                                                                                                                                                                                                                                                                                                                                                                                                                                                                                                                                                                                                                                                                                                                                                                                                                                                                                                                                                                                                                                                                                                                                                                                                                                                                                                                                                                                                                                                                                                                                                                                                                                                                                                                                                                                                                                                                                                                                                                                                                                                                                                                                                                                                                                                                                                                                                                                                                                                                                                                                                                                                                                                                                                                                                                                                                                                                                                                                                                                                                                                                                                                                                                                                                                                                                                                                                                                                                                                                                                                                                                                                                                                                                                                                                                                                                                                                                                                                                                                                                                                                                                                                                                                                                                                                                                                                                                                                                                                                                                                                                                                                                                                                                                                                                                                                                                                                                                                                                                                                                                                                                                                                                                                                                                                                                                                                                                                                                                                                                                                                                                                                                                                                                                                                                                                                                                                                                                                                                                                                                                                                                                                                                                                                                                                                                                                                                                                                                                                                                                                                                                                                                                                                                                                                                                                                                                                                                                                                                                                                                                                                                                                                                                                                                                                                                                                                                                                                                                                                                                                                                                                                                                                                                                                                                                                                                                                                                                                                                                                                                                                                                                                                                                                                                                                                                                                                                                                                                                                                                                                                                                                                                                                                                                                                                                                                                                                                                                                                                                                                                                                                                                                                                                                                                                                                                                                                                                                                                                                                                                                                                                                                                                                                                                                                                                                                                                                                                                                                                                                                                                                                                                                                                                                                                                                                                                                                                                                                                                                                                                                                                                                                                                                                                                                                                                                                                                                                                                                                                                                                                                                                                                                                                                                                                                                                                                                                                                                                                                                                                                                                                                                                                                                                                                                                                                                                                                                                                                                                                                                                                                                                                                                                                                                                                                                                                                                                                                                                                                                                                                                                                                                                                                                                                                                                                                                                                                                                                                                                                                                                                                                                                                                                                                                                                                                                                                                                                                                                                                                                                                                                                                                                                                                                                                                                                                                                                                                                                                                                                                                                                                                                                                                                                                                                                                                                                                                                                                                                                                                                                                                                                                                                                                                                                                                                                                                                                                                                                                                                                                                                                                                                                                                                                                                                                                                                                                                                                                                                                                                                                                                                                                                                                                                                                                                                                                                                                                                                                                                                                                                                                                                                                                                                                                                                                                                                                                                                                                                                                                                                                                                                                                                                                                                                                                                                                                                                                                                                                                                                                                                                                                                                                                                                                                                                                                                                                                                                                                                                                                                                                                                                                                                                                                                                                                                                                                                                                                                                                                                                                                                                                                                                                                                                                                                                                                                                                                                                                                                                                                                                                                                                                                                                                                                                                                                              \n",
       "\n",
       "       text_zimbabw daili oct lord peter mandelson warn uk govern endgam underway zimbabw give two exampl crisi play mr mandelson chair lazard intern invest bank told british civil servant zimbabwean dictat prepar endgam countri suggest believ close death bed one creator new labour toni blair mr mandelson visit countri februari busi civil purpos claim howev later becam embroil lobbi row mr mugab financ minist patrick chinamasa flew london discuss bailout plan countri mr mugab regim appar attempt borrow billion facilit peer bank reveal mr mandelson sent letter uk govern give advic approach diplomat relat countri warn countri need encourag debt restructur inject addit liquid month met zimbabwean govern minist discuss bail letter parliamentari secretari state foreign offic mr mandelson also discuss countri corrupt wrote immedi danger suppli cash dollar dri danger bank failur liquid crisi consequ impact function whole economi mr mandelson issu statement british newspap august trip deni advis zimbabwean govern spokesman said meet repres busi communiti civil societi encourag continu process reform howev reveal decid inform uk civil servant believ mr mugab point endgam underway partial redact freedom inform request highlight mr mandelson met clear point polit faction wrote discuss busi inde aspect life inevit discuss polit intens specul manoeuvr success presid mugab domin arm polic surround protest harar zimbabw monday juli click enlarg clear endgam underway battl vocifer play zimbabwean press less clear end prevail whether play presid still aliv mr mugab recent appear public open school follow rumour death maintain retain grip countri die mr mugab strip british knighthood despit opposit mr mandelson labour colleagu gordon brown lord malloch brown foreign offic minist mr mandelson appear warn british govern crisi threaten unfold soon hint intern communiti must establish right incent reform mugab africa oldest leader led former british coloni sinc independ critic say presid destruct oncepromis countri polici seizur whiteown farm mugab rule zimbabw african nation unionpatriot front parti blame foreign power sabotag economi sanction mugab govern experienc increas bad cash shortag past seven year sinc abandon currenc bid end hyperinfl zimbabwean dollar abandon mugab order zimbabwean dollar note print quick becom worthless black market us dollar take becom southern african countri offici currenc much zimbabw industri compani close due demand whiteown busi hand per cent black zimbabwean high tax labour law make almost imposs sack anybodi mr mugab rule high controversi evict white farmer meant near everi supermarket product import unlik year ago produc local sourc protest mar dictat leadership year worker across countri take part shut strike juli biggest protest sinc april opposit leader morgan tsvangirai led antimugab demonstr  \\\n",
       "index                                                                                                                                                                                                                                                                                                                                                                                                                                                                                                                                                                                                                                                                                                                                                                                                                                                                                                                                                                                                                                                                                                                                                                                                                                                                                                                                                                                                                                                                                                                                                                                                                                                                                                                                                                                                                                                                                                                                                                                                                                                                                                                                                                                                                                                                                                                                                                                                                                                                                                                                                                                                                                                                                                                                                                                                                                                                                                                                                                               \n",
       "0                                                      0                                                                                                                                                                                                                                                                                                                                                                                                                                                                                                                                                                                                                                                                                                                                                                                                                                                                                                                                                                                                                                                                                                                                                                                                                                                                                                                                                                                                                                                                                                                                                                                                                                                                                                                                                                                                                                                                                                                                                                                                                                                                                                                                                                                                                                                                                                                                                                                                                                                                                                                                                                                                                                                                                                                                                                                                                                                                                                                            \n",
       "1                                                      0                                                                                                                                                                                                                                                                                                                                                                                                                                                                                                                                                                                                                                                                                                                                                                                                                                                                                                                                                                                                                                                                                                                                                                                                                                                                                                                                                                                                                                                                                                                                                                                                                                                                                                                                                                                                                                                                                                                                                                                                                                                                                                                                                                                                                                                                                                                                                                                                                                                                                                                                                                                                                                                                                                                                                                                                                                                                                                                            \n",
       "2                                                      0                                                                                                                                                                                                                                                                                                                                                                                                                                                                                                                                                                                                                                                                                                                                                                                                                                                                                                                                                                                                                                                                                                                                                                                                                                                                                                                                                                                                                                                                                                                                                                                                                                                                                                                                                                                                                                                                                                                                                                                                                                                                                                                                                                                                                                                                                                                                                                                                                                                                                                                                                                                                                                                                                                                                                                                                                                                                                                                            \n",
       "3                                                      0                                                                                                                                                                                                                                                                                                                                                                                                                                                                                                                                                                                                                                                                                                                                                                                                                                                                                                                                                                                                                                                                                                                                                                                                                                                                                                                                                                                                                                                                                                                                                                                                                                                                                                                                                                                                                                                                                                                                                                                                                                                                                                                                                                                                                                                                                                                                                                                                                                                                                                                                                                                                                                                                                                                                                                                                                                                                                                                            \n",
       "4                                                      0                                                                                                                                                                                                                                                                                                                                                                                                                                                                                                                                                                                                                                                                                                                                                                                                                                                                                                                                                                                                                                                                                                                                                                                                                                                                                                                                                                                                                                                                                                                                                                                                                                                                                                                                                                                                                                                                                                                                                                                                                                                                                                                                                                                                                                                                                                                                                                                                                                                                                                                                                                                                                                                                                                                                                                                                                                                                                                                            \n",
       "\n",
       "       text_главная news googl appoint vicepresid googl appoint vicepresid tuesday novemb israel meir brand becom new vice presid googl corpor sundar pichai chief execut offic ceo googl inc report inform brand first googl israel employe appoint ceo googl israel time meir brand continu rule israel middl east africa russia turkey greec background latest wikileak data rig custom queri googl yahoo favor clinton assist provid corpor democrat parti headquart also financ isra billionair appoint meir brand mean strengthen israel role inform space despit fact googl apolog chang map palestin exampl mark autonomi one serbian monasteri visoki dečani tel aviv known use activ possibl censorship internet recent chang like aim activ inform attack includ strateg import area meir brand familiar russia turkey middl eastern countri relat link  \\\n",
       "index                                                                                                                                                                                                                                                                                                                                                                                                                                                                                                                                                                                                                                                                                                                                                                                                                                                                \n",
       "0                                                      0                                                                                                                                                                                                                                                                                                                                                                                                                                                                                                                                                                                                                                                                                                                                                                                                             \n",
       "1                                                      0                                                                                                                                                                                                                                                                                                                                                                                                                                                                                                                                                                                                                                                                                                                                                                                                             \n",
       "2                                                      0                                                                                                                                                                                                                                                                                                                                                                                                                                                                                                                                                                                                                                                                                                                                                                                                             \n",
       "3                                                      0                                                                                                                                                                                                                                                                                                                                                                                                                                                                                                                                                                                                                                                                                                                                                                                                             \n",
       "4                                                      0                                                                                                                                                                                                                                                                                                                                                                                                                                                                                                                                                                                                                                                                                                                                                                                                             \n",
       "\n",
       "       label_fake  label_real  \n",
       "index                          \n",
       "0               0           1  \n",
       "1               0           1  \n",
       "2               0           1  \n",
       "3               0           1  \n",
       "4               0           1  \n",
       "\n",
       "[5 rows x 12258 columns]"
      ]
     },
     "execution_count": 43,
     "metadata": {},
     "output_type": "execute_result"
    }
   ],
   "source": [
    "df_a.head()"
   ]
  },
  {
   "cell_type": "code",
   "execution_count": null,
   "metadata": {},
   "outputs": [],
   "source": []
  },
  {
   "cell_type": "code",
   "execution_count": 41,
   "metadata": {},
   "outputs": [
    {
     "ename": "SyntaxError",
     "evalue": "invalid syntax (<ipython-input-41-16fa96ab1083>, line 1)",
     "output_type": "error",
     "traceback": [
      "\u001b[1;36m  File \u001b[1;32m\"<ipython-input-41-16fa96ab1083>\"\u001b[1;36m, line \u001b[1;32m1\u001b[0m\n\u001b[1;33m    https://www.sv-europe.com/crisp-dm-methodology/\u001b[0m\n\u001b[1;37m           ^\u001b[0m\n\u001b[1;31mSyntaxError\u001b[0m\u001b[1;31m:\u001b[0m invalid syntax\n"
     ]
    }
   ],
   "source": [
    "https://www.sv-europe.com/crisp-dm-methodology/\n",
    "https://www.kaggle.com/aidenloe/data-understanding-using-python\n",
    "https://towardsdatascience.com/exploratory-data-analysis-in-python-c9a77dfa39ce\n",
    "https://towardsdatascience.com/exploratory-data-analysis-tutorial-in-python-15602b417445\n",
    "https://www.learndatasci.com/tutorials/python-pandas-tutorial-complete-introduction-for-beginners/\n"
   ]
  }
 ],
 "metadata": {
  "kernelspec": {
   "display_name": "Python 3",
   "language": "python",
   "name": "python3"
  },
  "language_info": {
   "codemirror_mode": {
    "name": "ipython",
    "version": 3
   },
   "file_extension": ".py",
   "mimetype": "text/x-python",
   "name": "python",
   "nbconvert_exporter": "python",
   "pygments_lexer": "ipython3",
   "version": "3.7.3"
  }
 },
 "nbformat": 4,
 "nbformat_minor": 2
}
