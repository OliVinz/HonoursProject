{
 "cells": [
  {
   "cell_type": "markdown",
   "metadata": {},
   "source": [
    "#                                         Honours Project - Fake News Detection"
   ]
  },
  {
   "cell_type": "markdown",
   "metadata": {},
   "source": [
    "\n"
   ]
  },
  {
   "cell_type": "code",
   "execution_count": 1,
   "metadata": {},
   "outputs": [
    {
     "data": {
      "text/plain": [
       "'\\nCode to add/ commit/ push repository to github from cmd\\ngit code:\\ngit add .\\ngit commit -m \"First commit\"\\ngit push origin master\\n'"
      ]
     },
     "execution_count": 1,
     "metadata": {},
     "output_type": "execute_result"
    }
   ],
   "source": [
    "\"\"\"\n",
    "Code to add/ commit/ push repository to github from cmd\n",
    "git code:\n",
    "git add .\n",
    "git commit -m \"First commit\"\n",
    "git push origin master\n",
    "\"\"\""
   ]
  },
  {
   "cell_type": "markdown",
   "metadata": {},
   "source": [
    "This project will be using the approach of CRISP-DM (Cross-industry standard process for data mining), which is a widely used process for knowledge discovery in data sets. \n",
    "The process encompasses several phases:\n",
    "\n",
    "    1. Business Understanding\n",
    "    2. Data Understanding\n",
    "    3. Data Preparation\n",
    "    4. Modeling\n",
    "    5. Evaluation\n",
    "    6. Deployment"
   ]
  },
  {
   "cell_type": "markdown",
   "metadata": {},
   "source": [
    "## Step 1 - Business Understanding"
   ]
  },
  {
   "cell_type": "markdown",
   "metadata": {},
   "source": [
    "Goals/ Objectives:\n",
    "1. sucessfully create a piece of software that is able to identify fake news\n",
    "2. model's accuracy to be around the same or better than others\n",
    "3. model to help answering the author's research questions\n",
    "\n",
    "Success Criteria:\n",
    "1. Is the software able to identify fake news with a high accuracy, precision, recall?\n",
    "2. Is the software more effective in identifying fake news than humans?\n",
    "3. No errors, bugs etc in the code"
   ]
  },
  {
   "cell_type": "markdown",
   "metadata": {},
   "source": [
    "## Step 2 - Data Understanding"
   ]
  },
  {
   "cell_type": "markdown",
   "metadata": {},
   "source": [
    "### 2 a) - Importing Libraries"
   ]
  },
  {
   "cell_type": "code",
   "execution_count": 2,
   "metadata": {},
   "outputs": [
    {
     "name": "stderr",
     "output_type": "stream",
     "text": [
      "[nltk_data] Downloading package stopwords to C:\\Users\\Oliver\n",
      "[nltk_data]     Vinzelberg\\AppData\\Roaming\\nltk_data...\n",
      "[nltk_data]   Package stopwords is already up-to-date!\n",
      "[nltk_data] Downloading package punkt to C:\\Users\\Oliver\n",
      "[nltk_data]     Vinzelberg\\AppData\\Roaming\\nltk_data...\n",
      "[nltk_data]   Package punkt is already up-to-date!\n",
      "[nltk_data] Downloading package wordnet to C:\\Users\\Oliver\n",
      "[nltk_data]     Vinzelberg\\AppData\\Roaming\\nltk_data...\n",
      "[nltk_data]   Package wordnet is already up-to-date!\n"
     ]
    },
    {
     "data": {
      "text/plain": [
       "True"
      ]
     },
     "execution_count": 2,
     "metadata": {},
     "output_type": "execute_result"
    }
   ],
   "source": [
    "#PREREQUISITES\n",
    "#   -Anaconda (version Python 3.7) -> for jupyter notebook\n",
    "#    see https://www.anaconda.com/distribution/\n",
    "########################################################\n",
    "\n",
    "import nltk\n",
    "nltk.download('stopwords')\n",
    "nltk.download('punkt')\n",
    "nltk.download('wordnet')"
   ]
  },
  {
   "cell_type": "code",
   "execution_count": 3,
   "metadata": {},
   "outputs": [
    {
     "name": "stderr",
     "output_type": "stream",
     "text": [
      "D:\\Anaconda\\lib\\site-packages\\statsmodels\\tools\\_testing.py:19: FutureWarning: pandas.util.testing is deprecated. Use the functions in the public API at pandas.testing instead.\n",
      "  import pandas.util.testing as tm\n"
     ]
    }
   ],
   "source": [
    "import pandas as pd\n",
    "import numpy as np\n",
    "import nltk\n",
    "import sklearn\n",
    "import string\n",
    "import time\n",
    "import seaborn as sns\n",
    "import matplotlib.pyplot as plt\n",
    "from sklearn.model_selection import train_test_split"
   ]
  },
  {
   "cell_type": "markdown",
   "metadata": {},
   "source": [
    "### 2 b) - Loading the Data Set"
   ]
  },
  {
   "cell_type": "code",
   "execution_count": 4,
   "metadata": {},
   "outputs": [
    {
     "data": {
      "text/html": [
       "<div>\n",
       "<style scoped>\n",
       "    .dataframe tbody tr th:only-of-type {\n",
       "        vertical-align: middle;\n",
       "    }\n",
       "\n",
       "    .dataframe tbody tr th {\n",
       "        vertical-align: top;\n",
       "    }\n",
       "\n",
       "    .dataframe thead th {\n",
       "        text-align: right;\n",
       "    }\n",
       "</style>\n",
       "<table border=\"1\" class=\"dataframe\">\n",
       "  <thead>\n",
       "    <tr style=\"text-align: right;\">\n",
       "      <th></th>\n",
       "      <th>Unnamed: 0</th>\n",
       "      <th>title</th>\n",
       "      <th>text</th>\n",
       "      <th>label</th>\n",
       "    </tr>\n",
       "  </thead>\n",
       "  <tbody>\n",
       "    <tr>\n",
       "      <th>0</th>\n",
       "      <td>8476</td>\n",
       "      <td>You Can Smell Hillary’s Fear</td>\n",
       "      <td>Daniel Greenfield, a Shillman Journalism Fello...</td>\n",
       "      <td>FAKE</td>\n",
       "    </tr>\n",
       "    <tr>\n",
       "      <th>1</th>\n",
       "      <td>10294</td>\n",
       "      <td>Watch The Exact Moment Paul Ryan Committed Pol...</td>\n",
       "      <td>Google Pinterest Digg Linkedin Reddit Stumbleu...</td>\n",
       "      <td>FAKE</td>\n",
       "    </tr>\n",
       "    <tr>\n",
       "      <th>2</th>\n",
       "      <td>3608</td>\n",
       "      <td>Kerry to go to Paris in gesture of sympathy</td>\n",
       "      <td>U.S. Secretary of State John F. Kerry said Mon...</td>\n",
       "      <td>REAL</td>\n",
       "    </tr>\n",
       "    <tr>\n",
       "      <th>3</th>\n",
       "      <td>10142</td>\n",
       "      <td>Bernie supporters on Twitter erupt in anger ag...</td>\n",
       "      <td>— Kaydee King (@KaydeeKing) November 9, 2016 T...</td>\n",
       "      <td>FAKE</td>\n",
       "    </tr>\n",
       "    <tr>\n",
       "      <th>4</th>\n",
       "      <td>875</td>\n",
       "      <td>The Battle of New York: Why This Primary Matters</td>\n",
       "      <td>It's primary day in New York and front-runners...</td>\n",
       "      <td>REAL</td>\n",
       "    </tr>\n",
       "  </tbody>\n",
       "</table>\n",
       "</div>"
      ],
      "text/plain": [
       "   Unnamed: 0                                              title  \\\n",
       "0        8476                       You Can Smell Hillary’s Fear   \n",
       "1       10294  Watch The Exact Moment Paul Ryan Committed Pol...   \n",
       "2        3608        Kerry to go to Paris in gesture of sympathy   \n",
       "3       10142  Bernie supporters on Twitter erupt in anger ag...   \n",
       "4         875   The Battle of New York: Why This Primary Matters   \n",
       "\n",
       "                                                text label  \n",
       "0  Daniel Greenfield, a Shillman Journalism Fello...  FAKE  \n",
       "1  Google Pinterest Digg Linkedin Reddit Stumbleu...  FAKE  \n",
       "2  U.S. Secretary of State John F. Kerry said Mon...  REAL  \n",
       "3  — Kaydee King (@KaydeeKing) November 9, 2016 T...  FAKE  \n",
       "4  It's primary day in New York and front-runners...  REAL  "
      ]
     },
     "execution_count": 4,
     "metadata": {},
     "output_type": "execute_result"
    }
   ],
   "source": [
    "df = pd.read_csv(\"data/FakeNews-(balanced)/fake_or_real_news.csv\", encoding=\"utf-8\")\n",
    "df.head()"
   ]
  },
  {
   "cell_type": "code",
   "execution_count": 5,
   "metadata": {},
   "outputs": [
    {
     "data": {
      "text/plain": [
       "'Shocking! Michele Obama & Hillary Caught Glamorizing Date Rape Promoters'"
      ]
     },
     "execution_count": 5,
     "metadata": {},
     "output_type": "execute_result"
    }
   ],
   "source": [
    "#title of the article below\n",
    "df.iloc[16,1]"
   ]
  },
  {
   "cell_type": "code",
   "execution_count": 6,
   "metadata": {},
   "outputs": [
    {
     "data": {
      "text/plain": [
       "'Shocking! Michele Obama & Hillary Caught Glamorizing Date Rape Promoters First lady claims moral high ground while befriending rape-glorifying rappers Infowars.com - October 27, 2016 Comments \\nAlex Jones breaks down the complete hypocrisy of Michele Obama and Hillary Clinton attacking Trump for comments he made over a decade ago while The White House is hosting and promoting rappers who boast about date raping women and selling drugs in their music. \\nRappers who have been welcomed to the White House by the Obama’s include “Rick Ross,” who promotes drugging and raping woman in his song “U.O.N.E.O.” \\nWhile attacking Trump as a sexual predator, Michelle and Hillary have further mainstreamed the degradation of women through their support of so-called musicians who attempt to normalize rape. NEWSLETTER SIGN UP Get the latest breaking news & specials from Alex Jones and the Infowars Crew. Related Articles'"
      ]
     },
     "execution_count": 6,
     "metadata": {},
     "output_type": "execute_result"
    }
   ],
   "source": [
    "#preview of a FAKE article\n",
    "df.iloc[16,2]"
   ]
  },
  {
   "cell_type": "code",
   "execution_count": 7,
   "metadata": {},
   "outputs": [
    {
     "data": {
      "text/plain": [
       "\"Fact check: Trump and Clinton at the 'commander-in-chief' forum\""
      ]
     },
     "execution_count": 7,
     "metadata": {},
     "output_type": "execute_result"
    }
   ],
   "source": [
    "#title of the article below\n",
    "df.iloc[8,1]"
   ]
  },
  {
   "cell_type": "code",
   "execution_count": 8,
   "metadata": {},
   "outputs": [
    {
     "data": {
      "text/plain": [
       "'Hillary Clinton and Donald Trump made some inaccurate claims during an NBC “commander-in-chief” forum on military and veterans issues:\\n\\n• Clinton wrongly claimed Trump supported the war in Iraq after it started, while Trump was wrong, once again, in saying he was against the war before it started.\\n\\n•\\xa0Trump said that President Obama set a “certain date” for withdrawing troops from Iraq, when that date was set before Obama was sworn in.\\n\\n•\\xa0Trump said that Obama’s visits to China, Saudi Arabia and Cuba were “the first time in the history, the storied history of Air Force One” when “high officials” of a host country did not appear to greet the president. Not true.\\n\\n•\\xa0Clinton said that Trump supports privatizing the Veterans Health Administration. That’s false. Trump said he supports allowing veterans to seek care at either public or private hospitals.\\n\\n•\\xa0Trump said Clinton made “a terrible mistake on Libya” when she was secretary of State. But, at the time, Trump also supported U.S. action that led to the removal of Moammar Gadhafi from power.\\n\\n•\\xa0Trump cherry-picked Clinton’s words when he claimed Clinton said “vets are being treated, essentially, just fine.” Clinton had said the problems in the Department of Veterans Affairs were not as “widespread” as some Republicans claimed, but she went on to acknowledge problems, including the issue of wait times for doctors.\\n\\nThe forum, sponsored by NBC News and the Iraq and Afghanistan Veterans of America, was held Sept. 7 at the Intrepid Sea, Air & Space Museum in New York City. Today\\xa0show host Matt Lauer, and members of the military and veterans in the audience, questioned the candidates separately.\\n\\nTrump said he “was totally against the war in Iraq,” while Clinton claimed that he supported the Iraq War before and after it started. The facts don’t support either candidate’s strong assertions.\\n\\nOur review of Trump’s statements before and after the Iraq War started found no evidence that Trump opposed the war before it started. In fact, he expressed mild support for invading Iraq when asked about it on the Howard Stern radio show on Sept. 11, 2002 — about six months before the war started.\\n\\nStern asked Trump if he supported a war with Iraq, and Trump responded, “Yeah, I guess so.”\\n\\nIn the NBC commander in chief forum, Trump cited an Esquire article that appeared in August 2004 to show his opposition to the war. But that article appeared 17 months after the war started.\\n\\nAs for Clinton, who as a senator voted in October 2002 to authorize the war in Iraq, the Democratic nominee claimed that Trump “supported it before it happened, he supported it as it was happening and he is on record as supporting it after it happened.”\\n\\nBut just as there is no evidence that Trump opposed the Iraq War before it started, the Clinton campaign offered no evidence that Trump supported the war “after it happened.”\\n\\nThe Clinton campaign cited Trump’s interview on March 21, 2003, with Neil Cavuto of Fox Business just two days after the war started.\\n\\nCavuto asked Trump about the impact of the war on the stock market. Trump said the war “looks like a tremendous success from a military standpoint,” and he predicted the market will “go up like a rocket” after the war. But Cavuto does not ask Trump whether the U.S. should have gone to war with Iraq or whether he supports the war, and Trump doesn’t offer an opinion.\\n\\nAs early as July 2003, Trump expressed concern on Hardball with Chris Matthews\\xa0about money being spent in Iraq rather than in the U.S. Two months later, Trump told MSNBC’s Joe Scarborough, “I guess maybe if I had to do it, I would have fought terrorism but not necessarily Iraq.”\\n\\nClinton invited her audience to read Trump’s comments on the Iraq War. They can read our timeline, “Donald Trump and the Iraq War.”\\n\\nTrump said President Obama set a “certain date” for withdrawing troops from Iraq, but that date was actually set by President George W. Bush.\\n\\nNBC’s Matt Lauer asked Trump about his tendency to respond, when pushed for details on his military proposals, that he’s not going to give details because he wants to be “unpredictable.” Trump responded, “Absolutely,” and went on to criticize Obama for revealing the withdrawal date.\\n\\nAs we said then, Republicans and Democrats disagree on whether Obama or Bush is to blame for withdrawing all combat troops from Iraq at the end of 2011. But that date was set when Bush signed the Status of Forces Agreement on Dec. 14, 2008. It said: “All the United States Forces shall withdraw from all Iraqi territory no later than December 31, 2011.”\\n\\nIn the NBC forum, Trump also called the withdrawal of troops “a terrible decision.” As we’ve explained before, Condoleezza Rice, Bush’s secretary of State, later wrote that Bush wanted an agreement for a residual force to remain, but Iraqi Prime Minister Nouri al-Maliki objected.\\n\\nOnce Obama took office in January 2009, he had three years to renegotiate the deal, which his administration tried to do, to leave a residual American troop force. But Maliki still didn’t agree. Negotiations broke down in October 2011 over the issue of whether U.S. troops would be shielded from criminal prosecution by Iraqi authorities. Whether Obama did enough is a matter of opinion: His then defense secretary, Leon Panetta, later wrote that the president didn’t press hard enough for a deal. But some experts say Iraq was more closely aligned at the time with Iran and there wasn’t a deal to be made with Maliki.\\n\\nSo, both presidents had a role in the withdrawal of troops. But Trump wrongly said that Obama was the one who set a “certain date” for withdrawal and let U.S. enemies know about it, when that date was set before Obama was sworn in.\\n\\nIt’s worth noting that Trump said in a March 16, 2007, interview on CNN that the troops should be withdrawn quickly from Iraq.\\n\\nTrump said that Obama’s visits to China, Saudi Arabia and Cuba were “the first time in the history, the storied history of Air Force One” when “high officials” of a host country did not appear to greet the president.\\n\\nThat’s not true. Other presidents have encountered similar low-key greetings on foreign trips aboard the presidential aircraft.\\n\\nTrump referred to the fact that Cuba’s president, Raul Castro, did not greet Obama at the airport on his historic visit to Cuba in March, that Saudi Arabia’s King Salman did not meet Air Force One at the start of Obama’s trip to Riyadh in April, and he referred to China’s handling of the president’s arrival in Hangzhou last Saturday for a Group of 20 meeting.\\n\\nWhether or not those arrivals constituted snubs of a U.S. president as Trump claims is a matter of debate. But Trump is wrong on the facts when he claims it has not happened before. It has.\\n\\nIn 1984, for example, Ronald Reagan landed in Beijing and was received by China’s foreign minister rather than the president, whom he met only later. Similarly, on a 1985 trip to West Germany, Reagan was met by the foreign minister and not Chancellor Helmut Kohl.\\n\\nThese and other examples were dug up by our friend Glenn Kessler, the Washington Post‘s “Fact Checker,” who researched a Trump claim in April that Cuba’s and Saudi Arabia’s handling of Obama’s visits were “without precedent.” Kessler said of Trump, “once again he’s wrong, wrong, wrong.”\\n\\nKessler also noted that during Richard Nixon’s historic 1972 visit to China he was greeted at the airport by the country’s number two man, Premier Zhou Enlai. His boss, Chairman Mao, didn’t even agree to meet with Nixon until after he had arrived at a guest house.\\n\\nClinton said that her plan to overhaul the Veterans Health Administration would not include privatization, which she said Trump supports.\\n\\nBut Trump refuted that statement when it was his turn to discuss his plan to help veterans. “I would not do that,” Trump said, referring to Clinton’s claim that he supports privatization.\\n\\nTrump’s campaign published “The Goals Of Donald J. Trump’s Veterans Plan” on its website last October. It doesn’t call for the VA to be completely privatized.\\n\\nOne of the biggest changes that plan would make to the current VA health care system is allowing veterans to get care at any non-VA medical center that accepts Medicare.\\n\\n“Under a Trump Administration, all veterans eligible for VA health care can bring their veteran’s ID card to any doctor or care facility that accepts Medicare to get the care they need immediately,” the plan states.\\n\\n“The power to choose will stop the wait time backlogs and force the VA to improve and compete if the department wants to keep receiving veterans’ healthcare dollars,” the plan says.\\n\\nTrump’s proposal would seemingly go further than the Non-VA Medical Care Program, which allows eligible veterans to access care outside of the VA under certain circumstances, such as when VA medical centers cannot provide services. The program requires pre-approval for veterans to receive care at a non-VA facility in non-emergency situations.\\n\\nTrump’s proposal would also go further than the bipartisan Veterans Choice Act of 2014 that President Obama signed into law, creating a temporary program, separate from the Non-VA Medical Care Program, that allows eligible veterans to receive health care at a non-VA facility if they would have to wait more than 30 days for an appointment at a VA medical center, or if they live more than 40 miles from the nearest VA hospital.\\n\\nTrump stuck to the idea of allowing veterans to choose between public and private hospitals when he released his most recent “Ten Point Plan To Reform The VA” in July.\\n\\nPoint 10 of the plan says: “Mr. Trump will ensure every veteran has the choice to seek care at the VA or at a private service provider of their own choice. Under a Trump Administration, no veteran will die waiting for service.”\\n\\nTrump reinforced that part of his plan during the NBC News forum as well.\\n\\nTo be clear, Trump supports giving veterans a choice between VA hospitals and private ones. That’s not the same thing as supporting the complete privatization of the system that provides care to veterans.\\n\\nTrump criticized Clinton for making “a terrible mistake on Libya” when she was secretary of State. But, at the time, Trump also supported U.S. action that led to the removal of Moammar Gadhafi from power.\\n\\nTrump made his claim in response to a question posed by Lauer on whether Trump will be “prepared on Day One,” if elected president, to tackle “complex national security issues.”\\n\\nThis isn’t the first time Trump has ignored his past support for the U.S. intervention in Libya.\\n\\nDuring the 10th GOP debate, Trump said he had “never discussed that subject” when Sen. Ted Cruz called him out on supporting U.S. action in the country. But, as we wrote, Trump said in 2011 that the U.S. should go into Libya “on a humanitarian basis” and “knock [Gadhafi] out very quickly, very surgically, very effectively and save the lives.”\\n\\nTrump made that comment in a video posted to his YouTube channel in February 2011:\\n\\nEven though Trump now says Clinton’s support for intervention in Libya was a “terrible mistake,” it doesn’t change the fact that five years ago he supported Gadhafi’s removal.\\n\\nTrump twisted Clinton’s words when he claimed Clinton said “vets are being treated, essentially, just fine.” Clinton said the problems in the Department of Veterans Affairs were not as “widespread” as some Republican supporters of privatization of the VA claim, but she went on to acknowledge problems in the VA system — including the issue of wait times for doctors — and what she would do to address them.\\n\\nTrump highlighted the issue of wait times to see a doctor as “one of the big problems” in the VA, and then suggested Clinton doesn’t think the VA has problems.\\n\\nLauer interrupted, noting that Clinton “went on after that and laid out a litany of problems within the VA.”\\n\\nTrump insisted his version was accurate, adding, “I’m telling you … she said she was satisfied with what was going on in the Veterans Administration.”\\n\\nThat’s not accurate. The comments in question from Clinton came during an interview with MSNBC’s Rachel Maddow on Oct. 23, 2015. Maddow asked about talk among some Republicans of abolishing the VA and privatizing it. “The reason they are able to propose something that radical is because the problems at the VA seem so intractable,” Maddow said.\\n\\nMaddow asked if Clinton had any “new ideas for trying to fix” the VA. Here was Clinton’s response, with the part Trump is referring to in bold.\\n\\nClinton accused Republicans of underfunding the VA because they “want it to fail” so they can privatize it.\\n\\nClinton added, “But we have to be more creative about trying to fix the problems that are the legitimate concern, so that we can try to stymie the Republican assault.”\\n\\nIndeed, the Clinton campaign website states that Clinton wants to “fundamentally reform veterans’ health care to ensure access to timely and high quality care.” The campaign says Clinton “was outraged by the recent scandals at the VA, and as president, she will demand accountability and performance from VA leadership.” The site specifically mentions Clinton’s dissatisfaction that “[m]any veterans have to wait an unacceptably long time to see a doctor or to process disability claims and appeals” and promises she will “[b]uild a 21st-century Department of Veterans Affairs to deliver world-class care.”\\n\\nTrump cherry-picked the part of Clinton’s response that said problems in the VA have “not been as widespread as it has been made out to be,” to make the blanket claim that Clinton is “satisfied with what was going on in the Veterans Administration” and that “vets are being treated, essentially, just fine.” But Trump is leaving out the parts of Clinton’s answer that acknowledged problems in the VA — including the wait time issue Trump highlighted as one of his biggest concerns.'"
      ]
     },
     "execution_count": 8,
     "metadata": {},
     "output_type": "execute_result"
    }
   ],
   "source": [
    "#preview of a REAL article\n",
    "df.iloc[8,2]"
   ]
  },
  {
   "cell_type": "code",
   "execution_count": 9,
   "metadata": {},
   "outputs": [
    {
     "data": {
      "text/plain": [
       "<bound method DataFrame.info of       Unnamed: 0                                              title  \\\n",
       "0           8476                       You Can Smell Hillary’s Fear   \n",
       "1          10294  Watch The Exact Moment Paul Ryan Committed Pol...   \n",
       "2           3608        Kerry to go to Paris in gesture of sympathy   \n",
       "3          10142  Bernie supporters on Twitter erupt in anger ag...   \n",
       "4            875   The Battle of New York: Why This Primary Matters   \n",
       "...          ...                                                ...   \n",
       "6330        4490  State Department says it can't find emails fro...   \n",
       "6331        8062  The ‘P’ in PBS Should Stand for ‘Plutocratic’ ...   \n",
       "6332        8622  Anti-Trump Protesters Are Tools of the Oligarc...   \n",
       "6333        4021  In Ethiopia, Obama seeks progress on peace, se...   \n",
       "6334        4330  Jeb Bush Is Suddenly Attacking Trump. Here's W...   \n",
       "\n",
       "                                                   text label  \n",
       "0     Daniel Greenfield, a Shillman Journalism Fello...  FAKE  \n",
       "1     Google Pinterest Digg Linkedin Reddit Stumbleu...  FAKE  \n",
       "2     U.S. Secretary of State John F. Kerry said Mon...  REAL  \n",
       "3     — Kaydee King (@KaydeeKing) November 9, 2016 T...  FAKE  \n",
       "4     It's primary day in New York and front-runners...  REAL  \n",
       "...                                                 ...   ...  \n",
       "6330  The State Department told the Republican Natio...  REAL  \n",
       "6331  The ‘P’ in PBS Should Stand for ‘Plutocratic’ ...  FAKE  \n",
       "6332   Anti-Trump Protesters Are Tools of the Oligar...  FAKE  \n",
       "6333  ADDIS ABABA, Ethiopia —President Obama convene...  REAL  \n",
       "6334  Jeb Bush Is Suddenly Attacking Trump. Here's W...  REAL  \n",
       "\n",
       "[6335 rows x 4 columns]>"
      ]
     },
     "execution_count": 9,
     "metadata": {},
     "output_type": "execute_result"
    }
   ],
   "source": [
    "df.info"
   ]
  },
  {
   "cell_type": "code",
   "execution_count": 10,
   "metadata": {},
   "outputs": [],
   "source": [
    "columns = df.columns.tolist()"
   ]
  },
  {
   "cell_type": "code",
   "execution_count": 11,
   "metadata": {},
   "outputs": [
    {
     "name": "stdout",
     "output_type": "stream",
     "text": [
      "['Unnamed: 0', 'title', 'text', 'label']\n"
     ]
    }
   ],
   "source": [
    "print(columns)"
   ]
  },
  {
   "cell_type": "code",
   "execution_count": 12,
   "metadata": {},
   "outputs": [
    {
     "data": {
      "text/plain": [
       "REAL    3171\n",
       "FAKE    3164\n",
       "Name: label, dtype: int64"
      ]
     },
     "execution_count": 12,
     "metadata": {},
     "output_type": "execute_result"
    }
   ],
   "source": [
    "df[\"label\"].value_counts()"
   ]
  },
  {
   "cell_type": "code",
   "execution_count": 13,
   "metadata": {},
   "outputs": [
    {
     "data": {
      "text/plain": [
       "<matplotlib.axes._subplots.AxesSubplot at 0x2afd42bc128>"
      ]
     },
     "execution_count": 13,
     "metadata": {},
     "output_type": "execute_result"
    },
    {
     "data": {
      "image/png": "[encoded data removed]",
      "text/plain": [
       "<Figure size 432x288 with 1 Axes>"
      ]
     },
     "metadata": {
      "needs_background": "light"
     },
     "output_type": "display_data"
    }
   ],
   "source": [
    "sns.countplot(df['label']) "
   ]
  },
  {
   "cell_type": "markdown",
   "metadata": {},
   "source": [
    "The data set seems to be well balanced."
   ]
  },
  {
   "cell_type": "code",
   "execution_count": 14,
   "metadata": {},
   "outputs": [
    {
     "data": {
      "text/plain": [
       "pandas.core.series.Series"
      ]
     },
     "execution_count": 14,
     "metadata": {},
     "output_type": "execute_result"
    }
   ],
   "source": [
    "type(df[\"title\"])"
   ]
  },
  {
   "cell_type": "code",
   "execution_count": 15,
   "metadata": {},
   "outputs": [
    {
     "data": {
      "text/plain": [
       "pandas.core.series.Series"
      ]
     },
     "execution_count": 15,
     "metadata": {},
     "output_type": "execute_result"
    }
   ],
   "source": [
    "type(df[\"text\"])"
   ]
  },
  {
   "cell_type": "code",
   "execution_count": 16,
   "metadata": {},
   "outputs": [
    {
     "data": {
      "text/plain": [
       "Unnamed: 0     int64\n",
       "title         object\n",
       "text          object\n",
       "label         object\n",
       "dtype: object"
      ]
     },
     "execution_count": 16,
     "metadata": {},
     "output_type": "execute_result"
    }
   ],
   "source": [
    "df.dtypes"
   ]
  },
  {
   "cell_type": "markdown",
   "metadata": {},
   "source": [
    "It appears that \"Unnamed: 0\" is the index since it only contains numbers. The column will be checked for duplicates to check."
   ]
  },
  {
   "cell_type": "code",
   "execution_count": 17,
   "metadata": {},
   "outputs": [
    {
     "name": "stdout",
     "output_type": "stream",
     "text": [
      "False\n"
     ]
    }
   ],
   "source": [
    "print(any(df[\"Unnamed: 0\"].duplicated()))"
   ]
  },
  {
   "cell_type": "code",
   "execution_count": 18,
   "metadata": {},
   "outputs": [
    {
     "data": {
      "text/plain": [
       "False"
      ]
     },
     "execution_count": 18,
     "metadata": {},
     "output_type": "execute_result"
    }
   ],
   "source": [
    "df.isnull().values.any()"
   ]
  },
  {
   "cell_type": "markdown",
   "metadata": {},
   "source": [
    "## Step 3 - Data Preparation"
   ]
  },
  {
   "cell_type": "markdown",
   "metadata": {},
   "source": [
    "### 3 a) - General Polishing"
   ]
  },
  {
   "cell_type": "code",
   "execution_count": 19,
   "metadata": {},
   "outputs": [],
   "source": [
    "#rename \"Unnamed: 0\" and make it the index of the data frame\n",
    "df.columns = [\"index\", \"title\", \"text\", \"label\"]\n",
    "df.set_index(\"index\", inplace=True)"
   ]
  },
  {
   "cell_type": "code",
   "execution_count": 20,
   "metadata": {},
   "outputs": [
    {
     "data": {
      "text/html": [
       "<div>\n",
       "<style scoped>\n",
       "    .dataframe tbody tr th:only-of-type {\n",
       "        vertical-align: middle;\n",
       "    }\n",
       "\n",
       "    .dataframe tbody tr th {\n",
       "        vertical-align: top;\n",
       "    }\n",
       "\n",
       "    .dataframe thead th {\n",
       "        text-align: right;\n",
       "    }\n",
       "</style>\n",
       "<table border=\"1\" class=\"dataframe\">\n",
       "  <thead>\n",
       "    <tr style=\"text-align: right;\">\n",
       "      <th></th>\n",
       "      <th>title</th>\n",
       "      <th>text</th>\n",
       "      <th>label</th>\n",
       "    </tr>\n",
       "    <tr>\n",
       "      <th>index</th>\n",
       "      <th></th>\n",
       "      <th></th>\n",
       "      <th></th>\n",
       "    </tr>\n",
       "  </thead>\n",
       "  <tbody>\n",
       "    <tr>\n",
       "      <th>8476</th>\n",
       "      <td>You Can Smell Hillary’s Fear</td>\n",
       "      <td>Daniel Greenfield, a Shillman Journalism Fello...</td>\n",
       "      <td>FAKE</td>\n",
       "    </tr>\n",
       "    <tr>\n",
       "      <th>10294</th>\n",
       "      <td>Watch The Exact Moment Paul Ryan Committed Pol...</td>\n",
       "      <td>Google Pinterest Digg Linkedin Reddit Stumbleu...</td>\n",
       "      <td>FAKE</td>\n",
       "    </tr>\n",
       "    <tr>\n",
       "      <th>3608</th>\n",
       "      <td>Kerry to go to Paris in gesture of sympathy</td>\n",
       "      <td>U.S. Secretary of State John F. Kerry said Mon...</td>\n",
       "      <td>REAL</td>\n",
       "    </tr>\n",
       "    <tr>\n",
       "      <th>10142</th>\n",
       "      <td>Bernie supporters on Twitter erupt in anger ag...</td>\n",
       "      <td>— Kaydee King (@KaydeeKing) November 9, 2016 T...</td>\n",
       "      <td>FAKE</td>\n",
       "    </tr>\n",
       "    <tr>\n",
       "      <th>875</th>\n",
       "      <td>The Battle of New York: Why This Primary Matters</td>\n",
       "      <td>It's primary day in New York and front-runners...</td>\n",
       "      <td>REAL</td>\n",
       "    </tr>\n",
       "  </tbody>\n",
       "</table>\n",
       "</div>"
      ],
      "text/plain": [
       "                                                   title  \\\n",
       "index                                                      \n",
       "8476                        You Can Smell Hillary’s Fear   \n",
       "10294  Watch The Exact Moment Paul Ryan Committed Pol...   \n",
       "3608         Kerry to go to Paris in gesture of sympathy   \n",
       "10142  Bernie supporters on Twitter erupt in anger ag...   \n",
       "875     The Battle of New York: Why This Primary Matters   \n",
       "\n",
       "                                                    text label  \n",
       "index                                                           \n",
       "8476   Daniel Greenfield, a Shillman Journalism Fello...  FAKE  \n",
       "10294  Google Pinterest Digg Linkedin Reddit Stumbleu...  FAKE  \n",
       "3608   U.S. Secretary of State John F. Kerry said Mon...  REAL  \n",
       "10142  — Kaydee King (@KaydeeKing) November 9, 2016 T...  FAKE  \n",
       "875    It's primary day in New York and front-runners...  REAL  "
      ]
     },
     "execution_count": 20,
     "metadata": {},
     "output_type": "execute_result"
    }
   ],
   "source": [
    "df.head()"
   ]
  },
  {
   "cell_type": "code",
   "execution_count": 21,
   "metadata": {},
   "outputs": [],
   "source": [
    "#order by index\n",
    "df.sort_index(inplace=True)"
   ]
  },
  {
   "cell_type": "code",
   "execution_count": 22,
   "metadata": {},
   "outputs": [
    {
     "data": {
      "text/html": [
       "<div>\n",
       "<style scoped>\n",
       "    .dataframe tbody tr th:only-of-type {\n",
       "        vertical-align: middle;\n",
       "    }\n",
       "\n",
       "    .dataframe tbody tr th {\n",
       "        vertical-align: top;\n",
       "    }\n",
       "\n",
       "    .dataframe thead th {\n",
       "        text-align: right;\n",
       "    }\n",
       "</style>\n",
       "<table border=\"1\" class=\"dataframe\">\n",
       "  <thead>\n",
       "    <tr style=\"text-align: right;\">\n",
       "      <th></th>\n",
       "      <th>title</th>\n",
       "      <th>text</th>\n",
       "      <th>label</th>\n",
       "    </tr>\n",
       "    <tr>\n",
       "      <th>index</th>\n",
       "      <th></th>\n",
       "      <th></th>\n",
       "      <th></th>\n",
       "    </tr>\n",
       "  </thead>\n",
       "  <tbody>\n",
       "    <tr>\n",
       "      <th>2</th>\n",
       "      <td>Study: women had to drive 4 times farther afte...</td>\n",
       "      <td>Ever since Texas laws closed about half of the...</td>\n",
       "      <td>REAL</td>\n",
       "    </tr>\n",
       "    <tr>\n",
       "      <th>3</th>\n",
       "      <td>Trump, Clinton clash in dueling DC speeches</td>\n",
       "      <td>Donald Trump and Hillary Clinton, now at the s...</td>\n",
       "      <td>REAL</td>\n",
       "    </tr>\n",
       "    <tr>\n",
       "      <th>5</th>\n",
       "      <td>As Reproductive Rights Hang In The Balance, De...</td>\n",
       "      <td>WASHINGTON -- Forty-three years after the Supr...</td>\n",
       "      <td>REAL</td>\n",
       "    </tr>\n",
       "    <tr>\n",
       "      <th>6</th>\n",
       "      <td>Despite Constant Debate, Americans' Abortion O...</td>\n",
       "      <td>It's been a big week for abortion news.\\n\\nCar...</td>\n",
       "      <td>REAL</td>\n",
       "    </tr>\n",
       "    <tr>\n",
       "      <th>7</th>\n",
       "      <td>Obama Argues Against Goverment Shutdown Over P...</td>\n",
       "      <td>President Barack Obama said Saturday night tha...</td>\n",
       "      <td>REAL</td>\n",
       "    </tr>\n",
       "  </tbody>\n",
       "</table>\n",
       "</div>"
      ],
      "text/plain": [
       "                                                   title  \\\n",
       "index                                                      \n",
       "2      Study: women had to drive 4 times farther afte...   \n",
       "3            Trump, Clinton clash in dueling DC speeches   \n",
       "5      As Reproductive Rights Hang In The Balance, De...   \n",
       "6      Despite Constant Debate, Americans' Abortion O...   \n",
       "7      Obama Argues Against Goverment Shutdown Over P...   \n",
       "\n",
       "                                                    text label  \n",
       "index                                                           \n",
       "2      Ever since Texas laws closed about half of the...  REAL  \n",
       "3      Donald Trump and Hillary Clinton, now at the s...  REAL  \n",
       "5      WASHINGTON -- Forty-three years after the Supr...  REAL  \n",
       "6      It's been a big week for abortion news.\\n\\nCar...  REAL  \n",
       "7      President Barack Obama said Saturday night tha...  REAL  "
      ]
     },
     "execution_count": 22,
     "metadata": {},
     "output_type": "execute_result"
    }
   ],
   "source": [
    "df.head()"
   ]
  },
  {
   "cell_type": "code",
   "execution_count": 23,
   "metadata": {},
   "outputs": [
    {
     "data": {
      "text/plain": [
       "Int64Index([    2,     3,     5,     6,     7,     9,    10,    12,    14,\n",
       "               16,\n",
       "            ...\n",
       "            10543, 10545, 10546, 10547, 10548, 10549, 10551, 10553, 10555,\n",
       "            10557],\n",
       "           dtype='int64', name='index', length=6335)"
      ]
     },
     "execution_count": 23,
     "metadata": {},
     "output_type": "execute_result"
    }
   ],
   "source": [
    "df.index"
   ]
  },
  {
   "cell_type": "markdown",
   "metadata": {},
   "source": [
    "The index seems to skip some numbers, for example 8 and 11. The index will be properly assigned."
   ]
  },
  {
   "cell_type": "code",
   "execution_count": 24,
   "metadata": {},
   "outputs": [],
   "source": [
    "df['index'] = df.reset_index().index"
   ]
  },
  {
   "cell_type": "code",
   "execution_count": 25,
   "metadata": {},
   "outputs": [
    {
     "data": {
      "text/html": [
       "<div>\n",
       "<style scoped>\n",
       "    .dataframe tbody tr th:only-of-type {\n",
       "        vertical-align: middle;\n",
       "    }\n",
       "\n",
       "    .dataframe tbody tr th {\n",
       "        vertical-align: top;\n",
       "    }\n",
       "\n",
       "    .dataframe thead th {\n",
       "        text-align: right;\n",
       "    }\n",
       "</style>\n",
       "<table border=\"1\" class=\"dataframe\">\n",
       "  <thead>\n",
       "    <tr style=\"text-align: right;\">\n",
       "      <th></th>\n",
       "      <th>title</th>\n",
       "      <th>text</th>\n",
       "      <th>label</th>\n",
       "    </tr>\n",
       "    <tr>\n",
       "      <th>index</th>\n",
       "      <th></th>\n",
       "      <th></th>\n",
       "      <th></th>\n",
       "    </tr>\n",
       "  </thead>\n",
       "  <tbody>\n",
       "    <tr>\n",
       "      <th>0</th>\n",
       "      <td>Study: women had to drive 4 times farther afte...</td>\n",
       "      <td>Ever since Texas laws closed about half of the...</td>\n",
       "      <td>REAL</td>\n",
       "    </tr>\n",
       "    <tr>\n",
       "      <th>1</th>\n",
       "      <td>Trump, Clinton clash in dueling DC speeches</td>\n",
       "      <td>Donald Trump and Hillary Clinton, now at the s...</td>\n",
       "      <td>REAL</td>\n",
       "    </tr>\n",
       "    <tr>\n",
       "      <th>2</th>\n",
       "      <td>As Reproductive Rights Hang In The Balance, De...</td>\n",
       "      <td>WASHINGTON -- Forty-three years after the Supr...</td>\n",
       "      <td>REAL</td>\n",
       "    </tr>\n",
       "    <tr>\n",
       "      <th>3</th>\n",
       "      <td>Despite Constant Debate, Americans' Abortion O...</td>\n",
       "      <td>It's been a big week for abortion news.\\n\\nCar...</td>\n",
       "      <td>REAL</td>\n",
       "    </tr>\n",
       "    <tr>\n",
       "      <th>4</th>\n",
       "      <td>Obama Argues Against Goverment Shutdown Over P...</td>\n",
       "      <td>President Barack Obama said Saturday night tha...</td>\n",
       "      <td>REAL</td>\n",
       "    </tr>\n",
       "  </tbody>\n",
       "</table>\n",
       "</div>"
      ],
      "text/plain": [
       "                                                   title  \\\n",
       "index                                                      \n",
       "0      Study: women had to drive 4 times farther afte...   \n",
       "1            Trump, Clinton clash in dueling DC speeches   \n",
       "2      As Reproductive Rights Hang In The Balance, De...   \n",
       "3      Despite Constant Debate, Americans' Abortion O...   \n",
       "4      Obama Argues Against Goverment Shutdown Over P...   \n",
       "\n",
       "                                                    text label  \n",
       "index                                                           \n",
       "0      Ever since Texas laws closed about half of the...  REAL  \n",
       "1      Donald Trump and Hillary Clinton, now at the s...  REAL  \n",
       "2      WASHINGTON -- Forty-three years after the Supr...  REAL  \n",
       "3      It's been a big week for abortion news.\\n\\nCar...  REAL  \n",
       "4      President Barack Obama said Saturday night tha...  REAL  "
      ]
     },
     "execution_count": 25,
     "metadata": {},
     "output_type": "execute_result"
    }
   ],
   "source": [
    "df.set_index(\"index\", inplace=True)\n",
    "df.head()"
   ]
  },
  {
   "cell_type": "markdown",
   "metadata": {},
   "source": [
    "It appears that the data contains several characters like \\n or \\a. They will be removed from the data set."
   ]
  },
  {
   "cell_type": "markdown",
   "metadata": {},
   "source": [
    "### 3 b) - Normalising The Data"
   ]
  },
  {
   "cell_type": "code",
   "execution_count": 26,
   "metadata": {},
   "outputs": [
    {
     "name": "stdout",
     "output_type": "stream",
     "text": [
      "\u0007 abc\n"
     ]
    }
   ],
   "source": [
    "# the function strip() will be used to remove those characters\n",
    "# Example:\n",
    "s = \"\\n \\a abc \\n \\n\"\n",
    "print(s.strip())"
   ]
  },
  {
   "cell_type": "code",
   "execution_count": 27,
   "metadata": {},
   "outputs": [
    {
     "name": "stdout",
     "output_type": "stream",
     "text": [
      "Car\n"
     ]
    }
   ],
   "source": [
    "s = \"\\n\\nCar\"\n",
    "print(s.strip())"
   ]
  },
  {
   "cell_type": "code",
   "execution_count": 28,
   "metadata": {},
   "outputs": [],
   "source": [
    "df[\"text\"] = df[\"text\"].apply(lambda x: x.strip())"
   ]
  },
  {
   "cell_type": "code",
   "execution_count": 29,
   "metadata": {},
   "outputs": [],
   "source": [
    "# since some characters are part of the string, they have to be removed with the replace function\n",
    "df[\"text\"] = df[\"text\"].apply(lambda x: x.replace(\"\\n\", \"\"))\n",
    "df[\"text\"] = df[\"text\"].apply(lambda x: x.replace(\"\\t\", \"\"))\n",
    "#df[\"text\"] = df[\"text\"].apply(lambda x: x.replace(\"\\x\", \"\"))\n",
    "df[\"text\"] = df[\"text\"].apply(lambda x: x.replace(\"\\xa0\", \"\"))\n",
    "\n",
    "df[\"title\"] = df[\"title\"].apply(lambda x: x.replace(\"\\n\", \"\"))\n",
    "df[\"title\"] = df[\"title\"].apply(lambda x: x.replace(\"\\t\", \"\"))\n",
    "#df[\"title\"] = df[\"title\"].apply(lambda x: x.replace(\"\\x\", \"\"))\n",
    "df[\"title\"] = df[\"title\"].apply(lambda x: x.replace(\"\\xa0\", \"\"))"
   ]
  },
  {
   "cell_type": "code",
   "execution_count": 30,
   "metadata": {},
   "outputs": [
    {
     "data": {
      "text/html": [
       "<div>\n",
       "<style scoped>\n",
       "    .dataframe tbody tr th:only-of-type {\n",
       "        vertical-align: middle;\n",
       "    }\n",
       "\n",
       "    .dataframe tbody tr th {\n",
       "        vertical-align: top;\n",
       "    }\n",
       "\n",
       "    .dataframe thead th {\n",
       "        text-align: right;\n",
       "    }\n",
       "</style>\n",
       "<table border=\"1\" class=\"dataframe\">\n",
       "  <thead>\n",
       "    <tr style=\"text-align: right;\">\n",
       "      <th></th>\n",
       "      <th>title</th>\n",
       "      <th>text</th>\n",
       "      <th>label</th>\n",
       "    </tr>\n",
       "    <tr>\n",
       "      <th>index</th>\n",
       "      <th></th>\n",
       "      <th></th>\n",
       "      <th></th>\n",
       "    </tr>\n",
       "  </thead>\n",
       "  <tbody>\n",
       "    <tr>\n",
       "      <th>0</th>\n",
       "      <td>Study: women had to drive 4 times farther afte...</td>\n",
       "      <td>Ever since Texas laws closed about half of the...</td>\n",
       "      <td>REAL</td>\n",
       "    </tr>\n",
       "    <tr>\n",
       "      <th>1</th>\n",
       "      <td>Trump, Clinton clash in dueling DC speeches</td>\n",
       "      <td>Donald Trump and Hillary Clinton, now at the s...</td>\n",
       "      <td>REAL</td>\n",
       "    </tr>\n",
       "    <tr>\n",
       "      <th>2</th>\n",
       "      <td>As Reproductive Rights Hang In The Balance, De...</td>\n",
       "      <td>WASHINGTON -- Forty-three years after the Supr...</td>\n",
       "      <td>REAL</td>\n",
       "    </tr>\n",
       "    <tr>\n",
       "      <th>3</th>\n",
       "      <td>Despite Constant Debate, Americans' Abortion O...</td>\n",
       "      <td>It's been a big week for abortion news.Carly F...</td>\n",
       "      <td>REAL</td>\n",
       "    </tr>\n",
       "    <tr>\n",
       "      <th>4</th>\n",
       "      <td>Obama Argues Against Goverment Shutdown Over P...</td>\n",
       "      <td>President Barack ObamasaidSaturday night that ...</td>\n",
       "      <td>REAL</td>\n",
       "    </tr>\n",
       "  </tbody>\n",
       "</table>\n",
       "</div>"
      ],
      "text/plain": [
       "                                                   title  \\\n",
       "index                                                      \n",
       "0      Study: women had to drive 4 times farther afte...   \n",
       "1            Trump, Clinton clash in dueling DC speeches   \n",
       "2      As Reproductive Rights Hang In The Balance, De...   \n",
       "3      Despite Constant Debate, Americans' Abortion O...   \n",
       "4      Obama Argues Against Goverment Shutdown Over P...   \n",
       "\n",
       "                                                    text label  \n",
       "index                                                           \n",
       "0      Ever since Texas laws closed about half of the...  REAL  \n",
       "1      Donald Trump and Hillary Clinton, now at the s...  REAL  \n",
       "2      WASHINGTON -- Forty-three years after the Supr...  REAL  \n",
       "3      It's been a big week for abortion news.Carly F...  REAL  \n",
       "4      President Barack ObamasaidSaturday night that ...  REAL  "
      ]
     },
     "execution_count": 30,
     "metadata": {},
     "output_type": "execute_result"
    }
   ],
   "source": [
    "df.head()"
   ]
  },
  {
   "cell_type": "markdown",
   "metadata": {},
   "source": [
    "The next step is to remove punctuation."
   ]
  },
  {
   "cell_type": "code",
   "execution_count": 31,
   "metadata": {},
   "outputs": [],
   "source": [
    "#df[\"text\"] = df[\"text\"].apply(lambda x: x.replace(string.punctuation, \"\"))\n",
    "#df[\"title\"] = df[\"title\"].apply(lambda x: x.replace(string.punctuation, \"\"))\n",
    "\n",
    "df[\"title\"] = df[\"title\"].str.replace(\"[{}]\".format(string.punctuation), \"\")\n",
    "df[\"text\"] = df[\"text\"].str.replace(\"[{}]\".format(string.punctuation), \"\")"
   ]
  },
  {
   "cell_type": "code",
   "execution_count": 32,
   "metadata": {},
   "outputs": [],
   "source": [
    "#convert every word to lower case - normalising case\n",
    "df[\"title\"] = df[\"title\"].str.lower()\n",
    "df[\"text\"] = df[\"text\"].str.lower()\n",
    "df[\"label\"] = df[\"label\"].str.lower()"
   ]
  },
  {
   "cell_type": "code",
   "execution_count": 33,
   "metadata": {},
   "outputs": [
    {
     "data": {
      "text/html": [
       "<div>\n",
       "<style scoped>\n",
       "    .dataframe tbody tr th:only-of-type {\n",
       "        vertical-align: middle;\n",
       "    }\n",
       "\n",
       "    .dataframe tbody tr th {\n",
       "        vertical-align: top;\n",
       "    }\n",
       "\n",
       "    .dataframe thead th {\n",
       "        text-align: right;\n",
       "    }\n",
       "</style>\n",
       "<table border=\"1\" class=\"dataframe\">\n",
       "  <thead>\n",
       "    <tr style=\"text-align: right;\">\n",
       "      <th></th>\n",
       "      <th>title</th>\n",
       "      <th>text</th>\n",
       "      <th>label</th>\n",
       "    </tr>\n",
       "    <tr>\n",
       "      <th>index</th>\n",
       "      <th></th>\n",
       "      <th></th>\n",
       "      <th></th>\n",
       "    </tr>\n",
       "  </thead>\n",
       "  <tbody>\n",
       "    <tr>\n",
       "      <th>0</th>\n",
       "      <td>study women had to drive 4 times farther after...</td>\n",
       "      <td>ever since texas laws closed about half of the...</td>\n",
       "      <td>real</td>\n",
       "    </tr>\n",
       "    <tr>\n",
       "      <th>1</th>\n",
       "      <td>trump clinton clash in dueling dc speeches</td>\n",
       "      <td>donald trump and hillary clinton now at the st...</td>\n",
       "      <td>real</td>\n",
       "    </tr>\n",
       "    <tr>\n",
       "      <th>2</th>\n",
       "      <td>as reproductive rights hang in the balance deb...</td>\n",
       "      <td>washington  fortythree years after the supreme...</td>\n",
       "      <td>real</td>\n",
       "    </tr>\n",
       "    <tr>\n",
       "      <th>3</th>\n",
       "      <td>despite constant debate americans abortion opi...</td>\n",
       "      <td>its been a big week for abortion newscarly fio...</td>\n",
       "      <td>real</td>\n",
       "    </tr>\n",
       "    <tr>\n",
       "      <th>4</th>\n",
       "      <td>obama argues against goverment shutdown over p...</td>\n",
       "      <td>president barack obamasaidsaturday night that ...</td>\n",
       "      <td>real</td>\n",
       "    </tr>\n",
       "  </tbody>\n",
       "</table>\n",
       "</div>"
      ],
      "text/plain": [
       "                                                   title  \\\n",
       "index                                                      \n",
       "0      study women had to drive 4 times farther after...   \n",
       "1             trump clinton clash in dueling dc speeches   \n",
       "2      as reproductive rights hang in the balance deb...   \n",
       "3      despite constant debate americans abortion opi...   \n",
       "4      obama argues against goverment shutdown over p...   \n",
       "\n",
       "                                                    text label  \n",
       "index                                                           \n",
       "0      ever since texas laws closed about half of the...  real  \n",
       "1      donald trump and hillary clinton now at the st...  real  \n",
       "2      washington  fortythree years after the supreme...  real  \n",
       "3      its been a big week for abortion newscarly fio...  real  \n",
       "4      president barack obamasaidsaturday night that ...  real  "
      ]
     },
     "execution_count": 33,
     "metadata": {},
     "output_type": "execute_result"
    }
   ],
   "source": [
    "df.head()"
   ]
  },
  {
   "cell_type": "markdown",
   "metadata": {},
   "source": [
    "Additionally the labels will be converted to binary values: 0 and 1."
   ]
  },
  {
   "cell_type": "code",
   "execution_count": 34,
   "metadata": {},
   "outputs": [],
   "source": [
    "#df[\"label\"] = df[\"label\"].apply(lambda x: x.replace(\"real\", 0))\n",
    "#df[\"label\"] = df[\"label\"].apply(lambda x: x.replace(\"fake\", 1))\n",
    "\n",
    "df[\"label\"] = df[\"label\"].replace(to_replace=[\"real\", \"fake\"], value=[0, 1])"
   ]
  },
  {
   "cell_type": "code",
   "execution_count": 35,
   "metadata": {},
   "outputs": [
    {
     "data": {
      "text/html": [
       "<div>\n",
       "<style scoped>\n",
       "    .dataframe tbody tr th:only-of-type {\n",
       "        vertical-align: middle;\n",
       "    }\n",
       "\n",
       "    .dataframe tbody tr th {\n",
       "        vertical-align: top;\n",
       "    }\n",
       "\n",
       "    .dataframe thead th {\n",
       "        text-align: right;\n",
       "    }\n",
       "</style>\n",
       "<table border=\"1\" class=\"dataframe\">\n",
       "  <thead>\n",
       "    <tr style=\"text-align: right;\">\n",
       "      <th></th>\n",
       "      <th>title</th>\n",
       "      <th>text</th>\n",
       "      <th>label</th>\n",
       "    </tr>\n",
       "    <tr>\n",
       "      <th>index</th>\n",
       "      <th></th>\n",
       "      <th></th>\n",
       "      <th></th>\n",
       "    </tr>\n",
       "  </thead>\n",
       "  <tbody>\n",
       "    <tr>\n",
       "      <th>0</th>\n",
       "      <td>study women had to drive 4 times farther after...</td>\n",
       "      <td>ever since texas laws closed about half of the...</td>\n",
       "      <td>0</td>\n",
       "    </tr>\n",
       "    <tr>\n",
       "      <th>1</th>\n",
       "      <td>trump clinton clash in dueling dc speeches</td>\n",
       "      <td>donald trump and hillary clinton now at the st...</td>\n",
       "      <td>0</td>\n",
       "    </tr>\n",
       "    <tr>\n",
       "      <th>2</th>\n",
       "      <td>as reproductive rights hang in the balance deb...</td>\n",
       "      <td>washington  fortythree years after the supreme...</td>\n",
       "      <td>0</td>\n",
       "    </tr>\n",
       "    <tr>\n",
       "      <th>3</th>\n",
       "      <td>despite constant debate americans abortion opi...</td>\n",
       "      <td>its been a big week for abortion newscarly fio...</td>\n",
       "      <td>0</td>\n",
       "    </tr>\n",
       "    <tr>\n",
       "      <th>4</th>\n",
       "      <td>obama argues against goverment shutdown over p...</td>\n",
       "      <td>president barack obamasaidsaturday night that ...</td>\n",
       "      <td>0</td>\n",
       "    </tr>\n",
       "  </tbody>\n",
       "</table>\n",
       "</div>"
      ],
      "text/plain": [
       "                                                   title  \\\n",
       "index                                                      \n",
       "0      study women had to drive 4 times farther after...   \n",
       "1             trump clinton clash in dueling dc speeches   \n",
       "2      as reproductive rights hang in the balance deb...   \n",
       "3      despite constant debate americans abortion opi...   \n",
       "4      obama argues against goverment shutdown over p...   \n",
       "\n",
       "                                                    text  label  \n",
       "index                                                            \n",
       "0      ever since texas laws closed about half of the...      0  \n",
       "1      donald trump and hillary clinton now at the st...      0  \n",
       "2      washington  fortythree years after the supreme...      0  \n",
       "3      its been a big week for abortion newscarly fio...      0  \n",
       "4      president barack obamasaidsaturday night that ...      0  "
      ]
     },
     "execution_count": 35,
     "metadata": {},
     "output_type": "execute_result"
    }
   ],
   "source": [
    "df.head()"
   ]
  },
  {
   "cell_type": "markdown",
   "metadata": {},
   "source": [
    "In the next step stopwords such as \"the\" or \"a\" will be removed since they do not contribute to a deeper meaning of a sentence."
   ]
  },
  {
   "cell_type": "code",
   "execution_count": 36,
   "metadata": {},
   "outputs": [
    {
     "name": "stdout",
     "output_type": "stream",
     "text": [
      "['i', 'me', 'my', 'myself', 'we', 'our', 'ours', 'ourselves', 'you', \"you're\", \"you've\", \"you'll\", \"you'd\", 'your', 'yours', 'yourself', 'yourselves', 'he', 'him', 'his', 'himself', 'she', \"she's\", 'her', 'hers', 'herself', 'it', \"it's\", 'its', 'itself', 'they', 'them', 'their', 'theirs', 'themselves', 'what', 'which', 'who', 'whom', 'this', 'that', \"that'll\", 'these', 'those', 'am', 'is', 'are', 'was', 'were', 'be', 'been', 'being', 'have', 'has', 'had', 'having', 'do', 'does', 'did', 'doing', 'a', 'an', 'the', 'and', 'but', 'if', 'or', 'because', 'as', 'until', 'while', 'of', 'at', 'by', 'for', 'with', 'about', 'against', 'between', 'into', 'through', 'during', 'before', 'after', 'above', 'below', 'to', 'from', 'up', 'down', 'in', 'out', 'on', 'off', 'over', 'under', 'again', 'further', 'then', 'once', 'here', 'there', 'when', 'where', 'why', 'how', 'all', 'any', 'both', 'each', 'few', 'more', 'most', 'other', 'some', 'such', 'no', 'nor', 'not', 'only', 'own', 'same', 'so', 'than', 'too', 'very', 's', 't', 'can', 'will', 'just', 'don', \"don't\", 'should', \"should've\", 'now', 'd', 'll', 'm', 'o', 're', 've', 'y', 'ain', 'aren', \"aren't\", 'couldn', \"couldn't\", 'didn', \"didn't\", 'doesn', \"doesn't\", 'hadn', \"hadn't\", 'hasn', \"hasn't\", 'haven', \"haven't\", 'isn', \"isn't\", 'ma', 'mightn', \"mightn't\", 'mustn', \"mustn't\", 'needn', \"needn't\", 'shan', \"shan't\", 'shouldn', \"shouldn't\", 'wasn', \"wasn't\", 'weren', \"weren't\", 'won', \"won't\", 'wouldn', \"wouldn't\"]\n"
     ]
    }
   ],
   "source": [
    "from nltk.corpus import stopwords\n",
    "stop_words = stopwords.words('english')\n",
    "print(stop_words)"
   ]
  },
  {
   "cell_type": "code",
   "execution_count": 37,
   "metadata": {},
   "outputs": [],
   "source": [
    "from nltk.tokenize import word_tokenize\n",
    "import string\n",
    "\n",
    "#function that tokenises words and removes stop words, punctuation and non alphanumerical characters in a sentence\n",
    "def func_normalise(sentence):\n",
    "    tokens = word_tokenize(sentence)\n",
    "    #print(tokens)\n",
    "    stop_words = set(stopwords.words(\"english\"))\n",
    "    stop_words.add(\"n't\")\n",
    "    stop_words.add(\"nt\")\n",
    "    stop_words.add(\"u\")\n",
    "    \n",
    "    table = str.maketrans(\"\", \"\", string.punctuation)\n",
    "    stripped = [w.translate(table) for w in tokens]\n",
    "    \n",
    "    words = [word for word in stripped if word.isalpha()]\n",
    "    \n",
    "    new_sentence = [w for w in words if not w in stop_words] \n",
    "            \n",
    "    new_sentence_str = \" \".join(new_sentence)\n",
    "    \n",
    "    return new_sentence_str"
   ]
  },
  {
   "cell_type": "code",
   "execution_count": 38,
   "metadata": {},
   "outputs": [
    {
     "data": {
      "text/plain": [
       "'ever since texas laws closed half'"
      ]
     },
     "execution_count": 38,
     "metadata": {},
     "output_type": "execute_result"
    }
   ],
   "source": [
    "#testing the function\n",
    "func_normalise(\"ever ? since hasn't the / texa*s laws closed about half of the where didn't\")"
   ]
  },
  {
   "cell_type": "markdown",
   "metadata": {},
   "source": [
    "Now the above function will be applied to the data in order to normalise it."
   ]
  },
  {
   "cell_type": "code",
   "execution_count": 39,
   "metadata": {},
   "outputs": [],
   "source": [
    "df[\"title\"] = df[\"title\"].apply(func_normalise)"
   ]
  },
  {
   "cell_type": "code",
   "execution_count": 40,
   "metadata": {},
   "outputs": [],
   "source": [
    "df[\"text\"] = df[\"text\"].apply(func_normalise)"
   ]
  },
  {
   "cell_type": "code",
   "execution_count": 41,
   "metadata": {},
   "outputs": [
    {
     "data": {
      "text/html": [
       "<div>\n",
       "<style scoped>\n",
       "    .dataframe tbody tr th:only-of-type {\n",
       "        vertical-align: middle;\n",
       "    }\n",
       "\n",
       "    .dataframe tbody tr th {\n",
       "        vertical-align: top;\n",
       "    }\n",
       "\n",
       "    .dataframe thead th {\n",
       "        text-align: right;\n",
       "    }\n",
       "</style>\n",
       "<table border=\"1\" class=\"dataframe\">\n",
       "  <thead>\n",
       "    <tr style=\"text-align: right;\">\n",
       "      <th></th>\n",
       "      <th>title</th>\n",
       "      <th>text</th>\n",
       "      <th>label</th>\n",
       "    </tr>\n",
       "    <tr>\n",
       "      <th>index</th>\n",
       "      <th></th>\n",
       "      <th></th>\n",
       "      <th></th>\n",
       "    </tr>\n",
       "  </thead>\n",
       "  <tbody>\n",
       "    <tr>\n",
       "      <th>0</th>\n",
       "      <td>study women drive times farther texas laws clo...</td>\n",
       "      <td>ever since texas laws closed half states abort...</td>\n",
       "      <td>0</td>\n",
       "    </tr>\n",
       "    <tr>\n",
       "      <th>1</th>\n",
       "      <td>trump clinton clash dueling dc speeches</td>\n",
       "      <td>donald trump hillary clinton starting line gen...</td>\n",
       "      <td>0</td>\n",
       "    </tr>\n",
       "    <tr>\n",
       "      <th>2</th>\n",
       "      <td>reproductive rights hang balance debate modera...</td>\n",
       "      <td>washington fortythree years supreme court esta...</td>\n",
       "      <td>0</td>\n",
       "    </tr>\n",
       "    <tr>\n",
       "      <th>3</th>\n",
       "      <td>despite constant debate americans abortion opi...</td>\n",
       "      <td>big week abortion newscarly fiorinas passionat...</td>\n",
       "      <td>0</td>\n",
       "    </tr>\n",
       "    <tr>\n",
       "      <th>4</th>\n",
       "      <td>obama argues goverment shutdown planned parent...</td>\n",
       "      <td>president barack obamasaidsaturday night congr...</td>\n",
       "      <td>0</td>\n",
       "    </tr>\n",
       "  </tbody>\n",
       "</table>\n",
       "</div>"
      ],
      "text/plain": [
       "                                                   title  \\\n",
       "index                                                      \n",
       "0      study women drive times farther texas laws clo...   \n",
       "1                trump clinton clash dueling dc speeches   \n",
       "2      reproductive rights hang balance debate modera...   \n",
       "3      despite constant debate americans abortion opi...   \n",
       "4      obama argues goverment shutdown planned parent...   \n",
       "\n",
       "                                                    text  label  \n",
       "index                                                            \n",
       "0      ever since texas laws closed half states abort...      0  \n",
       "1      donald trump hillary clinton starting line gen...      0  \n",
       "2      washington fortythree years supreme court esta...      0  \n",
       "3      big week abortion newscarly fiorinas passionat...      0  \n",
       "4      president barack obamasaidsaturday night congr...      0  "
      ]
     },
     "execution_count": 41,
     "metadata": {},
     "output_type": "execute_result"
    }
   ],
   "source": [
    "df.head()"
   ]
  },
  {
   "cell_type": "markdown",
   "metadata": {},
   "source": [
    "As seen in the above example the text data has been (successfully) normalised."
   ]
  },
  {
   "cell_type": "markdown",
   "metadata": {},
   "source": [
    "### 3 c) - Stemming "
   ]
  },
  {
   "cell_type": "markdown",
   "metadata": {},
   "source": [
    "Stemming is the process of reducing words to their root. For example, \"playing\" and \"played\" reduce to the stem \"play\". Therefore stemming helps with reducing the vocabulary and allows to focus on the sense of a sentence."
   ]
  },
  {
   "cell_type": "code",
   "execution_count": 42,
   "metadata": {},
   "outputs": [],
   "source": [
    "#from nltk.stem.porter import PorterStemmer\n",
    "#according to the nltk website the snowballstemmer is better than the \"original\" porter stemmer\n",
    "#https://www.nltk.org/howto/stem.html\n",
    "\n",
    "from nltk.stem.snowball import SnowballStemmer\n",
    "\n",
    "#function that stems words in a sentence\n",
    "def func_stem(sentence):\n",
    "    tokens = word_tokenize(sentence)\n",
    "    snowball_stemmer = SnowballStemmer(\"english\")\n",
    "    stemmed_sentence = [snowball_stemmer.stem(word) for word in tokens]\n",
    "    stemmed_sentence_str = \" \".join(stemmed_sentence)\n",
    "    return stemmed_sentence_str"
   ]
  },
  {
   "cell_type": "code",
   "execution_count": 43,
   "metadata": {},
   "outputs": [
    {
     "data": {
      "text/plain": [
       "'play player play play play'"
      ]
     },
     "execution_count": 43,
     "metadata": {},
     "output_type": "execute_result"
    }
   ],
   "source": [
    "#test\n",
    "func_stem(\"playing player play played plays\")"
   ]
  },
  {
   "cell_type": "code",
   "execution_count": 44,
   "metadata": {},
   "outputs": [],
   "source": [
    "df[\"title\"] = df[\"title\"].apply(func_stem)"
   ]
  },
  {
   "cell_type": "code",
   "execution_count": 45,
   "metadata": {},
   "outputs": [],
   "source": [
    "df[\"text\"] = df[\"text\"].apply(func_stem)"
   ]
  },
  {
   "cell_type": "code",
   "execution_count": 46,
   "metadata": {},
   "outputs": [
    {
     "data": {
      "text/html": [
       "<div>\n",
       "<style scoped>\n",
       "    .dataframe tbody tr th:only-of-type {\n",
       "        vertical-align: middle;\n",
       "    }\n",
       "\n",
       "    .dataframe tbody tr th {\n",
       "        vertical-align: top;\n",
       "    }\n",
       "\n",
       "    .dataframe thead th {\n",
       "        text-align: right;\n",
       "    }\n",
       "</style>\n",
       "<table border=\"1\" class=\"dataframe\">\n",
       "  <thead>\n",
       "    <tr style=\"text-align: right;\">\n",
       "      <th></th>\n",
       "      <th>title</th>\n",
       "      <th>text</th>\n",
       "      <th>label</th>\n",
       "    </tr>\n",
       "    <tr>\n",
       "      <th>index</th>\n",
       "      <th></th>\n",
       "      <th></th>\n",
       "      <th></th>\n",
       "    </tr>\n",
       "  </thead>\n",
       "  <tbody>\n",
       "    <tr>\n",
       "      <th>0</th>\n",
       "      <td>studi women drive time farther texa law close ...</td>\n",
       "      <td>ever sinc texa law close half state abort clin...</td>\n",
       "      <td>0</td>\n",
       "    </tr>\n",
       "    <tr>\n",
       "      <th>1</th>\n",
       "      <td>trump clinton clash duel dc speech</td>\n",
       "      <td>donald trump hillari clinton start line genera...</td>\n",
       "      <td>0</td>\n",
       "    </tr>\n",
       "    <tr>\n",
       "      <th>2</th>\n",
       "      <td>reproduct right hang balanc debat moder drop ball</td>\n",
       "      <td>washington fortythre year suprem court establi...</td>\n",
       "      <td>0</td>\n",
       "    </tr>\n",
       "    <tr>\n",
       "      <th>3</th>\n",
       "      <td>despit constant debat american abort opinion r...</td>\n",
       "      <td>big week abort newscar fiorina passion inaccur...</td>\n",
       "      <td>0</td>\n",
       "    </tr>\n",
       "    <tr>\n",
       "      <th>4</th>\n",
       "      <td>obama argu gover shutdown plan parenthood</td>\n",
       "      <td>presid barack obamasaidsaturday night congress...</td>\n",
       "      <td>0</td>\n",
       "    </tr>\n",
       "  </tbody>\n",
       "</table>\n",
       "</div>"
      ],
      "text/plain": [
       "                                                   title  \\\n",
       "index                                                      \n",
       "0      studi women drive time farther texa law close ...   \n",
       "1                     trump clinton clash duel dc speech   \n",
       "2      reproduct right hang balanc debat moder drop ball   \n",
       "3      despit constant debat american abort opinion r...   \n",
       "4              obama argu gover shutdown plan parenthood   \n",
       "\n",
       "                                                    text  label  \n",
       "index                                                            \n",
       "0      ever sinc texa law close half state abort clin...      0  \n",
       "1      donald trump hillari clinton start line genera...      0  \n",
       "2      washington fortythre year suprem court establi...      0  \n",
       "3      big week abort newscar fiorina passion inaccur...      0  \n",
       "4      presid barack obamasaidsaturday night congress...      0  "
      ]
     },
     "execution_count": 46,
     "metadata": {},
     "output_type": "execute_result"
    }
   ],
   "source": [
    "df.head()"
   ]
  },
  {
   "cell_type": "markdown",
   "metadata": {},
   "source": [
    "### 3 d) - Lemmatising"
   ]
  },
  {
   "cell_type": "markdown",
   "metadata": {},
   "source": [
    "According to literature lemmatising and stemming words is similar. However, stemming tries to cut off endings of words whereas lemmatising compares them to other words. To test whether lemmatising makes a difference in accuracy it will be implemented."
   ]
  },
  {
   "cell_type": "code",
   "execution_count": 47,
   "metadata": {},
   "outputs": [],
   "source": [
    "\"\"\"\n",
    "import nltk\n",
    "nltk.download('wordnet')\n",
    "\"\"\"\n",
    "\n",
    "def func_lemmatise(sentence):\n",
    "    tokens = word_tokenize(sentence)\n",
    "    lemmatiser = nltk.WordNetLemmatizer()\n",
    "    lemmatised_sentence = [lemmatiser.lemmatize(word) for word in tokens]\n",
    "    lemmatised_sentence_str = \" \".join(lemmatised_sentence)\n",
    "    return lemmatised_sentence_str"
   ]
  },
  {
   "cell_type": "code",
   "execution_count": 48,
   "metadata": {},
   "outputs": [
    {
     "data": {
      "text/plain": [
       "'playing player play played play'"
      ]
     },
     "execution_count": 48,
     "metadata": {},
     "output_type": "execute_result"
    }
   ],
   "source": [
    "#test\n",
    "func_lemmatise(\"playing player play played plays\")"
   ]
  },
  {
   "cell_type": "code",
   "execution_count": 49,
   "metadata": {},
   "outputs": [],
   "source": [
    "df[\"title\"] = df[\"title\"].apply(func_lemmatise)"
   ]
  },
  {
   "cell_type": "code",
   "execution_count": 50,
   "metadata": {},
   "outputs": [],
   "source": [
    "df[\"text\"] = df[\"text\"].apply(func_lemmatise)"
   ]
  },
  {
   "cell_type": "code",
   "execution_count": 51,
   "metadata": {},
   "outputs": [
    {
     "data": {
      "text/html": [
       "<div>\n",
       "<style scoped>\n",
       "    .dataframe tbody tr th:only-of-type {\n",
       "        vertical-align: middle;\n",
       "    }\n",
       "\n",
       "    .dataframe tbody tr th {\n",
       "        vertical-align: top;\n",
       "    }\n",
       "\n",
       "    .dataframe thead th {\n",
       "        text-align: right;\n",
       "    }\n",
       "</style>\n",
       "<table border=\"1\" class=\"dataframe\">\n",
       "  <thead>\n",
       "    <tr style=\"text-align: right;\">\n",
       "      <th></th>\n",
       "      <th>title</th>\n",
       "      <th>text</th>\n",
       "      <th>label</th>\n",
       "    </tr>\n",
       "    <tr>\n",
       "      <th>index</th>\n",
       "      <th></th>\n",
       "      <th></th>\n",
       "      <th></th>\n",
       "    </tr>\n",
       "  </thead>\n",
       "  <tbody>\n",
       "    <tr>\n",
       "      <th>0</th>\n",
       "      <td>studi woman drive time farther texa law close ...</td>\n",
       "      <td>ever sinc texa law close half state abort clin...</td>\n",
       "      <td>0</td>\n",
       "    </tr>\n",
       "    <tr>\n",
       "      <th>1</th>\n",
       "      <td>trump clinton clash duel dc speech</td>\n",
       "      <td>donald trump hillari clinton start line genera...</td>\n",
       "      <td>0</td>\n",
       "    </tr>\n",
       "    <tr>\n",
       "      <th>2</th>\n",
       "      <td>reproduct right hang balanc debat moder drop ball</td>\n",
       "      <td>washington fortythre year suprem court establi...</td>\n",
       "      <td>0</td>\n",
       "    </tr>\n",
       "    <tr>\n",
       "      <th>3</th>\n",
       "      <td>despit constant debat american abort opinion r...</td>\n",
       "      <td>big week abort newscar fiorina passion inaccur...</td>\n",
       "      <td>0</td>\n",
       "    </tr>\n",
       "    <tr>\n",
       "      <th>4</th>\n",
       "      <td>obama argu gover shutdown plan parenthood</td>\n",
       "      <td>presid barack obamasaidsaturday night congress...</td>\n",
       "      <td>0</td>\n",
       "    </tr>\n",
       "  </tbody>\n",
       "</table>\n",
       "</div>"
      ],
      "text/plain": [
       "                                                   title  \\\n",
       "index                                                      \n",
       "0      studi woman drive time farther texa law close ...   \n",
       "1                     trump clinton clash duel dc speech   \n",
       "2      reproduct right hang balanc debat moder drop ball   \n",
       "3      despit constant debat american abort opinion r...   \n",
       "4              obama argu gover shutdown plan parenthood   \n",
       "\n",
       "                                                    text  label  \n",
       "index                                                            \n",
       "0      ever sinc texa law close half state abort clin...      0  \n",
       "1      donald trump hillari clinton start line genera...      0  \n",
       "2      washington fortythre year suprem court establi...      0  \n",
       "3      big week abort newscar fiorina passion inaccur...      0  \n",
       "4      presid barack obamasaidsaturday night congress...      0  "
      ]
     },
     "execution_count": 51,
     "metadata": {},
     "output_type": "execute_result"
    }
   ],
   "source": [
    "df.head()"
   ]
  },
  {
   "cell_type": "markdown",
   "metadata": {},
   "source": [
    "Six articles are going to be removed since they are part of the survey and because the model should make a prediction on these without being previously biased."
   ]
  },
  {
   "cell_type": "code",
   "execution_count": 52,
   "metadata": {},
   "outputs": [],
   "source": [
    "# 5099 \tsmell hillari fear \tdaniel greenfield shillman journal fellow free... \t1\n",
    "# 4988 \tpoll find american support polic highest near ... \tpast year american seen polic offic ambush ass... \t1\n",
    "# 534 \tbattl new york primari matter \tprimari day new york frontrunn hillari clinton... \t0\n",
    "# 4777 \tuk announc new troop deploy near russia border \tmilitari british defens secretari michael fall... \t1\n",
    "# 2734 \trussia join franc strike isi stronghold syria \trussian militari might join french warplan tue... \t0\n",
    "# 2058 \tshortag lethal inject drug put death penalti s... \tsuprem court mondaydecid oklahoma may continu ... \t0\n",
    "\n",
    "# find a row\n",
    "#df[df['title'].str.contains(\"lethal inj\")]\n",
    "\n",
    "# del a row\n",
    "df.drop(index=5099, inplace=True)\n",
    "df.drop(index=4988, inplace=True)\n",
    "df.drop(index=534, inplace=True)\n",
    "df.drop(index=4777, inplace=True)\n",
    "df.drop(index=2734, inplace=True)\n",
    "df.drop(index=2058, inplace=True)"
   ]
  },
  {
   "cell_type": "code",
   "execution_count": 53,
   "metadata": {},
   "outputs": [
    {
     "data": {
      "text/html": [
       "<div>\n",
       "<style scoped>\n",
       "    .dataframe tbody tr th:only-of-type {\n",
       "        vertical-align: middle;\n",
       "    }\n",
       "\n",
       "    .dataframe tbody tr th {\n",
       "        vertical-align: top;\n",
       "    }\n",
       "\n",
       "    .dataframe thead th {\n",
       "        text-align: right;\n",
       "    }\n",
       "</style>\n",
       "<table border=\"1\" class=\"dataframe\">\n",
       "  <thead>\n",
       "    <tr style=\"text-align: right;\">\n",
       "      <th></th>\n",
       "      <th>title</th>\n",
       "      <th>text</th>\n",
       "      <th>label</th>\n",
       "    </tr>\n",
       "    <tr>\n",
       "      <th>index</th>\n",
       "      <th></th>\n",
       "      <th></th>\n",
       "      <th></th>\n",
       "    </tr>\n",
       "  </thead>\n",
       "  <tbody>\n",
       "    <tr>\n",
       "      <th>0</th>\n",
       "      <td>studi woman drive time farther texa law close ...</td>\n",
       "      <td>ever sinc texa law close half state abort clin...</td>\n",
       "      <td>0</td>\n",
       "    </tr>\n",
       "    <tr>\n",
       "      <th>1</th>\n",
       "      <td>trump clinton clash duel dc speech</td>\n",
       "      <td>donald trump hillari clinton start line genera...</td>\n",
       "      <td>0</td>\n",
       "    </tr>\n",
       "    <tr>\n",
       "      <th>2</th>\n",
       "      <td>reproduct right hang balanc debat moder drop ball</td>\n",
       "      <td>washington fortythre year suprem court establi...</td>\n",
       "      <td>0</td>\n",
       "    </tr>\n",
       "    <tr>\n",
       "      <th>3</th>\n",
       "      <td>despit constant debat american abort opinion r...</td>\n",
       "      <td>big week abort newscar fiorina passion inaccur...</td>\n",
       "      <td>0</td>\n",
       "    </tr>\n",
       "    <tr>\n",
       "      <th>4</th>\n",
       "      <td>obama argu gover shutdown plan parenthood</td>\n",
       "      <td>presid barack obamasaidsaturday night congress...</td>\n",
       "      <td>0</td>\n",
       "    </tr>\n",
       "  </tbody>\n",
       "</table>\n",
       "</div>"
      ],
      "text/plain": [
       "                                                   title  \\\n",
       "index                                                      \n",
       "0      studi woman drive time farther texa law close ...   \n",
       "1                     trump clinton clash duel dc speech   \n",
       "2      reproduct right hang balanc debat moder drop ball   \n",
       "3      despit constant debat american abort opinion r...   \n",
       "4              obama argu gover shutdown plan parenthood   \n",
       "\n",
       "                                                    text  label  \n",
       "index                                                            \n",
       "0      ever sinc texa law close half state abort clin...      0  \n",
       "1      donald trump hillari clinton start line genera...      0  \n",
       "2      washington fortythre year suprem court establi...      0  \n",
       "3      big week abort newscar fiorina passion inaccur...      0  \n",
       "4      presid barack obamasaidsaturday night congress...      0  "
      ]
     },
     "execution_count": 53,
     "metadata": {},
     "output_type": "execute_result"
    }
   ],
   "source": [
    "#assign index anew\n",
    "df['index'] = df.reset_index().index\n",
    "df.set_index(\"index\", inplace=True)\n",
    "df.head()"
   ]
  },
  {
   "cell_type": "markdown",
   "metadata": {},
   "source": [
    "### 3 e) - TF-IDF "
   ]
  },
  {
   "cell_type": "markdown",
   "metadata": {},
   "source": [
    "Since ML algorithms require numerical data as input instead of text, the text will be vectorised using the TF-IDF method, which stands for term frequency - inverse document frequency. TF-IDF is measure of orginiality of a word by comparing the number of times a word appears in a doc with the number of docs the words appears in."
   ]
  },
  {
   "cell_type": "code",
   "execution_count": 54,
   "metadata": {},
   "outputs": [],
   "source": [
    "df[\"title\"] = df[\"title\"].replace(\"[^a-zA-Z0-9 ]\", \"\", regex=True)"
   ]
  },
  {
   "cell_type": "code",
   "execution_count": 55,
   "metadata": {},
   "outputs": [],
   "source": [
    "from sklearn.feature_extraction.text import TfidfVectorizer\n",
    "\n",
    "tfidf = TfidfVectorizer(max_df=0.7)\n",
    "feature_matrix = tfidf.fit_transform(df[\"title\"])"
   ]
  },
  {
   "cell_type": "code",
   "execution_count": 56,
   "metadata": {},
   "outputs": [
    {
     "data": {
      "text/plain": [
       "array([[0., 0., 0., ..., 0., 0., 0.],\n",
       "       [0., 0., 0., ..., 0., 0., 0.],\n",
       "       [0., 0., 0., ..., 0., 0., 0.],\n",
       "       ...,\n",
       "       [0., 0., 0., ..., 0., 0., 0.],\n",
       "       [0., 0., 0., ..., 0., 0., 0.],\n",
       "       [0., 0., 0., ..., 0., 0., 0.]])"
      ]
     },
     "execution_count": 56,
     "metadata": {},
     "output_type": "execute_result"
    }
   ],
   "source": [
    "feature_matrix.toarray()"
   ]
  },
  {
   "cell_type": "code",
   "execution_count": 57,
   "metadata": {},
   "outputs": [
    {
     "data": {
      "text/plain": [
       "['aap',\n",
       " 'abandon',\n",
       " 'abbi',\n",
       " 'abc',\n",
       " 'abcwapo',\n",
       " 'abduct',\n",
       " 'abdullah',\n",
       " 'abedin',\n",
       " 'abil',\n",
       " 'abl',\n",
       " 'abnorm',\n",
       " 'aboard',\n",
       " 'abolish',\n",
       " 'abort',\n",
       " 'abortionrevers',\n",
       " 'abridg',\n",
       " 'abroad',\n",
       " 'abrog',\n",
       " 'absenc',\n",
       " 'absente',\n",
       " 'absolut',\n",
       " 'abstain',\n",
       " 'absurd',\n",
       " 'abu',\n",
       " 'abus',\n",
       " 'abyss',\n",
       " 'aca',\n",
       " 'accept',\n",
       " 'access',\n",
       " 'accid',\n",
       " 'accident',\n",
       " 'accomplish',\n",
       " 'accord',\n",
       " 'account',\n",
       " 'accur',\n",
       " 'accus',\n",
       " 'acela',\n",
       " 'acheron',\n",
       " 'achiev',\n",
       " 'ackbar',\n",
       " 'acknowledg',\n",
       " 'aclu',\n",
       " 'acquir',\n",
       " 'acquisit',\n",
       " 'acquit',\n",
       " 'acquitt',\n",
       " 'acr',\n",
       " 'across',\n",
       " 'act',\n",
       " 'action',\n",
       " 'activ',\n",
       " 'activist',\n",
       " 'actor',\n",
       " 'actual',\n",
       " 'acupunctur',\n",
       " 'ad',\n",
       " 'adam',\n",
       " 'adapt',\n",
       " 'add',\n",
       " 'adderal',\n",
       " 'addict',\n",
       " 'addictionher',\n",
       " 'address',\n",
       " 'adelson',\n",
       " 'adequ',\n",
       " 'adhd',\n",
       " 'adhm',\n",
       " 'adjust',\n",
       " 'admin',\n",
       " 'administr',\n",
       " 'admir',\n",
       " 'admit',\n",
       " 'adopt',\n",
       " 'ador',\n",
       " 'adpr',\n",
       " 'adpresnet',\n",
       " 'adult',\n",
       " 'advanc',\n",
       " 'advantag',\n",
       " 'advert',\n",
       " 'advertis',\n",
       " 'advic',\n",
       " 'advis',\n",
       " 'advisor',\n",
       " 'advoc',\n",
       " 'aerodynam',\n",
       " 'afar',\n",
       " 'affair',\n",
       " 'affect',\n",
       " 'affili',\n",
       " 'affirm',\n",
       " 'afford',\n",
       " 'affront',\n",
       " 'afghan',\n",
       " 'afghanistan',\n",
       " 'aficionado',\n",
       " 'afraid',\n",
       " 'africa',\n",
       " 'african',\n",
       " 'africanamerican',\n",
       " 'aftermath',\n",
       " 'aftershock',\n",
       " 'ag',\n",
       " 'age',\n",
       " 'agenc',\n",
       " 'agenda',\n",
       " 'agent',\n",
       " 'aggress',\n",
       " 'aggro',\n",
       " 'agit',\n",
       " 'agn',\n",
       " 'ago',\n",
       " 'agoni',\n",
       " 'agre',\n",
       " 'agreement',\n",
       " 'agricultur',\n",
       " 'agropoison',\n",
       " 'ahead',\n",
       " 'ai',\n",
       " 'aid',\n",
       " 'aig',\n",
       " 'ail',\n",
       " 'aim',\n",
       " 'air',\n",
       " 'airbnb',\n",
       " 'aircraft',\n",
       " 'airman',\n",
       " 'airplan',\n",
       " 'airport',\n",
       " 'airstrik',\n",
       " 'akbar',\n",
       " 'al',\n",
       " 'alabadi',\n",
       " 'alabama',\n",
       " 'alarm',\n",
       " 'alarmist',\n",
       " 'alasdair',\n",
       " 'alaska',\n",
       " 'alassad',\n",
       " 'albert',\n",
       " 'alberto',\n",
       " 'albright',\n",
       " 'album',\n",
       " 'alcohol',\n",
       " 'aleppo',\n",
       " 'alert',\n",
       " 'alex',\n",
       " 'alfatah',\n",
       " 'ali',\n",
       " 'alicia',\n",
       " 'alien',\n",
       " 'align',\n",
       " 'alist',\n",
       " 'alito',\n",
       " 'aliv',\n",
       " 'allah',\n",
       " 'allahu',\n",
       " 'allamerican',\n",
       " 'allay',\n",
       " 'alleg',\n",
       " 'allegi',\n",
       " 'allen',\n",
       " 'alli',\n",
       " 'allianc',\n",
       " 'allin',\n",
       " 'alloc',\n",
       " 'allout',\n",
       " 'allow',\n",
       " 'allpay',\n",
       " 'alltim',\n",
       " 'alltoofamiliar',\n",
       " 'almost',\n",
       " 'alnusra',\n",
       " 'alon',\n",
       " 'along',\n",
       " 'aloof',\n",
       " 'alphabet',\n",
       " 'alqaeda',\n",
       " 'alreadi',\n",
       " 'alreadyflag',\n",
       " 'also',\n",
       " 'alsoran',\n",
       " 'alt',\n",
       " 'alter',\n",
       " 'altern',\n",
       " 'altmarket',\n",
       " 'altright',\n",
       " 'altruist',\n",
       " 'alway',\n",
       " 'amaz',\n",
       " 'amazinglook',\n",
       " 'ambassador',\n",
       " 'ambit',\n",
       " 'ambival',\n",
       " 'ambul',\n",
       " 'ambush',\n",
       " 'ambushstyl',\n",
       " 'ame',\n",
       " 'amend',\n",
       " 'america',\n",
       " 'american',\n",
       " 'americana',\n",
       " 'ami',\n",
       " 'amid',\n",
       " 'amish',\n",
       " 'ammo',\n",
       " 'ammon',\n",
       " 'ammosexu',\n",
       " 'amnesti',\n",
       " 'among',\n",
       " 'amount',\n",
       " 'amp',\n",
       " 'amphibi',\n",
       " 'amtrak',\n",
       " 'amur',\n",
       " 'amurexit',\n",
       " 'amus',\n",
       " 'anaheim',\n",
       " 'analysi',\n",
       " 'analyst',\n",
       " 'anarchi',\n",
       " 'anarchist',\n",
       " 'anastasia',\n",
       " 'anatomi',\n",
       " 'anbar',\n",
       " 'anchor',\n",
       " 'ancient',\n",
       " 'anderson',\n",
       " 'andes',\n",
       " 'andrew',\n",
       " 'anew',\n",
       " 'angel',\n",
       " 'angela',\n",
       " 'angelina',\n",
       " 'anger',\n",
       " 'anglin',\n",
       " 'angri',\n",
       " 'angriest',\n",
       " 'anim',\n",
       " 'animos',\n",
       " 'ankl',\n",
       " 'ann',\n",
       " 'anna',\n",
       " 'annihil',\n",
       " 'anniversari',\n",
       " 'annot',\n",
       " 'announc',\n",
       " 'annual',\n",
       " 'annul',\n",
       " 'anonym',\n",
       " 'anot',\n",
       " 'anoth',\n",
       " 'answer',\n",
       " 'ant',\n",
       " 'antarct',\n",
       " 'antarctica',\n",
       " 'anthem',\n",
       " 'anthoni',\n",
       " 'anthropecen',\n",
       " 'anti',\n",
       " 'antiaircraft',\n",
       " 'antibiot',\n",
       " 'antic',\n",
       " 'anticip',\n",
       " 'anticlinton',\n",
       " 'anticommunist',\n",
       " 'anticorrupt',\n",
       " 'antidepress',\n",
       " 'antiestablish',\n",
       " 'antifamin',\n",
       " 'antigovern',\n",
       " 'antigovt',\n",
       " 'antihillari',\n",
       " 'antiiran',\n",
       " 'antiiraq',\n",
       " 'antiisi',\n",
       " 'antiislam',\n",
       " 'antiisrael',\n",
       " 'antijihad',\n",
       " 'antilgbt',\n",
       " 'antimalaria',\n",
       " 'antimissil',\n",
       " 'antimuhammad',\n",
       " 'antimuslim',\n",
       " 'antiparticl',\n",
       " 'antiplan',\n",
       " 'antipoverti',\n",
       " 'antiqu',\n",
       " 'antirussia',\n",
       " 'antirussian',\n",
       " 'antisemit',\n",
       " 'antisex',\n",
       " 'antitank',\n",
       " 'antiterror',\n",
       " 'antithet',\n",
       " 'antitrump',\n",
       " 'antiunion',\n",
       " 'antivax',\n",
       " 'antiwar',\n",
       " 'antonin',\n",
       " 'antonio',\n",
       " 'anxieti',\n",
       " 'anxious',\n",
       " 'anybodi',\n",
       " 'anymor',\n",
       " 'anyon',\n",
       " 'anyth',\n",
       " 'anyway',\n",
       " 'anywher',\n",
       " 'ao',\n",
       " 'ap',\n",
       " 'apart',\n",
       " 'apartheid',\n",
       " 'api',\n",
       " 'apocalyps',\n",
       " 'apocalypt',\n",
       " 'apolog',\n",
       " 'apologis',\n",
       " 'apologistinchief',\n",
       " 'apost',\n",
       " 'app',\n",
       " 'appal',\n",
       " 'appar',\n",
       " 'appeal',\n",
       " 'appear',\n",
       " 'appeas',\n",
       " 'appl',\n",
       " 'applebe',\n",
       " 'appli',\n",
       " 'applic',\n",
       " 'appoint',\n",
       " 'appreci',\n",
       " 'apprentic',\n",
       " 'approach',\n",
       " 'appropri',\n",
       " 'approv',\n",
       " 'april',\n",
       " 'aqutru',\n",
       " 'ar',\n",
       " 'arab',\n",
       " 'arabia',\n",
       " 'arabian',\n",
       " 'arc',\n",
       " 'archil',\n",
       " 'architect',\n",
       " 'arctic',\n",
       " 'arcturian',\n",
       " 'area',\n",
       " 'arent',\n",
       " 'aretha',\n",
       " 'argu',\n",
       " 'argument',\n",
       " 'ari',\n",
       " 'aria',\n",
       " 'arianna',\n",
       " 'ariel',\n",
       " 'aris',\n",
       " 'aristocraci',\n",
       " 'arizona',\n",
       " 'ark',\n",
       " 'arkansa',\n",
       " 'arm',\n",
       " 'armenia',\n",
       " 'armenian',\n",
       " 'armi',\n",
       " 'armstrong',\n",
       " 'arn',\n",
       " 'arnab',\n",
       " 'around',\n",
       " 'arquett',\n",
       " 'arrang',\n",
       " 'arrest',\n",
       " 'arriv',\n",
       " 'arrog',\n",
       " 'arsenal',\n",
       " 'arson',\n",
       " 'art',\n",
       " 'arteri',\n",
       " 'articl',\n",
       " 'artifact',\n",
       " 'artifici',\n",
       " 'artist',\n",
       " 'aryan',\n",
       " 'as',\n",
       " 'ascend',\n",
       " 'asda',\n",
       " 'ashton',\n",
       " 'ashutosh',\n",
       " 'asia',\n",
       " 'asid',\n",
       " 'ask',\n",
       " 'aspartam',\n",
       " 'ass',\n",
       " 'assad',\n",
       " 'assang',\n",
       " 'assangepilg',\n",
       " 'assasin',\n",
       " 'assassin',\n",
       " 'assault',\n",
       " 'assembl',\n",
       " 'assert',\n",
       " 'asset',\n",
       " 'assist',\n",
       " 'assistedsuicid',\n",
       " 'associ',\n",
       " 'assum',\n",
       " 'assumpt',\n",
       " 'assur',\n",
       " 'asthm',\n",
       " 'astonish',\n",
       " 'astronaut',\n",
       " 'astronom',\n",
       " 'asylum',\n",
       " 'atf',\n",
       " 'atlanta',\n",
       " 'atlanti',\n",
       " 'atm',\n",
       " 'atroc',\n",
       " 'att',\n",
       " 'attach',\n",
       " 'attack',\n",
       " 'attempt',\n",
       " 'attend',\n",
       " 'attende',\n",
       " 'attent',\n",
       " 'attir',\n",
       " 'attitud',\n",
       " 'attorney',\n",
       " 'attract',\n",
       " 'atttim',\n",
       " 'audaci',\n",
       " 'audienc',\n",
       " 'audio',\n",
       " 'auditor',\n",
       " 'aumf',\n",
       " 'aussi',\n",
       " 'australia',\n",
       " 'australian',\n",
       " 'austria',\n",
       " 'austrian',\n",
       " 'austyn',\n",
       " 'authent',\n",
       " 'author',\n",
       " 'authoritarian',\n",
       " 'autism',\n",
       " 'autist',\n",
       " 'auto',\n",
       " 'autom',\n",
       " 'automat',\n",
       " 'autonom',\n",
       " 'avail',\n",
       " 'aveng',\n",
       " 'averag',\n",
       " 'avert',\n",
       " 'aviv',\n",
       " 'avocado',\n",
       " 'avoid',\n",
       " 'aw',\n",
       " 'await',\n",
       " 'awaken',\n",
       " 'award',\n",
       " 'away',\n",
       " 'awe',\n",
       " 'awesom',\n",
       " 'awkward',\n",
       " 'awol',\n",
       " 'axelrod',\n",
       " 'axi',\n",
       " 'ayahuasca',\n",
       " 'ayatollah',\n",
       " 'ayott',\n",
       " 'az',\n",
       " 'baba',\n",
       " 'babi',\n",
       " 'babylon',\n",
       " 'back',\n",
       " 'backbon',\n",
       " 'backer',\n",
       " 'backfir',\n",
       " 'background',\n",
       " 'backlash',\n",
       " 'backlog',\n",
       " 'backout',\n",
       " 'backseat',\n",
       " 'backstori',\n",
       " 'backup',\n",
       " 'backward',\n",
       " 'bacon',\n",
       " 'bad',\n",
       " 'badass',\n",
       " 'badasseri',\n",
       " 'bader',\n",
       " 'badg',\n",
       " 'badham',\n",
       " 'badtemp',\n",
       " 'baffl',\n",
       " 'bag',\n",
       " 'baghdad',\n",
       " 'bahaha',\n",
       " 'bahraini',\n",
       " 'baier',\n",
       " 'bail',\n",
       " 'bailout',\n",
       " 'bake',\n",
       " 'bakeri',\n",
       " 'balanc',\n",
       " 'baldfac',\n",
       " 'baldwin',\n",
       " 'balfour',\n",
       " 'balkan',\n",
       " 'ball',\n",
       " 'ballist',\n",
       " 'balloo',\n",
       " 'ballot',\n",
       " 'balochistan',\n",
       " 'baltic',\n",
       " 'baltimor',\n",
       " 'ban',\n",
       " 'banana',\n",
       " 'bancroft',\n",
       " 'bang',\n",
       " 'banish',\n",
       " 'bank',\n",
       " 'banker',\n",
       " 'bankrupt',\n",
       " 'banner',\n",
       " 'bannon',\n",
       " 'bar',\n",
       " 'barack',\n",
       " 'barag',\n",
       " 'barbar',\n",
       " 'barbara',\n",
       " 'barbarian',\n",
       " 'bare',\n",
       " 'bargain',\n",
       " 'barista',\n",
       " 'barney',\n",
       " 'barnstorm',\n",
       " 'baron',\n",
       " 'barrag',\n",
       " 'barrel',\n",
       " 'barrier',\n",
       " 'barter',\n",
       " 'base',\n",
       " 'basebal',\n",
       " 'basement',\n",
       " 'bash',\n",
       " 'bashar',\n",
       " 'basi',\n",
       " 'basic',\n",
       " 'basil',\n",
       " 'basket',\n",
       " 'batch',\n",
       " 'bathroom',\n",
       " 'baton',\n",
       " 'batteri',\n",
       " 'battl',\n",
       " 'battleground',\n",
       " 'battleship',\n",
       " 'bauer',\n",
       " 'bay',\n",
       " 'bayh',\n",
       " 'baylor',\n",
       " 'bbc',\n",
       " 'beammeupscotti',\n",
       " 'bean',\n",
       " 'bear',\n",
       " 'beast',\n",
       " 'beat',\n",
       " 'beaten',\n",
       " 'beau',\n",
       " 'beaulieu',\n",
       " 'beauti',\n",
       " 'becam',\n",
       " 'beck',\n",
       " 'beckel',\n",
       " 'becom',\n",
       " 'bee',\n",
       " 'beef',\n",
       " 'beeley',\n",
       " 'beer',\n",
       " 'beg',\n",
       " 'began',\n",
       " 'begin',\n",
       " 'begun',\n",
       " 'behavior',\n",
       " 'behaviour',\n",
       " 'behead',\n",
       " 'behind',\n",
       " 'bela',\n",
       " 'belarus',\n",
       " 'belgian',\n",
       " 'belgium',\n",
       " 'belief',\n",
       " 'believ',\n",
       " 'beliz',\n",
       " 'bella',\n",
       " 'belliger',\n",
       " 'belong',\n",
       " 'belt',\n",
       " 'beltway',\n",
       " 'ben',\n",
       " 'bend',\n",
       " 'beneath',\n",
       " 'benefit',\n",
       " 'bengaluru',\n",
       " 'benghazi',\n",
       " 'benjamin',\n",
       " 'benni',\n",
       " 'bergdahl',\n",
       " 'berkeley',\n",
       " 'berkley',\n",
       " 'berlin',\n",
       " 'bern',\n",
       " 'bernardino',\n",
       " 'berni',\n",
       " 'berniac',\n",
       " 'bernienom',\n",
       " 'berserk',\n",
       " 'besid',\n",
       " 'best',\n",
       " 'bet',\n",
       " 'betoota',\n",
       " 'betray',\n",
       " 'better',\n",
       " 'bev',\n",
       " 'bevin',\n",
       " 'bewar',\n",
       " 'beyonc',\n",
       " 'beyond',\n",
       " 'bezo',\n",
       " 'bias',\n",
       " 'bibi',\n",
       " 'bibl',\n",
       " 'biblic',\n",
       " 'bid',\n",
       " 'biden',\n",
       " 'big',\n",
       " 'bigger',\n",
       " 'biggest',\n",
       " 'bigmoney',\n",
       " 'bigot',\n",
       " 'bigotri',\n",
       " 'bike',\n",
       " 'biker',\n",
       " 'bikini',\n",
       " 'bill',\n",
       " 'billari',\n",
       " 'billclinton',\n",
       " 'billion',\n",
       " 'billionair',\n",
       " 'bimbo',\n",
       " 'bin',\n",
       " 'bind',\n",
       " 'biolog',\n",
       " 'biometr',\n",
       " 'bionic',\n",
       " 'bipartisan',\n",
       " 'bird',\n",
       " 'birkenfeld',\n",
       " 'birth',\n",
       " 'birthday',\n",
       " 'birther',\n",
       " 'birthplac',\n",
       " 'birthright',\n",
       " 'bishop',\n",
       " 'bison',\n",
       " 'bit',\n",
       " 'bitch',\n",
       " 'bitcoin',\n",
       " 'bite',\n",
       " 'bitter',\n",
       " 'biz',\n",
       " 'bizarr',\n",
       " 'black',\n",
       " 'blackberri',\n",
       " 'blackhead',\n",
       " 'blackheart',\n",
       " 'blacklivesmatt',\n",
       " 'blackmail',\n",
       " 'blackout',\n",
       " 'blackwhit',\n",
       " 'blair',\n",
       " 'blake',\n",
       " 'blame',\n",
       " 'blanc',\n",
       " 'blanket',\n",
       " 'blasio',\n",
       " 'blasphem',\n",
       " 'blasphemi',\n",
       " 'blast',\n",
       " 'blatant',\n",
       " 'bleed',\n",
       " 'bless',\n",
       " 'blew',\n",
       " 'blind',\n",
       " 'blindsid',\n",
       " 'blitz',\n",
       " 'blizzard',\n",
       " 'blm',\n",
       " 'blob',\n",
       " 'bloc',\n",
       " 'block',\n",
       " 'blockbust',\n",
       " 'blog',\n",
       " 'blogopen',\n",
       " 'blood',\n",
       " 'bloodbath',\n",
       " 'bloodi',\n",
       " 'bloomberg',\n",
       " 'bloombergback',\n",
       " 'blot',\n",
       " 'bloviat',\n",
       " 'blow',\n",
       " 'blowback',\n",
       " 'blowhard',\n",
       " 'blown',\n",
       " 'blowout',\n",
       " 'blu',\n",
       " 'blue',\n",
       " 'bluebeam',\n",
       " 'bluff',\n",
       " 'blunder',\n",
       " 'blunt',\n",
       " 'board',\n",
       " 'boast',\n",
       " 'boat',\n",
       " 'boati',\n",
       " 'bob',\n",
       " 'bobbi',\n",
       " 'bodden',\n",
       " 'bode',\n",
       " 'bodi',\n",
       " 'bodyguard',\n",
       " 'boehner',\n",
       " 'boil',\n",
       " 'boko',\n",
       " 'bold',\n",
       " 'bolivian',\n",
       " 'bollywood',\n",
       " 'bolster',\n",
       " 'bomb',\n",
       " 'bombard',\n",
       " 'bomber',\n",
       " 'bombshel',\n",
       " 'bond',\n",
       " 'bone',\n",
       " 'bonfir',\n",
       " 'bonni',\n",
       " 'bonus',\n",
       " 'boo',\n",
       " 'boobi',\n",
       " 'book',\n",
       " 'booker',\n",
       " 'boom',\n",
       " 'boost',\n",
       " 'booth',\n",
       " 'booti',\n",
       " 'booz',\n",
       " 'border',\n",
       " 'bore',\n",
       " 'bori',\n",
       " 'borja',\n",
       " 'born',\n",
       " 'borromeo',\n",
       " 'bos',\n",
       " 'bosanski',\n",
       " 'boston',\n",
       " 'bot',\n",
       " 'botch',\n",
       " 'botox',\n",
       " 'bottom',\n",
       " 'bottomfish',\n",
       " 'bought',\n",
       " 'boulder',\n",
       " 'boulevard',\n",
       " 'bounc',\n",
       " 'boundless',\n",
       " 'bourgeoi',\n",
       " 'bow',\n",
       " 'bowl',\n",
       " 'box',\n",
       " 'boxer',\n",
       " 'boy',\n",
       " 'boycott',\n",
       " 'boyfriend',\n",
       " 'boyl',\n",
       " 'brace',\n",
       " 'bradley',\n",
       " 'brag',\n",
       " 'brain',\n",
       " 'brainwash',\n",
       " 'braless',\n",
       " 'branch',\n",
       " 'brand',\n",
       " 'brandt',\n",
       " 'brave',\n",
       " 'braverman',\n",
       " 'brawl',\n",
       " 'brazen',\n",
       " 'brazil',\n",
       " 'breach',\n",
       " 'break',\n",
       " 'breakdown',\n",
       " 'breakfast',\n",
       " 'breakingexclus',\n",
       " 'breakneck',\n",
       " 'breakout',\n",
       " 'breakthrough',\n",
       " 'breast',\n",
       " 'breath',\n",
       " 'breathtak',\n",
       " 'breitbart',\n",
       " 'breitbartgravi',\n",
       " 'bret',\n",
       " 'brew',\n",
       " 'breweri',\n",
       " 'brexit',\n",
       " 'brexittyp',\n",
       " 'brian',\n",
       " 'bribe',\n",
       " 'briberi',\n",
       " 'bric',\n",
       " 'brick',\n",
       " 'brickbat',\n",
       " 'bridg',\n",
       " 'brief',\n",
       " 'briefli',\n",
       " 'brigad',\n",
       " 'bright',\n",
       " 'brighten',\n",
       " 'brilliant',\n",
       " 'brimelow',\n",
       " 'bring',\n",
       " 'brink',\n",
       " 'brinkmanship',\n",
       " 'bristl',\n",
       " 'britain',\n",
       " 'british',\n",
       " 'briton',\n",
       " 'brittl',\n",
       " 'broad',\n",
       " 'broadcast',\n",
       " 'broaden',\n",
       " 'broadest',\n",
       " 'broccoli',\n",
       " 'broil',\n",
       " 'broke',\n",
       " 'broken',\n",
       " 'broker',\n",
       " 'bronx',\n",
       " 'brothel',\n",
       " 'brother',\n",
       " 'brotherhood',\n",
       " 'brotherjohnf',\n",
       " 'brought',\n",
       " 'broward',\n",
       " 'brown',\n",
       " 'bruce',\n",
       " 'bruis',\n",
       " 'brush',\n",
       " 'brussel',\n",
       " 'brutal',\n",
       " 'bryce',\n",
       " 'bubbl',\n",
       " 'bubl',\n",
       " 'buchanan',\n",
       " 'buck',\n",
       " 'buckley',\n",
       " 'budg',\n",
       " 'budget',\n",
       " 'budgetari',\n",
       " 'budweis',\n",
       " 'buffalo',\n",
       " 'buffett',\n",
       " 'bug',\n",
       " 'build',\n",
       " 'buildup',\n",
       " 'built',\n",
       " 'bulg',\n",
       " 'bull',\n",
       " 'bulldog',\n",
       " 'bullet',\n",
       " 'bulli',\n",
       " 'bullion',\n",
       " 'bum',\n",
       " 'bumbl',\n",
       " 'bumperstick',\n",
       " 'bundi',\n",
       " 'bungl',\n",
       " 'bunk',\n",
       " 'bunni',\n",
       " 'bure',\n",
       " 'bureau',\n",
       " 'burger',\n",
       " 'burglar',\n",
       " 'buri',\n",
       " 'burial',\n",
       " 'burka',\n",
       " 'burn',\n",
       " 'burnout',\n",
       " 'burnt',\n",
       " 'burst',\n",
       " 'bus',\n",
       " 'buse',\n",
       " 'bush',\n",
       " 'busi',\n",
       " 'bust',\n",
       " 'buster',\n",
       " 'butthurt',\n",
       " 'button',\n",
       " 'buy',\n",
       " 'buzz',\n",
       " 'buzzfe',\n",
       " 'bypass',\n",
       " 'ca',\n",
       " 'cabal',\n",
       " 'cabin',\n",
       " 'cabinet',\n",
       " 'cabl',\n",
       " 'cach',\n",
       " 'cadet',\n",
       " 'cafe',\n",
       " 'cahil',\n",
       " 'cahoot',\n",
       " 'cair',\n",
       " 'caitlyn',\n",
       " 'cake',\n",
       " 'calai',\n",
       " 'calam',\n",
       " 'calcium',\n",
       " 'calcul',\n",
       " 'calendar',\n",
       " 'calif',\n",
       " 'california',\n",
       " 'call',\n",
       " 'calm',\n",
       " 'cam',\n",
       " 'camden',\n",
       " 'came',\n",
       " 'camera',\n",
       " 'cameron',\n",
       " 'camilla',\n",
       " 'camp',\n",
       " 'campaign',\n",
       " 'camper',\n",
       " 'campus',\n",
       " 'canada',\n",
       " 'canadian',\n",
       " 'cancel',\n",
       " 'cancer',\n",
       " 'cancerlink',\n",
       " 'candac',\n",
       " 'candid',\n",
       " 'candidaci',\n",
       " 'cannabi',\n",
       " 'cannib',\n",
       " 'cano',\n",
       " 'canspam',\n",
       " 'cant',\n",
       " 'canter',\n",
       " 'cap',\n",
       " 'capabl',\n",
       " 'capit',\n",
       " 'capitan',\n",
       " 'capitol',\n",
       " 'capston',\n",
       " 'captiv',\n",
       " 'captur',\n",
       " 'car',\n",
       " 'carbon',\n",
       " 'carcinogen',\n",
       " 'card',\n",
       " 'cardin',\n",
       " 'care',\n",
       " 'career',\n",
       " 'carey',\n",
       " 'cargo',\n",
       " 'caricatur',\n",
       " 'carl',\n",
       " 'carlo',\n",
       " 'carlzimm',\n",
       " 'carmel',\n",
       " 'carnag',\n",
       " 'carney',\n",
       " 'carol',\n",
       " 'carolina',\n",
       " 'carri',\n",
       " 'carrier',\n",
       " 'carrot',\n",
       " 'carson',\n",
       " 'cart',\n",
       " 'carter',\n",
       " 'cartoon',\n",
       " 'carv',\n",
       " 'case',\n",
       " 'cash',\n",
       " 'cashin',\n",
       " 'cashstrap',\n",
       " 'cast',\n",
       " ...]"
      ]
     },
     "execution_count": 57,
     "metadata": {},
     "output_type": "execute_result"
    }
   ],
   "source": [
    "tfidf.get_feature_names()"
   ]
  },
  {
   "cell_type": "code",
   "execution_count": 58,
   "metadata": {},
   "outputs": [],
   "source": [
    "df_title_tfidf = pd.DataFrame(feature_matrix.toarray(), columns=tfidf.get_feature_names())"
   ]
  },
  {
   "cell_type": "code",
   "execution_count": 59,
   "metadata": {},
   "outputs": [
    {
     "data": {
      "text/html": [
       "<div>\n",
       "<style scoped>\n",
       "    .dataframe tbody tr th:only-of-type {\n",
       "        vertical-align: middle;\n",
       "    }\n",
       "\n",
       "    .dataframe tbody tr th {\n",
       "        vertical-align: top;\n",
       "    }\n",
       "\n",
       "    .dataframe thead th {\n",
       "        text-align: right;\n",
       "    }\n",
       "</style>\n",
       "<table border=\"1\" class=\"dataframe\">\n",
       "  <thead>\n",
       "    <tr style=\"text-align: right;\">\n",
       "      <th></th>\n",
       "      <th>aap</th>\n",
       "      <th>abandon</th>\n",
       "      <th>abbi</th>\n",
       "      <th>abc</th>\n",
       "      <th>abcwapo</th>\n",
       "      <th>abduct</th>\n",
       "      <th>abdullah</th>\n",
       "      <th>abedin</th>\n",
       "      <th>abil</th>\n",
       "      <th>abl</th>\n",
       "      <th>...</th>\n",
       "      <th>zika</th>\n",
       "      <th>zimbabw</th>\n",
       "      <th>zion</th>\n",
       "      <th>zionist</th>\n",
       "      <th>zip</th>\n",
       "      <th>zone</th>\n",
       "      <th>ztech</th>\n",
       "      <th>zuckerberg</th>\n",
       "      <th>zuess</th>\n",
       "      <th>zulu</th>\n",
       "    </tr>\n",
       "  </thead>\n",
       "  <tbody>\n",
       "    <tr>\n",
       "      <th>0</th>\n",
       "      <td>0.0</td>\n",
       "      <td>0.0</td>\n",
       "      <td>0.0</td>\n",
       "      <td>0.0</td>\n",
       "      <td>0.0</td>\n",
       "      <td>0.0</td>\n",
       "      <td>0.0</td>\n",
       "      <td>0.0</td>\n",
       "      <td>0.0</td>\n",
       "      <td>0.0</td>\n",
       "      <td>...</td>\n",
       "      <td>0.0</td>\n",
       "      <td>0.0</td>\n",
       "      <td>0.0</td>\n",
       "      <td>0.0</td>\n",
       "      <td>0.0</td>\n",
       "      <td>0.0</td>\n",
       "      <td>0.0</td>\n",
       "      <td>0.0</td>\n",
       "      <td>0.0</td>\n",
       "      <td>0.0</td>\n",
       "    </tr>\n",
       "    <tr>\n",
       "      <th>1</th>\n",
       "      <td>0.0</td>\n",
       "      <td>0.0</td>\n",
       "      <td>0.0</td>\n",
       "      <td>0.0</td>\n",
       "      <td>0.0</td>\n",
       "      <td>0.0</td>\n",
       "      <td>0.0</td>\n",
       "      <td>0.0</td>\n",
       "      <td>0.0</td>\n",
       "      <td>0.0</td>\n",
       "      <td>...</td>\n",
       "      <td>0.0</td>\n",
       "      <td>0.0</td>\n",
       "      <td>0.0</td>\n",
       "      <td>0.0</td>\n",
       "      <td>0.0</td>\n",
       "      <td>0.0</td>\n",
       "      <td>0.0</td>\n",
       "      <td>0.0</td>\n",
       "      <td>0.0</td>\n",
       "      <td>0.0</td>\n",
       "    </tr>\n",
       "    <tr>\n",
       "      <th>2</th>\n",
       "      <td>0.0</td>\n",
       "      <td>0.0</td>\n",
       "      <td>0.0</td>\n",
       "      <td>0.0</td>\n",
       "      <td>0.0</td>\n",
       "      <td>0.0</td>\n",
       "      <td>0.0</td>\n",
       "      <td>0.0</td>\n",
       "      <td>0.0</td>\n",
       "      <td>0.0</td>\n",
       "      <td>...</td>\n",
       "      <td>0.0</td>\n",
       "      <td>0.0</td>\n",
       "      <td>0.0</td>\n",
       "      <td>0.0</td>\n",
       "      <td>0.0</td>\n",
       "      <td>0.0</td>\n",
       "      <td>0.0</td>\n",
       "      <td>0.0</td>\n",
       "      <td>0.0</td>\n",
       "      <td>0.0</td>\n",
       "    </tr>\n",
       "    <tr>\n",
       "      <th>3</th>\n",
       "      <td>0.0</td>\n",
       "      <td>0.0</td>\n",
       "      <td>0.0</td>\n",
       "      <td>0.0</td>\n",
       "      <td>0.0</td>\n",
       "      <td>0.0</td>\n",
       "      <td>0.0</td>\n",
       "      <td>0.0</td>\n",
       "      <td>0.0</td>\n",
       "      <td>0.0</td>\n",
       "      <td>...</td>\n",
       "      <td>0.0</td>\n",
       "      <td>0.0</td>\n",
       "      <td>0.0</td>\n",
       "      <td>0.0</td>\n",
       "      <td>0.0</td>\n",
       "      <td>0.0</td>\n",
       "      <td>0.0</td>\n",
       "      <td>0.0</td>\n",
       "      <td>0.0</td>\n",
       "      <td>0.0</td>\n",
       "    </tr>\n",
       "    <tr>\n",
       "      <th>4</th>\n",
       "      <td>0.0</td>\n",
       "      <td>0.0</td>\n",
       "      <td>0.0</td>\n",
       "      <td>0.0</td>\n",
       "      <td>0.0</td>\n",
       "      <td>0.0</td>\n",
       "      <td>0.0</td>\n",
       "      <td>0.0</td>\n",
       "      <td>0.0</td>\n",
       "      <td>0.0</td>\n",
       "      <td>...</td>\n",
       "      <td>0.0</td>\n",
       "      <td>0.0</td>\n",
       "      <td>0.0</td>\n",
       "      <td>0.0</td>\n",
       "      <td>0.0</td>\n",
       "      <td>0.0</td>\n",
       "      <td>0.0</td>\n",
       "      <td>0.0</td>\n",
       "      <td>0.0</td>\n",
       "      <td>0.0</td>\n",
       "    </tr>\n",
       "  </tbody>\n",
       "</table>\n",
       "<p>5 rows × 7174 columns</p>\n",
       "</div>"
      ],
      "text/plain": [
       "   aap  abandon  abbi  abc  abcwapo  abduct  abdullah  abedin  abil  abl  ...  \\\n",
       "0  0.0      0.0   0.0  0.0      0.0     0.0       0.0     0.0   0.0  0.0  ...   \n",
       "1  0.0      0.0   0.0  0.0      0.0     0.0       0.0     0.0   0.0  0.0  ...   \n",
       "2  0.0      0.0   0.0  0.0      0.0     0.0       0.0     0.0   0.0  0.0  ...   \n",
       "3  0.0      0.0   0.0  0.0      0.0     0.0       0.0     0.0   0.0  0.0  ...   \n",
       "4  0.0      0.0   0.0  0.0      0.0     0.0       0.0     0.0   0.0  0.0  ...   \n",
       "\n",
       "   zika  zimbabw  zion  zionist  zip  zone  ztech  zuckerberg  zuess  zulu  \n",
       "0   0.0      0.0   0.0      0.0  0.0   0.0    0.0         0.0    0.0   0.0  \n",
       "1   0.0      0.0   0.0      0.0  0.0   0.0    0.0         0.0    0.0   0.0  \n",
       "2   0.0      0.0   0.0      0.0  0.0   0.0    0.0         0.0    0.0   0.0  \n",
       "3   0.0      0.0   0.0      0.0  0.0   0.0    0.0         0.0    0.0   0.0  \n",
       "4   0.0      0.0   0.0      0.0  0.0   0.0    0.0         0.0    0.0   0.0  \n",
       "\n",
       "[5 rows x 7174 columns]"
      ]
     },
     "execution_count": 59,
     "metadata": {},
     "output_type": "execute_result"
    }
   ],
   "source": [
    "df_title_tfidf.head()"
   ]
  },
  {
   "cell_type": "markdown",
   "metadata": {},
   "source": [
    "### 3 f) - Most Frequent Words"
   ]
  },
  {
   "cell_type": "markdown",
   "metadata": {},
   "source": [
    "Most frequent words in \"real\" news within the data set:"
   ]
  },
  {
   "cell_type": "code",
   "execution_count": 60,
   "metadata": {},
   "outputs": [],
   "source": [
    "df_real = df.loc[df[\"label\"] == 0]"
   ]
  },
  {
   "cell_type": "markdown",
   "metadata": {},
   "source": [
    "Most frequent words in titles"
   ]
  },
  {
   "cell_type": "code",
   "execution_count": 61,
   "metadata": {},
   "outputs": [
    {
     "data": {
      "text/plain": [
       "[('trump', 634),\n",
       " ('clinton', 399),\n",
       " ('obama', 293),\n",
       " ('gop', 243),\n",
       " ('donald', 185),\n",
       " ('hillari', 184),\n",
       " ('debat', 167),\n",
       " ('republican', 163),\n",
       " ('new', 140),\n",
       " ('say', 138)]"
      ]
     },
     "execution_count": 61,
     "metadata": {},
     "output_type": "execute_result"
    }
   ],
   "source": [
    "from collections import Counter\n",
    "Counter(\" \".join(df_real[\"title\"]).split()).most_common(10)"
   ]
  },
  {
   "cell_type": "markdown",
   "metadata": {},
   "source": [
    "Most frequent words in texts"
   ]
  },
  {
   "cell_type": "code",
   "execution_count": 62,
   "metadata": {},
   "outputs": [
    {
     "data": {
      "text/plain": [
       "[('said', 15046),\n",
       " ('trump', 13899),\n",
       " ('clinton', 9701),\n",
       " ('state', 9368),\n",
       " ('would', 7742),\n",
       " ('republican', 7679),\n",
       " ('presid', 6376),\n",
       " ('say', 6336),\n",
       " ('one', 6198),\n",
       " ('peopl', 6044)]"
      ]
     },
     "execution_count": 62,
     "metadata": {},
     "output_type": "execute_result"
    }
   ],
   "source": [
    "Counter(\" \".join(df_real[\"text\"]).split()).most_common(10)"
   ]
  },
  {
   "cell_type": "markdown",
   "metadata": {},
   "source": [
    "Most frequent words in \"fake\" news within the data set:"
   ]
  },
  {
   "cell_type": "code",
   "execution_count": 63,
   "metadata": {},
   "outputs": [],
   "source": [
    "df_fake = df.loc[df[\"label\"] == 1]"
   ]
  },
  {
   "cell_type": "markdown",
   "metadata": {},
   "source": [
    "Most frequent words in titles"
   ]
  },
  {
   "cell_type": "code",
   "execution_count": 64,
   "metadata": {},
   "outputs": [
    {
     "data": {
      "text/plain": [
       "[('trump', 451),\n",
       " ('hillari', 397),\n",
       " ('clinton', 336),\n",
       " ('elect', 211),\n",
       " ('u', 200),\n",
       " ('new', 138),\n",
       " ('russia', 124),\n",
       " ('fbi', 122),\n",
       " ('video', 122),\n",
       " ('america', 115)]"
      ]
     },
     "execution_count": 64,
     "metadata": {},
     "output_type": "execute_result"
    }
   ],
   "source": [
    "Counter(\" \".join(df_fake[\"title\"]).split()).most_common(10)"
   ]
  },
  {
   "cell_type": "markdown",
   "metadata": {},
   "source": [
    "Most frequent words in texts"
   ]
  },
  {
   "cell_type": "code",
   "execution_count": 65,
   "metadata": {},
   "outputs": [
    {
     "data": {
      "text/plain": [
       "[('clinton', 6921),\n",
       " ('u', 6850),\n",
       " ('trump', 6511),\n",
       " ('peopl', 5472),\n",
       " ('state', 5401),\n",
       " ('one', 5198),\n",
       " ('would', 4891),\n",
       " ('hillari', 4498),\n",
       " ('like', 4098),\n",
       " ('elect', 4008)]"
      ]
     },
     "execution_count": 65,
     "metadata": {},
     "output_type": "execute_result"
    }
   ],
   "source": [
    "Counter(\" \".join(df_fake[\"text\"]).split()).most_common(10)"
   ]
  },
  {
   "cell_type": "markdown",
   "metadata": {},
   "source": [
    "A plot showing the number of characters in titles of real and fake news will be created."
   ]
  },
  {
   "cell_type": "code",
   "execution_count": 66,
   "metadata": {},
   "outputs": [
    {
     "data": {
      "text/plain": [
       "Text(0.5, 1.0, 'Titles of fake news')"
      ]
     },
     "execution_count": 66,
     "metadata": {},
     "output_type": "execute_result"
    },
    {
     "data": {
      "image/png": "[encoded data removed]",
      "text/plain": [
       "<Figure size 1080x576 with 2 Axes>"
      ]
     },
     "metadata": {
      "needs_background": "light"
     },
     "output_type": "display_data"
    }
   ],
   "source": [
    "plot, (ax1, ax2) = plt.subplots(1, 2, figsize = (15,8), sharey=True)\n",
    "plot.suptitle('Number of characters in titles', fontsize=20)\n",
    "length = df[df['label']==0]['title'].str.len()\n",
    "ax1.hist(length, color = 'green', linewidth = 2, edgecolor = 'black')\n",
    "ax1.set_title('Titles of real news', fontsize = 15)\n",
    "length = df[df['label']==1]['title'].str.len()\n",
    "ax2.hist(length,linewidth = 2, edgecolor = 'black', color = 'red')\n",
    "ax2.set_title('Titles of fake news', fontsize=15)"
   ]
  },
  {
   "cell_type": "markdown",
   "metadata": {},
   "source": [
    "A plot showing the number of characters in texts of real and fake news will be created."
   ]
  },
  {
   "cell_type": "code",
   "execution_count": 67,
   "metadata": {},
   "outputs": [
    {
     "data": {
      "text/plain": [
       "Text(0.5, 1.0, 'Texts of fake news')"
      ]
     },
     "execution_count": 67,
     "metadata": {},
     "output_type": "execute_result"
    },
    {
     "data": {
      "image/png": "[encoded data removed]",
      "text/plain": [
       "<Figure size 1080x576 with 2 Axes>"
      ]
     },
     "metadata": {
      "needs_background": "light"
     },
     "output_type": "display_data"
    }
   ],
   "source": [
    "plot, (ax1, ax2) = plt.subplots(1, 2, figsize = (15,8), sharey=True)\n",
    "plot.suptitle('Number of characters in texts', fontsize=20)\n",
    "length = df[df['label']==0]['text'].str.len()\n",
    "ax1.hist(length, color = 'green', linewidth = 2, edgecolor = 'black')\n",
    "ax1.set_title('Texts of real news', fontsize = 15)\n",
    "length = df[df['label']==1]['text'].str.len()\n",
    "ax2.hist(length,linewidth = 2, edgecolor = 'black', color = 'red')\n",
    "ax2.set_title('Texts of fake news', fontsize=15)"
   ]
  },
  {
   "cell_type": "markdown",
   "metadata": {},
   "source": [
    "## Step 4 - Machine Learning / Modeling"
   ]
  },
  {
   "cell_type": "code",
   "execution_count": 68,
   "metadata": {},
   "outputs": [],
   "source": [
    "#assign the labels to y to compare them with the predictions made by model\n",
    "y = df[\"label\"]"
   ]
  },
  {
   "cell_type": "code",
   "execution_count": 69,
   "metadata": {},
   "outputs": [],
   "source": [
    "from sklearn.metrics import accuracy_score\n",
    "from sklearn.metrics import precision_score\n",
    "from sklearn.metrics import recall_score\n",
    "from sklearn.metrics import f1_score\n",
    "from sklearn.metrics import log_loss\n",
    "from sklearn.metrics import roc_auc_score\n",
    "\n",
    "#function that compares different test_size splits and its result on multiple metric scores\n",
    "def func_classifier_metrics(classifier):\n",
    "    start = time.time()\n",
    "    print(\"-start-\")\n",
    "    for x in range(1, 10):\n",
    "        print(x)\n",
    "        X_train, X_test, y_train, y_test = train_test_split(df_title_tfidf, y, test_size=x/10, random_state=42, shuffle=True)\n",
    "        classifier.fit(X_train ,y_train)\n",
    "        \n",
    "        pred_on_test_data = classifier.predict(X_test)\n",
    "        acc_score = accuracy_score(y_test, pred_on_test_data)\n",
    "        prec = precision_score(y_test.values, pred_on_test_data, pos_label=1)\n",
    "        recall = recall_score(y_test.values, pred_on_test_data)\n",
    "        f1 = f1_score(y_test.values, pred_on_test_data, average=\"binary\")\n",
    "        l_loss = log_loss(y_test.values, pred_on_test_data)\n",
    "        roc_auc = roc_auc_score(y_test.values, pred_on_test_data)\n",
    "        \n",
    "        print(\"Test size: \", x/10, \"| Accuracy: \", \"{0:.4f}\".format(acc_score), \"| Precision: \", \"{0:.4f}\".format(prec), \"| Recall: \", \"{0:.4f}\".format(recall), \"| F1: \", \"{0:.4f}\".format(f1), \"| ROC-AUC: \", \"{0:.4f}\".format(roc_auc), \"| Log. Loss: \", \"{0:.4f}\".format(l_loss))\n",
    "        x = x + 1\n",
    "    print(\"end of loop\")   \n",
    "    print(\"Time: {} mins\".format(round((time.time() - start) / 60, 2)))"
   ]
  },
  {
   "cell_type": "code",
   "execution_count": 70,
   "metadata": {},
   "outputs": [],
   "source": [
    "#function that builds a model with a specific test set size\n",
    "def func_classifier_metrics_ts(classifier, ts):\n",
    "    start = time.time()\n",
    "    print(\"-start-\")\n",
    "    X_train, X_test, y_train, y_test = train_test_split(df_title_tfidf, y, test_size=ts, random_state=42, shuffle=True)\n",
    "    classifier.fit(X_train ,y_train)\n",
    "        \n",
    "    pred_on_test_data = classifier.predict(X_test)\n",
    "    acc_score = accuracy_score(y_test, pred_on_test_data)\n",
    "    prec = precision_score(y_test.values, pred_on_test_data, pos_label=1)\n",
    "    recall = recall_score(y_test.values, pred_on_test_data)\n",
    "    f1 = f1_score(y_test.values, pred_on_test_data, average=\"binary\")\n",
    "    l_loss = log_loss(y_test.values, pred_on_test_data)\n",
    "    roc_auc = roc_auc_score(y_test.values, pred_on_test_data)\n",
    "        \n",
    "    print(\"Test size: \", ts, \"| Accuracy: \", \"{0:.4f}\".format(acc_score), \"| Precision: \", \"{0:.4f}\".format(prec), \"| Recall: \", \"{0:.4f}\".format(recall), \"| F1: \", \"{0:.4f}\".format(f1), \"| ROC-AUC: \", \"{0:.4f}\".format(roc_auc), \"| Log. Loss: \", \"{0:.4f}\".format(l_loss)) \n",
    "    print(\"Time: {} mins\".format(round((time.time() - start) / 60, 2)))"
   ]
  },
  {
   "cell_type": "markdown",
   "metadata": {},
   "source": [
    "### 4 a) - Naive Bayes Classifier"
   ]
  },
  {
   "cell_type": "code",
   "execution_count": 71,
   "metadata": {},
   "outputs": [],
   "source": [
    "from sklearn.naive_bayes import MultinomialNB\n",
    "from sklearn.naive_bayes import BernoulliNB\n",
    "from sklearn.naive_bayes import GaussianNB"
   ]
  },
  {
   "cell_type": "code",
   "execution_count": 72,
   "metadata": {},
   "outputs": [
    {
     "name": "stdout",
     "output_type": "stream",
     "text": [
      "-start-\n",
      "1\n",
      "Test size:  0.1 | Accuracy:  0.8104 | Precision:  0.8419 | Recall:  0.7484 | F1:  0.7924 | ROC-AUC:  0.8084 | Log. Loss:  6.5477\n",
      "2\n",
      "Test size:  0.2 | Accuracy:  0.8152 | Precision:  0.8516 | Recall:  0.7524 | F1:  0.7990 | ROC-AUC:  0.8137 | Log. Loss:  6.3840\n",
      "3\n",
      "Test size:  0.3 | Accuracy:  0.8110 | Precision:  0.8557 | Recall:  0.7415 | F1:  0.7945 | ROC-AUC:  0.8100 | Log. Loss:  6.5295\n",
      "4\n",
      "Test size:  0.4 | Accuracy:  0.7990 | Precision:  0.8303 | Recall:  0.7413 | F1:  0.7833 | ROC-AUC:  0.7979 | Log. Loss:  6.9433\n",
      "5\n",
      "Test size:  0.5 | Accuracy:  0.7801 | Precision:  0.8222 | Recall:  0.7114 | F1:  0.7628 | ROC-AUC:  0.7797 | Log. Loss:  7.5953\n",
      "6\n",
      "Test size:  0.6 | Accuracy:  0.7722 | Precision:  0.8104 | Recall:  0.7069 | F1:  0.7552 | ROC-AUC:  0.7718 | Log. Loss:  7.8663\n",
      "7\n",
      "Test size:  0.7 | Accuracy:  0.7608 | Precision:  0.8095 | Recall:  0.6797 | F1:  0.7389 | ROC-AUC:  0.7605 | Log. Loss:  8.2626\n",
      "8\n",
      "Test size:  0.8 | Accuracy:  0.7494 | Precision:  0.7608 | Recall:  0.7217 | F1:  0.7408 | ROC-AUC:  0.7492 | Log. Loss:  8.6552\n",
      "9\n",
      "Test size:  0.9 | Accuracy:  0.7267 | Precision:  0.7243 | Recall:  0.7276 | F1:  0.7259 | ROC-AUC:  0.7267 | Log. Loss:  9.4396\n",
      "end of loop\n",
      "Time: 0.24 mins\n"
     ]
    }
   ],
   "source": [
    "#Multinomial Naive Bayes\n",
    "#https://stats.stackexchange.com/questions/33185/difference-between-naive-bayes-multinomial-naive-bayes\n",
    "\n",
    "mNB = MultinomialNB()\n",
    "func_classifier_metrics(mNB)"
   ]
  },
  {
   "cell_type": "code",
   "execution_count": 73,
   "metadata": {},
   "outputs": [
    {
     "name": "stdout",
     "output_type": "stream",
     "text": [
      "-start-\n",
      "1\n",
      "Test size:  0.1 | Accuracy:  0.8073 | Precision:  0.8433 | Recall:  0.7386 | F1:  0.7875 | ROC-AUC:  0.8051 | Log. Loss:  6.6568\n",
      "2\n",
      "Test size:  0.2 | Accuracy:  0.8049 | Precision:  0.8404 | Recall:  0.7411 | F1:  0.7876 | ROC-AUC:  0.8034 | Log. Loss:  6.7387\n",
      "3\n",
      "Test size:  0.3 | Accuracy:  0.8015 | Precision:  0.8516 | Recall:  0.7233 | F1:  0.7822 | ROC-AUC:  0.8004 | Log. Loss:  6.8569\n",
      "4\n",
      "Test size:  0.4 | Accuracy:  0.8049 | Precision:  0.8474 | Recall:  0.7341 | F1:  0.7867 | ROC-AUC:  0.8035 | Log. Loss:  6.7387\n",
      "5\n",
      "Test size:  0.5 | Accuracy:  0.7836 | Precision:  0.8343 | Recall:  0.7044 | F1:  0.7639 | ROC-AUC:  0.7831 | Log. Loss:  7.4753\n",
      "6\n",
      "Test size:  0.6 | Accuracy:  0.7678 | Precision:  0.8199 | Recall:  0.6826 | F1:  0.7449 | ROC-AUC:  0.7672 | Log. Loss:  8.0209\n",
      "7\n",
      "Test size:  0.7 | Accuracy:  0.7585 | Precision:  0.8188 | Recall:  0.6615 | F1:  0.7318 | ROC-AUC:  0.7581 | Log. Loss:  8.3405\n",
      "8\n",
      "Test size:  0.8 | Accuracy:  0.7510 | Precision:  0.7667 | Recall:  0.7158 | F1:  0.7404 | ROC-AUC:  0.7507 | Log. Loss:  8.6007\n",
      "9\n",
      "Test size:  0.9 | Accuracy:  0.7311 | Precision:  0.6890 | Recall:  0.8373 | F1:  0.7560 | ROC-AUC:  0.7316 | Log. Loss:  9.2881\n",
      "end of loop\n",
      "Time: 0.15 mins\n"
     ]
    }
   ],
   "source": [
    "bNB = BernoulliNB()\n",
    "func_classifier_metrics(bNB)"
   ]
  },
  {
   "cell_type": "code",
   "execution_count": 74,
   "metadata": {},
   "outputs": [
    {
     "name": "stdout",
     "output_type": "stream",
     "text": [
      "-start-\n",
      "1\n",
      "Test size:  0.1 | Accuracy:  0.6872 | Precision:  0.7571 | Recall:  0.5196 | F1:  0.6163 | ROC-AUC:  0.6818 | Log. Loss:  10.8037\n",
      "2\n",
      "Test size:  0.2 | Accuracy:  0.6730 | Precision:  0.7383 | Recall:  0.5113 | F1:  0.6042 | ROC-AUC:  0.6692 | Log. Loss:  11.2947\n",
      "3\n",
      "Test size:  0.3 | Accuracy:  0.6761 | Precision:  0.7450 | Recall:  0.5214 | F1:  0.6135 | ROC-AUC:  0.6740 | Log. Loss:  11.1856\n",
      "4\n",
      "Test size:  0.4 | Accuracy:  0.6817 | Precision:  0.7346 | Recall:  0.5488 | F1:  0.6282 | ROC-AUC:  0.6791 | Log. Loss:  10.9946\n",
      "5\n",
      "Test size:  0.5 | Accuracy:  0.6689 | Precision:  0.7193 | Recall:  0.5474 | F1:  0.6217 | ROC-AUC:  0.6682 | Log. Loss:  11.4366\n",
      "6\n",
      "Test size:  0.6 | Accuracy:  0.6701 | Precision:  0.7072 | Recall:  0.5734 | F1:  0.6333 | ROC-AUC:  0.6695 | Log. Loss:  11.3948\n",
      "7\n",
      "Test size:  0.7 | Accuracy:  0.6660 | Precision:  0.7009 | Recall:  0.5745 | F1:  0.6315 | ROC-AUC:  0.6656 | Log. Loss:  11.5364\n",
      "8\n",
      "Test size:  0.8 | Accuracy:  0.6598 | Precision:  0.6820 | Recall:  0.5884 | F1:  0.6318 | ROC-AUC:  0.6592 | Log. Loss:  11.7518\n",
      "9\n",
      "Test size:  0.9 | Accuracy:  0.6405 | Precision:  0.6493 | Recall:  0.6030 | F1:  0.6253 | ROC-AUC:  0.6403 | Log. Loss:  12.4164\n",
      "end of loop\n",
      "Time: 0.23 mins\n"
     ]
    }
   ],
   "source": [
    "gNB = GaussianNB()\n",
    "func_classifier_metrics(gNB)"
   ]
  },
  {
   "cell_type": "markdown",
   "metadata": {},
   "source": [
    "Multinomial Naive Bayes seems to provide the best accuracy score with a test size of 0.1\n",
    "Accuracy:  0.8215"
   ]
  },
  {
   "cell_type": "code",
   "execution_count": 75,
   "metadata": {},
   "outputs": [],
   "source": [
    "#save the model\n",
    "mNB = MultinomialNB()\n",
    "\n",
    "X_train, X_test, y_train, y_test = train_test_split(df_title_tfidf, y, test_size=0.1, random_state=2, shuffle=True)\n",
    "mNB.fit(X_train ,y_train)\n",
    "pred_on_test_data = mNB.predict(X_test)\n",
    "mNB_acc_score = accuracy_score(pred_on_test_data, y_test)\n",
    "mNB_prec = precision_score(y_test.values, pred_on_test_data, pos_label=1)\n",
    "mNB_recall = recall_score(y_test.values, pred_on_test_data)"
   ]
  },
  {
   "cell_type": "code",
   "execution_count": 76,
   "metadata": {},
   "outputs": [],
   "source": [
    "#save the other models as well!\n",
    "bNB = BernoulliNB()\n",
    "X_train, X_test, y_train, y_test = train_test_split(df_title_tfidf, y, test_size=0.1, random_state=2, shuffle=True)\n",
    "bNB.fit(X_train ,y_train)\n",
    "pred_on_test_data = bNB.predict(X_test)\n",
    "bNB_acc_score = accuracy_score(pred_on_test_data, y_test)\n",
    "bNB_prec = precision_score(y_test.values, pred_on_test_data, pos_label=1)\n",
    "bNB_recall = recall_score(y_test.values, pred_on_test_data)"
   ]
  },
  {
   "cell_type": "code",
   "execution_count": 77,
   "metadata": {},
   "outputs": [],
   "source": [
    "gNB = GaussianNB()\n",
    "X_train, X_test, y_train, y_test = train_test_split(df_title_tfidf, y, test_size=0.1, random_state=2, shuffle=True)\n",
    "gNB.fit(X_train ,y_train)\n",
    "pred_on_test_data = gNB.predict(X_test)\n",
    "gNB_acc_score = accuracy_score(pred_on_test_data, y_test)\n",
    "gNB_prec = precision_score(y_test.values, pred_on_test_data, pos_label=1)\n",
    "gNB_recall = recall_score(y_test.values, pred_on_test_data)"
   ]
  },
  {
   "cell_type": "markdown",
   "metadata": {},
   "source": [
    "### 4 b) - Support Vector Machines"
   ]
  },
  {
   "cell_type": "code",
   "execution_count": 78,
   "metadata": {},
   "outputs": [],
   "source": [
    "from sklearn.svm import SVC\n",
    "#svc = SVC(gamma='auto', random_state=0)\n",
    "#svc = SVC(gamma=\"auto\")\n",
    "svc = SVC(gamma=\"scale\")"
   ]
  },
  {
   "cell_type": "markdown",
   "metadata": {},
   "source": [
    "Google sheet for comparing the different settings and their results\n",
    "\n",
    "https://docs.google.com/spreadsheets/d/1eSNWea1PujxDQeiwCEZZRcOWYB3lpEsqjekS0HRSUBw/edit#gid=0"
   ]
  },
  {
   "cell_type": "code",
   "execution_count": 79,
   "metadata": {},
   "outputs": [],
   "source": [
    "#svc = SVC(gamma='scale')\n",
    "#func_classifier_metrics(svc)"
   ]
  },
  {
   "cell_type": "code",
   "execution_count": 80,
   "metadata": {},
   "outputs": [],
   "source": [
    "#svc_test = SVC(gamma=\"scale\", C=1.5, kernel=\"poly\", degree=2, coef0=0.001)"
   ]
  },
  {
   "cell_type": "markdown",
   "metadata": {},
   "source": [
    "SVM with gamma=scale, C=1.5, kernel=\"poly\", degree=2, coef0=0.001 and a test size of 0.3 yielded in the highest accuracy:  0.8380 "
   ]
  },
  {
   "cell_type": "code",
   "execution_count": 81,
   "metadata": {},
   "outputs": [],
   "source": [
    "#save the model\n",
    "svc = SVC(gamma=\"scale\", C=1.5, kernel=\"poly\", degree=2, coef0=0.001)\n",
    "\n",
    "X_train, X_test, y_train, y_test = train_test_split(df_title_tfidf, y, test_size=0.3, random_state=2, shuffle=True)\n",
    "svc.fit(X_train ,y_train)\n",
    "pred_on_test_data = svc.predict(X_test)\n",
    "svc_acc_score = accuracy_score(pred_on_test_data, y_test)\n",
    "svc_prec = precision_score(y_test.values, pred_on_test_data, pos_label=1)\n",
    "svc_recall = recall_score(y_test.values, pred_on_test_data)"
   ]
  },
  {
   "cell_type": "markdown",
   "metadata": {},
   "source": [
    "### 4 c) - Multi Layer Perceptron"
   ]
  },
  {
   "cell_type": "code",
   "execution_count": 82,
   "metadata": {},
   "outputs": [],
   "source": [
    "from sklearn.neural_network import MLPClassifier"
   ]
  },
  {
   "cell_type": "markdown",
   "metadata": {},
   "source": [
    "Google sheet for comparing the different settings and their results\n",
    "\n",
    "https://docs.google.com/spreadsheets/d/1BBmq1wlc3AzKkBj5wE9EmoaM--XYjovsaVtyVbbHxes/edit#gid=0"
   ]
  },
  {
   "cell_type": "code",
   "execution_count": 83,
   "metadata": {},
   "outputs": [
    {
     "name": "stdout",
     "output_type": "stream",
     "text": [
      "-start-\n",
      "1\n",
      "Test size:  0.1 | Accuracy:  0.8215 | Precision:  0.8025 | Recall:  0.8366 | F1:  0.8192 | ROC-AUC:  0.8220 | Log. Loss:  6.1658\n",
      "2\n",
      "Test size:  0.2 | Accuracy:  0.8152 | Precision:  0.7909 | Recall:  0.8447 | F1:  0.8169 | ROC-AUC:  0.8158 | Log. Loss:  6.3840\n",
      "3\n",
      "Test size:  0.3 | Accuracy:  0.8131 | Precision:  0.7891 | Recall:  0.8472 | F1:  0.8171 | ROC-AUC:  0.8135 | Log. Loss:  6.4568\n",
      "4\n",
      "Test size:  0.4 | Accuracy:  0.8085 | Precision:  0.7877 | Recall:  0.8340 | F1:  0.8102 | ROC-AUC:  0.8089 | Log. Loss:  6.6159\n",
      "5\n",
      "Test size:  0.5 | Accuracy:  0.7949 | Precision:  0.7780 | Recall:  0.8220 | F1:  0.7994 | ROC-AUC:  0.7951 | Log. Loss:  7.0825\n",
      "6\n",
      "Test size:  0.6 | Accuracy:  0.7830 | Precision:  0.7596 | Recall:  0.8241 | F1:  0.7905 | ROC-AUC:  0.7833 | Log. Loss:  7.4935\n",
      "7\n",
      "Test size:  0.7 | Accuracy:  0.7709 | Precision:  0.7589 | Recall:  0.7916 | F1:  0.7749 | ROC-AUC:  0.7710 | Log. Loss:  7.9118\n",
      "8\n"
     ]
    },
    {
     "name": "stderr",
     "output_type": "stream",
     "text": [
      "D:\\Anaconda\\lib\\site-packages\\sklearn\\neural_network\\multilayer_perceptron.py:566: ConvergenceWarning: Stochastic Optimizer: Maximum iterations (200) reached and the optimization hasn't converged yet.\n",
      "  % self.max_iter, ConvergenceWarning)\n"
     ]
    },
    {
     "name": "stdout",
     "output_type": "stream",
     "text": [
      "Test size:  0.8 | Accuracy:  0.7617 | Precision:  0.7355 | Recall:  0.8113 | F1:  0.7715 | ROC-AUC:  0.7620 | Log. Loss:  8.2324\n",
      "9\n"
     ]
    },
    {
     "name": "stderr",
     "output_type": "stream",
     "text": [
      "D:\\Anaconda\\lib\\site-packages\\sklearn\\neural_network\\multilayer_perceptron.py:566: ConvergenceWarning: Stochastic Optimizer: Maximum iterations (200) reached and the optimization hasn't converged yet.\n",
      "  % self.max_iter, ConvergenceWarning)\n"
     ]
    },
    {
     "name": "stdout",
     "output_type": "stream",
     "text": [
      "Test size:  0.9 | Accuracy:  0.7299 | Precision:  0.6832 | Recall:  0.8522 | F1:  0.7584 | ROC-AUC:  0.7305 | Log. Loss:  9.3305\n",
      "end of loop\n",
      "Time: 22.41 mins\n"
     ]
    }
   ],
   "source": [
    "mlp = MLPClassifier(alpha=0.6, learning_rate=\"invscaling\")\n",
    "func_classifier_metrics(mlp)"
   ]
  },
  {
   "cell_type": "markdown",
   "metadata": {},
   "source": [
    "MLP with alpha=0.6, learning_rate=\"invscaling\" and a test size of 0.25 yielded in the highest accuracy: 0.8258"
   ]
  },
  {
   "cell_type": "code",
   "execution_count": 84,
   "metadata": {},
   "outputs": [],
   "source": [
    "#save the model\n",
    "mlp = MLPClassifier(alpha=0.6, learning_rate=\"invscaling\")\n",
    "\n",
    "X_train, X_test, y_train, y_test = train_test_split(df_title_tfidf, y, test_size=0.25, random_state=2, shuffle=True)\n",
    "mlp.fit(X_train ,y_train)\n",
    "pred_on_test_data = mlp.predict(X_test)\n",
    "mlp_acc_score = accuracy_score(pred_on_test_data, y_test)\n",
    "mlp_prec = precision_score(y_test.values, pred_on_test_data, pos_label=1)\n",
    "mlp_recall = recall_score(y_test.values, pred_on_test_data)"
   ]
  },
  {
   "cell_type": "markdown",
   "metadata": {},
   "source": [
    "### 4 c) - Random Forest"
   ]
  },
  {
   "cell_type": "code",
   "execution_count": 85,
   "metadata": {},
   "outputs": [],
   "source": [
    "from sklearn.ensemble import RandomForestClassifier"
   ]
  },
  {
   "cell_type": "markdown",
   "metadata": {},
   "source": [
    "Google sheet for comparing the different settings and their results\n",
    "\n",
    "https://docs.google.com/spreadsheets/d/1Etjo4qA_P7Ko148z329JFzbxBC1ITmxGhsnD9OzfYBE/edit#gid=0"
   ]
  },
  {
   "cell_type": "code",
   "execution_count": 86,
   "metadata": {},
   "outputs": [
    {
     "name": "stdout",
     "output_type": "stream",
     "text": [
      "-start-\n",
      "1\n"
     ]
    },
    {
     "name": "stderr",
     "output_type": "stream",
     "text": [
      "D:\\Anaconda\\lib\\site-packages\\sklearn\\ensemble\\forest.py:245: FutureWarning: The default value of n_estimators will change from 10 in version 0.20 to 100 in 0.22.\n",
      "  \"10 in version 0.20 to 100 in 0.22.\", FutureWarning)\n"
     ]
    },
    {
     "name": "stdout",
     "output_type": "stream",
     "text": [
      "Test size:  0.1 | Accuracy:  0.8009 | Precision:  0.7922 | Recall:  0.7974 | F1:  0.7948 | ROC-AUC:  0.8008 | Log. Loss:  6.8751\n",
      "2\n",
      "Test size:  0.2 | Accuracy:  0.7899 | Precision:  0.7848 | Recall:  0.7848 | F1:  0.7848 | ROC-AUC:  0.7898 | Log. Loss:  7.2570\n",
      "3\n",
      "Test size:  0.3 | Accuracy:  0.7783 | Precision:  0.7820 | Recall:  0.7628 | F1:  0.7723 | ROC-AUC:  0.7781 | Log. Loss:  7.6572\n",
      "4\n",
      "Test size:  0.4 | Accuracy:  0.7867 | Precision:  0.7732 | Recall:  0.7994 | F1:  0.7861 | ROC-AUC:  0.7870 | Log. Loss:  7.3662\n",
      "5\n",
      "Test size:  0.5 | Accuracy:  0.7757 | Precision:  0.7636 | Recall:  0.7947 | F1:  0.7788 | ROC-AUC:  0.7758 | Log. Loss:  7.7481\n",
      "6\n",
      "Test size:  0.6 | Accuracy:  0.7562 | Precision:  0.7318 | Recall:  0.8039 | F1:  0.7662 | ROC-AUC:  0.7565 | Log. Loss:  8.4211\n",
      "7\n",
      "Test size:  0.7 | Accuracy:  0.7556 | Precision:  0.7412 | Recall:  0.7825 | F1:  0.7613 | ROC-AUC:  0.7557 | Log. Loss:  8.4419\n",
      "8\n",
      "Test size:  0.8 | Accuracy:  0.7336 | Precision:  0.7100 | Recall:  0.7826 | F1:  0.7446 | ROC-AUC:  0.7340 | Log. Loss:  9.2009\n",
      "9\n",
      "Test size:  0.9 | Accuracy:  0.6981 | Precision:  0.6628 | Recall:  0.8003 | F1:  0.7251 | ROC-AUC:  0.6986 | Log. Loss:  10.4279\n",
      "end of loop\n",
      "Time: 0.53 mins\n"
     ]
    }
   ],
   "source": [
    "rfc = RandomForestClassifier()\n",
    "func_classifier_metrics(rfc)"
   ]
  },
  {
   "cell_type": "code",
   "execution_count": 87,
   "metadata": {},
   "outputs": [
    {
     "name": "stdout",
     "output_type": "stream",
     "text": [
      "-start-\n",
      "Test size:  0.25 | Accuracy:  0.8136 | Precision:  0.7860 | Recall:  0.8518 | F1:  0.8176 | ROC-AUC:  0.8144 | Log. Loss:  6.4366\n",
      "Time: 3.66 mins\n"
     ]
    }
   ],
   "source": [
    "rfc = RandomForestClassifier(n_estimators=500)\n",
    "func_classifier_metrics_ts(rfc, 0.25)"
   ]
  },
  {
   "cell_type": "markdown",
   "metadata": {},
   "source": [
    "RFC with n_estimators=500 and a test size of 0.25 yielded in the highest accuracy: 0.8112."
   ]
  },
  {
   "cell_type": "code",
   "execution_count": 88,
   "metadata": {},
   "outputs": [],
   "source": [
    "#save the model\n",
    "rfc = RandomForestClassifier(n_estimators=500)\n",
    "\n",
    "X_train, X_test, y_train, y_test = train_test_split(df_title_tfidf, y, test_size=0.25, random_state=2, shuffle=True)\n",
    "rfc.fit(X_train ,y_train)\n",
    "pred_on_test_data = rfc.predict(X_test)\n",
    "rfc_acc_score = accuracy_score(pred_on_test_data, y_test)\n",
    "rfc_prec = precision_score(y_test.values, pred_on_test_data, pos_label=1)\n",
    "rfc_recall = recall_score(y_test.values, pred_on_test_data)"
   ]
  },
  {
   "cell_type": "code",
   "execution_count": 89,
   "metadata": {},
   "outputs": [],
   "source": [
    "#from sklearn.linear_model import LogisticRegression\n",
    "#lr = LogisticRegression()\n",
    "#func_classifier_metrics_ts(lr, 0.33)"
   ]
  },
  {
   "cell_type": "markdown",
   "metadata": {},
   "source": [
    "## 5 - Prediction"
   ]
  },
  {
   "cell_type": "markdown",
   "metadata": {},
   "source": [
    "Now the previously deleted articles will be added to a new dataframe. After that the different models which have been built will make predictions on whether they are real or fake news."
   ]
  },
  {
   "cell_type": "code",
   "execution_count": 90,
   "metadata": {},
   "outputs": [],
   "source": [
    "pred_data = {'index':  [5099, 4988, 534, 4777, 2734, 2058],\n",
    "            'title': ['smell hillari fear', 'poll find american support polic highest near year','battl new york primari matter', 'uk announc new troop deploy near russia border', 'russia join franc strike isi stronghold syria', 'shortag lethal inject drug put death penalti suprem court'],\n",
    "            'text': ['daniel greenfield shillman journal fellow freedom center new york writer focus radic islam final stretch elect hillari rodham clinton gone war fbi word unpreced thrown around often elect ought retir still unpreced nomine major polit parti go war fbi exact hillari peopl done coma patient wake watch hour cnn hospit bed would assum fbi director jame comey hillari oppon elect fbi attack everyon obama cnn hillari peopl circul letter attack comey current media hit piec lambast target trump surpris clinton alli start run attack ad fbi fbi leadership warn entir leftw establish form lynch mob continu go hillari fbi credibl attack media democrat preemptiv head result investig clinton foundat hillari clinton covert struggl fbi agent obama doj peopl gone explos public new york time compar comey j edgar hoover bizarr headlin jame comey role recal hoover fbi fair practic admit front spout nonsens boston globe publish column call comey resign outdon time editori claim scandal realli attack women jame carvill appear msnbc remind everyon still aliv insan accus comey coordin hous republican kgb thought vast right wing conspiraci stretch countless media stori charg comey violat procedur know procedur violat email classifi inform store bathroom server senat harri reid sent comey letter accus violat hatch act hatch act nice idea much relev age obama tenth amend cabl news spectrum quick fill media hack glanc wikipedia articl hatch act tabl accus fbi director one awkward conspiraci hillari ever jame comey realli hurt hillari pick one hell strang way long ago democrat breath sigh relief gave hillari clinton pass promin public statement realli elect trump keep email scandal go trash investig payrol hous republican kgb back play coy sudden develop vladimir putin paul ryan talk take look anthoni weiner comput either comey cun fbi director ever live awkward tri navig polit mess trap doj leadership whose polit futur tie hillari victori bureau whose apolit agent want allow job truli mysteri thing hillari associ decid go war respect feder agenc american like fbi hillari clinton enjoy unfavor rate interest question hillari old strategi lie deni fbi even crimin investig underway instead associ insist secur review fbi correct shrug old breezi denial approach given way savag assault fbi pretend noth wrong bad strategi better one pick fight fbi lunat clinton associ tri claim fbi realli kgb two possibl explan hillari clinton might arrog enough lash fbi believ victori near kind hubri led plan victori firework display could lead declar war fbi irrit final mile campaign explan peopl panick go war fbi behavior smart focus presidenti campaign act desper presidenti candid decid option tri destroy credibl fbi hubri fear fbi might reveal origin fbi investig hillari clinton confid could ride good reason believ hillari clinton gone place paranoid wreck within short space time posit clinton campaign promis unit countri replac desper flail oper focus energi fight fbi one reason bizarr behavior clinton campaign decid fbi investig latest batch email pose threat surviv gone fight fbi unpreced step born fear hard know whether fear justifi exist fear alreadi tell us whole lot clinton loyalist rig old investig knew outcom ahead time well knew debat question sudden longer control afraid smell fear fbi wiretap investig clinton foundat find new email time clintonworld panick spinmeist clintonworld claim email scandal much smoke without fire appear improprieti without substanc react smoke respond fire misguid assault fbi tell us hillari clinton alli afraid revel bigger fundament illeg email setup email setup preemptiv cover clinton campaign panick bad belief right wrong whatev crime illeg setup meant cover risk expos clinton weather countless scandal year whatev protect time around bigger usual corrupt briberi sexual assault abus power follow around throughout year bigger damag alleg alreadi come want fbi investig anywher near campaign comey pure intimid also warn senior fbi peopl valu career warn stay away democrat close rank around nomine fbi ugli unpreced scene may also last stand hillari clinton awkward wound way numer scandal elect cycl never shown fear desper chang whatev afraid lie buri email huma abedin bring like noth els', 'past year american seen polic offic ambush assassin watch thin line protect citizen crimin revil group black live matterand america take standa new gallup poll show respect polic hit highest point almost year relat stori video suspect beat femal offic use weapon fear backlash polic offic issu move respons kaepernick protest nba anthem singer drop knee final line protest racial inequ poll taken earli octob found percent american great deal respect polic anoth percent say respect obvious violent rhetor seen blm backfir wrote andrew mark miller young conserv peopl respect cop ever clear see difficult job ad miller said black live matter movement deni true purpos give nonsens blm antipolic wrote fact mani blm support say elimin polic forc entir miller said bottom line clear poll repudi tactic left use demon law enforc get around wrote trend stori frustrat media bias trump campaign take case direct voter night show facebook rnc offici take cnn host task claim media bias independ voter push trump front florida ohio level american support polic reflect poll reach sinc urban riot protestdriven long hot summer make citi danger percent respond said gave polic great deal respect gallup began survey american polic poll also show major chang attitud year earlier poll show highest level date american lack confid polic offic percent increas shoot polic coincid highprofil incid law enforc offici shoot kill unarm black men despit flare racial tension incid respect local polic increas among white nonwhit gallup report analyz result sharp increas past year profess respect local law enforc come mani polic say feel defens polit live duti amid heat nation discuss polic brutal shoot addedgallup said futur event could chang level support enjoy polic unclear whether spike respect polic stay power reflect most reaction retaliatori kill polic offic last summer wrotewhat think', 'primari day new york frontrunn hillari clinton donald trump lead pollstrump vow win enough deleg clinch republican nomin prevent contest convent senst cruz rtexa berni sander dvt ohio gov john kasich arent give yeta big win new york could tip scale republican democrat frontrunn year race white hous clinton trump suffer loss recent contest shift momentum rivalsw eight last nine caucus primari cheer sander recent told supporterswhil win new york trump clinton expect margin victori also importanttrump need captur percent vote statewid want posit win state gop deleg would put one step closer avoid contest conventionwev got vote know cruz way way poll trump urg supportersmeanwhil sander hope close race empir state loss point mean hell need win percent remain deleg clinch nominationdespit predict loss new york cruz hasnt lost momentum hes hope sweep deleg weekend hes talk win novemberbecaus im nomine win general elect cruz promis support beat hillari key swing state beat hillari independ beat hillari young peoplefor cruz kasich sander move new york state trump clinton two stay home state watch result come', 'militari british defens secretari michael fallon photo afp british defens minist michael fallon say uk set deploy hundr troop baltic region europ support nato alli face assert russia fallon told nato ministeri meet brussel wednesday britain would send soldier estonia fulfil pledg deliv one four battalion nato enhanc forward presenc eastern europ back rise defens budget deploy air land sea forc show continu play lead role nato support defens secur alli north south allianc fallon said nato announc juli would deploy rotat basi four multin battalion poland baltic latvia deter refer russian incurs address meet fallon also said four british typhoon fighter jet would dispatch romania nato southern air polic mission suppos protect baltic state airspac possibl attack russia two thing reassur need done formid presenc deterr fallon said earlier interview simpli serious militari presenc move like draw critic moscow anger nato militari buildup western border usl militari allianc cut tie moscow reinforc presenc near russia border ever sinc uk russia strong disagr number issu main conflict syria ukrain two countri militari forc involv seri aerial naval confront britain send jet warship sever occas intercept russian bomber naval fleet latest encount occur thursday russian aircraft career admir kuznetsov sevenship task forc shadow two british warship cours sail north sea english channel way syria load', 'russian militari might join french warplan tuesday two nation struck back islam state four day terror team carri coordin attack pari leav peopl french fighter jet carri new airstrik isi target syria accord french defens minist jeanyv le drianalso twelv russian longrang bomber includ superson backfir flew base mozdok russia near border georgia azerbaijan launch cruis missil insid raqqa us offici knowledg mission told fox newsth superson bomber flew caspian sea iran iraq syria unleash volley cruis missil raqqath us militari still assess damagea defens offici middl east tell fox news despit countri share object target isi high unlik french russian coordin strike offici also said think french would communic russian secretfox news told russia inform us launch new assault offici character russian effort devast islam state group claim respons crash russian passeng plane egypt last month kill peopl tuesday russia secur servic said homemad explos devic brought airlin call terrorist actcruis missil also fire monday caspian sea russian navi missil boat vessel launch similar salvo syria last monthrussia defens minist also said warplan fire cruis missil milit posit syria idlib aleppo provinc sergei shoigu told report missil fire warplan islam state posit aleppo provinc wherea idlib presenc nusra milit groupmeantim presid vladimir putin order russian missil cruiser moskva current mediterranean start cooper french militari oper syria putin said french aircraft carrier task forc approach moskva soon cruiser cooper alliesgermani itali rule role air campaign isi syria german foreign minist frankwalt steinmeier said doesnt make sens add nation carri air attacksgermani provid weapon equip kurdish fighter battl isi northern iraq steinmeier said right strategi hold ground make slight territori gainsitalian defens minist roberta pinotti said countri alreadi plan beef action iraq rule italian militari role syria said itali assur franc maximum avail cooperationalso tuesday franc invok neverbeforeus articl eus lisbon treati oblig member bloc give aid assist mean power member countri victim arm aggress territori french defens minist jeanyv le drian said eu partner could help either take part franc oper syria iraq eas load provid support franc operationsth airstrik came wall street journal cite two western secur offici report abdelhamid abaaoud sought target airstrik could locat western intellig offici told paper effort monitor communic abaaoud syria jihadist europ complic inabl tell whether abaaoud teenag brother speakingabaaoud name french offici key figur suspect plan organ pari attack includ seri suicid bomb outsid countri nation stadium massacr concert hallh came public notic belgium last year take brother syria appear isi propaganda video boast pride pile dead bodi infidel enemi trailer point abaaoud return belgium escap author januari year polic foil plot attack offic mastermind behalf cell base belgian town vervier ensu gun battl two abaaoud alleg accomplic kill abaaoud somehow escapedh told month isi magazin dabiq februari issu slip away european intellig agenc allah blind vision ad name pictur news yet abl stay homeland plan oper leav safe becam necessaryfrench offici identifi abaaoud prime suspect associ press cite chatter isi figur abaaoud recommend concert ideal target inflict maximum casualti well electron communic abaaoud one pari attack blew upwestern offici told journal knowledg plan attack french capit sought abaaoud admit know whether death would enough stop attack carri seven suicid attack includ set three brothersa belgian offici told journal certain abaaoud knew salah abdeslam hunt author across europ earli tuesday suspicion involv pari terror two jihadist grew far brussel suburb molenbeek spent time prison petti crimespeopl pari fought back way continu eat drink merri bar restaur owner urg peopl return local nightspot tuesday relay messag onlin social media slogan tous au bistrot everyon bistroth messag back restaur websit le food say peopl go pay tribut victim support food drink industri show franc give fearoth parisian post pictur twitter citi mani cafe restaur patio use hashtag jesuisauterrass im patiofox news luca tomlinson associ press contribut reportclick wall street journal',\n",
    "                 'suprem court mondaydecid oklahoma may continu use controversi sedat midazolam lethal inject even drug link sever botch execut suprem court case dealt botch execut clayton lockett oklahoma lockett execut took minut experiment lethal inject drug administ led four inmat one execut suprem court decid issu file lawsuit challeng oklahoma lethal inject protocol suprem court ultim decid botch execut along evid wasnt adequ proof midazolam cruel unusu punishmentbut oklahoma didnt alway use midazolam execut use controversi sedat actual respons toan ongo lethal inject drug shortag left futur death penalti unclear utah oklahoma tennesse state execut legal ad new angl perenni debat moral effect capit punishmentov past year shortag sodium thiopent key drug lethal inject left state scrambl altern way execut prison inspir shroud process secrecyth shortag began around drug supplier around world includ us began refus suppli drug inject either opposit death penalti concern product associ executionsth drug cut right left deborah denno death penalti expert fordham univers saidth drug cut right lefthospira inc sole us supplier sodium thiopent accord denno hospira stop produc drug struggl procur activ ingredi product field legal threat author itali death penalti vehement opposedsom state still manag import sodium thiopent shadier oversea sourc begin us district court district columbia issu sever rule ban import drug decid import suppli didnt meet fda regulationsa shortag continu state turn european compani altern drug phenobarbit propofol typic use sedat surgeri compani pressur european union export ban activist like repriev foreign govern prohibit death penalti time refus suppli drugsa compani either stop suppli drug unabl export us state began look new sometim untest way execut prisonerswith pharmaceut compani pictur state resort compound pharmaci make drug nowescapedmost regul sinc small most outofsight transact individu major custom usbas pharmaci began produc experiment sometim secret cocktail state executionscompound pharmaci origin meant make custom drug individu peopl major buyer like state govern denno said result drug cocktail often shoddi georgia stop execut lethal inject drug cloudi decri experiment danger civil right group american civil liberti unionbut even compound pharmaci may soon stop provid execut drug state intern academi compound pharmacist march announc discourag member particip prepar dispens distribut compound medic use legal author executionsproduc lethal inject drug go invit scrutinyth stanc may way compound pharmaci larg unregul avoid extra regulatori scrutini come produc lethal inject drug compound pharmaci alreadi enough public relat issu denno said massachusett instanc law crack compound pharmaci local compani drug implic death peopl produc lethal inject drug denno said go invit scrutinybut instead step regul death penalti state adopt measur shield compound pharmaci provid lethal drug outsid scrutinyin decemb ohio pass law keep supplier lethal drug inject anonym john murphi execut director ohio prosecut attorney associ support law said last decemb chang meant make execut process secret protect ident peopl involv dont get harass intimid attack saidth drug shortag hasnt led concern market forc regul suppli demand also rais import constitut question cruel unusu punish shortag led state tri experiment unpredict drug executionssinc sever highprofil botch execut describ gruesom detail press involv secret experiment use midazolamher casesthes botch execut drew critic put unwant spotlight use experiment lethal drug critic say violat constitut protect cruel unusu punish state includ ohio oklahoma delay execut review practicesdenno expect problem continu state struggl replac superior drug like sodium thiopent everi time state chang new drug introduc degre uncertainti denno said drug arent first choicebotch execut around long death penalti percent lethal inject percent execut botch accord austin sarat gruesom spectaclespart reason state began use lethal inject drug previous prefer method execut mani state electrocut often horrifi result includ erupt burn flesh even live fire prison gasp air slowli diedw realli incompet peopl thisbut lethal inject carri problem beyond drug use procedur may make even prone bungl one doctor like qualifi administ dead drug wont particip execut administ dead drug kill someon would violat profession ethic american board anesthesiologist vote revok certif member particip execut prisonera result state arent typic abl bring besttrain doctor particular anesthesiologist administ drug danger mishandl realli incompet peopl denno saidperhap result lethal inject alway one riskier form execut even drug shortag forc state experi altern substancesin oklahoma doctor paramed particip clayton lockett botch execut said receiv train theap sean murphi report execut team administ needl werent long enough procedur caus state offici call bloodi mess doctor tri set iv line lockett groin blood gush outin addit physic botch execut alway possibl state execut innoc person april studi publish pnas scientif journal suggest least percent peopl sentenc death us like innoc least six peopl exoner death sentenc accord januari report nation registri exonerationsso far denno fordham univers track three state move toward altern lethal inject run drug tennesse reinstat possibl electr chair utah hasallow fire squad oklahoma haspermit nitrogen gasthes method execut larg abandon year ago suprem court forc state reform execut procedur less racial discriminatori state began most use lethal inject fantast chart post john west quartz showsstat could potenti seek differ drug continu use lethal inject avoid execut method wide seen gruesom state also like wari repeat problem theyv experienc current batch drug thing go happen denno said cycl everi time state tri theyv cut offbut mani method execut dont involv inject drug major problemsdenno predict gas execut like turn disast said gas issu lethal inject drug unclear state would get chemic requir execut whatev chemic use may suitabl quick relat painless death also recal ghast memori world war ii nazi use gas chamber kill prison death campsth fire squad quickest surest train execution itelectrocut hang abandon first place often result botch execut electrocut caus burn skin live fire multipl execut hang could go wrong rope broke prison decapit also takelong minut kill prisonerdenno argu fire squad may turn human avail option even lethal inject quickest surest train execution saiddunham execut director thedeath penalti inform center said state deal realiti there human way kill someon method execut problem dunham said involuntari termin anoth person life execut inher violent actof cours state may abl come anoth method entir repeal death penalti altogeth least state appear stick tradit way execut prisonerscapit punish persist drug shortag botch execut still strong public support us put pressur lawmak find altern lethal inject drug rather abolish death penalti state still legalamerica support death penalti stand sharp contrast europ belarus promoscow dictatorship still allow capit punishmentan octob gallup poll found percent american support death penalti percent oppos itsupport death penalti get littl complic american ask specif method execut nbc news poll may found near twothird voter support altern lethal inject needl isnt option us adult told yougov februari survey gas chamber electr chair fire squad hang behead cruel unusu punish lethal inject isntsupport death penalti also vari state state execut much cultur legal ingrain south lesser extent west rest countri eighteen state abolish death penalti northeast midwest accord death penalti inform centerso popular support general pressur lawmak find altern lethal inject that necessarili true part countri us adult dont appear support method executionregardless lawmak number execut drop year report death penalti inform center found number execut hit low even that case death penalti whole remain popular cultur ingrain us that led state seek altern like experiment drug fire squad nitrogen gas rather abolish execut altogeth'],\n",
    "            'label': [1, 1, 0, 1, 0, 0],\n",
    "            }"
   ]
  },
  {
   "cell_type": "code",
   "execution_count": 91,
   "metadata": {},
   "outputs": [],
   "source": [
    "pred_tfidf_df = tfidf.transform(pred_data[\"title\"])\n",
    "#prediction = mNB.predict(pred_tfidf_df)"
   ]
  },
  {
   "cell_type": "markdown",
   "metadata": {},
   "source": [
    "### 5 a) Multinomial Naive Bayes"
   ]
  },
  {
   "cell_type": "code",
   "execution_count": 92,
   "metadata": {},
   "outputs": [
    {
     "name": "stdout",
     "output_type": "stream",
     "text": [
      "-start-\n",
      "Test size:  0.2 | Accuracy:  0.8152 | Precision:  0.8516 | Recall:  0.7524 | F1:  0.7990 | ROC-AUC:  0.8137 | Log. Loss:  6.3840\n",
      "Time: 0.04 mins\n"
     ]
    }
   ],
   "source": [
    "mNB = MultinomialNB()\n",
    "func_classifier_metrics_ts(mNB, 0.2)"
   ]
  },
  {
   "cell_type": "code",
   "execution_count": 93,
   "metadata": {},
   "outputs": [],
   "source": [
    "#mNB.predict_proba(pred_tfidf_df)"
   ]
  },
  {
   "cell_type": "code",
   "execution_count": 94,
   "metadata": {},
   "outputs": [
    {
     "name": "stdout",
     "output_type": "stream",
     "text": [
      "Accuracy:  0.6667 | Precision:  0.6667 | Recall:  0.6667 | F1:  0.6667 | ROC-AUC:  0.6667 | Log. Loss:  11.5131\n"
     ]
    }
   ],
   "source": [
    "mNB_pred = mNB.predict(pred_tfidf_df)\n",
    "\n",
    "mNB_pred_acc = accuracy_score(pred_data[\"label\"], mNB_pred)\n",
    "mNB_pred_prec = precision_score(pred_data[\"label\"], mNB_pred)\n",
    "mNB_pred_recall = recall_score(pred_data[\"label\"], mNB_pred)\n",
    "mNB_pred_f1 = f1_score(pred_data[\"label\"], mNB_pred, average=\"binary\")\n",
    "mNB_pred_l_loss = log_loss(pred_data[\"label\"], mNB_pred)\n",
    "mNB_pred_roc_auc = roc_auc_score(pred_data[\"label\"], mNB_pred)\n",
    "\n",
    "print(\"Accuracy: \", \"{0:.4f}\".format(mNB_pred_acc), \"| Precision: \", \"{0:.4f}\".format(mNB_pred_prec), \"| Recall: \", \"{0:.4f}\".format(mNB_pred_recall), \"| F1: \", \"{0:.4f}\".format(mNB_pred_f1), \"| ROC-AUC: \", \"{0:.4f}\".format(mNB_pred_roc_auc), \"| Log. Loss: \", \"{0:.4f}\".format(mNB_pred_l_loss)) \n"
   ]
  },
  {
   "cell_type": "code",
   "execution_count": 95,
   "metadata": {},
   "outputs": [
    {
     "data": {
      "text/plain": [
       "array([0, 1, 0, 1, 1, 0], dtype=int64)"
      ]
     },
     "execution_count": 95,
     "metadata": {},
     "output_type": "execute_result"
    }
   ],
   "source": [
    "mNB_pred"
   ]
  },
  {
   "cell_type": "markdown",
   "metadata": {},
   "source": [
    "### 5 b) Gaussian Naive Bayes"
   ]
  },
  {
   "cell_type": "code",
   "execution_count": 96,
   "metadata": {},
   "outputs": [
    {
     "name": "stdout",
     "output_type": "stream",
     "text": [
      "-start-\n",
      "Test size:  0.33 | Accuracy:  0.6812 | Precision:  0.7452 | Recall:  0.5331 | F1:  0.6216 | ROC-AUC:  0.6786 | Log. Loss:  11.0115\n",
      "Time: 0.05 mins\n"
     ]
    }
   ],
   "source": [
    "gNB = GaussianNB()\n",
    "func_classifier_metrics_ts(gNB, 0.33)"
   ]
  },
  {
   "cell_type": "code",
   "execution_count": 97,
   "metadata": {},
   "outputs": [
    {
     "name": "stdout",
     "output_type": "stream",
     "text": [
      "Accuracy:  0.8333 | Precision:  1.0000 | Recall:  0.6667 | F1:  0.8000 | ROC-AUC:  0.8333 | Log. Loss:  5.7565\n"
     ]
    }
   ],
   "source": [
    "gNB_pred = gNB.predict(pred_tfidf_df.toarray())\n",
    "\n",
    "gNB_pred_acc = accuracy_score(pred_data[\"label\"], gNB_pred)\n",
    "gNB_pred_prec = precision_score(pred_data[\"label\"], gNB_pred)\n",
    "gNB_pred_recall = recall_score(pred_data[\"label\"], gNB_pred)\n",
    "gNB_pred_f1 = f1_score(pred_data[\"label\"], gNB_pred, average=\"binary\")\n",
    "gNB_pred_l_loss = log_loss(pred_data[\"label\"], gNB_pred)\n",
    "gNB_pred_roc_auc = roc_auc_score(pred_data[\"label\"], gNB_pred)\n",
    "\n",
    "print(\"Accuracy: \", \"{0:.4f}\".format(gNB_pred_acc), \"| Precision: \", \"{0:.4f}\".format(gNB_pred_prec), \"| Recall: \", \"{0:.4f}\".format(gNB_pred_recall), \"| F1: \", \"{0:.4f}\".format(gNB_pred_f1), \"| ROC-AUC: \", \"{0:.4f}\".format(gNB_pred_roc_auc), \"| Log. Loss: \", \"{0:.4f}\".format(gNB_pred_l_loss)) \n"
   ]
  },
  {
   "cell_type": "code",
   "execution_count": 98,
   "metadata": {},
   "outputs": [
    {
     "data": {
      "text/plain": [
       "array([1, 1, 0, 0, 0, 0], dtype=int64)"
      ]
     },
     "execution_count": 98,
     "metadata": {},
     "output_type": "execute_result"
    }
   ],
   "source": [
    "gNB_pred"
   ]
  },
  {
   "cell_type": "markdown",
   "metadata": {},
   "source": [
    "### 5 c) Bernoulli Naive Bayes"
   ]
  },
  {
   "cell_type": "code",
   "execution_count": 99,
   "metadata": {},
   "outputs": [
    {
     "name": "stdout",
     "output_type": "stream",
     "text": [
      "-start-\n",
      "Test size:  0.33 | Accuracy:  0.8013 | Precision:  0.8452 | Recall:  0.7290 | F1:  0.7828 | ROC-AUC:  0.8001 | Log. Loss:  6.8615\n",
      "Time: 0.02 mins\n"
     ]
    }
   ],
   "source": [
    "bNB = BernoulliNB()\n",
    "func_classifier_metrics_ts(bNB, 0.33)"
   ]
  },
  {
   "cell_type": "code",
   "execution_count": 100,
   "metadata": {},
   "outputs": [
    {
     "name": "stdout",
     "output_type": "stream",
     "text": [
      "Accuracy:  0.8333 | Precision:  0.7500 | Recall:  1.0000 | F1:  0.8571 | ROC-AUC:  0.8333 | Log. Loss:  5.7566\n"
     ]
    }
   ],
   "source": [
    "bNB_pred = bNB.predict(pred_tfidf_df.toarray())\n",
    "\n",
    "bNB_pred_acc = accuracy_score(pred_data[\"label\"], bNB_pred)\n",
    "bNB_pred_prec = precision_score(pred_data[\"label\"], bNB_pred)\n",
    "bNB_pred_recall = recall_score(pred_data[\"label\"], bNB_pred)\n",
    "bNB_pred_f1 = f1_score(pred_data[\"label\"], bNB_pred, average=\"binary\")\n",
    "bNB_pred_l_loss = log_loss(pred_data[\"label\"], bNB_pred)\n",
    "bNB_pred_roc_auc = roc_auc_score(pred_data[\"label\"], bNB_pred)\n",
    "\n",
    "print(\"Accuracy: \", \"{0:.4f}\".format(bNB_pred_acc), \"| Precision: \", \"{0:.4f}\".format(bNB_pred_prec), \"| Recall: \", \"{0:.4f}\".format(bNB_pred_recall), \"| F1: \", \"{0:.4f}\".format(bNB_pred_f1), \"| ROC-AUC: \", \"{0:.4f}\".format(bNB_pred_roc_auc), \"| Log. Loss: \", \"{0:.4f}\".format(bNB_pred_l_loss)) \n"
   ]
  },
  {
   "cell_type": "code",
   "execution_count": 101,
   "metadata": {},
   "outputs": [
    {
     "data": {
      "text/plain": [
       "array([1, 1, 0, 1, 1, 0], dtype=int64)"
      ]
     },
     "execution_count": 101,
     "metadata": {},
     "output_type": "execute_result"
    }
   ],
   "source": [
    "bNB_pred"
   ]
  },
  {
   "cell_type": "markdown",
   "metadata": {},
   "source": [
    "### 5 d) Support Vector Machine"
   ]
  },
  {
   "cell_type": "code",
   "execution_count": 102,
   "metadata": {},
   "outputs": [
    {
     "name": "stdout",
     "output_type": "stream",
     "text": [
      "-start-\n",
      "Test size:  0.25 | Accuracy:  0.8484 | Precision:  0.8213 | Recall:  0.8827 | F1:  0.8509 | ROC-AUC:  0.8490 | Log. Loss:  5.2365\n",
      "Time: 4.39 mins\n"
     ]
    }
   ],
   "source": [
    "svc_pred = SVC(gamma=\"scale\", C=1.5, kernel=\"poly\", degree=2, coef0=0.001)\n",
    "func_classifier_metrics_ts(svc_pred, 0.25)"
   ]
  },
  {
   "cell_type": "code",
   "execution_count": 103,
   "metadata": {},
   "outputs": [
    {
     "name": "stdout",
     "output_type": "stream",
     "text": [
      "Accuracy:  0.6667 | Precision:  0.6667 | Recall:  0.6667 | F1:  0.6667 | ROC-AUC:  0.6667 | Log. Loss:  11.5131\n"
     ]
    }
   ],
   "source": [
    "svc_pred = svc_pred.predict(pred_tfidf_df.toarray())\n",
    "\n",
    "svc_pred_acc = accuracy_score(pred_data[\"label\"], svc_pred)\n",
    "svc_pred_prec = precision_score(pred_data[\"label\"], svc_pred)\n",
    "svc_pred_recall = recall_score(pred_data[\"label\"], svc_pred)\n",
    "svc_pred_f1 = f1_score(pred_data[\"label\"], svc_pred, average=\"binary\")\n",
    "svc_pred_l_loss = log_loss(pred_data[\"label\"], svc_pred)\n",
    "svc_pred_roc_auc = roc_auc_score(pred_data[\"label\"], svc_pred)\n",
    "\n",
    "print(\"Accuracy: \", \"{0:.4f}\".format(svc_pred_acc), \"| Precision: \", \"{0:.4f}\".format(svc_pred_prec), \"| Recall: \", \"{0:.4f}\".format(svc_pred_recall), \"| F1: \", \"{0:.4f}\".format(svc_pred_f1), \"| ROC-AUC: \", \"{0:.4f}\".format(svc_pred_roc_auc), \"| Log. Loss: \", \"{0:.4f}\".format(svc_pred_l_loss)) \n"
   ]
  },
  {
   "cell_type": "code",
   "execution_count": 104,
   "metadata": {},
   "outputs": [
    {
     "data": {
      "text/plain": [
       "array([1, 0, 0, 1, 1, 0], dtype=int64)"
      ]
     },
     "execution_count": 104,
     "metadata": {},
     "output_type": "execute_result"
    }
   ],
   "source": [
    "svc_pred"
   ]
  },
  {
   "cell_type": "markdown",
   "metadata": {},
   "source": [
    "### 5 e) Multilayer Perceptron"
   ]
  },
  {
   "cell_type": "code",
   "execution_count": 105,
   "metadata": {},
   "outputs": [
    {
     "name": "stdout",
     "output_type": "stream",
     "text": [
      "-start-\n",
      "Test size:  0.2 | Accuracy:  0.8191 | Precision:  0.8092 | Recall:  0.8236 | F1:  0.8164 | ROC-AUC:  0.8192 | Log. Loss:  6.2476\n",
      "Time: 3.79 mins\n"
     ]
    }
   ],
   "source": [
    "mlp_pred = MLPClassifier(alpha=0.6, learning_rate=\"invscaling\")\n",
    "func_classifier_metrics_ts(mlp_pred, 0.2)"
   ]
  },
  {
   "cell_type": "code",
   "execution_count": 106,
   "metadata": {},
   "outputs": [
    {
     "name": "stdout",
     "output_type": "stream",
     "text": [
      "Accuracy:  0.6667 | Precision:  0.6667 | Recall:  0.6667 | F1:  0.6667 | ROC-AUC:  0.6667 | Log. Loss:  11.5131\n"
     ]
    }
   ],
   "source": [
    "mlp_pred = mlp_pred.predict(pred_tfidf_df)\n",
    "\n",
    "mlp_pred_acc = accuracy_score(pred_data[\"label\"], mlp_pred)\n",
    "mlp_pred_prec = precision_score(pred_data[\"label\"], mlp_pred)\n",
    "mlp_pred_recall = recall_score(pred_data[\"label\"], mlp_pred)\n",
    "mlp_pred_f1 = f1_score(pred_data[\"label\"], mlp_pred, average=\"binary\")\n",
    "mlp_pred_l_loss = log_loss(pred_data[\"label\"], mlp_pred)\n",
    "mlp_pred_roc_auc = roc_auc_score(pred_data[\"label\"], mlp_pred)\n",
    "\n",
    "print(\"Accuracy: \", \"{0:.4f}\".format(mlp_pred_acc), \"| Precision: \", \"{0:.4f}\".format(mlp_pred_prec), \"| Recall: \", \"{0:.4f}\".format(mlp_pred_recall), \"| F1: \", \"{0:.4f}\".format(mlp_pred_f1), \"| ROC-AUC: \", \"{0:.4f}\".format(mlp_pred_roc_auc), \"| Log. Loss: \", \"{0:.4f}\".format(mlp_pred_l_loss)) \n"
   ]
  },
  {
   "cell_type": "code",
   "execution_count": 107,
   "metadata": {},
   "outputs": [
    {
     "data": {
      "text/plain": [
       "array([1, 0, 0, 1, 1, 0], dtype=int64)"
      ]
     },
     "execution_count": 107,
     "metadata": {},
     "output_type": "execute_result"
    }
   ],
   "source": [
    "mlp_pred"
   ]
  },
  {
   "cell_type": "markdown",
   "metadata": {},
   "source": [
    "### 5 f) Random Forest"
   ]
  },
  {
   "cell_type": "code",
   "execution_count": 108,
   "metadata": {},
   "outputs": [
    {
     "name": "stdout",
     "output_type": "stream",
     "text": [
      "-start-\n",
      "Test size:  0.25 | Accuracy:  0.8168 | Precision:  0.7879 | Recall:  0.8570 | F1:  0.8210 | ROC-AUC:  0.8176 | Log. Loss:  6.3275\n",
      "Time: 3.75 mins\n"
     ]
    }
   ],
   "source": [
    "rfc_pred = RandomForestClassifier(n_estimators=500)\n",
    "func_classifier_metrics_ts(rfc_pred, 0.25)"
   ]
  },
  {
   "cell_type": "code",
   "execution_count": 109,
   "metadata": {},
   "outputs": [
    {
     "name": "stdout",
     "output_type": "stream",
     "text": [
      "Accuracy:  0.8333 | Precision:  1.0000 | Recall:  0.6667 | F1:  0.8000 | ROC-AUC:  0.8333 | Log. Loss:  5.7565\n"
     ]
    }
   ],
   "source": [
    "rfc_pred = rfc_pred.predict(pred_tfidf_df)\n",
    "\n",
    "rfc_pred_acc = accuracy_score(pred_data[\"label\"], rfc_pred)\n",
    "rfc_pred_prec = precision_score(pred_data[\"label\"], rfc_pred)\n",
    "rfc_pred_recall = recall_score(pred_data[\"label\"], rfc_pred)\n",
    "rfc_pred_f1 = f1_score(pred_data[\"label\"], rfc_pred, average=\"binary\")\n",
    "rfc_pred_l_loss = log_loss(pred_data[\"label\"], rfc_pred)\n",
    "rfc_pred_roc_auc = roc_auc_score(pred_data[\"label\"], rfc_pred)\n",
    "\n",
    "print(\"Accuracy: \", \"{0:.4f}\".format(rfc_pred_acc), \"| Precision: \", \"{0:.4f}\".format(rfc_pred_prec), \"| Recall: \", \"{0:.4f}\".format(rfc_pred_recall), \"| F1: \", \"{0:.4f}\".format(rfc_pred_f1), \"| ROC-AUC: \", \"{0:.4f}\".format(rfc_pred_roc_auc), \"| Log. Loss: \", \"{0:.4f}\".format(rfc_pred_l_loss)) \n"
   ]
  },
  {
   "cell_type": "code",
   "execution_count": 110,
   "metadata": {},
   "outputs": [
    {
     "data": {
      "text/plain": [
       "array([1, 0, 0, 1, 0, 0], dtype=int64)"
      ]
     },
     "execution_count": 110,
     "metadata": {},
     "output_type": "execute_result"
    }
   ],
   "source": [
    "rfc_pred"
   ]
  },
  {
   "cell_type": "markdown",
   "metadata": {},
   "source": [
    "### 5 g) Calculating KPIs of Classification Performance by Survey Participants"
   ]
  },
  {
   "cell_type": "code",
   "execution_count": 111,
   "metadata": {},
   "outputs": [
    {
     "data": {
      "text/plain": [
       "array([0, 1, 0, 0, 0, 0])"
      ]
     },
     "execution_count": 111,
     "metadata": {},
     "output_type": "execute_result"
    }
   ],
   "source": [
    "# 0.3780487805\t0.8536585366\t0.4329268293\t0.1829268293\t0.3536585366\t0.3719512195\n",
    "humans_pred = np.array([0, 1, 0, 0, 0, 0])\n",
    "humans_pred"
   ]
  },
  {
   "cell_type": "code",
   "execution_count": 112,
   "metadata": {},
   "outputs": [
    {
     "name": "stdout",
     "output_type": "stream",
     "text": [
      "Accuracy:  0.6667 | Precision:  1.0000 | Recall:  0.3333 | F1:  0.5000 | ROC-AUC:  0.6667 | Log. Loss:  11.5129\n"
     ]
    }
   ],
   "source": [
    "humans_pred_acc = accuracy_score(pred_data[\"label\"], humans_pred)\n",
    "humans_pred_prec = precision_score(pred_data[\"label\"], humans_pred)\n",
    "humans_pred_recall = recall_score(pred_data[\"label\"], humans_pred)\n",
    "humans_pred_f1 = f1_score(pred_data[\"label\"], humans_pred, average=\"binary\")\n",
    "humans_pred_l_loss = log_loss(pred_data[\"label\"], humans_pred)\n",
    "humans_pred_roc_auc = roc_auc_score(pred_data[\"label\"], humans_pred)\n",
    "\n",
    "print(\"Accuracy: \", \"{0:.4f}\".format(humans_pred_acc), \"| Precision: \", \"{0:.4f}\".format(humans_pred_prec), \"| Recall: \", \"{0:.4f}\".format(humans_pred_recall), \"| F1: \", \"{0:.4f}\".format(humans_pred_f1), \"| ROC-AUC: \", \"{0:.4f}\".format(humans_pred_roc_auc), \"| Log. Loss: \", \"{0:.4f}\".format(humans_pred_l_loss)) \n"
   ]
  },
  {
   "cell_type": "markdown",
   "metadata": {},
   "source": [
    "          "
   ]
  },
  {
   "cell_type": "markdown",
   "metadata": {},
   "source": [
    "### 5 h) Graphs Comparing ML Models' Predictions"
   ]
  },
  {
   "cell_type": "code",
   "execution_count": 113,
   "metadata": {},
   "outputs": [],
   "source": [
    "acc_labels={'Multinomial Naive Bayes':mNB_pred_acc,\n",
    "            'Gaussian Naive Bayes':gNB_pred_acc,\n",
    "            'Bernoulli Naive Bayes':bNB_pred_acc,\n",
    "            'Support Vector Machines':svc_pred_acc,\n",
    "            'Multilayer Perceptron':mlp_pred_acc,\n",
    "            'Random Forest Classifier':rfc_pred_acc            \n",
    "            }"
   ]
  },
  {
   "cell_type": "code",
   "execution_count": 114,
   "metadata": {},
   "outputs": [],
   "source": [
    "precision_labels={'Multinomial Naive Bayes':mNB_pred_prec,\n",
    "                'Gaussian Naive Bayes':gNB_pred_prec,\n",
    "                'Bernoulli Naive Bayes':bNB_pred_prec,\n",
    "                'Support Vector Machines':svc_pred_prec,\n",
    "                'Multilayer Perceptron':mlp_pred_prec,\n",
    "                'Random Forest Classifier':rfc_pred_prec            \n",
    "                }"
   ]
  },
  {
   "cell_type": "code",
   "execution_count": 115,
   "metadata": {},
   "outputs": [],
   "source": [
    "recall_labels={'Multinomial Naive Bayes':mNB_pred_recall,\n",
    "               'Gaussian Naive Bayes':gNB_pred_recall,\n",
    "               'Bernoulli Naive Bayes':bNB_pred_recall,\n",
    "               'Support Vector Machines':svc_pred_recall,\n",
    "               'Multilayer Perceptron':mlp_pred_recall,\n",
    "               'Random Forest Classifier':rfc_pred_recall            \n",
    "                }"
   ]
  },
  {
   "cell_type": "code",
   "execution_count": 116,
   "metadata": {},
   "outputs": [
    {
     "data": {
      "text/plain": [
       "<BarContainer object of 6 artists>"
      ]
     },
     "execution_count": 116,
     "metadata": {},
     "output_type": "execute_result"
    },
    {
     "data": {
      "image/png": "[encoded data removed]",
      "text/plain": [
       "<Figure size 1080x576 with 1 Axes>"
      ]
     },
     "metadata": {
      "needs_background": "light"
     },
     "output_type": "display_data"
    }
   ],
   "source": [
    "plt.figure(figsize=(15,8))\n",
    "plt.title('Comparing Accuracy of ML Models',fontsize=20)\n",
    "colors=['red','black','orange','green','grey','blue']\n",
    "plt.xticks(fontsize=10,color='blue')\n",
    "plt.yticks(fontsize=20,color='blue')\n",
    "plt.ylabel('Accuracy',fontsize=20)\n",
    "plt.xlabel('Models',fontsize=20)\n",
    "plt.bar(acc_labels.keys(),acc_labels.values(), edgecolor='black', color=colors, linewidth=2,alpha=0.5)"
   ]
  },
  {
   "cell_type": "code",
   "execution_count": 117,
   "metadata": {},
   "outputs": [
    {
     "data": {
      "text/plain": [
       "<BarContainer object of 6 artists>"
      ]
     },
     "execution_count": 117,
     "metadata": {},
     "output_type": "execute_result"
    },
    {
     "data": {
      "image/png": "[encoded data removed]",
      "text/plain": [
       "<Figure size 1080x576 with 1 Axes>"
      ]
     },
     "metadata": {
      "needs_background": "light"
     },
     "output_type": "display_data"
    }
   ],
   "source": [
    "plt.figure(figsize=(15,8))\n",
    "plt.title('Comparing Precision of ML Models',fontsize=20)\n",
    "colors=['red','black','orange','green','grey','blue']\n",
    "plt.xticks(fontsize=10,color='blue')\n",
    "plt.yticks(fontsize=20,color='blue')\n",
    "plt.ylabel('Precision',fontsize=20)\n",
    "plt.xlabel('Models',fontsize=20)\n",
    "plt.bar(precision_labels.keys(),precision_labels.values(), edgecolor='black', color=colors, linewidth=2,alpha=0.5)"
   ]
  },
  {
   "cell_type": "code",
   "execution_count": 118,
   "metadata": {},
   "outputs": [
    {
     "data": {
      "text/plain": [
       "<BarContainer object of 6 artists>"
      ]
     },
     "execution_count": 118,
     "metadata": {},
     "output_type": "execute_result"
    },
    {
     "data": {
      "image/png": "[encoded data removed]",
      "text/plain": [
       "<Figure size 1080x576 with 1 Axes>"
      ]
     },
     "metadata": {
      "needs_background": "light"
     },
     "output_type": "display_data"
    }
   ],
   "source": [
    "plt.figure(figsize=(15,8))\n",
    "plt.title('Comparing Precision of ML Models',fontsize=20)\n",
    "colors=['red','black','orange','green','grey','blue']\n",
    "plt.xticks(fontsize=10,color='blue')\n",
    "plt.yticks(fontsize=20,color='blue')\n",
    "plt.ylabel('Precision',fontsize=20)\n",
    "plt.xlabel('Models',fontsize=20)\n",
    "plt.bar(recall_labels.keys(),recall_labels.values(), edgecolor='black', color=colors, linewidth=2,alpha=0.5)"
   ]
  },
  {
   "cell_type": "markdown",
   "metadata": {},
   "source": [
    "Since this data set is well balanced, accuracy can be perceived as a reliable metric."
   ]
  },
  {
   "cell_type": "markdown",
   "metadata": {},
   "source": [
    "\n"
   ]
  }
 ],
 "metadata": {
  "kernelspec": {
   "display_name": "Python 3",
   "language": "python",
   "name": "python3"
  },
  "language_info": {
   "codemirror_mode": {
    "name": "ipython",
    "version": 3
   },
   "file_extension": ".py",
   "mimetype": "text/x-python",
   "name": "python",
   "nbconvert_exporter": "python",
   "pygments_lexer": "ipython3",
   "version": "3.7.1"
  }
 },
 "nbformat": 4,
 "nbformat_minor": 2
}
