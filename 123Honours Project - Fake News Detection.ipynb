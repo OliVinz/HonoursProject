{
 "cells": [
  {
   "cell_type": "markdown",
   "metadata": {},
   "source": [
    "# Honours Project - Fake News Detection"
   ]
  },
  {
   "cell_type": "markdown",
   "metadata": {},
   "source": [
    "\n"
   ]
  },
  {
   "cell_type": "code",
   "execution_count": 1,
   "metadata": {},
   "outputs": [
    {
     "data": {
      "text/plain": [
       "'\\ngit code:\\ngit add .\\ngit commit -m \"First commit\"\\ngit push origin master\\n'"
      ]
     },
     "execution_count": 1,
     "metadata": {},
     "output_type": "execute_result"
    }
   ],
   "source": [
    "\"\"\"\n",
    "git code:\n",
    "git add .\n",
    "git commit -m \"First commit\"\n",
    "git push origin master\n",
    "\"\"\""
   ]
  },
  {
   "cell_type": "markdown",
   "metadata": {},
   "source": [
    "This project will be using the approach of CRISP-DM (Cross-industry standard process for data mining), which is a widely used process for knowledge discovery in data sets. \n",
    "The process encompasses several phases:\n",
    "\n",
    "    1. Business Understanding\n",
    "    2. Data Understanding\n",
    "    3. Data Preparation\n",
    "    4. Modeling\n",
    "    5. Evaluation\n",
    "    6. Deployment"
   ]
  },
  {
   "cell_type": "markdown",
   "metadata": {},
   "source": [
    "Possible data sets:"
   ]
  },
  {
   "cell_type": "markdown",
   "metadata": {},
   "source": [
    "https://www.kaggle.com/pontes/fake-news-sample"
   ]
  },
  {
   "cell_type": "markdown",
   "metadata": {},
   "source": [
    "Real News: https://archive.ics.uci.edu/ml/datasets/News+Aggregator"
   ]
  },
  {
   "cell_type": "markdown",
   "metadata": {},
   "source": [
    "https://toolbox.google.com/datasetsearch/search?query=fake%20news&docid=sHyIQgRMuTsFH02AAAAAAA%3D%3D"
   ]
  },
  {
   "cell_type": "markdown",
   "metadata": {},
   "source": [
    "https://github.com/hanselowski/athene_system/tree/master/data"
   ]
  },
  {
   "cell_type": "markdown",
   "metadata": {},
   "source": []
  },
  {
   "cell_type": "markdown",
   "metadata": {},
   "source": [
    "## Step 1 - Business Understanding"
   ]
  },
  {
   "cell_type": "markdown",
   "metadata": {},
   "source": [
    "TODO\n",
    "\n",
    "Goals/ Objectives &\n",
    "Success Criteria"
   ]
  },
  {
   "cell_type": "markdown",
   "metadata": {},
   "source": [
    "## Step 2 - Data Understanding"
   ]
  },
  {
   "cell_type": "markdown",
   "metadata": {},
   "source": [
    "### 2 a) - Importing Libraries"
   ]
  },
  {
   "cell_type": "code",
   "execution_count": 4,
   "metadata": {},
   "outputs": [],
   "source": [
    "import pandas as pd\n",
    "import numpy as np\n",
    "import nltk\n",
    "import sklearn\n",
    "import string\n",
    "import time\n",
    "\n",
    "from sklearn.model_selection import train_test_split\n",
    "\n",
    "#nltk.download('punkt')\n",
    "\n",
    "#from sklearn.model_selection import train_test_split\n",
    "#import sklearn.model_selection as ms\n",
    "#import sklearn.feature_extraction.text as text\n",
    "#import sklearn.naive_bayes as nb\n",
    "#from sklearn.feature_extraction.text import CountVectorizer\n",
    "#from sklearn.naive_bayes import MultinomialNB\n",
    "#from sklearn.naive_bayes import BernoulliNB\n",
    "#from sklearn.naive_bayes import GaussianNB\n",
    "#from sklearn.metrics import confusion_matrix\n",
    "#from sklearn.metrics import accuracy_score"
   ]
  },
  {
   "cell_type": "markdown",
   "metadata": {},
   "source": [
    "### 2 b) - Loading the Data Set"
   ]
  },
  {
   "cell_type": "code",
   "execution_count": 5,
   "metadata": {},
   "outputs": [
    {
     "data": {
      "text/html": [
       "<div>\n",
       "<style scoped>\n",
       "    .dataframe tbody tr th:only-of-type {\n",
       "        vertical-align: middle;\n",
       "    }\n",
       "\n",
       "    .dataframe tbody tr th {\n",
       "        vertical-align: top;\n",
       "    }\n",
       "\n",
       "    .dataframe thead th {\n",
       "        text-align: right;\n",
       "    }\n",
       "</style>\n",
       "<table border=\"1\" class=\"dataframe\">\n",
       "  <thead>\n",
       "    <tr style=\"text-align: right;\">\n",
       "      <th></th>\n",
       "      <th>Unnamed: 0</th>\n",
       "      <th>title</th>\n",
       "      <th>text</th>\n",
       "      <th>label</th>\n",
       "    </tr>\n",
       "  </thead>\n",
       "  <tbody>\n",
       "    <tr>\n",
       "      <th>0</th>\n",
       "      <td>8476</td>\n",
       "      <td>You Can Smell Hillary’s Fear</td>\n",
       "      <td>Daniel Greenfield, a Shillman Journalism Fello...</td>\n",
       "      <td>FAKE</td>\n",
       "    </tr>\n",
       "    <tr>\n",
       "      <th>1</th>\n",
       "      <td>10294</td>\n",
       "      <td>Watch The Exact Moment Paul Ryan Committed Pol...</td>\n",
       "      <td>Google Pinterest Digg Linkedin Reddit Stumbleu...</td>\n",
       "      <td>FAKE</td>\n",
       "    </tr>\n",
       "    <tr>\n",
       "      <th>2</th>\n",
       "      <td>3608</td>\n",
       "      <td>Kerry to go to Paris in gesture of sympathy</td>\n",
       "      <td>U.S. Secretary of State John F. Kerry said Mon...</td>\n",
       "      <td>REAL</td>\n",
       "    </tr>\n",
       "    <tr>\n",
       "      <th>3</th>\n",
       "      <td>10142</td>\n",
       "      <td>Bernie supporters on Twitter erupt in anger ag...</td>\n",
       "      <td>— Kaydee King (@KaydeeKing) November 9, 2016 T...</td>\n",
       "      <td>FAKE</td>\n",
       "    </tr>\n",
       "    <tr>\n",
       "      <th>4</th>\n",
       "      <td>875</td>\n",
       "      <td>The Battle of New York: Why This Primary Matters</td>\n",
       "      <td>It's primary day in New York and front-runners...</td>\n",
       "      <td>REAL</td>\n",
       "    </tr>\n",
       "  </tbody>\n",
       "</table>\n",
       "</div>"
      ],
      "text/plain": [
       "   Unnamed: 0                                              title  \\\n",
       "0        8476                       You Can Smell Hillary’s Fear   \n",
       "1       10294  Watch The Exact Moment Paul Ryan Committed Pol...   \n",
       "2        3608        Kerry to go to Paris in gesture of sympathy   \n",
       "3       10142  Bernie supporters on Twitter erupt in anger ag...   \n",
       "4         875   The Battle of New York: Why This Primary Matters   \n",
       "\n",
       "                                                text label  \n",
       "0  Daniel Greenfield, a Shillman Journalism Fello...  FAKE  \n",
       "1  Google Pinterest Digg Linkedin Reddit Stumbleu...  FAKE  \n",
       "2  U.S. Secretary of State John F. Kerry said Mon...  REAL  \n",
       "3  — Kaydee King (@KaydeeKing) November 9, 2016 T...  FAKE  \n",
       "4  It's primary day in New York and front-runners...  REAL  "
      ]
     },
     "execution_count": 5,
     "metadata": {},
     "output_type": "execute_result"
    }
   ],
   "source": [
    "df = pd.read_csv(\"data/FakeNews-(balanced)/fake_or_real_news.csv\", encoding=\"utf-8\")\n",
    "df.head()"
   ]
  },
  {
   "cell_type": "code",
   "execution_count": 6,
   "metadata": {},
   "outputs": [
    {
     "data": {
      "text/html": [
       "<div>\n",
       "<style scoped>\n",
       "    .dataframe tbody tr th:only-of-type {\n",
       "        vertical-align: middle;\n",
       "    }\n",
       "\n",
       "    .dataframe tbody tr th {\n",
       "        vertical-align: top;\n",
       "    }\n",
       "\n",
       "    .dataframe thead th {\n",
       "        text-align: right;\n",
       "    }\n",
       "</style>\n",
       "<table border=\"1\" class=\"dataframe\">\n",
       "  <thead>\n",
       "    <tr style=\"text-align: right;\">\n",
       "      <th></th>\n",
       "      <th>Unnamed: 0</th>\n",
       "      <th>title</th>\n",
       "      <th>text</th>\n",
       "      <th>label</th>\n",
       "    </tr>\n",
       "  </thead>\n",
       "  <tbody>\n",
       "    <tr>\n",
       "      <th>5403</th>\n",
       "      <td>4612</td>\n",
       "      <td>Go Ahead, Throw Your Vote Away</td>\n",
       "      <td>I recently had a pleasant encounter with a great and outspoken American who, despite his libertarian leanings, supports Hillary Clinton for president. I congratulated him on making a tough call but allowed as how I was looking forward to casting my ballot for the Libertarian Party's flag bearers, Gary Johnson and William Weld. \"It will be unadulterated pleasure,\" I offered, \"as there is no opportunity cost.\"\\n\\nMy correspondent fired back: \"Opportunity cost is Trump gets elected.\"\\n\\nHere's where the curious nature of the American Electoral College comes in handy. Even where my vote—or the votes of my 100 closest, most easily influenced \"inner circle\"—might swing an election, there is simply no real chance that pushing either Donald Trump or Hillary Clinton over the top in South Carolina, where I live, will determine the outcome of the presidential race. If Hillary wobbles to victory in my current state of residence, she would have already demolished The Donald in the Electoral College. Similarly, in Maryland (where our family lived until 2014), a squeaker for Mr. Trump would indicate that Ms. Clinton had been vanquished in a yuuuuuge landslide elsewhere.\\n\\nNow, it is extremely unlikely that any one person's vote will rock even one state's electoral outcome. In the closest state presidential election of the last half-century—New Mexico (no, not Florida) in 2000—the final margin for Al Gore came to 366. And even that did not swing the national prize.\\n\\nBut set those slim odds of individual influence at the state level off to one (long-shot) side. Assuming that you live in a red or blue, and not a purple, state, you swing completely out of the loop. In its most recent election forecast, the prediction site FiveThirtyEight estimates that there is a 17.9 percent chance that Florida will decide the election (putting one of the candidates \"over the top\"). Next in line are Ohio and Pennsylvania, where the chances are 11.5 percent each, followed by Michigan at 8.7 percent and Wisconsin at 6.2 percent. When you account for North Carolina, Virginia, Colorado, Minnesota, Georgia, Nevada, and Iowa, you've eliminated all the states with as much as an estimated 2 percent chance to determine the outcome. Multiply that by the probability that one's own vote can throw one's state from Hillary to Donald or back, and the prospect that your vote will crown the next chief of state is neatly forecast as equal to 0.0.\\n\\nThis safe harbor protects 67 percent of U.S. population, that portion living beyond the aforementioned swing states. This logic is not lost on the general public, which tends to vote for third parties more often in \"one-party\" states.\\n\\nCitizens realize that they are not trekking to the polls to cast the deciding national vote but to do their patriotic duty, taking pride in affixing an \"I Voted!\" sticker to their lapels and relishing the thought of canceling out some barbarian's vote (or their spouse's). But why not go commando and check the ballot for a person you'd actually prefer to see as president? In most states, the Electoral College makes this a guilt-free option.\\n\\nConsequential outcomes from individual presidential votes are so unlikely that Americans cast their chief of state endorsements while investing far less in research about their choice than the investigative effort they sink to select a smartphone data plan or their next Pokemon Go venue. This is straightforward: Decisions that affect actual results generally invite more attention than those that do not. It is called \"rational ignorance.\"\\n\\nIn another sense, it's liberating. Because your one tally will not change the nation's fate, you can afford to exercise your judgment worry-free. You are not at fault if Donald Trump or Hillary Clinton should win. Meanwhile, you will have indulged your conscience.\\n\\nIt is often said that voting third party is \"throwing your vote away.\" It would be more accurate to say that living in a non-swing state is throwing your vote away. One tactic to recapture some modicum of vote value is to pad the total for an upstart candidate. Moreover, you might help (if modestly) to put the system on notice that the Big Two political party choices are being rejected. Even when the minor parties do not elect a president, they can thus wield power. The classic example is the Socialist Party, which garnered a paltry 880,000 votes in the 1932 election, barely 2 percent of the total cast, but over the course of the decade saw significant pieces of its platform co-opted by the New Deal. Within years, versions of the party's proposals for Social Security, a minimum wage, and large-scale public works were law.\\n\\nIn this year's campaign, I am insulated from liability by the Electoral College. And the presidential festivities, in my view, feature two highly undesirable major party candidates. The Founders have spared me from having to precisely calibrate my coefficient of disgust. Voting for Libertarians who have an exceedingly slim chance of victory will be the least complicated choice I will make—until Saturday's Pokemon Go selections are available.</td>\n",
       "      <td>REAL</td>\n",
       "    </tr>\n",
       "    <tr>\n",
       "      <th>2600</th>\n",
       "      <td>9057</td>\n",
       "      <td>How to Solve the Illegal Immigration Problem</td>\n",
       "      <td>\\nRepublican presidential candidate Donald Trump’s recent speech on immigration really missed the point. I understand Trump’s frustration over the US government’s inability to control the US borders and keep out those who would come to this country illegally. Trump was right that the media ignore legitimate questions we have on our immigration policy and he is right that special interests have a great interest in maintaining the status quo. \\nHowever when it comes to really solving the immigration problem he gets it all wrong. And instead of making us more free and prosperous, his solutions will accelerate our downward slide toward authoritarianism. \\nFirst let’s consider his idea of building a big wall between the US and Mexico. It is said that all one needs to get over an eight foot fence is a nine foot ladder. Or perhaps a shovel. So walls are never very good at keeping people out. But they are very good at keeping people in. Just ask the East Germans. The communist government claimed in 1961 that it had to build a wall around the portion of Berlin it controlled to keep the population safe from the evil capitalist wreckers and saboteurs. It didn’t take long for the world to realize that the real threat to the East German leaders was that the people trapped in East Berlin would try to get out. We have all seen the horrific videos of East German civilians risking – and losing – their lives to escape that prison of razor wire and cinder block. \\nIs this really what we want for our own future? \\nWhat a wild conspiracy theory, some may claim. The wall would never be meant to keep us from leaving. Well ask the IRS. Under a tax enforcement provision passed in 2015, the US government claimed the right to cancel any American citizen’s passport if Washington claims it is owed money. \\nTrump also made E-Verify the center of his immigration speech. He said, “We will ensure that E-Verify is used to the fullest extent possible under existing law, and we will work with Congress to strengthen and expand its use across the country.” \\nWhile preventing those here illegally from being able to gain employment may appeal to many who would like to protect American jobs, E-Verify is the worst possible solution. It is a police state non-solution, as it would require the rest of us legal American citizens to carry a biometric national ID card connected to a government database to prove that the government allows us to work. A false positive would result in financial disaster for millions of American families, as one would be forced to fight a faceless government bureaucracy to correct the mistake. Want to put TSA in charge of deciding if you are eligible to work? \\nThe battle against illegal immigration is a ploy to gain more control over our lives. We are supposed to be terrified of the hoards of Mexicans streaming into our country and thus grant the government new authority over the rest of us. But in fact a Pew study found that between 2009 and 2014 there was a net loss of 140,000 Mexican immigrants from the United States. Yes, this is a government “solution” in search of a real problem. \\nHow to tackle the real immigration problem? Eliminate incentives for those who would come here to live off the rest of us, and make it easier and more rational for those who wish to come here legally to contribute to our economy. No walls, no government databases, no biometric national ID cards. But not a penny in welfare for immigrants. It’s really that simple.</td>\n",
       "      <td>FAKE</td>\n",
       "    </tr>\n",
       "    <tr>\n",
       "      <th>2111</th>\n",
       "      <td>5091</td>\n",
       "      <td>A Tale of 2 Americas: Platforms Show World of Difference Between Dems, GOP</td>\n",
       "      <td>PHILADELPHIA -- In the same city where the framers met to craft the Constitution, Democrats triumphantly chose Hillary Clinton as their White House nominee Tuesday night, the first woman to ever lead a major political party into the general election.\\n\\n\"If there are any little girls out there who stayed up late to watch, let me just say I may become the first woman president but one of you is next. Thank you all. I can't wait to join you in Philadelphia. Thank you!\" Clinton proclaimed.\\n\\nClinton's fierce primary rival, Sen. Bernie Sanders, was the one who put her over the top, pulling a procedural move that allowed him to give her his delegates.\\n\\nIt was an emotional day as Clinton supporters anticipated the historic moment and Sanders supporters faced reality.\\n\\n\"It is with enormous pride that I cast my vote for Bernie Sanders,\" the Vermont lawmaker's brother, Larry Sanders, declared.\\n\\nSeveral other party leaders and speakers addressed the convention, but the crowd came alive when former President Bill Clinton took the stage.\\n\\nClinton took Democrats through his life with Hillary by telling stories about her as a wife and mother while reminding them of her credentials.\\n\\n\"She's been around a long time. She sure has. And she's sure been worth every single year she's put into making people's lives better. I can tell you this: if you were sitting where I'm sitting and you heard what I have heard at every dinner conversation, every lunch conversation, on every long walk, you would say this woman has never been satisfied with the status quo in anything,\" Clinton said of his wife.\\n\\n\"She always wants to move the ball forward. That is just who she is,\" Clinton continued.\\n\\nNow that they have a nominee, Clinton supporters hope to use the party planks to bring the Sanders faithful back into the fold.\\n\\nEven though the climate is not as liberal as Sanders supporters would like here in Philadelphia, Democrats approved their most liberal platform, which stands in stark contrast to the platform passed by Republicans last week in Cleveland.\\n\\nHere's what you need to know about the visions and values of America's two political parties: It's a tale of two paths – two futures for America with two political platforms.\\n\\n\"It really kind of gives a roadmap for the party's principles,\" said Teege Mettille, a DNC delegate from Wisconsin.\\n\\nOn nearly every issue there's a distinction between the Democratic and Republican Party platforms.\\n\\n\"We produced, by far, the most progressive platform in the history of the Democratic Party,\" Sanders proclaimed.\\n\\nOn abortion, Democrats turned their backs on 40 years of policy as they call for the repeal of the Hyde Amendment – a law signed by President Jimmy Carter that prohibits the use of federal tax dollars for abortion.\\n\\nIt's a move that alienates one in three Democrats, according to Democrats for Life.\\n\\nMichael Wear, a former faith adviser to President Barack Obama, calls the move \"disappointing and misguided.\"\\n\\n\"I think the decision we have to make is whether we will continue to be an open tent, welcoming the people who disagree on such a core moral issue as the sanctity of life or whether we're going to become a more strident, closed off, frankly, less inclusive party,\" Wear reflected.\\n\\nOn other social issues the differences in the platforms are vast.\\n\\n\"There are things that are written in that platform that have never been written in there in the history of the party,\" Brandon Weathersby, with the Democratic Party of Wisconsin, said.\\n\\nRepublicans call traditional marriage the \"foundation for a free society\" and acknowledge traditional families as ideal for raising healthy kids who are less likely to get in trouble.\\n\\nThe Democratic platform, however, calls for expanding rights for LGBT Americans.\\n\\nOn the environment, Democrats call for a carbon tax, while Republicans oppose it.\\n\\n\"One of the things that we thought was really amazing - even though we're here as Hillary Clinton delegates, how proud we were that you could hear and see Bernie's voice in that platform to be the most progressive platform in our lifetime that the Democratic Party's every passed,\" David Mettille, a Wisconsin delegate, said.\\n\\nSanders backers represent a growing gap between Democrats and Republicans on Israel.\\n\\nEven though the platforms include similar language about Israel, both parties oppose efforts to delegitimize Israel through the boycott, divestment and sanctions movement.\\n\\nRepublicans take it further, calling the BDS movement anti-Semitic and call for legislation to stop actions that limit commercial relations with Israel.\\n\\nDuring the drafting of the Democrats' platform, debate about Israel caused so much passion that police had to wade into the audience as activists shouted down delegates.\\n\\nSen. Sanders backed a measure to \"end the occupation\" of Palestinians. Liberal activists also called for the rebuilding of the Gaza Strip.\\n\\n\"It is apparently the most progressive platform we've ever had, but it's far from what we wanted,\" Hillary Keys, a Sanders supporter, said.\\n\\nKeys says this is only the beginning. They're leaving Philly to focus on electing the most liberal candidates they can to every office, from dog catcher to president.\\n\\nIn this election, more than ever before Americans have a clear choice between two very different visions.\\n\\nIt's also a time when Christians have a chance to make a major impact.\\n\\n\"There's an anxiety in our culture. It should be the Christian voice that is not echoing the despair but offering a voice of possibility and the love and a future in Christ and a security in Christ,\" Wear said.</td>\n",
       "      <td>REAL</td>\n",
       "    </tr>\n",
       "    <tr>\n",
       "      <th>551</th>\n",
       "      <td>4770</td>\n",
       "      <td>Donald Trump can’t resist blaming Bill Clinton when his own sexism comes up</td>\n",
       "      <td>Even by his standards, Donald Trump's reaction to the release of an audio tape of him joking about sexually assaulting women was astonishing:\\n\\nHe seamlessly pivoted from a devastating revelation about his own misogyny to pointing out that Bill Clinton is the Real Sexist.\\n\\nThis is part of a pattern. In the first presidential debate, he congratulated himself for not bringing up Bill's infidelities: \"I was going to say something extremely rough to Hillary, to her family, and I said to myself, I can't do it. It's inappropriate. It's not nice.\" In case anyone wasn't clear about what he was talking about, after the debate he told reporters, \"I’m very happy that I was able to hold back on the indiscretions with respect to Bill Clinton.\"\\n\\nIn case that was too subtle, he had his surrogates bring the matter up repeatedly. Arkansas Attorney General and Trump surrogate Leslie Rutledge told NBC News's Craig Melvin in response to questioning about Trump's treatment of Miss Universe Alicia Machado, \"If we want to dig back through the '90s on comments made about women, we can certainly look to Secretary Clinton referring to Monica Lewinsky as a neurotic loony-toon.\" Rep. Marsha Blackburn (R-TN) went even further, making shocking new allegations about Hillary Clinton's infidelities with the same women as her husband: \"Look at what she has done: Gennifer Flowers, Paula Jones, Monica Lewinsky, my goodness.\"\\n\\nWhat's the motivation for Trump and his team to dredge the Clinton affairs up? The '90s scandals are pretty old news. There are 18-year-olds voting in this election who weren't alive when the Monica Lewinsky scandal broke in January 1998, and millions more voters in their 20s and 30s who weren’t really old enough to remember.\\n\\nAnd more importantly (Blackburn’s apparent confusion aside), these are allegations about Bill Clinton. If anything, Hillary Clinton, as the cheated-on party in the Flowers and Lewinsky cases, is a victim. Why should any of this reflect poorly on her campaign?\\n\\nThe best explanation we have is twofold. First, the Trump campaign thinks public perceptions around the scandals like those surrounding Bill Clinton have changed in a way that might make that history extremely damaging to the Clintons’ reputation with millennials — if those millennials are briefed on what happened. Thus, bringing it up whenever possible. Second, they view making the conversation about Bill as an effective way to deflect the many, many allegations of sexism against Trump that this campaign has brought to light.\\n\\nSteve Bannon, the CEO of Trump's campaign and former head of Breitbart News, has believed there’s potential in reviving the Bill Clinton scandals for some time now. In January 2015, way before Trump even announced his run for president, Bloomberg’s Joshua Green talked to Bannon about his and Breitbart’s efforts to gather dirt on the Clintons. Bannon was insistent that Bill Clinton’s marital indiscretions were promising ground:\\n\\nThere’s an obvious counterargument to this claim: When people were aware of Bill Clinton’s indiscretions in the 1990s, it didn’t make him unpopular. Indeed, in the first weeks after the Drudge Report broke the Lewinsky story on January 17, 1998, Clinton’s approval rating spiked upward, from about 60 percent to 69:\\n\\nAfter the House impeached him in December, his popularity spiked again, only falling after the whole saga ended with a Senate acquittal in February. It’s hard to conclude anything besides that the scandal was good for Clinton’s reputation with the public at the time, and completely backfired for congressional Republicans, who faced losses in the 1998 midterms for good measure.\\n\\nAnd that’s nothing compared with what the scandal did for Hillary. If Bill’s approval ratings edged upward as a result of the Lewinsky affair, Hillary’s positively soared:\\n\\nSo why in the world would a Republican-aligned operative want to replicate that experience?\\n\\nThe answer lies in Bannon’s allusion to his younger female employees. Yes, these scandals didn’t hurt Clinton the first time around — but the constant barrage of scandals created a numbing effect that weakened the power of each individual charge. And, more pertinently, our norms around sexual misconduct have changed dramatically since the 1990s.\\n\\nThe main line of attack against Clinton in the Lewinsky case from Republicans was a combination of a) the president was unfaithful to his wife, indicating moral bankruptcy on his part, and b) he lied about it under oath, undermining the rule of law. It definitely wasn’t that he was abusing the power of his office by having an affair with a subordinate. That would have been a hard argument for congressional Republicans to make, given that House Speaker Newt Gingrich was having an affair with a staffer (now his third wife) during the whole process.\\n\\nBut in retrospect, this is clearly the most important and troubling aspect of the story. Adultery is wrong, but most Americans view it as a private failing that doesn’t necessarily reflect a politician’s ability to do their job. Perjury is also wrong, but the focus on that element reeked of an effort to find a charge, any charge, with which to impeach Clinton.\\n\\nA president sleeping with a White House intern, by contrast, is clear cut-and-dried sexual harassment. It’s absolutely unacceptable behavior toward a subordinate. In a private company, it’s a fireable offense. It might have been accepted as normal in the '90s, but sexual harassment has slowly come to be recognized as a serious offense in workplaces, and exploiting the power of a senior office to get a lower-ranked employee to consent to sex is a particularly egregious manifestation of it.\\n\\nMore to the point, we now have 20 years of hindsight, and it’s clear that the real victim of the imbroglio was Lewinsky herself, who has been denied the ability to live a normal life with relative anonymity and has become an activist against online abuse after enduring loads of it herself.\\n\\nThe even clearer examples of this are cases where Clinton was accused not of consensual sex but of sexual assault. Lewinsky and Clinton’s previous paramour Gennifer Flowers tend to get placed in the same bucket as Juanita Broaddrick, Paula Jones, and Kathleen Willey, but all three of the latter women accused him of sexual assault. Broaddrick claims that Clinton raped her; Jones alleged that he exposed himself to her; Willey accused him of grabbing her breasts and forcing her to touch his genitals.\\n\\nYou can judge those claims credible or not (having reviewed the cases, I think the Broaddrick allegation is much more credible than the other two), but they’re not \"sex scandals.\" They’re accusations of sexual violence. And recent public conversations about Woody Allen, Bill Cosby, and other prominent men accused of sexual assault suggest that the American public is much more willing now to treat those kinds of accusations seriously.\\n\\nThere’s an issue with Bannon’s strategy, however. It depends not merely on getting young voters outraged about Bill Clinton’s sexual misconduct. To work, this strategy has to convince them that Hillary Clinton is somehow complicit in, or responsible for, his behavior. And that is a much tougher sell, both because the evidence is far thinner (the closest thing to a smoking gun is Hillary calling Lewinsky a \"narcissistic looney-toon\" … in a private conversation with a friend) and because of the inherent perversity of blaming a wife for her husband’s crimes.\\n\\nIt’s a move that denies Clinton her identity as a distinct person from her spouse, which in turn undermines any of the feminist appeal this attack line might have had to voters outraged by Clinton’s treatment of Lewinsky, Broaddrick, etc.\\n\\nSure enough, when Rachel Kramer Bussel surveyed female millennial voters for Fortune on their views on the scandals, she found that most people she talked to thought it was gross to equate Clinton's behavior with that of her husband, with one commenting, \"I consider Hillary Clinton as a politician independent of her husband, Bill Clinton. Just as I would never associate Bernie Sanders as a politician with his wife, Jane Sanders, I would never associate a politician as a politician with their spouse.\"\\n\\nIt’s informative to look at the actual point in the debate where Trump brought-up-by-pretending-to-not-bring-up the Clinton sex scandals. It was directly in response to Hillary Clinton bringing up his treatment of Miss Universe Alicia Machado, and other instances of sexism:\\n\\nCLINTON: You know, he tried to switch from looks to stamina. But this is a man who has called women pigs, slobs, and dogs, and someone who has said pregnancy is an inconvenience to employers, who has said... TRUMP: I never said that. CLINTON: ...women don’t deserve equal pay unless they do as good a job as men. CLINTON: And one of the worst things he said was about a woman in a beauty contest. He loves beauty contests, supporting them and hanging around them. And he called this woman \"Miss Piggy.\" Then he called her \"Miss Housekeeping,\" because she was Latina. Donald, she has a name. TRUMP: Where did you find this? Where did you find this? CLINTON: Her name is Alicia Machado. TRUMP: Where did you find this? CLINTON: And she has become a US citizen, and you can bet... CLINTON: ...she’s going to vote this November. TRUMP: You know, Hillary is hitting me with tremendous commercials. Some of it’s said in entertainment. Some of it’s said — somebody who’s been very vicious to me, Rosie O’Donnell, I said very tough things to her, and I think everybody would agree that she deserves it and nobody feels sorry for her. But you want to know the truth? I was going to say something extremely rough to Hillary, to her family, and I said to myself, \"I can’t do it. I just can’t do it. It’s inappropriate. It’s not nice.\"\\n\\nTrump was getting pummeled on his own record of mistreating women, and he immediately parried with a reference to the affairs.\\n\\nYou see this relationship in the responses of his surrogates, as well. Recall what Kellyanne Conway, his campaign manager said: \"He literally could have gone there and made very clear that he came ready to say some rough things if she was going to challenge him about his abuse – about his record on women.\" (Emphasis mine.) Rutledge, the Arkansas attorney general, replied to questioning about Machado by saying, \"If we want to dig back through the '90s on comments made about women…\" and running through the Lewinsky scandal.\\n\\nThis trend suggests that the Trump campaign has assigned a specific role for the candidate's attacks on Bill Clinton’s sexual misconduct. They’re not deployed right off the bat, or in TV ads, but only as damage control in response to questions about his own record of mistreating women.\\n\\nThat might be smart campaigning; as the old saying goes, \"If you’re explaining you’re losing,\" and trying to parry specific accusations might come off as defensive. But this strategy does have a side effect of implicitly conceding that Trump behaved poorly. Even he and his team aren’t willing to defend his own conduct on the merits. So they deflect to Bill’s — and try to pin it on Hillary in the process.</td>\n",
       "      <td>REAL</td>\n",
       "    </tr>\n",
       "    <tr>\n",
       "      <th>5860</th>\n",
       "      <td>395</td>\n",
       "      <td>Barbara Mikulski , the longest serving female senator in history, to retire</td>\n",
       "      <td>The Maryland Democrat made the announcement Monday morning in her hometown of Baltimore.\\n\\nMikulski, 78, is known as the \"Dean\" of the Senate women -- helping forge bipartisan relationships for decades that often result in compromise. Until Democrats lost control of the Senate, she was the chairman of the powerful Senate Appropriations Committee.\\n\\n\"I had to ask myself this question: Am I campaigning for me, or am I campaigning for my constituents?\" she said Monday. \"Am I raising money or raising hell?\"\\n\\nPresident Barack Obama praised Mikulski as \"legendary\" and called her \"an institution in the United States Senate\" in a statement Monday that followed her announcement. \"Barbara's service to the people of Maryland spans decades, but her legacy will span generations,\" Obama said. \"Barbara is the longest serving woman in Congress, and her leadership serves as an inspiration to millions of women and girls across the globe to stand up and lead.\" Her retirement could present an opening for former Maryland Gov. Martin O'Malley, who left office weeks ago and has been considering a 2016 bid for the Democratic presidential nomination -- though he could struggle to make waves in that race if, as expected, Hillary Clinton runs. It's not clear whether O'Malley would be interested in a legislative seat. But his mother has long served as Mikulski's receptionist in her Washington office. And O'Malley tweeted his praise for Mikulski on Monday. I got my start in Maryland politics on @SenatorBarb's '86 campaign. Very grateful for her service to our state as well as her mentorship. — Martin O'Malley (@GovernorOMalley) March 2, 2015 The state is also represented by seven Democratic House members -- including Rep. Chris Van Hollen, a member of the party's congressional leadership -- and they could all scramble for the seat, too. O'Malley's former lieutenant governor, Anthony Brown, is another contender. Also on the list of potential Democratic candidates are Baltimore Mayor Stephanie Rawlings-Blake and Labor Secretary Tom Perez.</td>\n",
       "      <td>REAL</td>\n",
       "    </tr>\n",
       "    <tr>\n",
       "      <th>4654</th>\n",
       "      <td>518</td>\n",
       "      <td>Gundlach: Trump Would Use Debt Like Reagan for Growth</td>\n",
       "      <td>DoubleLine Capital’s Jeffrey Gundlach said Donald Trump, if he’s elected president, would help the U.S. economy recover by going further into debt, just as Ronald Reagan fueled growth in the 1980s.\\n\\n“Trump is going to win, and Trump is going to increase the deficit,” Gundlach said during a panel discussion Thursday in New York. Reagan “did it by taking three or four decades of stable nonfinancial debt-to-GDP ratio and putting it on a hockey stick higher.”\\n\\nGundlach, 56, isn’t endorsing any candidate, according to Loren Fleckenstein, a DoubleLine analyst. The fund manager, who has been predicting a Trump election victory since February, noted that Trump’s campaign slogan, “Make America Great Again,” resembles Reagan’s “Let’s Make America Great Again.”\\n\\nUnder Reagan, the U.S. debt grew to more than $2.3 trillion at the end of 1988 from $807 billion eight years earlier, according to data compiled by Bloomberg. The total U.S. debt as of Dec. 31 was $15.1 trillion.\\n\\nMarkets might not react favorably to a Trump election at first, because the Republican presidential candidate has criticized international trade agreements, according to the fund manager.\\n\\n“First, I think you’re going to get a global growth scare, trade-based,” Gundlach said. “That could cause a market rollover which to me looks like it’s already under way.”\\n\\nThis retreat in the S&amp;P 500 Index could be “an excellent buying opportunity,” Gundlach added, as the debt binge “will probably stimulate growth, at least temporarily.”\\n\\nThe S&amp;P 500 is down about 0.6 percent since Trump’s victory Tuesday in the Indiana primary. His win prompted his two remaining Republican opponents, Texas Senator Ted Cruz and Ohio Governor John Kasich, to suspend their campaigns.\\n\\n“When I say Donald Trump’s going to win, it’s not that I’m wildly rooting for him, although I don’t dislike Donald Trump,” Gundlach said in an interview with Fox Business Network’s “Wall Street Week” set to air Friday at 8 p.m. New York time. “It’s just like, I think it’s going to happen.”\\n\\nOn the panel discussion, Gundlach said oil prices must get to $60 a barrel to avoid a wave of high-yield debt defaults, a price he doesn’t expect to see soon. He predicted more junk-bond defaults when borrowers are forced to roll over debt in a rising interest-rate environment by 2018 or the following two years.\\n\\nGundlach said he continues to be long on gold. Spot gold was trading at about $1,277 an ounce as of 6:48 p.m. Thursday in New York, up 20 percent this year. In January, Gundlach said he expected gold would climb to $1,400.</td>\n",
       "      <td>REAL</td>\n",
       "    </tr>\n",
       "    <tr>\n",
       "      <th>3366</th>\n",
       "      <td>9719</td>\n",
       "      <td>Alien Insects Capture In UK</td>\n",
       "      <td>Alien Insects Capture In UK # John Wood 0 \\nAs you see by this video Alien life has found it's way onto Earth it seems if your a sceptic that they just could be dragon fles or moths but you slow it down yousee the wings look like and move like that of a cuttle fish fins their bodie seem translucent and highly colored and there seems to be plenty of them in my local area. Tags</td>\n",
       "      <td>FAKE</td>\n",
       "    </tr>\n",
       "    <tr>\n",
       "      <th>4043</th>\n",
       "      <td>6126</td>\n",
       "      <td>WikiLeaks: Look Who The Clinton Camp Most Wants to Please</td>\n",
       "      <td>Pinterest \\nWho does the Clinton camp want to make “happy”? Not the American people, of course, but none other than billionaire left-wing globalist George Soros. \\nSoros has donated around $25 million to the Clinton campaign as of July, according to Politico , and that clearly buys a great deal of influence. WikiLeaks has recently released emails from the account of Clinton campaign chairman John Podesta that show the lengths the campaign went to keep Soros “happy” and the huge amount of influence he exerted. \\nIn an Oct. 7, 2014 email from top Clinton aide Huma Abedin to now-campaign manager Robby Mook, Abedin discussed a dinner Clinton was going to have with Soros. Abedin said in the email that she expected that Soros would eventually ask Clinton to attend a fundraiser for one of the numerous groups Soros helps bankroll, the liberal America Votes organization. \\nMook replied to the email: “I would only do this for political reasons (ie to make Soros happy).” \\nFox News reported : \\nDuring her time as secretary of state, Clinton was forwarded from Soros’ aides on Jan. 23, 2011 a message he wrote specifically for her addressing “a serious situation” in Albania. Soros even included two actions that “need to be done urgently.” One of the suggestions was appointing “a mediator such as Carl Bildt, Martti Ahtisaari or Miroslav Lajcak…” \\nClinton received the email the next day. On Jan. 27, Lajcak met Albanian leaders for a mediation effort. \\nIn another instance, just hours after the death of Justice Antonin Scalia on Feb. 13, 2016, Chris Stone, president of the Soros-founded Open Society Foundations, emailed Podesta and asked: “Remember our discussion of Wallace Jefferson, [former] Chief Justice in Texas?” Podesta simply replied, “yup.” \\nAn adviser and spokesman for Soros, Michael Vachon, did most of the corresponding with Podesta related to Soros. Vachon scheduled phone calls and meetings along with making sure that the campaign knew Soros’ position on a variety of policy issues. \\nFox News reported: \\nOn March 7, 2016, Vachon sent Podesta a memo regarding “TPP and Malaysia’s Corruption Crisis.” The document criticized President Obama for making “visible compromises” in his quest to get a deal for the Trans Pacific Partnership completed. Podesta was ostensibly set to discuss the memo with Soros and his son, Alexander, during a dinner later that month. Six days later, Vachon got even more specific. \\n“In general I think George is more interested in talking about policy than the campaign per se,” Vachon wrote. “In a separate email I will send you George’s latest thinking on the migration crisis, which he is spending a lot of time on. His other big preoccupation these days is Ukraine.” \\nRefugees/migration, the Supreme Court, global warming, Ukraine, etc., are surely just a sampling of policy issues on which the globalist Soros has and will continue to influence Clinton. \\nClinton is dangerous enough as it is, but as the man who could be directing policy decisions if Clinton is elected president? That is a scary thought.</td>\n",
       "      <td>FAKE</td>\n",
       "    </tr>\n",
       "    <tr>\n",
       "      <th>5590</th>\n",
       "      <td>6817</td>\n",
       "      <td>‘I Don’t Rent To N s’: Smoking Gun Proves Trump Family Racism (VIDEO) | Addicting Info | The Knowledge You Crave</td>\n",
       "      <td>on October 25, 2016 10:41 pm · \\nNew video has surfaced adding to the mountain of evidence that while working alongside his father, Fred Trump, young Donald Trump was part of a real estate business that discriminated against minority applicants. \\nAs part of an investigation by NBC News, Stanley Leibowitz, who worked as a rental agent for the Trump Organization, told the news network that he personally witnessed the elder Trump explicitly lay out a racist policy for their apartment properties. \\nIn the interview, Leibowitz said that Trump told him “I don’t rent to the n-word,” and indicates that Trump made this statement with Donald Trump in the room and that the younger Trump affirmed the policy. \\nThe revelation comes at the same time that the Clinton campaign has released a video highlighting Trump’s run-in with the federal government over discrimination. \\nUndercover investigators were sent to Trump properties, and there they repeatedly ran into a policy where black applicants with identical financial backgrounds to white applicants were systematically denied housing. The white applicants were allowed into the Trump properties. \\nOne bit of testimony determined that Trump property managers indicated applications from blacks by putting a “C” on the documents for “colored,” and that was a sign that they should be denied. \\nThe Trumps denied the allegation, but later settled with the government over the policy without admitting wrongdoing. \\nDonald Trump’s involvement with his father’s business is key to the entire story of his rise to prominence in the real estate world and the media, as is his father’s $14 million dollars that he gave to Trump to start his business. But if you accept that, the Trump Organization’s history of racial discrimination and the legal entanglements that come with that are also part of the story, and no matter how Trump may try to wave it away – it’s still there. \\nFeatured image via screen capture Share this Article! Author: Oliver Willis I was one of the first political bloggers in the world (since 2000), and was among the first bloggers to interview President Obama at the White House. I am on Twitter @owillis and write at OliverWillis.com Search</td>\n",
       "      <td>FAKE</td>\n",
       "    </tr>\n",
       "    <tr>\n",
       "      <th>5246</th>\n",
       "      <td>922</td>\n",
       "      <td>Hillary Torches the Bern in NY Blowout</td>\n",
       "      <td>The Democratic frontrunner won decisively to take a stranglehold on the race despite all of Sanders’s rallies and celebrity endorsements.\\n\\nSanders spent the week sowing the seeds of doubt within Clinton’s coalition—blistering her for her association with Wall Street, holding a series of mega-rallies, collecting a host of celebrity endorsements, and out-spending her by 2-1 on TV ads.\\n\\n\\n\\nHe needed a win, or a very close finish, to maintain the momentum in his unlikely bid to upset Clinton, but the Brooklyn native was defeated by more than 15 points.\\n\\n“Victory is in sight!” declared Clinton at a New York rally. Staffers near the back of the room hugged each other—visibly relieved that this particularly ugly part of the primary campaign had concluded.\\n\\nThe Democratic race had taken a turn for the combative in New York—a family feud that played out in prime time last week during the debate in Brooklyn.\\n\\nAt about a quarter to 10, “Another One Bites the Dust” blasted through the Sheraton ballroom—at the same moment Clinton tweeted her thanks to New York for electing her statewide yet again. With 98 percent of the precincts declared, she was leading 57.9 percent to 42.1 percent.\\n\\n\\n\\nClinton even tried to knock the assumption that the Sanders campaign had a monopoly on excitement. “Tonight I want to say to all of my supporters and all of the voters: You have carried us every step of the way with passion and conviction that some critics have tried to dismiss,” she said, a campaign version of a “We’ve Got Spirit” taunt.\\n\\nAfter days of massive, confidence-boosting rallies, most Sanders supporters were were likely in no mood to listen, but Clinton also tried to reach out. “I believe there is much more that unites us than divides us,” she said.\\n\\n\\n\\nJudging by Sanders’s fundraising email blast as the results came in, the Vermont senator is not about to give up and unite behind the frontrunner.\\n\\n\\n\\n“Sisters and Brothers,” it began. “We didn’t get the victory we had hoped for this evening, but what’s important is that it looks like we’re going to win a lot more delegates in New York than any state that voted or caucused before tonight.”\\n\\nHe entered to Frank Sinatra’s “New York, New York,” bathed in the red and blue lights that have decorated each of his victory speeches to date. He shook hands and hugged bystanders before taking to the lectern, surrounded by his family and friends like Carl Paladino, the failed gubernatorial candidate.\\n\\nTen months ago, on June 16, Trump was in this very room. In what he now believes to be an iconic scene, he came down the escalator with his wife, Melania, and into a sea of reporters and paid extras pretending to be fervent fans. Back then he seemed like a sideshow, and Beltway analysts and pundits predicted he would fizzle out quickly.\\n\\nThis time the escalator was frozen. His fans stood on it and peered down at him as he spoke. He had just won his 20th contest—with more than 60 percent of the vote—and added to his substantial delegate lead, on his way to the 1,237 needed to secure the Republican nomination.\\n\\nThe event was billed as a “press conference” by Trump’s campaign, but he didn’t take any questions, instead giving a condensed version of his stump speech that focused primarily on jobs. He promised not just to Make America Great Again, but to make it “really, legitimately, so great.”\\n\\n“We’re going to go into the convention, I think, as a winner—and nobody can take an election away the way they’re doing it in the Republican Party,” he said.</td>\n",
       "      <td>REAL</td>\n",
       "    </tr>\n",
       "  </tbody>\n",
       "</table>\n",
       "</div>"
      ],
      "text/plain": [
       "      Unnamed: 0  \\\n",
       "5403  4612         \n",
       "2600  9057         \n",
       "2111  5091         \n",
       "551   4770         \n",
       "5860  395          \n",
       "4654  518          \n",
       "3366  9719         \n",
       "4043  6126         \n",
       "5590  6817         \n",
       "5246  922          \n",
       "\n",
       "                                                                                                                 title  \\\n",
       "5403  Go Ahead, Throw Your Vote Away                                                                                     \n",
       "2600  How to Solve the Illegal Immigration Problem                                                                       \n",
       "2111  A Tale of 2 Americas: Platforms Show World of Difference Between Dems, GOP                                         \n",
       "551   Donald Trump can’t resist blaming Bill Clinton when his own sexism comes up                                        \n",
       "5860  Barbara Mikulski , the longest serving female senator in history, to retire                                        \n",
       "4654  Gundlach: Trump Would Use Debt Like Reagan for Growth                                                              \n",
       "3366  Alien Insects Capture In UK                                                                                        \n",
       "4043  WikiLeaks: Look Who The Clinton Camp Most Wants to Please                                                          \n",
       "5590  ‘I Don’t Rent To N s’: Smoking Gun Proves Trump Family Racism (VIDEO) | Addicting Info | The Knowledge You Crave   \n",
       "5246  Hillary Torches the Bern in NY Blowout                                                                             \n",
       "\n",
       "                                                                                                                                                                                                                                                                                                                                                                                                                                                                                                                                                                                                                                                                                                                                                                                                                                                                                                                                                                                                                                                                                                                                                                                                                                                                                                                                                                                                                                                                                                                                                                                                                                                                                                                                                                                                                                                                                                                                                                                                                                                                                                                                                                                                                                                                                                                                                                                                                                                                                                                                                                                                                                                                                                                                                                                                                                                                                                                                                                                                                                                                                                                                                                                                                                                                                                                                                                                                                                                                                                                                                                                                                                                                                                                                                                                                                                                                                                                                                                                                                                                                                                                                                                                                                                                                                                                                                                                                                                                                                                                                                                                                                                                                                                                                                                                                                                                                                                                                                                                                                                                                                                                                                                                                                                                                                                                                                                                                                                                                                                                                                                                                                                                                                                                                                                                                                                                                                                                                                                                                                                                                                                                                                                                                                                                                                                                                                                                                                                                                                                                                                                                                                                                                                                                                                                                                                                                                                                                                                                                                                                                                                                                                                                                                                                                                                                                                                                                                                                                                                                                                                                                                                                                                                                                                                                                                                                                                                                                                                                                                                                                                                                                                                                                                                                                                                                                                                                                                                                                                                                                                                                                                                                                                                                                                                                                                                                                                                                                                                                                                                                                                                                                                                                                                                                                                                                                                                                                                                                                                                                                                                                                                                                                                                                                                                                                                                                                                                                                                                                                                                                                                                                                                                                                                                                                                                                                                                                                                                                                                                                                                                                                                                                                                                                                                                                                                                                                                                                                                                                                                                                                                                                                                                                                                                                                                                                                                                                                                                                                                                                                                                                                                                                                                                                                 text  \\\n",
       "5403  I recently had a pleasant encounter with a great and outspoken American who, despite his libertarian leanings, supports Hillary Clinton for president. I congratulated him on making a tough call but allowed as how I was looking forward to casting my ballot for the Libertarian Party's flag bearers, Gary Johnson and William Weld. \"It will be unadulterated pleasure,\" I offered, \"as there is no opportunity cost.\"\\n\\nMy correspondent fired back: \"Opportunity cost is Trump gets elected.\"\\n\\nHere's where the curious nature of the American Electoral College comes in handy. Even where my vote—or the votes of my 100 closest, most easily influenced \"inner circle\"—might swing an election, there is simply no real chance that pushing either Donald Trump or Hillary Clinton over the top in South Carolina, where I live, will determine the outcome of the presidential race. If Hillary wobbles to victory in my current state of residence, she would have already demolished The Donald in the Electoral College. Similarly, in Maryland (where our family lived until 2014), a squeaker for Mr. Trump would indicate that Ms. Clinton had been vanquished in a yuuuuuge landslide elsewhere.\\n\\nNow, it is extremely unlikely that any one person's vote will rock even one state's electoral outcome. In the closest state presidential election of the last half-century—New Mexico (no, not Florida) in 2000—the final margin for Al Gore came to 366. And even that did not swing the national prize.\\n\\nBut set those slim odds of individual influence at the state level off to one (long-shot) side. Assuming that you live in a red or blue, and not a purple, state, you swing completely out of the loop. In its most recent election forecast, the prediction site FiveThirtyEight estimates that there is a 17.9 percent chance that Florida will decide the election (putting one of the candidates \"over the top\"). Next in line are Ohio and Pennsylvania, where the chances are 11.5 percent each, followed by Michigan at 8.7 percent and Wisconsin at 6.2 percent. When you account for North Carolina, Virginia, Colorado, Minnesota, Georgia, Nevada, and Iowa, you've eliminated all the states with as much as an estimated 2 percent chance to determine the outcome. Multiply that by the probability that one's own vote can throw one's state from Hillary to Donald or back, and the prospect that your vote will crown the next chief of state is neatly forecast as equal to 0.0.\\n\\nThis safe harbor protects 67 percent of U.S. population, that portion living beyond the aforementioned swing states. This logic is not lost on the general public, which tends to vote for third parties more often in \"one-party\" states.\\n\\nCitizens realize that they are not trekking to the polls to cast the deciding national vote but to do their patriotic duty, taking pride in affixing an \"I Voted!\" sticker to their lapels and relishing the thought of canceling out some barbarian's vote (or their spouse's). But why not go commando and check the ballot for a person you'd actually prefer to see as president? In most states, the Electoral College makes this a guilt-free option.\\n\\nConsequential outcomes from individual presidential votes are so unlikely that Americans cast their chief of state endorsements while investing far less in research about their choice than the investigative effort they sink to select a smartphone data plan or their next Pokemon Go venue. This is straightforward: Decisions that affect actual results generally invite more attention than those that do not. It is called \"rational ignorance.\"\\n\\nIn another sense, it's liberating. Because your one tally will not change the nation's fate, you can afford to exercise your judgment worry-free. You are not at fault if Donald Trump or Hillary Clinton should win. Meanwhile, you will have indulged your conscience.\\n\\nIt is often said that voting third party is \"throwing your vote away.\" It would be more accurate to say that living in a non-swing state is throwing your vote away. One tactic to recapture some modicum of vote value is to pad the total for an upstart candidate. Moreover, you might help (if modestly) to put the system on notice that the Big Two political party choices are being rejected. Even when the minor parties do not elect a president, they can thus wield power. The classic example is the Socialist Party, which garnered a paltry 880,000 votes in the 1932 election, barely 2 percent of the total cast, but over the course of the decade saw significant pieces of its platform co-opted by the New Deal. Within years, versions of the party's proposals for Social Security, a minimum wage, and large-scale public works were law.\\n\\nIn this year's campaign, I am insulated from liability by the Electoral College. And the presidential festivities, in my view, feature two highly undesirable major party candidates. The Founders have spared me from having to precisely calibrate my coefficient of disgust. Voting for Libertarians who have an exceedingly slim chance of victory will be the least complicated choice I will make—until Saturday's Pokemon Go selections are available.                                                                                                                                                                                                                                                                                                                                                                                                                                                                                                                                                                                                                                                                                                                                                                                                                                                                                                                                                                                                                                                                                                                                                                                                                                                                                                                                                                                                                                                                                                                                                                                                                                                                                                                                                                                                                                                                                                                                                                                                                                                                                                                                                                                                                                                                                                                                                                                                                                                                                                                                                                                                                                                                                                                                                                                                                                                                                                                                                                                                                                                                                                                                                                                                                                                                                                                                                                                                                                                                                                                                                                                                                                                                                                                                                                                                                                                                                                                                                                                                                                                                                                                                                                                                                                                                                                                                                                                                                                                                                                                                                                                                                                                                                                                                                                                                                                                                                                                                                                                                                                                                                                                                                                                                                                                                                                                                                                                                                                                                                                                                                                                                                                                                                                                                                                                                                                                                                                                                                                                                                                                                                                                                                                                                                                                                                                                                                                              \n",
       "2600    \\nRepublican presidential candidate Donald Trump’s recent speech on immigration really missed the point. I understand Trump’s frustration over the US government’s inability to control the US borders and keep out those who would come to this country illegally. Trump was right that the media ignore legitimate questions we have on our immigration policy and he is right that special interests have a great interest in maintaining the status quo. \\nHowever when it comes to really solving the immigration problem he gets it all wrong. And instead of making us more free and prosperous, his solutions will accelerate our downward slide toward authoritarianism. \\nFirst let’s consider his idea of building a big wall between the US and Mexico. It is said that all one needs to get over an eight foot fence is a nine foot ladder. Or perhaps a shovel. So walls are never very good at keeping people out. But they are very good at keeping people in. Just ask the East Germans. The communist government claimed in 1961 that it had to build a wall around the portion of Berlin it controlled to keep the population safe from the evil capitalist wreckers and saboteurs. It didn’t take long for the world to realize that the real threat to the East German leaders was that the people trapped in East Berlin would try to get out. We have all seen the horrific videos of East German civilians risking – and losing – their lives to escape that prison of razor wire and cinder block. \\nIs this really what we want for our own future? \\nWhat a wild conspiracy theory, some may claim. The wall would never be meant to keep us from leaving. Well ask the IRS. Under a tax enforcement provision passed in 2015, the US government claimed the right to cancel any American citizen’s passport if Washington claims it is owed money. \\nTrump also made E-Verify the center of his immigration speech. He said, “We will ensure that E-Verify is used to the fullest extent possible under existing law, and we will work with Congress to strengthen and expand its use across the country.” \\nWhile preventing those here illegally from being able to gain employment may appeal to many who would like to protect American jobs, E-Verify is the worst possible solution. It is a police state non-solution, as it would require the rest of us legal American citizens to carry a biometric national ID card connected to a government database to prove that the government allows us to work. A false positive would result in financial disaster for millions of American families, as one would be forced to fight a faceless government bureaucracy to correct the mistake. Want to put TSA in charge of deciding if you are eligible to work? \\nThe battle against illegal immigration is a ploy to gain more control over our lives. We are supposed to be terrified of the hoards of Mexicans streaming into our country and thus grant the government new authority over the rest of us. But in fact a Pew study found that between 2009 and 2014 there was a net loss of 140,000 Mexican immigrants from the United States. Yes, this is a government “solution” in search of a real problem. \\nHow to tackle the real immigration problem? Eliminate incentives for those who would come here to live off the rest of us, and make it easier and more rational for those who wish to come here legally to contribute to our economy. No walls, no government databases, no biometric national ID cards. But not a penny in welfare for immigrants. It’s really that simple.                                                                                                                                                                                                                                                                                                                                                                                                                                                                                                                                                                                                                                                                                                                                                                                                                                                                                                                                                                                                                                                                                                                                                                                                                                                                                                                                                                                                                                                                                                                                                                                                                                                                                                                                                                                                                                                                                                                                                                                                                                                                                                                                                                                                                                                                                                                                                                                                                                                                                                                                                                                                                                                                                                                                                                                                                                                                                                                                                                                                                                                                                                                                                                                                                                                                                                                                                                                                                                                                                                                                                                                                                                                                                                                                                                                                                                                                                                                                                                                                                                                                                                                                                                                                                                                                                                                                                                                                                                                                                                                                                                                                                                                                                                                                                                                                                                                                                                                                                                                                                                                                                                                                                                                                                                                                                                                                                                                                                                                                                                                                                                                                                                                                                                                                                                                                                                                                                                                                                                                                                                                                                                                                                                                                                                                                                                                                                                                                                                                                                                                                                                                                                                                                                                                                                                                                                                                                                                                                                                                                                                                                                                                                                                                                                                                                                                                                                                                                                                                                                                                                                                                                                                                                                                                                                                                                                                                                                                                                                                                                                                                                            \n",
       "2111  PHILADELPHIA -- In the same city where the framers met to craft the Constitution, Democrats triumphantly chose Hillary Clinton as their White House nominee Tuesday night, the first woman to ever lead a major political party into the general election.\\n\\n\"If there are any little girls out there who stayed up late to watch, let me just say I may become the first woman president but one of you is next. Thank you all. I can't wait to join you in Philadelphia. Thank you!\" Clinton proclaimed.\\n\\nClinton's fierce primary rival, Sen. Bernie Sanders, was the one who put her over the top, pulling a procedural move that allowed him to give her his delegates.\\n\\nIt was an emotional day as Clinton supporters anticipated the historic moment and Sanders supporters faced reality.\\n\\n\"It is with enormous pride that I cast my vote for Bernie Sanders,\" the Vermont lawmaker's brother, Larry Sanders, declared.\\n\\nSeveral other party leaders and speakers addressed the convention, but the crowd came alive when former President Bill Clinton took the stage.\\n\\nClinton took Democrats through his life with Hillary by telling stories about her as a wife and mother while reminding them of her credentials.\\n\\n\"She's been around a long time. She sure has. And she's sure been worth every single year she's put into making people's lives better. I can tell you this: if you were sitting where I'm sitting and you heard what I have heard at every dinner conversation, every lunch conversation, on every long walk, you would say this woman has never been satisfied with the status quo in anything,\" Clinton said of his wife.\\n\\n\"She always wants to move the ball forward. That is just who she is,\" Clinton continued.\\n\\nNow that they have a nominee, Clinton supporters hope to use the party planks to bring the Sanders faithful back into the fold.\\n\\nEven though the climate is not as liberal as Sanders supporters would like here in Philadelphia, Democrats approved their most liberal platform, which stands in stark contrast to the platform passed by Republicans last week in Cleveland.\\n\\nHere's what you need to know about the visions and values of America's two political parties: It's a tale of two paths – two futures for America with two political platforms.\\n\\n\"It really kind of gives a roadmap for the party's principles,\" said Teege Mettille, a DNC delegate from Wisconsin.\\n\\nOn nearly every issue there's a distinction between the Democratic and Republican Party platforms.\\n\\n\"We produced, by far, the most progressive platform in the history of the Democratic Party,\" Sanders proclaimed.\\n\\nOn abortion, Democrats turned their backs on 40 years of policy as they call for the repeal of the Hyde Amendment – a law signed by President Jimmy Carter that prohibits the use of federal tax dollars for abortion.\\n\\nIt's a move that alienates one in three Democrats, according to Democrats for Life.\\n\\nMichael Wear, a former faith adviser to President Barack Obama, calls the move \"disappointing and misguided.\"\\n\\n\"I think the decision we have to make is whether we will continue to be an open tent, welcoming the people who disagree on such a core moral issue as the sanctity of life or whether we're going to become a more strident, closed off, frankly, less inclusive party,\" Wear reflected.\\n\\nOn other social issues the differences in the platforms are vast.\\n\\n\"There are things that are written in that platform that have never been written in there in the history of the party,\" Brandon Weathersby, with the Democratic Party of Wisconsin, said.\\n\\nRepublicans call traditional marriage the \"foundation for a free society\" and acknowledge traditional families as ideal for raising healthy kids who are less likely to get in trouble.\\n\\nThe Democratic platform, however, calls for expanding rights for LGBT Americans.\\n\\nOn the environment, Democrats call for a carbon tax, while Republicans oppose it.\\n\\n\"One of the things that we thought was really amazing - even though we're here as Hillary Clinton delegates, how proud we were that you could hear and see Bernie's voice in that platform to be the most progressive platform in our lifetime that the Democratic Party's every passed,\" David Mettille, a Wisconsin delegate, said.\\n\\nSanders backers represent a growing gap between Democrats and Republicans on Israel.\\n\\nEven though the platforms include similar language about Israel, both parties oppose efforts to delegitimize Israel through the boycott, divestment and sanctions movement.\\n\\nRepublicans take it further, calling the BDS movement anti-Semitic and call for legislation to stop actions that limit commercial relations with Israel.\\n\\nDuring the drafting of the Democrats' platform, debate about Israel caused so much passion that police had to wade into the audience as activists shouted down delegates.\\n\\nSen. Sanders backed a measure to \"end the occupation\" of Palestinians. Liberal activists also called for the rebuilding of the Gaza Strip.\\n\\n\"It is apparently the most progressive platform we've ever had, but it's far from what we wanted,\" Hillary Keys, a Sanders supporter, said.\\n\\nKeys says this is only the beginning. They're leaving Philly to focus on electing the most liberal candidates they can to every office, from dog catcher to president.\\n\\nIn this election, more than ever before Americans have a clear choice between two very different visions.\\n\\nIt's also a time when Christians have a chance to make a major impact.\\n\\n\"There's an anxiety in our culture. It should be the Christian voice that is not echoing the despair but offering a voice of possibility and the love and a future in Christ and a security in Christ,\" Wear said.                                                                                                                                                                                                                                                                                                                                                                                                                                                                                                                                                                                                                                                                                                                                                                                                                                                                                                                                                                                                                                                                                                                                                                                                                                                                                                                                                                                                                                                                                                                                                                                                                                                                                                                                                                                                                                                                                                                                                                                                                                                                                                                                                                                                                                                                                                                                                                                                                                                                                                                                                                                                                                                                                                                                                                                                                                                                                                                                                                                                                                                                                                                                                                                                                                                                                                                                                                                                                                                                                                                                                                                                                                                                                                                                                                                                                                                                                                                                                                                                                                                                                                                                                                                                                                                                                                                                                                                                                                                                                                                                                                                                                                                                                                                                                                                                                                                                                                                                                                                                                                                                                                                                                                                                                                                                                                                                                                                                                                                                                                                                                                                                                                                                                                                                                                                                    \n",
       "551   Even by his standards, Donald Trump's reaction to the release of an audio tape of him joking about sexually assaulting women was astonishing:\\n\\nHe seamlessly pivoted from a devastating revelation about his own misogyny to pointing out that Bill Clinton is the Real Sexist.\\n\\nThis is part of a pattern. In the first presidential debate, he congratulated himself for not bringing up Bill's infidelities: \"I was going to say something extremely rough to Hillary, to her family, and I said to myself, I can't do it. It's inappropriate. It's not nice.\" In case anyone wasn't clear about what he was talking about, after the debate he told reporters, \"I’m very happy that I was able to hold back on the indiscretions with respect to Bill Clinton.\"\\n\\nIn case that was too subtle, he had his surrogates bring the matter up repeatedly. Arkansas Attorney General and Trump surrogate Leslie Rutledge told NBC News's Craig Melvin in response to questioning about Trump's treatment of Miss Universe Alicia Machado, \"If we want to dig back through the '90s on comments made about women, we can certainly look to Secretary Clinton referring to Monica Lewinsky as a neurotic loony-toon.\" Rep. Marsha Blackburn (R-TN) went even further, making shocking new allegations about Hillary Clinton's infidelities with the same women as her husband: \"Look at what she has done: Gennifer Flowers, Paula Jones, Monica Lewinsky, my goodness.\"\\n\\nWhat's the motivation for Trump and his team to dredge the Clinton affairs up? The '90s scandals are pretty old news. There are 18-year-olds voting in this election who weren't alive when the Monica Lewinsky scandal broke in January 1998, and millions more voters in their 20s and 30s who weren’t really old enough to remember.\\n\\nAnd more importantly (Blackburn’s apparent confusion aside), these are allegations about Bill Clinton. If anything, Hillary Clinton, as the cheated-on party in the Flowers and Lewinsky cases, is a victim. Why should any of this reflect poorly on her campaign?\\n\\nThe best explanation we have is twofold. First, the Trump campaign thinks public perceptions around the scandals like those surrounding Bill Clinton have changed in a way that might make that history extremely damaging to the Clintons’ reputation with millennials — if those millennials are briefed on what happened. Thus, bringing it up whenever possible. Second, they view making the conversation about Bill as an effective way to deflect the many, many allegations of sexism against Trump that this campaign has brought to light.\\n\\nSteve Bannon, the CEO of Trump's campaign and former head of Breitbart News, has believed there’s potential in reviving the Bill Clinton scandals for some time now. In January 2015, way before Trump even announced his run for president, Bloomberg’s Joshua Green talked to Bannon about his and Breitbart’s efforts to gather dirt on the Clintons. Bannon was insistent that Bill Clinton’s marital indiscretions were promising ground:\\n\\nThere’s an obvious counterargument to this claim: When people were aware of Bill Clinton’s indiscretions in the 1990s, it didn’t make him unpopular. Indeed, in the first weeks after the Drudge Report broke the Lewinsky story on January 17, 1998, Clinton’s approval rating spiked upward, from about 60 percent to 69:\\n\\nAfter the House impeached him in December, his popularity spiked again, only falling after the whole saga ended with a Senate acquittal in February. It’s hard to conclude anything besides that the scandal was good for Clinton’s reputation with the public at the time, and completely backfired for congressional Republicans, who faced losses in the 1998 midterms for good measure.\\n\\nAnd that’s nothing compared with what the scandal did for Hillary. If Bill’s approval ratings edged upward as a result of the Lewinsky affair, Hillary’s positively soared:\\n\\nSo why in the world would a Republican-aligned operative want to replicate that experience?\\n\\nThe answer lies in Bannon’s allusion to his younger female employees. Yes, these scandals didn’t hurt Clinton the first time around — but the constant barrage of scandals created a numbing effect that weakened the power of each individual charge. And, more pertinently, our norms around sexual misconduct have changed dramatically since the 1990s.\\n\\nThe main line of attack against Clinton in the Lewinsky case from Republicans was a combination of a) the president was unfaithful to his wife, indicating moral bankruptcy on his part, and b) he lied about it under oath, undermining the rule of law. It definitely wasn’t that he was abusing the power of his office by having an affair with a subordinate. That would have been a hard argument for congressional Republicans to make, given that House Speaker Newt Gingrich was having an affair with a staffer (now his third wife) during the whole process.\\n\\nBut in retrospect, this is clearly the most important and troubling aspect of the story. Adultery is wrong, but most Americans view it as a private failing that doesn’t necessarily reflect a politician’s ability to do their job. Perjury is also wrong, but the focus on that element reeked of an effort to find a charge, any charge, with which to impeach Clinton.\\n\\nA president sleeping with a White House intern, by contrast, is clear cut-and-dried sexual harassment. It’s absolutely unacceptable behavior toward a subordinate. In a private company, it’s a fireable offense. It might have been accepted as normal in the '90s, but sexual harassment has slowly come to be recognized as a serious offense in workplaces, and exploiting the power of a senior office to get a lower-ranked employee to consent to sex is a particularly egregious manifestation of it.\\n\\nMore to the point, we now have 20 years of hindsight, and it’s clear that the real victim of the imbroglio was Lewinsky herself, who has been denied the ability to live a normal life with relative anonymity and has become an activist against online abuse after enduring loads of it herself.\\n\\nThe even clearer examples of this are cases where Clinton was accused not of consensual sex but of sexual assault. Lewinsky and Clinton’s previous paramour Gennifer Flowers tend to get placed in the same bucket as Juanita Broaddrick, Paula Jones, and Kathleen Willey, but all three of the latter women accused him of sexual assault. Broaddrick claims that Clinton raped her; Jones alleged that he exposed himself to her; Willey accused him of grabbing her breasts and forcing her to touch his genitals.\\n\\nYou can judge those claims credible or not (having reviewed the cases, I think the Broaddrick allegation is much more credible than the other two), but they’re not \"sex scandals.\" They’re accusations of sexual violence. And recent public conversations about Woody Allen, Bill Cosby, and other prominent men accused of sexual assault suggest that the American public is much more willing now to treat those kinds of accusations seriously.\\n\\nThere’s an issue with Bannon’s strategy, however. It depends not merely on getting young voters outraged about Bill Clinton’s sexual misconduct. To work, this strategy has to convince them that Hillary Clinton is somehow complicit in, or responsible for, his behavior. And that is a much tougher sell, both because the evidence is far thinner (the closest thing to a smoking gun is Hillary calling Lewinsky a \"narcissistic looney-toon\" … in a private conversation with a friend) and because of the inherent perversity of blaming a wife for her husband’s crimes.\\n\\nIt’s a move that denies Clinton her identity as a distinct person from her spouse, which in turn undermines any of the feminist appeal this attack line might have had to voters outraged by Clinton’s treatment of Lewinsky, Broaddrick, etc.\\n\\nSure enough, when Rachel Kramer Bussel surveyed female millennial voters for Fortune on their views on the scandals, she found that most people she talked to thought it was gross to equate Clinton's behavior with that of her husband, with one commenting, \"I consider Hillary Clinton as a politician independent of her husband, Bill Clinton. Just as I would never associate Bernie Sanders as a politician with his wife, Jane Sanders, I would never associate a politician as a politician with their spouse.\"\\n\\nIt’s informative to look at the actual point in the debate where Trump brought-up-by-pretending-to-not-bring-up the Clinton sex scandals. It was directly in response to Hillary Clinton bringing up his treatment of Miss Universe Alicia Machado, and other instances of sexism:\\n\\nCLINTON: You know, he tried to switch from looks to stamina. But this is a man who has called women pigs, slobs, and dogs, and someone who has said pregnancy is an inconvenience to employers, who has said... TRUMP: I never said that. CLINTON: ...women don’t deserve equal pay unless they do as good a job as men. CLINTON: And one of the worst things he said was about a woman in a beauty contest. He loves beauty contests, supporting them and hanging around them. And he called this woman \"Miss Piggy.\" Then he called her \"Miss Housekeeping,\" because she was Latina. Donald, she has a name. TRUMP: Where did you find this? Where did you find this? CLINTON: Her name is Alicia Machado. TRUMP: Where did you find this? CLINTON: And she has become a US citizen, and you can bet... CLINTON: ...she’s going to vote this November. TRUMP: You know, Hillary is hitting me with tremendous commercials. Some of it’s said in entertainment. Some of it’s said — somebody who’s been very vicious to me, Rosie O’Donnell, I said very tough things to her, and I think everybody would agree that she deserves it and nobody feels sorry for her. But you want to know the truth? I was going to say something extremely rough to Hillary, to her family, and I said to myself, \"I can’t do it. I just can’t do it. It’s inappropriate. It’s not nice.\"\\n\\nTrump was getting pummeled on his own record of mistreating women, and he immediately parried with a reference to the affairs.\\n\\nYou see this relationship in the responses of his surrogates, as well. Recall what Kellyanne Conway, his campaign manager said: \"He literally could have gone there and made very clear that he came ready to say some rough things if she was going to challenge him about his abuse – about his record on women.\" (Emphasis mine.) Rutledge, the Arkansas attorney general, replied to questioning about Machado by saying, \"If we want to dig back through the '90s on comments made about women…\" and running through the Lewinsky scandal.\\n\\nThis trend suggests that the Trump campaign has assigned a specific role for the candidate's attacks on Bill Clinton’s sexual misconduct. They’re not deployed right off the bat, or in TV ads, but only as damage control in response to questions about his own record of mistreating women.\\n\\nThat might be smart campaigning; as the old saying goes, \"If you’re explaining you’re losing,\" and trying to parry specific accusations might come off as defensive. But this strategy does have a side effect of implicitly conceding that Trump behaved poorly. Even he and his team aren’t willing to defend his own conduct on the merits. So they deflect to Bill’s — and try to pin it on Hillary in the process.   \n",
       "5860  The Maryland Democrat made the announcement Monday morning in her hometown of Baltimore.\\n\\nMikulski, 78, is known as the \"Dean\" of the Senate women -- helping forge bipartisan relationships for decades that often result in compromise. Until Democrats lost control of the Senate, she was the chairman of the powerful Senate Appropriations Committee.\\n\\n\"I had to ask myself this question: Am I campaigning for me, or am I campaigning for my constituents?\" she said Monday. \"Am I raising money or raising hell?\"\\n\\nPresident Barack Obama praised Mikulski as \"legendary\" and called her \"an institution in the United States Senate\" in a statement Monday that followed her announcement. \"Barbara's service to the people of Maryland spans decades, but her legacy will span generations,\" Obama said. \"Barbara is the longest serving woman in Congress, and her leadership serves as an inspiration to millions of women and girls across the globe to stand up and lead.\" Her retirement could present an opening for former Maryland Gov. Martin O'Malley, who left office weeks ago and has been considering a 2016 bid for the Democratic presidential nomination -- though he could struggle to make waves in that race if, as expected, Hillary Clinton runs. It's not clear whether O'Malley would be interested in a legislative seat. But his mother has long served as Mikulski's receptionist in her Washington office. And O'Malley tweeted his praise for Mikulski on Monday. I got my start in Maryland politics on @SenatorBarb's '86 campaign. Very grateful for her service to our state as well as her mentorship. — Martin O'Malley (@GovernorOMalley) March 2, 2015 The state is also represented by seven Democratic House members -- including Rep. Chris Van Hollen, a member of the party's congressional leadership -- and they could all scramble for the seat, too. O'Malley's former lieutenant governor, Anthony Brown, is another contender. Also on the list of potential Democratic candidates are Baltimore Mayor Stephanie Rawlings-Blake and Labor Secretary Tom Perez.                                                                                                                                                                                                                                                                                                                                                                                                                                                                                                                                                                                                                                                                                                                                                                                                                                                                                                                                                                                                                                                                                                                                                                                                                                                                                                                                                                                                                                                                                                                                                                                                                                                                                                                                                                                                                                                                                                                                                                                                                                                                                                                                                                                                                                                                                                                                                                                                                                                                                                                                                                                                                                                                                                                                                                                                                                                                                                                                                                                                                                                                                                                                                                                                                                                                                                                                                                                                                                                                                                                                                                                                                                                                                                                                                                                                                                                                                                                                                                                                                                                                                                                                                                                                                                                                                                                                                                                                                                                                                                                                                                                                                                                                                                                                                                                                                                                                                                                                                                                                                                                                                                                                                                                                                                                                                                                                                                                                                                                                                                                                                                                                                                                                                                                                                                                                                                                                                                                                                                                                                                                                                                                                                                                                                                                                                                                                                                                                                                                                                                                                                                                                                                                                                                                                                                                                                                                                                                                                                                                                                                                                                                                                                                                                                                                                                                                                                                                                                                                                                                                                                                                                                                                                                                                                                                                                                                                                                                                                                                                                                                                                                                                                                                                                                                                                                                                                                                                                                                                                                                                                                                                                                                                                                                                                                                                                                                                                                                                                                                                                                                                                                                                                                                                                                                                                                                                                                                                                                                                                                                                                                                                   \n",
       "4654  DoubleLine Capital’s Jeffrey Gundlach said Donald Trump, if he’s elected president, would help the U.S. economy recover by going further into debt, just as Ronald Reagan fueled growth in the 1980s.\\n\\n“Trump is going to win, and Trump is going to increase the deficit,” Gundlach said during a panel discussion Thursday in New York. Reagan “did it by taking three or four decades of stable nonfinancial debt-to-GDP ratio and putting it on a hockey stick higher.”\\n\\nGundlach, 56, isn’t endorsing any candidate, according to Loren Fleckenstein, a DoubleLine analyst. The fund manager, who has been predicting a Trump election victory since February, noted that Trump’s campaign slogan, “Make America Great Again,” resembles Reagan’s “Let’s Make America Great Again.”\\n\\nUnder Reagan, the U.S. debt grew to more than $2.3 trillion at the end of 1988 from $807 billion eight years earlier, according to data compiled by Bloomberg. The total U.S. debt as of Dec. 31 was $15.1 trillion.\\n\\nMarkets might not react favorably to a Trump election at first, because the Republican presidential candidate has criticized international trade agreements, according to the fund manager.\\n\\n“First, I think you’re going to get a global growth scare, trade-based,” Gundlach said. “That could cause a market rollover which to me looks like it’s already under way.”\\n\\nThis retreat in the S&P 500 Index could be “an excellent buying opportunity,” Gundlach added, as the debt binge “will probably stimulate growth, at least temporarily.”\\n\\nThe S&P 500 is down about 0.6 percent since Trump’s victory Tuesday in the Indiana primary. His win prompted his two remaining Republican opponents, Texas Senator Ted Cruz and Ohio Governor John Kasich, to suspend their campaigns.\\n\\n“When I say Donald Trump’s going to win, it’s not that I’m wildly rooting for him, although I don’t dislike Donald Trump,” Gundlach said in an interview with Fox Business Network’s “Wall Street Week” set to air Friday at 8 p.m. New York time. “It’s just like, I think it’s going to happen.”\\n\\nOn the panel discussion, Gundlach said oil prices must get to $60 a barrel to avoid a wave of high-yield debt defaults, a price he doesn’t expect to see soon. He predicted more junk-bond defaults when borrowers are forced to roll over debt in a rising interest-rate environment by 2018 or the following two years.\\n\\nGundlach said he continues to be long on gold. Spot gold was trading at about $1,277 an ounce as of 6:48 p.m. Thursday in New York, up 20 percent this year. In January, Gundlach said he expected gold would climb to $1,400.                                                                                                                                                                                                                                                                                                                                                                                                                                                                                                                                                                                                                                                                                                                                                                                                                                                                                                                                                                                                                                                                                                                                                                                                                                                                                                                                                                                                                                                                                                                                                                                                                                                                                                                                                                                                                                                                                                                                                                                                                                                                                                                                                                                                                                                                                                                                                                                                                                                                                                                                                                                                                                                                                                                                                                                                                                                                                                                                                                                                                                                                                                                                                                                                                                                                                                                                                                                                                                                                                                                                                                                                                                                                                                                                                                                                                                                                                                                                                                                                                                                                                                                                                                                                                                                                                                                                                                                                                                                                                                                                                                                                                                                                                                                                                                                                                                                                                                                                                                                                                                                                                                                                                                                                                                                                                                                                                                                                                                                                                                                                                                                                                                                                                                                                                                                                                                                                                                                                                                                                                                                                                                                                                                                                                                                                                                                                                                                                                                                                                                                                                                                                                                                                                                                                                                                                                                                                                                                                                                                                                                                                                                                                                                                                                                                                                                                                                                                                                                                                                                                                                                                                                                                                                                                                                                                                                                                                                                                                                                                                                                                                                                                                                                                                                                                                                                                                                                                                                                                                                                                                                                                                                                                                                                                                                                                                                                                                                                                                                                                                                      \n",
       "3366  Alien Insects Capture In UK # John Wood 0 \\nAs you see by this video Alien life has found it's way onto Earth it seems if your a sceptic that they just could be dragon fles or moths but you slow it down yousee the wings look like and move like that of a cuttle fish fins their bodie seem translucent and highly colored and there seems to be plenty of them in my local area. Tags                                                                                                                                                                                                                                                                                                                                                                                                                                                                                                                                                                                                                                                                                                                                                                                                                                                                                                                                                                                                                                                                                                                                                                                                                                                                                                                                                                                                                                                                                                                                                                                                                                                                                                                                                                                                                                                                                                                                                                                                                                                                                                                                                                                                                                                                                                                                                                                                                                                                                                                                                                                                                                                                                                                                                                                                                                                                                                                                                                                                                                                                                                                                                                                                                                                                                                                                                                                                                                                                                                                                                                                                                                                                                                                                                                                                                                                                                                                                                                                                                                                                                                                                                                                                                                                                                                                                                                                                                                                                                                                                                                                                                                                                                                                                                                                                                                                                                                                                                                                                                                                                                                                                                                                                                                                                                                                                                                                                                                                                                                                                                                                                                                                                                                                                                                                                                                                                                                                                                                                                                                                                                                                                                                                                                                                                                                                                                                                                                                                                                                                                                                                                                                                                                                                                                                                                                                                                                                                                                                                                                                                                                                                                                                                                                                                                                                                                                                                                                                                                                                                                                                                                                                                                                                                                                                                                                                                                                                                                                                                                                                                                                                                                                                                                                                                                                                                                                                                                                                                                                                                                                                                                                                                                                                                                                                                                                                                                                                                                                                                                                                                                                                                                                                                                                                                                                                                                                                                                                                                                                                                                                                                                                                                                                                                                                                                                                                                                                                                                                                                                                                                                                                                                                                                                                                                                                                                                                                                                                                                                                                                                                                                                                                                                                                                                                                                                                                                                                                                                                                                                                                                                                                                                                                                                                                                                                                                        \n",
       "4043  Pinterest \\nWho does the Clinton camp want to make “happy”? Not the American people, of course, but none other than billionaire left-wing globalist George Soros. \\nSoros has donated around $25 million to the Clinton campaign as of July, according to Politico , and that clearly buys a great deal of influence. WikiLeaks has recently released emails from the account of Clinton campaign chairman John Podesta that show the lengths the campaign went to keep Soros “happy” and the huge amount of influence he exerted. \\nIn an Oct. 7, 2014 email from top Clinton aide Huma Abedin to now-campaign manager Robby Mook, Abedin discussed a dinner Clinton was going to have with Soros. Abedin said in the email that she expected that Soros would eventually ask Clinton to attend a fundraiser for one of the numerous groups Soros helps bankroll, the liberal America Votes organization. \\nMook replied to the email: “I would only do this for political reasons (ie to make Soros happy).” \\nFox News reported : \\nDuring her time as secretary of state, Clinton was forwarded from Soros’ aides on Jan. 23, 2011 a message he wrote specifically for her addressing “a serious situation” in Albania. Soros even included two actions that “need to be done urgently.” One of the suggestions was appointing “a mediator such as Carl Bildt, Martti Ahtisaari or Miroslav Lajcak…” \\nClinton received the email the next day. On Jan. 27, Lajcak met Albanian leaders for a mediation effort. \\nIn another instance, just hours after the death of Justice Antonin Scalia on Feb. 13, 2016, Chris Stone, president of the Soros-founded Open Society Foundations, emailed Podesta and asked: “Remember our discussion of Wallace Jefferson, [former] Chief Justice in Texas?” Podesta simply replied, “yup.” \\nAn adviser and spokesman for Soros, Michael Vachon, did most of the corresponding with Podesta related to Soros. Vachon scheduled phone calls and meetings along with making sure that the campaign knew Soros’ position on a variety of policy issues. \\nFox News reported: \\nOn March 7, 2016, Vachon sent Podesta a memo regarding “TPP and Malaysia’s Corruption Crisis.” The document criticized President Obama for making “visible compromises” in his quest to get a deal for the Trans Pacific Partnership completed. Podesta was ostensibly set to discuss the memo with Soros and his son, Alexander, during a dinner later that month. Six days later, Vachon got even more specific. \\n“In general I think George is more interested in talking about policy than the campaign per se,” Vachon wrote. “In a separate email I will send you George’s latest thinking on the migration crisis, which he is spending a lot of time on. His other big preoccupation these days is Ukraine.” \\nRefugees/migration, the Supreme Court, global warming, Ukraine, etc., are surely just a sampling of policy issues on which the globalist Soros has and will continue to influence Clinton. \\nClinton is dangerous enough as it is, but as the man who could be directing policy decisions if Clinton is elected president? That is a scary thought.                                                                                                                                                                                                                                                                                                                                                                                                                                                                                                                                                                                                                                                                                                                                                                                                                                                                                                                                                                                                                                                                                                                                                                                                                                                                                                                                                                                                                                                                                                                                                                                                                                                                                                                                                                                                                                                                                                                                                                                                                                                                                                                                                                                                                                                                                                                                                                                                                                                                                                                                                                                                                                                                                                                                                                                                                                                                                                                                                                                                                                                                                                                                                                                                                                                                                                                                                                                                                                                                                                                                                                                                                                                                                                                                                                                                                                                                                                                                                                                                                                                                                                                                                                                                                                                                                                                                                                                                                                                                                                                                                                                                                                                                                                                                                                                                                                                                                                                                                                                                                                                                                                                                                                                                                                                                                                                                                                                                                                                                                                                                                                                                                                                                                                                                                                                                                                                                                                                                                                                                                                                                                                                                                                                                                                                                                                                                                                                                                                                                                                                                                                                                                                                                                                                                                                                                                                                                                                                                                                                                                                                                                                                                                                                                                                                                                                                                                                                                                                                                                                                                                                                                                                                                                                                                                                                                                                                                                                                                                                                                                                                                                                                                                                                                                                                                                                                                                                                                                                                                                                                   \n",
       "5590  on October 25, 2016 10:41 pm · \\nNew video has surfaced adding to the mountain of evidence that while working alongside his father, Fred Trump, young Donald Trump was part of a real estate business that discriminated against minority applicants. \\nAs part of an investigation by NBC News, Stanley Leibowitz, who worked as a rental agent for the Trump Organization, told the news network that he personally witnessed the elder Trump explicitly lay out a racist policy for their apartment properties. \\nIn the interview, Leibowitz said that Trump told him “I don’t rent to the n-word,” and indicates that Trump made this statement with Donald Trump in the room and that the younger Trump affirmed the policy. \\nThe revelation comes at the same time that the Clinton campaign has released a video highlighting Trump’s run-in with the federal government over discrimination. \\nUndercover investigators were sent to Trump properties, and there they repeatedly ran into a policy where black applicants with identical financial backgrounds to white applicants were systematically denied housing. The white applicants were allowed into the Trump properties. \\nOne bit of testimony determined that Trump property managers indicated applications from blacks by putting a “C” on the documents for “colored,” and that was a sign that they should be denied. \\nThe Trumps denied the allegation, but later settled with the government over the policy without admitting wrongdoing. \\nDonald Trump’s involvement with his father’s business is key to the entire story of his rise to prominence in the real estate world and the media, as is his father’s $14 million dollars that he gave to Trump to start his business. But if you accept that, the Trump Organization’s history of racial discrimination and the legal entanglements that come with that are also part of the story, and no matter how Trump may try to wave it away – it’s still there. \\nFeatured image via screen capture Share this Article! Author: Oliver Willis I was one of the first political bloggers in the world (since 2000), and was among the first bloggers to interview President Obama at the White House. I am on Twitter @owillis and write at OliverWillis.com Search                                                                                                                                                                                                                                                                                                                                                                                                                                                                                                                                                                                                                                                                                                                                                                                                                                                                                                                                                                                                                                                                                                                                                                                                                                                                                                                                                                                                                                                                                                                                                                                                                                                                                                                                                                                                                                                                                                                                                                                                                                                                                                                                                                                                                                                                                                                                                                                                                                                                                                                                                                                                                                                                                                                                                                                                                                                                                                                                                                                                                                                                                                                                                                                                                                                                                                                                                                                                                                                                                                                                                                                                                                                                                                                                                                                                                                                                                                                                                                                                                                                                                                                                                                                                                                                                                                                                                                                                                                                                                                                                                                                                                                                                                                                                                                                                                                                                                                                                                                                                                                                                                                                                                                                                                                                                                                                                                                                                                                                                                                                                                                                                                                                                                                                                                                                                                                                                                                                                                                                                                                                                                                                                                                                                                                                                                                                                                                                                                                                                                                                                                                                                                                                                                                                                                                                                                                                                                                                                                                                                                                                                                                                                                                                                                                                                                                                                                                                                                                                                                                                                                                                                                                                                                                                                                                                                                                                                                                                                                                                                                                                                                                                                                                                                                                                                                                                                                                                                                                                                                                                                                                                                                                                                                                                                                                                                                                                                                                                                                                                                                                                                                                                                                                                                                                                                                                                                                                                                            \n",
       "5246  The Democratic frontrunner won decisively to take a stranglehold on the race despite all of Sanders’s rallies and celebrity endorsements.\\n\\nSanders spent the week sowing the seeds of doubt within Clinton’s coalition—blistering her for her association with Wall Street, holding a series of mega-rallies, collecting a host of celebrity endorsements, and out-spending her by 2-1 on TV ads.\\n\\n\\n\\nHe needed a win, or a very close finish, to maintain the momentum in his unlikely bid to upset Clinton, but the Brooklyn native was defeated by more than 15 points.\\n\\n“Victory is in sight!” declared Clinton at a New York rally. Staffers near the back of the room hugged each other—visibly relieved that this particularly ugly part of the primary campaign had concluded.\\n\\nThe Democratic race had taken a turn for the combative in New York—a family feud that played out in prime time last week during the debate in Brooklyn.\\n\\nAt about a quarter to 10, “Another One Bites the Dust” blasted through the Sheraton ballroom—at the same moment Clinton tweeted her thanks to New York for electing her statewide yet again. With 98 percent of the precincts declared, she was leading 57.9 percent to 42.1 percent.\\n\\n\\n\\nClinton even tried to knock the assumption that the Sanders campaign had a monopoly on excitement. “Tonight I want to say to all of my supporters and all of the voters: You have carried us every step of the way with passion and conviction that some critics have tried to dismiss,” she said, a campaign version of a “We’ve Got Spirit” taunt.\\n\\nAfter days of massive, confidence-boosting rallies, most Sanders supporters were were likely in no mood to listen, but Clinton also tried to reach out. “I believe there is much more that unites us than divides us,” she said.\\n\\n\\n\\nJudging by Sanders’s fundraising email blast as the results came in, the Vermont senator is not about to give up and unite behind the frontrunner.\\n\\n\\n\\n“Sisters and Brothers,” it began. “We didn’t get the victory we had hoped for this evening, but what’s important is that it looks like we’re going to win a lot more delegates in New York than any state that voted or caucused before tonight.”\\n\\nHe entered to Frank Sinatra’s “New York, New York,” bathed in the red and blue lights that have decorated each of his victory speeches to date. He shook hands and hugged bystanders before taking to the lectern, surrounded by his family and friends like Carl Paladino, the failed gubernatorial candidate.\\n\\nTen months ago, on June 16, Trump was in this very room. In what he now believes to be an iconic scene, he came down the escalator with his wife, Melania, and into a sea of reporters and paid extras pretending to be fervent fans. Back then he seemed like a sideshow, and Beltway analysts and pundits predicted he would fizzle out quickly.\\n\\nThis time the escalator was frozen. His fans stood on it and peered down at him as he spoke. He had just won his 20th contest—with more than 60 percent of the vote—and added to his substantial delegate lead, on his way to the 1,237 needed to secure the Republican nomination.\\n\\nThe event was billed as a “press conference” by Trump’s campaign, but he didn’t take any questions, instead giving a condensed version of his stump speech that focused primarily on jobs. He promised not just to Make America Great Again, but to make it “really, legitimately, so great.”\\n\\n“We’re going to go into the convention, I think, as a winner—and nobody can take an election away the way they’re doing it in the Republican Party,” he said.                                                                                                                                                                                                                                                                                                                                                                                                                                                                                                                                                                                                                                                                                                                                                                                                                                                                                                                                                                                                                                                                                                                                                                                                                                                                                                                                                                                                                                                                                                                                                                                                                                                                                                                                                                                                                                                                                                                                                                                                                                                                                                                                                                                                                                                                                                                                                                                                                                                                                                                                                                                                                                                                                                                                                                                                                                                                                                                                                                                                                                                                                                                                                                                                                                                                                                                                                                                                                                                                                                                                                                                                                                                                                                                                                                                                                                                                                                                                                                                                                                                                                                                                                                                                                                                                                                                                                                                                                                                                                                                                                                                                                                                                                                                                                                                                                                                                                                                                                                                                                                                                                                                                                                                                                                                                                                                                                                                                                                                                                                                                                                                                                                                                                                                                                                                                                                                                                                                                                                                                                                                                                                                                                                                                                                                                                                                                                                                                                                                                                                                                                                                                                                                                                                                                                                                                                                                                                                                                                                                                                                                                                                                                                                                                                                                                                                                                                                                                                                                                                                                                                                                                                                                                                                                                                                                                                                                                                                                                                                                                            \n",
       "\n",
       "     label  \n",
       "5403  REAL  \n",
       "2600  FAKE  \n",
       "2111  REAL  \n",
       "551   REAL  \n",
       "5860  REAL  \n",
       "4654  REAL  \n",
       "3366  FAKE  \n",
       "4043  FAKE  \n",
       "5590  FAKE  \n",
       "5246  REAL  "
      ]
     },
     "execution_count": 6,
     "metadata": {},
     "output_type": "execute_result"
    }
   ],
   "source": [
    " \t\n",
    "# Set it to None to display all columns in the dataframe\n",
    "#del df['text']\n",
    "pd.set_option('display.max_colwidth', -1)\n",
    "df.sample(10)"
   ]
  },
  {
   "cell_type": "code",
   "execution_count": 10,
   "metadata": {},
   "outputs": [],
   "source": [
    "df.drop(index=33, inplace=True)"
   ]
  },
  {
   "cell_type": "code",
   "execution_count": 11,
   "metadata": {},
   "outputs": [
    {
     "data": {
      "text/html": [
       "<div>\n",
       "<style scoped>\n",
       "    .dataframe tbody tr th:only-of-type {\n",
       "        vertical-align: middle;\n",
       "    }\n",
       "\n",
       "    .dataframe tbody tr th {\n",
       "        vertical-align: top;\n",
       "    }\n",
       "\n",
       "    .dataframe thead th {\n",
       "        text-align: right;\n",
       "    }\n",
       "</style>\n",
       "<table border=\"1\" class=\"dataframe\">\n",
       "  <thead>\n",
       "    <tr style=\"text-align: right;\">\n",
       "      <th></th>\n",
       "      <th>Unnamed: 0</th>\n",
       "      <th>title</th>\n",
       "      <th>text</th>\n",
       "      <th>label</th>\n",
       "    </tr>\n",
       "  </thead>\n",
       "  <tbody>\n",
       "    <tr>\n",
       "      <th>838</th>\n",
       "      <td>5546</td>\n",
       "      <td>Brexit and the Law</td>\n",
       "      <td>by Lambert Strether \\nLambert: A round-up of Brexit options, hard and soft. Wouldn’t the Brits have an easier time of it if they wrote their Constitution down? \\nBy Silvia Merler, an Italian citizen, who joined Bruegel as Affiliate Fellow at Bruegel in August 2013. Her main research interests include international macro and financial economics, central banking and EU institutions and policy making. Originally published at Bruegel . \\nWhat’s at stake: last week, the UK High Court ruled that the triggering of Article 50 – and therefore the Brexit process – should involve the UK Parliament. The Government will appeal the decision but this has created a new wave of uncertainty about the timing of Brexit, and on what this involvement can mean in practice. We review the different opinions. \\nJo Murkens on the LSE blog has a very good explainer of the legal basis of the judgement, which he considers exemplary in its clarity and reasoning. The decision’s focus is strictly constitutional, not political: the only question it examined was whether, as a matter of UK constitutional law, the Crown, acting through the government, is entitled to use prerogative powers to trigger Article 50 in order to cease to be a member of the European Union. This – it turns out – hinges on a balance between constitutional requirements and individual rights. \\nArticle 50 allows the UK to withdraw from the EU “in accordance with its own constitutional requirements”. Turning to these requirements, the government argued that the Crown – through the government – has a prerogative power to authorise the UK’s withdrawal from the EU, and that this power can only be taken away by express terms in an Act of Parliament. The court acknowledges the government’s position as correct, but only with respect to rights and obligations created as a matter of international law. As soon as individual rights protected by domestic law are affected, Parliament must be involved, especially because some individual rights would be lost upon withdrawal, as they cannot be replicated in UK law. Murkens argues that the decision amounts to a proper drubbing for the government particularly because it was not the claimants that landed the hammer blow, but the government itself, by acknowledging that the Art.50 notification would inevitably lead to the loss of some individual rights. The next stop, however, is the UK Supreme Court. \\nDavid Allen Green writes in the FT that the High Court decision is as strong as it could be and creates a substantial problem for the prime minister’s Brexit policy. The government should look hard at the reason for the court’s judgment. Central to the judges’ thinking is the impact that leaving the EU will have on the rights of UK citizens: the court has said that extinguishing such rights cannot be done by mere executive action. But the problem is more than one of form. The difficult and interlocking legal issues created by the UK leaving the EU are such that the matter is not for a prime minister, or indeed a court, to decide. \\nAllen Green argues that the government is not taking the opportunity offered by the judgment to start the exercise again, properly: an appeal has been announced and the court has been denounced. Those in favour of the UK remaining in the EU can draw only limited comfort from the decision, because there is no reason to believe parliament will directly defy the result of the referendum. The only thing that has been undermined by the High Court’s decision is May’s superficial approach to achieving Brexit. Eventually, the government will have to adopt a broader, more collaborative and more open approach to the process, as there is no alternative to making a success of it. \\nCamilla Macdonald discusses three options and argues that the ruling is not a victory for “soft” Brexit. The first option is for the government to succeed in overturning the result on appeal to the Supreme Court. MPs will then have the chance to debate at length, but they will have lost the leverage over the Government that the current ruling affords them. Second, the Government may lose the appeal and yet manage to “face down the rebels” in the Commons in time to meet May’s timetable of triggering Article 50 by March. This could be achieved by passing a non-amendable motion that presents MPs with a binary choice to approve or reject triggering article 50, assuming most MPs would not dare to risk the ire of the leave voting public. The third option – which Macdonald considers the most likely – is that the Government loses its appeal and is forced to introduce primary legislation, i.e. a Brexit bill, that will make it difficult, but not impossible, to meet the deadline. This is likely to force the Government to make concessions to MPs, but not necessarily in any form that will amount to a commitment to a “soft” Brexit. \\n“Soft Brexit” is what the majority of Labour, the Liberal Democrats, the SNP and part of Conservatives now want, but the biggest obstacle to this outcome is the lack of unity and of a negotiating strategy among this would-be coalition. In this situation, it is hard to see what red lines could be imposed on the government. Yet, Mcdonald thinks that involving Parliament in a process that will ultimately be defined by many complex and cross-cutting trade-offs might help to dispel the myths of simplistic “hard” and “soft” labelling. Nationalist parties would no longer plausibly be able to claim that they are excluded and the ruling could end up being an important victory for thought and reflection over rabble rousing on both sides. \\nJolyon Maugham writes on FT Alphaville that after the High Court’s Brexit decision, we should forget about the activation of Article 50 in March. The Government’s appeal is likely to be heard in the Supreme Court in early December and this opens new risks. Lingering, unaddressed, in the background to this litigation is a question about whether an Article 50 notification is reversible. The High Court in reality proceeded on the assumption that a notification, once given, could not be withdrawn. But the Supreme Court has a different legal obligation and it might feel legally compelled to address that assumption directly. Addressing it would require a politically explosive referral to the European Court of Justice, because the question of whether a notification is reversible is one of European law. Beside the likely delay of around three months, a finding by the Supreme Court that an Article 50 notification could be “pulled” would leave ajar the door to a prospectively damaging continuation of the Referendum campaign until the time exit is formalised. \\nAssuming instead that the appeal fails, the government will have to draft a Bill and place it before parliament. And that Bill would have to pass both Houses of parliament. In the Commons there would be little or no enthusiasm for rejecting it, but it is likely that MPs would impose conditions on the triggering of Article 50, thus constraining the government’s negotiating position. Parliament may wish to choose whether to accept the outcome of the negotiations and it may even require that the deal negotiated by the government be put back to the people in the form of a second referendum. In practical terms, it is difficult to contemplate that these steps – drafting a Bill, debating it in the Commons, voting on amendments, placing it before the House of Lords and then addressing amendments introduced by the Upper Chamber in the Commons again – can sensibly be taken after the result of the Supreme Court appeal is known but before March. So, unless the Supreme Court overturns the High Court’s decision, Maugham thinks we should consider May’s March deadline ancient history. \\nStephen Booth at Open Europe makes four main points about what this decision means going forward. First, if Government loses the appeal, then legislation is likely to be necessary. The reasoning of the ruling illustrates that, if the claimants’ argument holds (which regards rights stemming from EU membership set down in parliamentary legislation), the courts were never likely to be satisfied by anything short of legislation to trigger Article 50. Second, parliamentary moves to block Article 50 trigger would be politically explosive. It is unlikely that a majority of MPs in the Commons would actually move to block Brexit by preventing the Government triggering Article 50, especially having voted to give the public the opportunity to vote to leave the EU in the referendum. Booth argues that the same is probably true for the House of Lords, which would create a full-blown constitutional crisis if it opposed Article 50 outright. \\nThird, Parliament’s leverage over process is far greater than over any negotiating mandate or outcome. So process is likely to be the focus of any parliamentary tussles over legislation to trigger Article 50, with MPs and Lords seeking to amend the Bill to give them greater and more formal powers to scrutinise. Fourth, Booth argues that a general election is not out of the question. This would certainly mean missing the end of March 2017 deadline but would also mean that any MPs seen to be blocking the referendum result would find it very hard to keep hold of their seats and this is why he thinks it is likely that an Article 50 Bill would be passed. \\nJacob Funk Kirkegaard of the Peterson Institute for International Economics argues that for now, this turn of events exposes the hypocrisy of May’s government position of wanting to repatriate all EU political powers back to the United Kingdom, but wishing to deny the country’s sovereign lawmakers a say on the Article 50 process. Whatever happens, the court ruling has dealt a blow to the small right-wing clique of hardcore euro skeptics in the Conservative Party and May’s government and the potential direct involvement of Parliament is good political news for Jeremy Corbyn, leader of the Labour Party – as his only path to becoming prime minister is the one that opens up if May and the Conservatives completely botch the Brexit negotiations. He also argues that this should also harden further the EU negotiating position. These developments make it more likely that May will soon be forced to call an early election to seek a new mandate on Brexit. The Conservatives would probably win, but an accelerating economic downturn, the United Kingdom’s first past-the-post-electoral system, and a potential rallying of Remain supporters, could spring a surprise. \\nTyler Cowen argues that the British parliamentary vote might matter. The more likely scenario in his view is simply that Parliament stalls, demanding that Theresa May give them “the right Brexit”. Of course there is no such thing, wrong Brexit is wrong Brexit, if only because EU-27 cannot agree on very much. But with enough stalling, eventually another national election will be held and of course Brexit would be a major issue, probably the major issue. That in essence would serve as a second referendum, and if anti-Brexit candidates did well enough, parliamentarians would have cover to go against the previous expression of the public will. 0 0 0 0 0 0</td>\n",
       "      <td>FAKE</td>\n",
       "    </tr>\n",
       "    <tr>\n",
       "      <th>1042</th>\n",
       "      <td>10016</td>\n",
       "      <td>“We won, you lost, get over it” Brexiters told outside High Court</td>\n",
       "      <td>Thursday 3 November 2016 “We won, you lost, get over it” Brexiters told outside High Court \\nBrexit supporters have been ‘gently encouraged’ to accept the rule of law and allow parliament to vote on whether Article 50 should be triggered. \\nThe High Court has ruled that Parliament must vote on whether the UK can start the process of leaving the European Union, leaving all Brexit supporters having to get over it. \\nRemain campaigner, Simon Williams, told us, “The entire Brexit movement is really big on accepting results, so we have no doubts whatsoever that they will give a knowing nod at this result and simply get over it. \\n“I shouldn’t imagine there’ll be a single dissenting voice to be heard anywhere in their ranks, as they tell each other they lost fair and square, and it’s time to move on with their lives. \\n“After all, when you lose, you’ve got to try and get over it. That is the only option available to losers, as they have taught us all so well over the last few months. \\n“Of course, they might want to try and overthrow the democratic rule of law, but then we might find we get some new portmanteaus like ‘crying Brexitears’ and ‘throwing a Brexitantrum’.” Get the best NewsThump stories in your mailbox every Friday, for FREE! There are currently witterings below - why not add your own?</td>\n",
       "      <td>FAKE</td>\n",
       "    </tr>\n",
       "    <tr>\n",
       "      <th>1077</th>\n",
       "      <td>7426</td>\n",
       "      <td>Brexiters set up demented ‘people’s courts’</td>\n",
       "      <td>Brexiters set up demented ‘people’s courts’ 07-11-16 BREXIT supporters have set up a network of ‘people’s courts’ where justice is based on popular opinion. Anti-EU Britons’ dissatisfaction with the legal system has led to the creation of makeshift courts dealing with everything from witchcraft to disputes over borrowed garden tools. Accountant and people’s judge Roy Hobbs said: “The court convenes in my living room, with the legal cases argued by our ‘barristers’ Sandra the local florist and Degsy, an unemployed decorator who’s seen A Few Good Men five times. “Our biggest case so far has been the legality of Brexit. The court came to the unanimous decision that it is totally brilliant and anyone who disagrees deserves a toe up their arse. “You can accuse anyone of anything. Last week we dealt with 48 cases of people being shortchanged at the local Sainsbury’s, a French spy and an old lady who put a curse on a horse than made it go lame. “Punishments range from the stocks for not wearing a poppy to hanging for more serious crimes, such as men having long hair. “Tomorrow I’ve got the case of a man who’s guilty of liking Nicola Sturgeon. He won’t be spouting his lies when he’s being hit in the forehead by turnips.” \\nShare:</td>\n",
       "      <td>FAKE</td>\n",
       "    </tr>\n",
       "    <tr>\n",
       "      <th>1100</th>\n",
       "      <td>10042</td>\n",
       "      <td>Lesson learned? Goldman Sachs says not to expect \"Brexit-type surprise\" on Nov. 8</td>\n",
       "      <td>Thu, 27 Oct 2016 17:02 UTC © Daniel Acker-Bloomberg/Getty Images With their candidate lagging in most of the major polls, Donald Trump's supporters are hoping the election holds a surprise akin to June's Brexit vote. Goldman Sachs, though, believes the chances of a Nov. 8 surprise in the U.S. are remote. The two races differ in several key ways , Goldman economist Alec Phillips said, diminishing the possibility of a repeat where polling incorrectly suggested that Britons would vote to stay in the European Union. \"We think the situation is different for two reasons. First, and most importantly, while both situations represented an opportunity for voters to endorse a change in the status quo, voters in the U.K. were asked to decide on an idea whereas in the U.S. they are being asked to decide on a person ,\" Phillips said in a note to clients Wednesday. \"Second, the polls are simply not as close in the current presidential contest as they were ahead of the U.K. referendum.\" On the first point, Phillips obviously is correct. The second, though, isn't as clear. True, some polls have showed a yawning gap between the two candidates. The latest NBC News/ Wall Street Journal poll put the Hillary Clinton lead at 11 points , the last ABC tracking poll had the Democrat ahead by 8 and CNN has the advantage at 6 points. However, the Real Clear Politics average of all major polls gives Clinton just a 4.4-point edge, and the Los Angeles Times ' tracker even sees Trump with a 1-point lead. By comparison, the final London Telegraph poll heading into the June 23 vote had the \"remain\" vote with a comfortable 4-point lead . Betting odds in the U.K. had given \"remain\" an 88 percent chance of prevailing, against the \"leave\" victory of 4 points. In his analysis, Phillips noted that The Economist magazine published an average of polls that showed the referendum tied, with a large percentage of undecided voters. He also said polls showing Trump ahead, like the LA Times and Rasmussen, use methodology different from many of the other mainstream outlets (though he concedes that polls showing Clinton with outsize leads also could be outliers). Comment: Translation: the other MSM polls are rigged, e.g., with their tendency to oversample Democrats. Phillips mostly dismisses the importance of third-party voters, whom he said often break toward a major-party candidate as Election Day approaches. \"In theory, if undecided voters broke entirely in favor of Mr. Trump on Election Day, this could change the election outcome ,\" he wrote. \"However, the views of undecided and third-party voters suggest that they are more likely to vote for Sec. Clinton than Mr. Trump, if they vote at all.\" Specifically, he cites a Washington Post poll showing that 46 percent of voters not supporting either Clinton or Trump had a \"strongly unfavorable\" view of Clinton, against 71 percent for Trump . Finally, he believes Trump won't be aided significantly by stronger-than-expected turnout, while early voting trends don't appear to favor the Republican either. However, Phillips does not address recent polls showing Trump with a solid chance of winning critical swing states Florida and Ohio, or narrowing gaps in Pennsylvania and North Carolina . \"Overall, while one cannot rule out the possibility of an electoral surprise, most of the theories as to how this might occur are not borne out by the recently available data,\" Phillips said. \"The declining share of undecided and third-party voters is shrinking, leaving fewer voters left to persuade, and while a shift in turnout could upend the models most pollsters use, there are no signs thus far in early voting that such a shift is occurring and, if anything, recent data suggest a slight Democratic turnout advantage.\" Wall Street is heavily invested in a Clinton victory. Securities and investment firms have poured nearly $65 million into her campaign coffers, according to the Center for Responsive Politics. Goldman Sachs employees have donated $284,816 to Clinton and just $3,641 to Trump, who has received $716,407 from Wall Street. Comment: Two possibilities stand out: 1) The puppet masters have learned their lesson from Brexit. In other words, when rigging an election, don't underestimate the number of people who will actually vote the 'wrong' way. If you think you can swing 10% of the vote in your favor when you need 20-30%, you're going to fail, leading to an unexpected and undesired outbreak of actual democracy. 2) Goldman Sachs is just as myopic as their anti-Brexit peers. U.S. voters are not just voting for a person. For many, voting for Trump really is voting for an idea (rightly or wrongly). Even though he's a moron, Michael Moore captured this sentiment quite well: In other words, it's possible Goldman Sachs have started believing their own propaganda and the data from their media partners' fake polls. If so, they may be in for a bigger surprise than they expected.</td>\n",
       "      <td>FAKE</td>\n",
       "    </tr>\n",
       "    <tr>\n",
       "      <th>1425</th>\n",
       "      <td>9663</td>\n",
       "      <td>Tony Blair suggests a second referendum to reverse Brexit</td>\n",
       "      <td>Politics Former British Prime Minister Tony Blair says UK voters ‘have to build the capability to mobilize and to organize’ against Brexit. \\nFormer British Prime Minister Tony Blair says Britain should keep its “options open” on whether or not to leave the European Union until after Brexit talks with the bloc are completed. \\nDuring an interview on Friday with BBC Radio 4's “Today” program, Blair described the EU referendum as “a catastrophe” and said UK voters should be given the option of a second EU referendum. \\nBritain should not withdraw from the EU until it becomes clearer how Brexit would impact UK’s economic, social and cultural future, Blair said. \\n\"The bizarre thing about this referendum is that we took a decision but we still don't know the precise terms,” he said. “There’s got to be some way, either through parliament, or through an election, possibly through another referendum, that people express their view.” \\nThe former premier, who was in office from 1997 until 2007, said it should be possible for the public to switch their verdict if it becomes clear the alternative negotiated by Prime Minister Theresa May is going to be worse. \\nBlair’s argument contrasts sharply with that of May, who has repeatedly said that “Brexit means Brexit” and that she’ll respect the referendum result. Blair had argued that Britain should stay in the EU before the referendum. \\nEconomic growth in the UK is expected to slow significantly next year, due to uncertainty over of the Brexit vote. \\nExperts have warned that leaving the EU will severely hurt London’s position as a financial hub, unless the UK decides to keep its access to the single EU market by loosening its stance on immigration. \\nIf the UK loses its access to the EU’s single market, the resulting increase in the costs of doing business and exporting to the EU would hurt Britain’s competitive position in Europe. Loading ...</td>\n",
       "      <td>FAKE</td>\n",
       "    </tr>\n",
       "    <tr>\n",
       "      <th>1536</th>\n",
       "      <td>5171</td>\n",
       "      <td>The Trump Recession: He’s linked himself to potential economic calamity with Brexit stance</td>\n",
       "      <td>Back in March, some of the financial sector’s leading analysts bumped the chances of a global economic recession from 20 percent to 30 percent. The chances are still minuscule, but the danger always looms. And given the tragic consequences of the Great Recession, any new indicators leading to another potential recession ought to be met with, at the very least, a tone of seriousness. Today, with the Brexit referendum passing in favor of leaving the European Union, and the subsequent decline in the British pound and, specifically, worsening indicators leading toward a British recession, there’s renewed fears of the Brexit shockfront crushing neighboring economies as well.\\n\\nIn the United States, meanwhile, the Republican position on Brexit seems to be based upon everything except the economic repercussions. Instead, the GOP’s posture appears to be simply blurting the opposite of whatever President Obama and the Democrats have to say about it. Indeed, the standard for any GOP argument since 2008 has been, simply put, Opposite Day. If Obama’s for it, they’re against it — even if Obama’s position was once a GOP position (the individual mandate, NSA metadata collection, predator drones, immigration reform, cap-and-trade, and the list goes on). While the GOP never really supported Brexit, they should have, especially knowing that the E.U. was one of the U.S.’s signature achievements after World War II, further assuring there aren’t continued world wars as the atomic age began. Beyond that, the possibility of a Brexit-induced recession should’ve frightened them away. However, we’re assuming the GOP is driven by rational policy choices in 2016. It’s not.\\n\\nDonald Trump, for his part, isn’t interested in the justifications for, or the post-war history of Europe. He’s only really interested in taking a position because, as with his party, it’s the opposite of Obama’s and Hillary’s. Had he been less driven to blurt a reaction to a potentially cataclysmic event — an event that he was totally unfamiliar with just a month ago, and if he had thought through a strategy that was a slightly more detailed than the 140 character limit on Twitter, he would’ve picked up on a golden opportunity to link Hillary and the Obama administration to a forthcoming recession, regardless of whether it was precipitated by Brexit.\\n\\nThis week, while appearing on stage with Elizabeth Warren for the first time, Hillary Clinton accurately observed that the Wall Street fallout from Brexit cost Americans around $100 billion, all of which vanished when the markets reacted to the Trump-supported Brexit vote:\\n\\nAverage Americans weren’t the only people impacted by Trump’s beloved Brexit vote. Around 400 of his fellow billionaires (if you believe what he says about his net worth) worldwide lost $196.2 billion due to the “leave” vote. This is what Trump supports? Weird. At the very least, experts at Goldman-Sachs are foreseeing a decline in the U.S. economy from around 2.25 percent growth to two-percent straight up. Britain itself appears to be poised for a recession late this year or in early 2017. Nevertheless, Trump missed a fantastic opportunity to sidestep the Brexit vote and, therefore, to fully blame a would-be recession on Hillary Clinton and her allies in the Obama administration. Instead, if Brexit continues to disrupt the world economy, he’ll absolutely remain on-record as having supported the spark that touched off the decline. Simultaneously and moving forward, Hillary can easily marry Trump to Brexit and brand the downturn as the “Trump Recession.” Conversely, had Trump kept his self-defeating mouth shut and, perhaps, continued to mock disabled people — you know, because he has “the best words” — he could’ve solely linked Hillary and Obama to the recession, without even mentioning Brexit as an inciting incident. But, once again, Trump stepped into the pitch and, for no real political gain, took a fastball to the side of his clown-wigged noggin. Sure, Trump is politically astute enough to realize that playing Opposite Day politics plays well with his brainwashed cult-like base. They’re with him no matter what, so, in the near-term it shouldn’t matter. After all, another feature of modern GOP strategy is political expedience over long-term gains. Trump’s got a lock on around 30 percent of American voters, but he’s clearly underestimating the number of Republicans, like George Will, Glenn Beck or Sen. Mark Kirk (R-Ill.), who are easily capable of sidestepping a vote for Trump and supporting someone — anyone — else, not to mention the scores of moderate undecided voters. The question moving forward is whether Trump is capable of making any winnable political choices, given how he’s vowed to “have so much winning, you may get tired of winning.” Instead of positioning himself to immediately link Hillary to a sputtering economy, he’s linked himself to it. He’s, in effect, dropped the ball on two issue areas that are normally owned by the GOP: the economy and national security. According to the new ABC News / Washington Post poll, Obama’s approval on the economy is hovering around 55 percent, while Hillary has been seen more favorably than Trump on her reaction to Orlando. If Trump can’t win on these issues, he might as well give up. And I’m not sure he hasn’t.</td>\n",
       "      <td>REAL</td>\n",
       "    </tr>\n",
       "    <tr>\n",
       "      <th>1633</th>\n",
       "      <td>9461</td>\n",
       "      <td>Legend Art Cashin On A Trump Presidency, The New World Order, Gold, Brexit, The Great Depression And Why We Will See Panic</td>\n",
       "      <td>56 Views November 14, 2016 GOLD , KWN King World News \\nAs the bond market continues to melt down, interest rates rise and the Dollar Index surges above 100, legend Art Cashin gave one of his most important interviews ever to King World News about a Trump presidency, the New World Order, gold, Brexit, the Great Depression, and why we will see panic before the end of the year. \\nEric King: “In Trump’s acceptance speech he said that we are going to have massive infrastructure spending. Is that bearish for gold? I don’t think so.” \\nGold Market Hit As Druckenmiller Sells Art Cashin: “No. That on the face of it would not be a reason to sell gold. One of the things that may have concerned Druckenmiller was not so much your scenario of fiscal spending and building roads and highways, but the fact that despite what the Fed has been doing, the money supply has not been showing any velocity. That’s a topic you and I have discussed time and time again and it’s one of the holdups to gold because if it gets no velocity that’s deflationary. \\nIn fact, the largest growth in money stock is in cash — green pictures of dead presidents — and that is deflationary because that does not have a lending factor that money in a bank would have. So those are two deflationary trends in money and that tends to weigh a little bit on gold and doesn’t allow it to fulfill its promise that you would expect in a somewhat inflationary period.” \\nEric King: “Victor Sperandeo, a former associate of George Sorors, said to me this will be ‘pure money printing.’ That we are going to print trillions of dollars and build infrastructure — talk about how you view that. Obviously there are going to be jobs created and it will be great for infrastructure, so it will juice the economy, but what are the longer-term ramifications?” \\nArt Cashin: “On the face of it, it looks good. As you said, there will be jobs created and there will be improvements in roads and airports and so on. However, the other shoe to fall is that Mr. Trump is also committed to revamping the tax code. And those two things should lead to a massive increase in the deficit. And we are already deeply in debt, so people like Rosenberg and others feel like it will have virtually no impact. \\nOn the face of it the stimulus program should be great for the economy, but because you are in such a high level of debt it might not work out that way. He and others point out that if fiscal stimulus were the answer then Japan would be the king of the world with all of those bridges to nowhere that they built. Japan spent a lot of money, built up their deficit, and their economy never really turned around.” \\nEric King: “Going back even further than that and looking at the Great Depression, the United States was struggling and then FDR devalued the dollar by revaluing the price of gold higher. Those public works projects then got underway, the massive public works projects that built so much of the infrastructure here in the United States, Art. And that did turn the stock market around. It turned many things around — commodities, etc — but then it rolled over by 1937-1938 and then the war came. Is this infrastructure spending program something that can look good for a little while and then it will just roll over like we saw in 1937-1938?” \\nArt Cashin: “It can. And the problem (during the Great Depression) was that the thing didn’t click, as it were. It didn’t lead to the next step. You hire people, you do the road projects, you do whatever, and then you want to see them go out and spend and business begin to borrow and banks to lend. And in ’37 and ’38 that never fully kicked in. U.S. Experiences Second Stock Market Collapse From 1937 To 1938 \\nYou had high government officials, in frustration, go to Congress and testify: “We couldn’t get it started. We just couldn’t get it started.” \\nFor all of the deficit spending, for all of the government programs, it never fully worked. That’s the fear. Again, if you go back to Japan, clearly they spent trillions of Japanese yen in massive building projects and it never kicked in, it never took over. The people continued to worry and hold onto their money. \\nA Worried Public Is Hoarding Cash As I’ve told you before, this whole thing about helicopter money and whatnot, if Bernanke flew over your house and dropped a million dollars in brand new money, and you were so worried that you got up and hid it in the garage until you figured out what the economy was going to do…And that is virtually what has happened to us for the past seven years. \\nThey have tried all kinds of increases in money supply but it has never kicked in and people are so terrified that they are not spending, and basically, as I said, the large amount of growth was in cash. So they are putting it in the mattress, not even in the bank.” \\nEric King: “Art, for so many years on King World News you have been talking about this lending and spending not kicking in, and you have used that Bernanke analogy over and over again. It’s not normal for you to beat up on a point as much as you have. But earlier you brought up Japan, and then when we covered the Great Depression you discussed 1937-1938, and the the testimonies before Congress from people saying, ‘We just couldn’t get it started.’ Did you know all along that it was going to unfold this way to some degree with the lack of lending and spending? Did you know that from history?” \\nArt Cashin: “I had a fear of it and it became pretty evident after some of the first things they (central planners) did. It is not a very difficult game. Every week the Federal Reserve reports the Money Supply and the Federal Reserve of St. Louis reports the Monetary Stock, which is the amount of raw money that the Fed adds in. “We Just Couldn’t Get It Started” – Monetary Stock Plunging \\n“That Shouldn’t Be” For a year now, despite all the things you have heard, despite all the programs and ‘pump-priming’ and Yellen and all the doves, the Monetary Stock has not increased all year. That shouldn’t be. 60-Year Velocity Of Money Stock Hitting New Lows \\nIf money has velocity, then you can see the economy begin to move up. If it gets too much velocity, then you get to see inflation. But so far we are not getting a high dose of either. Although, if you ask somebody standing in the supermarket if they have inflation they might give you a bit of an argument. But by government standards it’s not quite there yet.” \\nEric King: “Along those same lines, Art, you’ve warned repeatedly about Weimar Germany and the experience of the 1920s. This idea that there can be no inflation and then suddenly it just kicks in and then all hell breaks loose. You’ve warned so many time about that. Is that what’s in front of us?” \\nArt Cashin: “You will begin to know it. Everybody talks about the Weimar Republic where they actually printed cash money and flooded the system. It wasn’t just the bank reserves — they actually flooded the system with paper money. And amazingly, amazingly, it was a while before that actually kicked in in an inflationary manner. And as you alluded to, I’ve said this time and time again, it’s one of those things like spontaneous combustion — it’s there and it’s there and it’s there and suddenly it bursts into flames. And when it bursts into flames it consumes everything about it. And that’s when you can have a runaway inflation. \\nBut so far it has not burst into flames. And that is why to even some degree the Fed is frustrated, hoping to get inflation up above 2 percent. And they may be in a position where, be careful what you wish for. Because if they get 2 percent and above it could suddenly combust and things could begin to move rather rapidly.” \\nEric King: “Art, let me ask you this about the Trump presidency. It seems like for those people out there who, as he said, felt lost, the lost Americans, and for those out there who really felt like they were having globalism shoved down their throats in Europe and in the United States, this seemed to be a moment in time where there was going to be some backtracking. The borders were going to be closed, there would be some protectionism — we all know the plusses and minuses of that — but how did you view this Trump election and him becoming president, the idea that the elite got sand kicked in their face and that this New World Order would be slowed down, if only for a moment?” \\nDonald Trump’s Shocker And Why Brexit Is Nowhere Near Over Art Cashin: “I view it as yet one more extension of what looks to be a populist revolt that is sweeping the world. You saw the beginning of it with Brexit, and you have too many pundits on TV saying, ‘Well, that ended quickly in reverse.’ Brexit is nowhere near over. But the reason that markets didn’t continue to spiral (downward) is that they realized that Brexit has basically been postponed. They haven’t gone in and declared Article 50. Once they start the process in motion, the consequences of Brexit are going to be there and they are going to be drastic. \\nNow, if you take Trump’s election as the second leg of populism, the next thing you look for is the December 4th referendum in Italy. And there’s a good chance that will cause the government to fail and Italy will be right back in the middle of a major European crisis, and we’ll be right back where we were with Greece (only much larger in scale). So this game is far from over and we could see further panic as we head into the end of the year.” \\nEric King: “Ahead of what’s going to happen in Italy, because I think that will unfold as you just predicted, Art, a Trump America going forward and this idea that the elites have been pushing globalism down everybody’s throats with NAFTA and so many things that have happened around the world. The globalism and the push to eliminate national boundaries, we’ve seen that in Europe and of course they had talked about combining Canada, the United States and Mexico into one regional unit. This idea that globalism has taken a huge blow here, is that true? Or did it just slow it down? What will a Trump presidency mean in that sense?” \\n“You’re Fired!” Art Cashin: “We’ve got a lot of things to see. Over the next week or two you are going to see whom he appoints to the cabinet and who holds him under their sway. It would appear, however, because of the size of his commitment, he’s got to address globalization and global trade. He’s got to go back and revisit even NAFTA. \\nI think some of his early attempts will be reasonably good. He will do some fiscal stimulus, some building and repairing, hopefully getting the tax structure in better order. But that will not be the end of it. He can pivot a bit but he can’t completely abandon it (his campaign promises). People will have to watch what he does. \\nNow, he may cleverly hire some people and put burdens on their shoulders. If after six months things don’t work out, he can revert to his TV personality and say, ‘You’re fired,’ to show the American people that he’s staying on top. But for now…KWN encourages everyone around the world to listen to one of legendary Art Cashin’s greatest audio interviews ever discussing the gold market at length, including the recent takedown in gold and what to make of Druckenmiller selling, what to surprises to expect in key markets as Trump becomes president, and what impact massive public works projects will have on the United States, inflation, gold, bonds, and much more, by CLICKING HERE OR ON THE IMAGE BELOW. \\n***KWN has now released the extraordinary KWN audio interview with whistleblower Andrew Maguire, where he discusses the gold and silver smash, at what price the large sovereign wholesale bids are located, and much more, and you can listen to it by CLICKING HERE OR ON THE IMAGE BELOW. \\n***ALSO JUST RELEASED: Greyerz – Historic Shocker, A Difficult Road And A Major Short Squeeze About To Unfold CLICK HERE. \\n© 2015 by King World News®. All Rights Reserved. This material may not be published, broadcast, rewritten, or redistributed. However, linking directly to the articles is permitted and encouraged. About author</td>\n",
       "      <td>FAKE</td>\n",
       "    </tr>\n",
       "    <tr>\n",
       "      <th>1902</th>\n",
       "      <td>10400</td>\n",
       "      <td>Is Brexit never gonna happen? 'Leaked' audio recording reveals Theresa May's 'true' fears about Brexit</td>\n",
       "      <td>Wed, 26 Oct 2016 18:08 UTC © Peter Nicholls / Reuters Downing Street insists that the government will \"make a success\" of Brexit, despite a leaked audio recording of UK Prime Minister Theresa May predicting companies could abandon Britain if it leaves the EU. Speaking to a group of Goldman Sachs bankers on May 26 before the EU referendum, then-Home Secretary May said the economic arguments for remaining in the bloc were \" clear. \" In a leaked audio recording of the talk, published by the Guardian, May also claims membership in the EU makes Britain \"more safe.\" \"Being part of a 500-million trading bloc is significant for us. I think, as I was saying to you a little earlier, that one of the issues is that a lot of people will invest here in the UK because it is the UK in Europe. \"If we were not in Europe, I think there would be firms and companies who would be looking to say, do they need to develop a mainland Europe presence rather than a UK presence? So I think there are definite benefits for us in economic terms.\" May went on to say Britain was more secure inside the EU. \"There are definitely things we can do as members of the European Union that I think keep us more safe,\" she said. A Downing Street spokesman did not comment directly on the recording, but insisted Brexit is in the UK's best interests. \"Britain made a clear choice to vote to leave the EU and this Government is determined to make a success of the fresh opportunities it presents,\" he said. \"David Davis made very clear in the House of Commons last week the importance the Government places on financial services across the UK in the negotiation to come, as has the Chancellor in recent weeks. \"We want a smooth and orderly exit from the European Union, which would be in the interests of both Britain and the EU.\" Labour politicians accused May of deceiving the British public over the impact of leaving the EU's single market and called on her to be \"honest.\" Shadow Brexit Secretary Keir Starmer tweeted: Andrew Gwynne, shadow minister without portfolio, said: \"As if we needed it, this recording is cast-iron evidence of how Theresa May and other senior Tories have been saying one thing in private about the economic impact of Brexit and another in the comfort of Tory conference halls. \"It's plain that she recognises what a disaster it would be for Britain to lose access to the single market, so why doesn't she be honest with the British people and say how she plans to retain it?\" Comment: When it comes to leaks in the UK, where the press is very tightly controlled, it's a sure bet that the govt wanted the public to hear this. The 'long goodbye' continues.</td>\n",
       "      <td>FAKE</td>\n",
       "    </tr>\n",
       "    <tr>\n",
       "      <th>2436</th>\n",
       "      <td>9073</td>\n",
       "      <td>All Brexit arguments settled by 0.5 per cent third-quarter growth</td>\n",
       "      <td>All Brexit arguments settled by 0.5 per cent third-quarter growth 28-10-16 \\nALL debates about the negative impact of Brexit have been settled for good by Britain’s 0.5 per cent third-quarter growth. \\nLeading Remain campaigners, including former chancellor George Osborne, are preparing public apologies and the nation’s 16 million Remain voters are expected to follow suit. \\nJoanna Kramer of Bristol said: “It’s not easy to admit you’re wrong but I don’t see I have any choice. \\n“Britain is thriving with only a 0.2 per cent decline on expected growth, national pride has exploded into a proud display of healthy scepticism towards supposed child refugees, and I was a fool. \\n“How could I have been so blind not to see that glory would be upon us this soon, if only we had the courage to take back control? \\n“I’m sorry, everyone. I’m sorry I was a traitor.” \\nBrexit voter Stephen Malley said: “What am I going to do for conversation now?” \\nShare:</td>\n",
       "      <td>FAKE</td>\n",
       "    </tr>\n",
       "    <tr>\n",
       "      <th>2576</th>\n",
       "      <td>8055</td>\n",
       "      <td>A Reader Refers Us To Englishman Pat Condell On Brexit, The Trump Election, And “America’s Moment Of Truth”</td>\n",
       "      <td></td>\n",
       "      <td>FAKE</td>\n",
       "    </tr>\n",
       "    <tr>\n",
       "      <th>3358</th>\n",
       "      <td>9170</td>\n",
       "      <td>“Brexit means Clusterfuck” confirms Prime Minister</td>\n",
       "      <td>“Brexit means Clusterfuck” confirms Prime Minister \\nTheresa May has clarified that Brexit actually means one giant, steaming clusterfuck. \\nThe reincarnation of Emperor Palpatine made the statement following the High Court ruling that Parliament would have to give the go-ahead for Britain to officially tell the EU to piss right off. \\n“Brexit does indeed mean clusterfuck,” said the Prime Minister, giving the pained smile of a woman who knows she’s going to be the historical equivalent of Basil Fawlty. \\n“But it is the clusterfuck that the people voted for, and by God, we shall see to it that this clusterfuck gets done right and proper. \\n“I mean, I’d rather not, because it’s going to be dreadful and tedious, but that’s democracy for you.” \\nBrexiter, Simon Williams, said,”If ‘clusterfuck’ means ‘taking back control’ then I say bring on the clusterfuck and damn the consequences. \\n“We’ve already told the experts where to go; there is no going back. Brexit means clusterfuck, and I demand to be clusterfucked immediately.” Get the best NewsThump stories in your mailbox every Friday, for FREE! There are currently</td>\n",
       "      <td>FAKE</td>\n",
       "    </tr>\n",
       "    <tr>\n",
       "      <th>3773</th>\n",
       "      <td>8677</td>\n",
       "      <td>Have The Sun really darkened the image of Brexit legal challenge winner Gina Miller?</td>\n",
       "      <td>Next Swipe left/right Have The Sun really darkened the image of Brexit legal challenge winner Gina Miller? \\n@Crookedfootball over on Twitter says, “Look how the Sun has darkened Gina Miller’s skin compared to the Times” \\nThe Sun: \\nThe Times: \\nObviously this could be just web bollocks but @Ajjolley has checked the paper versions next to each other: \\n“Printed in same plant”, he says, “Little doubt the Sun darkened photo of Gina Miller” \\nHowever @CaeruleanSea says, “as much as I loathe the Sun, the Times have upped the exposure on their pic. Google pics from that speech.” \\nAnd yep – he has a point: look at the BBC coverage Source: http://www.bbc.co.uk/news/uk-politics-37861888 \\nIn conclusion: the media has sent us all entirely mad that we’re now checking how dark people are in Photoshop.</td>\n",
       "      <td>FAKE</td>\n",
       "    </tr>\n",
       "    <tr>\n",
       "      <th>4186</th>\n",
       "      <td>6249</td>\n",
       "      <td>London Bankers Fearful of Brexit Blowback</td>\n",
       "      <td>London Bankers Fearful of Brexit Blowback October 27, 2016 London Bankers Fearful of Brexit Blowback \\nLondon's financial district has called for a UK regulatory regime that does not harm competitiveness, responding to bankers' fears that being outside the European Union will reduce the capital's clout in global markets. The City of London's Lord Mayor, Jeffrey Mountevans , will tell regulators at a dinner on Wednesday evening that after Britain's vote in June to leave the EU, \"realistic, collaborative\" regulation is needed to keep the sector on an even keel. \"Regulation that will continue to protect our competitiveness and provide liberal market influence across the EU, even after Brexit,\" Mountevans said in remarks released to the media in advance of the annual Mansion House dinner for bankers and regulators. The City is crying out for a consistent and forward-looking Brexit strategy that has a \"bold, bright, buccaneering vision of the future\", Mountevans will say. Some will see this as harking back to a discredited past. \\n(LONDON) - This week the City marks 30 years since the day of the \"Big Bang\" deregulation of London's financial markets that helped to propel London to the top of the league table of global financial centers. \\nThe financial crisis of 2007-09 then forced taxpayers to bail out undercapitalized and poorly supervised lenders, tarnishing the \"light touch\" regulatory approach and ushering in a welter of tougher rules. \\nREAD MORE: BRITISH PRIME MINISTER READY FOR DIFFICULT MOMENTS IN BREXIT TALKS \\nBut since the Brexit vote, Paris, Frankfurt, Luxembourg and Dublin have vied to win a slice of the City's financial pie should banks and other companies move operations to other countries to maintain full access to EU markets. \\nBackers of Brexit have also voiced hopes for an end to EU rules such as caps on banker bonuses. \\nBut Andrew Bailey, chief executive of the Financial Conduct Authority (FCA), who is also due to speak at the Mansion House dinner, has scotched talk of a post-Brexit bonfire of the regulations. \\nAt a launch of the FCA's public consultation on a new \"mission\" statement on Wednesday, Bailey said he would not support making competitiveness an objective. \\n\"The thing that we can contribute to competitiveness is sound regulation,\" Bailey told reporters. \"It's not appropriate, in my view, to have a competitiveness objective.\" Article by Doc Burkhart , Vice-President, General Manager and co-host of TRUNEWS with Rick Wiles Got a news tip? Email us at Help support the ministry of TRUNEWS with your one-time or monthly gift of financial support. DONATE NOW ! DOWNLOAD THE TRUNEWS MOBILE APP! CLICK HERE! Donate Today! Support TRUNEWS to help build a global news network that provides a credible source for world news \\nWe believe Christians need and deserve their own global news network to keep the worldwide Church informed, and to offer Christians a positive alternative to the anti-Christian bigotry of the mainstream news media Top Stories</td>\n",
       "      <td>FAKE</td>\n",
       "    </tr>\n",
       "    <tr>\n",
       "      <th>4897</th>\n",
       "      <td>5704</td>\n",
       "      <td>Brexit Lost: Scuppered By May and High Court</td>\n",
       "      <td>Home | World | Brexit Lost: Scuppered By May and High Court Brexit Lost: Scuppered By May and High Court By Mr. Charrington 03/11/2016 11:48:44 \\nLONDON – England – The High Court decision today to deny the EU Referendum result is a sign that we are not living in a democracy or a sovereign country. \\n\\nToday is a very sad day for democracy within the UK, and Theresa May a Remain supporter is instrumental in denying the will of the British people to leave the EU. \\nDithering and Delaying Tactics \\nThrough numerous delaying tactics , and the installation of key government posts of Remain campaign MPs, the Brexit referendum was thwarted. \\nIf the government had repealed the 1972 European Communities Act immediately the EU referendum result would be well on the way to materialising. \\nThe total nonchalance and denial of the EU referendum result is firmly on Theresa May’s head and her appointment of Hammond as Chancellor of the Exchequer was a further sign that May was not serious about the EU referendum result. \\nInjustice \\nThe High Court ruling today which is intrusive and false, as well as being undemocratic is a further signal that we are currently not living in a sovereign nation and it is totally controlled by Brussels. \\nDuring the EU Referendum, MPs had their say , MPs campaigned, and when it came to vote in the referendum, they voted. Therefore, parliament has already had a say in the EU referendum, and by going to the High Court, these traitors have sought to annul a democratic vote which was held on June 23 2016. \\nThis ruling is a shameful reminder that Britain has lost all sovereign status to the EU entity, it is a sad day for democracy, for the will of the people and ultimately for the country. \\n17.5 Million People Will Vote on Election Day \\nIn these circumstances, we must as a people show our displeasure at being circumvented by not voting during the next election for any MP or party who is EU centric. \\nThis is not over.</td>\n",
       "      <td>FAKE</td>\n",
       "    </tr>\n",
       "    <tr>\n",
       "      <th>5376</th>\n",
       "      <td>7851</td>\n",
       "      <td>First Brexit, Now Trump … What’s Next?</td>\n",
       "      <td>WashingtonsBlog \\nCNN’s Jake Tapper hit the nail on the head last night, as he was speaking about why people voted for Trump. \\nTapper said that most Americans are sick of the income inequality, globalization, and politics-as-usual that the status quo have given us. \\nHe even pointed out that only a handful of people have gotten rich off of globalization, and a lot of people have been left behind . \\nIndeed, exit polls last night showed that the economy was the number 1 concern for voters. The Guardian reports : \\n“It’s the economy, stupid” was a phrase coined by her husband’s adviser James Carville in the 1992 election and, in many ways, it ought to have helped Democrats again in 2016. Barack Obama helped rescue the US from the financial crash and presided over a record series of consecutive quarters of job growth. \\nUnfortunately for Clinton, many Americans simply did not feel as positive. Stagnant wage levels and soaring inequality were symptoms of the malaise felt by many voters. Trump successfully convinced them to believe this was caused by bad trade deals and a rigged economy. \\nDespite being pushed in this direction by Sanders in the Democratic primary, Clinton never really found a satisfactory response. Her volte-face on trade sounded – and was later proved by leaked emails – unconvincing at best; deeply cynical at worst. \\nSimilarly, Brexit – the other recent vote which went against all political forecasts – was largely a vote by those who lost out on the benefits of globalization … that only a handful of fatcats really profited from. \\nLeaders of the Brexit campaign noted the confluence of the two votes: \\nJeremy Corbyn described Mr Trump’s victory as “an unmistakable rejection of political establishment” . \\nUkip leader Nigel Farage – who went to the US to appear at a Trump campaign rally – said he was handing over his mantle as the creator of political earthquakes to the new President, saying that 2016 was “the year of two great political revolutions”, adding: “I thought Brexit was big, but boy, this looks like it’s going to be even bigger”. \\nN igel Farage has issued this statement following Donald Trump’s victory. \\n“Today, the establishment is in deep shock. Even more so than after Brexit. What we are witnessing is the end of a period of big business and big politics controlling our lives. \\nVoters across the Western world want nation state democracy, proper border controls and to be in charge of their own lives. \\nI commend Donald Trump for the courage with which he has fought this campaign and I look forward to a closer relationship between the USA and the UK. We now have a President who likes our country and understands our post-Brexit values. \\nPrepare for further political shocks in the years to come.” \\nVoters in the UK and the world’s strongest nation, the U.S., have both rebuked the status quo, including neoliberal trade and economic policies. \\nWhat’s next? \\nThe rebellion will spread … \\nFor example, it’s so probable that Merkel’s Christian Democratic Union party will be thrown out on its ear that Merkel is already trying to distract with silly claims that the Russians will hack the German election. \\nPostscript: There are, of course, other reasons that Trump won. But the economy is the main one.</td>\n",
       "      <td>FAKE</td>\n",
       "    </tr>\n",
       "    <tr>\n",
       "      <th>5669</th>\n",
       "      <td>8746</td>\n",
       "      <td>Brexit Ruling Just Latest Tactic to Block Will of the People</td>\n",
       "      <td>Brexit Ruling Just Latest Tactic to Block Will of the People November 3, 2016 Daniel Greenfield \\nAfter the referendum made Brexit possible, I warned that the establishment would do everything possible to stop it. That should not come as a surprise to anyone. Brexit was very much a popular rebellion whose centers were well outside the centers of power. The establishment is culturally and politically hostile to it. And one of the most basic ways that the system has of sabotaging policies it doesn't like is to swamp them in procedural red tape and as much politicking as possible so as to make them unviable. Doing that to a Brexit is trickier, but it's still happening. The same old game plan is to just bog it down as much as possible until its motive energy runs down. It's worked in the past. It may not work this time. But that won't stop them from trying. \\nRerun Brexit through Parliament and maximize the wrangling. The Court's ruling is certain to do that. Keep it going through the grinder long enough and maybe it'll go away.</td>\n",
       "      <td>FAKE</td>\n",
       "    </tr>\n",
       "    <tr>\n",
       "      <th>5737</th>\n",
       "      <td>5627</td>\n",
       "      <td>Trump and Brexit Defeat Globalism, for Now Anyway</td>\n",
       "      <td>Trump and Brexit Defeat Globalism, for Now Anyway   14, 2016 \\nTrumpism as a stress test for democracy …. A series of populist anti-globalism shocks is a test for Western democracies. Trump’s stunning ascent to the White House is the clearest signal yet of an anti-establishment revolt unfolding in major democracies, stretching across the Atlantic. – Swiss Info Tech \\nWas Trump’s victory actually created by the very globalist elites that Trump is supposed to have overcome? \\nThere are some who believe the elites are actually splintered into numerous groups and that domestic US elites have positioned themselves against the banking elites in London’s City. We see no fundamental evidence of this. \\nThe world’s real elites in our view may have substantive histories in the hundreds and thousands of years. US elites are basically in the employ of a handful of families, individuals and institutions in our view. \\nIt is confusing because it is hard to tell if Hillary, for instance, is operating on her own accord or at the behest of higher and more powerful authorities. \\nIt is probably a combination of both but at root those who control central banks are managing the world’s move towards globalism. History easily shows us who these groups are – and they are not located in America. \\nThis is a cynical perspective to be sure, and certainly doesn’t remove the impact of Trump’s victory or his courage in waging his election campaign despite what must surely be death threats to himself and his family.. \\nBut if true, this perspective corresponds to predictions that we’ve been making for nearly a decade now, suggesting that sooner or later elites – especially those in London’s City – would have to “take a step back.” \\nMore: \\nThe vote to propel Trump to the US presidency reflects a profound backlash against open markets and borders, and the simmering anger of millions of blue-collar white and working-class people who blame their economic woes on globalisation and multiculturalism. \\n“There are a few parallels to Switzerland – that the losers of globalisation find somebody who is listening to them,” said Swiss professor and lawyer Wolf Linder, a former director of the University of Bern’s political science institute. \\n“Trump is doing his business with the losers of globalisation in the US, like the Swiss People’s Party is doing in Switzerland,” he said. “It is a phenomenon which touches all European nations.” \\nAgain, this article presumes that Trump has “won” and that he intends to attack the larger globalist enterprise and the bankers funding it. On the other hand, it could be that both Trump and Brexit have been engineered to look as if the tide is turning against globalism when it is not. \\nWhy would those in charge want to portray this point of view when it may not be so? Because of what we call the “Internet Reformation” that has blasted open the secretive manipulations of the globalist elite in the past decade or so. \\nIt is almost impossible for globalists to promote internationalist memes in this environment. Yet it is the secretive injection of internationalist memes into the body politic that moves society toward the globalist enterprise. \\nAs we have suggested before, it is perfectly possible that a decision has been made to pretend to grant the larger society a “victory” over internationalism. \\nFollowing this analysis, certain trends would be identified and encouraged that would seem to portray globalism as falling back on its metaphorical heels. \\nIn truth, if this analysis is correct, globalism’s retreat is a kind of pretense that will steer society less obviously in a globalist direction. \\nOne way this could happen is by ensuring the splintering of Europe – but not in a way that actually reduces control from Brussels. It will APPEAR to be so but won’t actually happen. The same thing could take place in the USA under Trump. \\nAgain, this is not to say that Trump is party to this plot or even approves of it. But the idea that Trump is part of a co-option is certainly a feasible alternative to an alternative analysis that takes what is happening at face value. \\nNonetheless, even if an alternative elite strategy has been decided on to realize globalism in another fashion, it ought to be pointed out that things have changed. And the Internet and its revelations are surely responsible. \\nThis is a very big deal and it is one that ought to be emphasized repeatedly. Brexit and Trump could be, somehow, the result of a different elite approach – but the approach HAS changed nonetheless. \\nThink of it this way: Hillary represented the blunt approach toward the realization of further globalism. Her way included an aggressively expanded war and the pursuit of other globalist trends. \\nTrump, rhetorically anyway, has a different approach in mind that would gut many internationalist trends. \\nIf Trump follows through on his rhetoric, the trend toward an internationalist world will be reduced. And while there is controversy over Trump’s recent staff appointments we should also bear in mind that the Trans Pacific Partnership (TPP) and the Transatlantic Trade and Investment Partnership (TTIP) both seem to be failing now. \\nIf indeed Trump’s election has damped the progress of TPP, and TTIP, this is a huge event. As we’ve pointed out, both agreements effectively substituted technocratic corporatism for the current sociopolitical model of “democracy.” \\nThe elites were trying to move toward a new model of world control with these two agreements. This is similar to what happened after the advent of the Gutenberg Press when the elites of the day moved away from royal control and apparently swapped in democracy. \\nIt seems evident that internationalism is now going to take a longer time to realize than we thought. However, this observation may not be entirely accurate if Trump turns out to be something other than his rhetoric suggests – or if Brexit is denied in Europe. \\nAdditionally, one of the elite’s most powerful, operative memes today is “populism vs. globalism” that seeks to contrast the potentially freedom-oriented events of Trump and Brexit to the discarded wisdom of globalism. See here and here. \\nThe reality of these two events, the victories of both Trump and Brexit, stand as signal proof that elite stratagems have been defeated, at least temporarily. Though whether these defeats have been self-inflicted as part of a change in tactics remains to be seen. \\nConclusion: But the change has come. One way or another the Internet and tens of millions or people talking, writing and acting has forced new trends. This can be hardly be emphasized enough. Globalism has been at least temporarily redirected</td>\n",
       "      <td>FAKE</td>\n",
       "    </tr>\n",
       "    <tr>\n",
       "      <th>6214</th>\n",
       "      <td>8855</td>\n",
       "      <td>Tony Blair suggests a second referendum to reverse Brexit</td>\n",
       "      <td>Tony Blair suggests a second referendum to reverse Brexit Tony Blair suggests a second referendum to reverse Brexit By 0 149 \\nFormer British Prime Minister Tony Blair says Britain should keep its “options open” on whether or not to leave the European Union until after Brexit talks with the bloc are completed. \\nDuring an interview on Friday with BBC Radio 4’s “Today” program, Blair described the EU referendum as “a catastrophe” and said UK voters should be given the option of a second EU referendum. \\nBritain should not withdraw from the EU until it becomes clearer how Brexit would impact UK’s economic, social and cultural future, Blair said. \\n“The bizarre thing about this referendum is that we took a decision but we still don’t know the precise terms,” he said. “There’s got to be some way, either through parliament, or through an election, possibly through another referendum, that people express their view.” \\nThe former premier, who was in office from 1997 until 2007, said it should be possible for the public to switch their verdict if it becomes clear the…</td>\n",
       "      <td>FAKE</td>\n",
       "    </tr>\n",
       "  </tbody>\n",
       "</table>\n",
       "</div>"
      ],
      "text/plain": [
       "      Unnamed: 0  \\\n",
       "838   5546         \n",
       "1042  10016        \n",
       "1077  7426         \n",
       "1100  10042        \n",
       "1425  9663         \n",
       "1536  5171         \n",
       "1633  9461         \n",
       "1902  10400        \n",
       "2436  9073         \n",
       "2576  8055         \n",
       "3358  9170         \n",
       "3773  8677         \n",
       "4186  6249         \n",
       "4897  5704         \n",
       "5376  7851         \n",
       "5669  8746         \n",
       "5737  5627         \n",
       "6214  8855         \n",
       "\n",
       "                                                                                                                           title  \\\n",
       "838   Brexit and the Law                                                                                                           \n",
       "1042  “We won, you lost, get over it” Brexiters told outside High Court                                                            \n",
       "1077  Brexiters set up demented ‘people’s courts’                                                                                  \n",
       "1100  Lesson learned? Goldman Sachs says not to expect \"Brexit-type surprise\" on Nov. 8                                            \n",
       "1425  Tony Blair suggests a second referendum to reverse Brexit                                                                    \n",
       "1536  The Trump Recession: He’s linked himself to potential economic calamity with Brexit stance                                   \n",
       "1633  Legend Art Cashin On A Trump Presidency, The New World Order, Gold, Brexit, The Great Depression And Why We Will See Panic   \n",
       "1902  Is Brexit never gonna happen? 'Leaked' audio recording reveals Theresa May's 'true' fears about Brexit                       \n",
       "2436  All Brexit arguments settled by 0.5 per cent third-quarter growth                                                            \n",
       "2576  A Reader Refers Us To Englishman Pat Condell On Brexit, The Trump Election, And “America’s Moment Of Truth”                  \n",
       "3358  “Brexit means Clusterfuck” confirms Prime Minister                                                                           \n",
       "3773  Have The Sun really darkened the image of Brexit legal challenge winner Gina Miller?                                         \n",
       "4186  London Bankers Fearful of Brexit Blowback                                                                                    \n",
       "4897  Brexit Lost: Scuppered By May and High Court                                                                                 \n",
       "5376  First Brexit, Now Trump … What’s Next?                                                                                       \n",
       "5669  Brexit Ruling Just Latest Tactic to Block Will of the People                                                                 \n",
       "5737  Trump and Brexit Defeat Globalism, for Now Anyway                                                                            \n",
       "6214  Tony Blair suggests a second referendum to reverse Brexit                                                                    \n",
       "\n",
       "                                                                                                                                                                                                                                                                                                                                                                                                                                                                                                                                                                                                                                                                                                                                                                                                                                                                                                                                                                                                                                                                                                                                                                                                                                                                                                                                                                                                                                                                                                                                                                                                                                                                                                                                                                                                                                                                                                                                                                                                                                                                                                                                                                                                                                                                                                                                                                                                                                                                                                                                                                                                                                                                                                                                                                                                                                                                                                                                                                                                                                                                                                                                                                                                                                                                                                                                                                                                                                                                                                                                                                                                                                                                                                                                                                                                                                                                                                                                                                                                                                                                                                                                                                                                                                                                                                                                                                                                                                                                                                                                                                                                                                                                                                                                                                                                                                                                                                                                                                                                                                                                                                                                                                                                                                                                                                                                                                                                                                                                                                                                                                                                                                                                                                                                                                                                                                                                                                                                                                                                                                                                                                                                                                                                                                                                                                                                                                                                                                                                                                                                                                                                                                                                                                                                                                                                                                                                                                                                                                                                                                                                                                                                                                                                                                                                                                                                                                                                                                                                                                                                                                                                                                                                                                                                                                                                                                                                                                                                                                                                                                                                                                                                                                                                                                                                                                                                                                                                                                                                                                                                                                                                                                                                                                                                                                                                                                                                                                                                                                                                                                                                                                                                                                                                                                                                                                                                                                                                                                                                                                                                                                                                                                                                                                                                                                                                                                                                                                                                                                                                                                                                                                                                                                                                                                                                                                                                                                                                                                                                                                                                                                                                                                                                                                                                                                                                                                                                                                                                                                                                                                                                                                                                                                                                                                                                                                                                                                                                                                                                                                                                                                                                                                                                                                                                                                                                                                                                                                                                                                                                                                                                                                                                                                                                                                                                                                                                                                                                                                                                                                                                                                                                                                      text  \\\n",
       "838   by Lambert Strether \\nLambert: A round-up of Brexit options, hard and soft. Wouldn’t the Brits have an easier time of it if they wrote their Constitution down? \\nBy Silvia Merler, an Italian citizen, who joined Bruegel as Affiliate Fellow at Bruegel in August 2013. Her main research interests include international macro and financial economics, central banking and EU institutions and policy making. Originally published at Bruegel . \\nWhat’s at stake: last week, the UK High Court ruled that the triggering of Article 50 – and therefore the Brexit process – should involve the UK Parliament. The Government will appeal the decision but this has created a new wave of uncertainty about the timing of Brexit, and on what this involvement can mean in practice. We review the different opinions. \\nJo Murkens on the LSE blog has a very good explainer of the legal basis of the judgement, which he considers exemplary in its clarity and reasoning. The decision’s focus is strictly constitutional, not political: the only question it examined was whether, as a matter of UK constitutional law, the Crown, acting through the government, is entitled to use prerogative powers to trigger Article 50 in order to cease to be a member of the European Union. This – it turns out – hinges on a balance between constitutional requirements and individual rights. \\nArticle 50 allows the UK to withdraw from the EU “in accordance with its own constitutional requirements”. Turning to these requirements, the government argued that the Crown – through the government – has a prerogative power to authorise the UK’s withdrawal from the EU, and that this power can only be taken away by express terms in an Act of Parliament. The court acknowledges the government’s position as correct, but only with respect to rights and obligations created as a matter of international law. As soon as individual rights protected by domestic law are affected, Parliament must be involved, especially because some individual rights would be lost upon withdrawal, as they cannot be replicated in UK law. Murkens argues that the decision amounts to a proper drubbing for the government particularly because it was not the claimants that landed the hammer blow, but the government itself, by acknowledging that the Art.50 notification would inevitably lead to the loss of some individual rights. The next stop, however, is the UK Supreme Court. \\nDavid Allen Green writes in the FT that the High Court decision is as strong as it could be and creates a substantial problem for the prime minister’s Brexit policy. The government should look hard at the reason for the court’s judgment. Central to the judges’ thinking is the impact that leaving the EU will have on the rights of UK citizens: the court has said that extinguishing such rights cannot be done by mere executive action. But the problem is more than one of form. The difficult and interlocking legal issues created by the UK leaving the EU are such that the matter is not for a prime minister, or indeed a court, to decide. \\nAllen Green argues that the government is not taking the opportunity offered by the judgment to start the exercise again, properly: an appeal has been announced and the court has been denounced. Those in favour of the UK remaining in the EU can draw only limited comfort from the decision, because there is no reason to believe parliament will directly defy the result of the referendum. The only thing that has been undermined by the High Court’s decision is May’s superficial approach to achieving Brexit. Eventually, the government will have to adopt a broader, more collaborative and more open approach to the process, as there is no alternative to making a success of it. \\nCamilla Macdonald discusses three options and argues that the ruling is not a victory for “soft” Brexit. The first option is for the government to succeed in overturning the result on appeal to the Supreme Court. MPs will then have the chance to debate at length, but they will have lost the leverage over the Government that the current ruling affords them. Second, the Government may lose the appeal and yet manage to “face down the rebels” in the Commons in time to meet May’s timetable of triggering Article 50 by March. This could be achieved by passing a non-amendable motion that presents MPs with a binary choice to approve or reject triggering article 50, assuming most MPs would not dare to risk the ire of the leave voting public. The third option – which Macdonald considers the most likely – is that the Government loses its appeal and is forced to introduce primary legislation, i.e. a Brexit bill, that will make it difficult, but not impossible, to meet the deadline. This is likely to force the Government to make concessions to MPs, but not necessarily in any form that will amount to a commitment to a “soft” Brexit. \\n“Soft Brexit” is what the majority of Labour, the Liberal Democrats, the SNP and part of Conservatives now want, but the biggest obstacle to this outcome is the lack of unity and of a negotiating strategy among this would-be coalition. In this situation, it is hard to see what red lines could be imposed on the government. Yet, Mcdonald thinks that involving Parliament in a process that will ultimately be defined by many complex and cross-cutting trade-offs might help to dispel the myths of simplistic “hard” and “soft” labelling. Nationalist parties would no longer plausibly be able to claim that they are excluded and the ruling could end up being an important victory for thought and reflection over rabble rousing on both sides. \\nJolyon Maugham writes on FT Alphaville that after the High Court’s Brexit decision, we should forget about the activation of Article 50 in March. The Government’s appeal is likely to be heard in the Supreme Court in early December and this opens new risks. Lingering, unaddressed, in the background to this litigation is a question about whether an Article 50 notification is reversible. The High Court in reality proceeded on the assumption that a notification, once given, could not be withdrawn. But the Supreme Court has a different legal obligation and it might feel legally compelled to address that assumption directly. Addressing it would require a politically explosive referral to the European Court of Justice, because the question of whether a notification is reversible is one of European law. Beside the likely delay of around three months, a finding by the Supreme Court that an Article 50 notification could be “pulled” would leave ajar the door to a prospectively damaging continuation of the Referendum campaign until the time exit is formalised. \\nAssuming instead that the appeal fails, the government will have to draft a Bill and place it before parliament. And that Bill would have to pass both Houses of parliament. In the Commons there would be little or no enthusiasm for rejecting it, but it is likely that MPs would impose conditions on the triggering of Article 50, thus constraining the government’s negotiating position. Parliament may wish to choose whether to accept the outcome of the negotiations and it may even require that the deal negotiated by the government be put back to the people in the form of a second referendum. In practical terms, it is difficult to contemplate that these steps – drafting a Bill, debating it in the Commons, voting on amendments, placing it before the House of Lords and then addressing amendments introduced by the Upper Chamber in the Commons again – can sensibly be taken after the result of the Supreme Court appeal is known but before March. So, unless the Supreme Court overturns the High Court’s decision, Maugham thinks we should consider May’s March deadline ancient history. \\nStephen Booth at Open Europe makes four main points about what this decision means going forward. First, if Government loses the appeal, then legislation is likely to be necessary. The reasoning of the ruling illustrates that, if the claimants’ argument holds (which regards rights stemming from EU membership set down in parliamentary legislation), the courts were never likely to be satisfied by anything short of legislation to trigger Article 50. Second, parliamentary moves to block Article 50 trigger would be politically explosive. It is unlikely that a majority of MPs in the Commons would actually move to block Brexit by preventing the Government triggering Article 50, especially having voted to give the public the opportunity to vote to leave the EU in the referendum. Booth argues that the same is probably true for the House of Lords, which would create a full-blown constitutional crisis if it opposed Article 50 outright. \\nThird, Parliament’s leverage over process is far greater than over any negotiating mandate or outcome. So process is likely to be the focus of any parliamentary tussles over legislation to trigger Article 50, with MPs and Lords seeking to amend the Bill to give them greater and more formal powers to scrutinise. Fourth, Booth argues that a general election is not out of the question. This would certainly mean missing the end of March 2017 deadline but would also mean that any MPs seen to be blocking the referendum result would find it very hard to keep hold of their seats and this is why he thinks it is likely that an Article 50 Bill would be passed. \\nJacob Funk Kirkegaard of the Peterson Institute for International Economics argues that for now, this turn of events exposes the hypocrisy of May’s government position of wanting to repatriate all EU political powers back to the United Kingdom, but wishing to deny the country’s sovereign lawmakers a say on the Article 50 process. Whatever happens, the court ruling has dealt a blow to the small right-wing clique of hardcore euro skeptics in the Conservative Party and May’s government and the potential direct involvement of Parliament is good political news for Jeremy Corbyn, leader of the Labour Party – as his only path to becoming prime minister is the one that opens up if May and the Conservatives completely botch the Brexit negotiations. He also argues that this should also harden further the EU negotiating position. These developments make it more likely that May will soon be forced to call an early election to seek a new mandate on Brexit. The Conservatives would probably win, but an accelerating economic downturn, the United Kingdom’s first past-the-post-electoral system, and a potential rallying of Remain supporters, could spring a surprise. \\nTyler Cowen argues that the British parliamentary vote might matter. The more likely scenario in his view is simply that Parliament stalls, demanding that Theresa May give them “the right Brexit”. Of course there is no such thing, wrong Brexit is wrong Brexit, if only because EU-27 cannot agree on very much. But with enough stalling, eventually another national election will be held and of course Brexit would be a major issue, probably the major issue. That in essence would serve as a second referendum, and if anti-Brexit candidates did well enough, parliamentarians would have cover to go against the previous expression of the public will. 0 0 0 0 0 0                                                                                                                                                                                                                                                                                                                                                                                                                                                                                                                                                                                                                                                                                                                                                                                                                                                                                                                                                                               \n",
       "1042  Thursday 3 November 2016 “We won, you lost, get over it” Brexiters told outside High Court \\nBrexit supporters have been ‘gently encouraged’ to accept the rule of law and allow parliament to vote on whether Article 50 should be triggered. \\nThe High Court has ruled that Parliament must vote on whether the UK can start the process of leaving the European Union, leaving all Brexit supporters having to get over it. \\nRemain campaigner, Simon Williams, told us, “The entire Brexit movement is really big on accepting results, so we have no doubts whatsoever that they will give a knowing nod at this result and simply get over it. \\n“I shouldn’t imagine there’ll be a single dissenting voice to be heard anywhere in their ranks, as they tell each other they lost fair and square, and it’s time to move on with their lives. \\n“After all, when you lose, you’ve got to try and get over it. That is the only option available to losers, as they have taught us all so well over the last few months. \\n“Of course, they might want to try and overthrow the democratic rule of law, but then we might find we get some new portmanteaus like ‘crying Brexitears’ and ‘throwing a Brexitantrum’.” Get the best NewsThump stories in your mailbox every Friday, for FREE! There are currently witterings below - why not add your own?                                                                                                                                                                                                                                                                                                                                                                                                                                                                                                                                                                                                                                                                                                                                                                                                                                                                                                                                                                                                                                                                                                                                                                                                                                                                                                                                                                                                                                                                                                                                                                                                                                                                                                                                                                                                                                                                                                                                                                                                                                                                                                                                                                                                                                                                                                                                                                                                                                                                                                                                                                                                                                                                                                                                                                                                                                                                                                                                                                                                                                                                                                                                                                                                                                                                                                                                                                                                                                                                                                                                                                                                                                                                                                                                                                                                                                                                                                                                                                                                                                                                                                                                                                                                                                                                                                                                                                                                                                                                                                                                                                                                                                                                                                                                                                                                                                                                                                                                                                                                                                                                                                                                                                                                                                                                                                                                                                                                                                                                                                                                                                                                                                                                                                                                                                                                                                                                                                                                                                                                                                                                                                                                                                                                                                                                                                                                                                                                                                                                                                                                                                                                                                                                                                                                                                                                                                                                                                                                                                                                                                                                                                                                                                                                                                                                                                                                                                                                                                                                                                                                                                                                                                                                                                                                                                                                                                                                                                                                                                                                                                                                                                                                                                                                                                                                                                                                                                                                                                                                                                                                                                                                                                                                                                                                                                                                                                                                                                                                                                                                                                                                                                                                                                                                                                                                                                                                                                                                                                                                                                                                                                                                                                                                                                                                                                                                                                                                                                                                                                                                                                                                                                                                                                                                                                                                                                                                                                                                                                                                                                                                                                                                                                                                                                                                                                                                                                                                                                                                                                                                                                                                                                                                                                                                                                                                       \n",
       "1077  Brexiters set up demented ‘people’s courts’ 07-11-16 BREXIT supporters have set up a network of ‘people’s courts’ where justice is based on popular opinion. Anti-EU Britons’ dissatisfaction with the legal system has led to the creation of makeshift courts dealing with everything from witchcraft to disputes over borrowed garden tools. Accountant and people’s judge Roy Hobbs said: “The court convenes in my living room, with the legal cases argued by our ‘barristers’ Sandra the local florist and Degsy, an unemployed decorator who’s seen A Few Good Men five times. “Our biggest case so far has been the legality of Brexit. The court came to the unanimous decision that it is totally brilliant and anyone who disagrees deserves a toe up their arse. “You can accuse anyone of anything. Last week we dealt with 48 cases of people being shortchanged at the local Sainsbury’s, a French spy and an old lady who put a curse on a horse than made it go lame. “Punishments range from the stocks for not wearing a poppy to hanging for more serious crimes, such as men having long hair. “Tomorrow I’ve got the case of a man who’s guilty of liking Nicola Sturgeon. He won’t be spouting his lies when he’s being hit in the forehead by turnips.” \\nShare:                                                                                                                                                                                                                                                                                                                                                                                                                                                                                                                                                                                                                                                                                                                                                                                                                                                                                                                                                                                                                                                                                                                                                                                                                                                                                                                                                                                                                                                                                                                                                                                                                                                                                                                                                                                                                                                                                                                                                                                                                                                                                                                                                                                                                                                                                                                                                                                                                                                                                                                                                                                                                                                                                                                                                                                                                                                                                                                                                                                                                                                                                                                                                                                                                                                                                                                                                                                                                                                                                                                                                                                                                                                                                                                                                                                                                                                                                                                                                                                                                                                                                                                                                                                                                                                                                                                                                                                                                                                                                                                                                                                                                                                                                                                                                                                                                                                                                                                                                                                                                                                                                                                                                                                                                                                                                                                                                                                                                                                                                                                                                                                                                                                                                                                                                                                                                                                                                                                                                                                                                                                                                                                                                                                                                                                                                                                                                                                                                                                                                                                                                                                                                                                                                                                                                                                                                                                                                                                                                                                                                                                                                                                                                                                                                                                                                                                                                                                                                                                                                                                                                                                                                                                                                                                                                                                                                                                                                                                                                                                                                                                                                                                                                                                                                                                                                                                                                                                                                                                                                                                                                                                                                                                                                                                                                                                                                                                                                                                                                                                                                                                                                                                                                                                                                                                                                                                                                                                                                                                                                                                                                                                                                                                                                                                                                                                                                                                                                                                                                                                                                                                                                                                                                                                                                                                                                                                                                                                                                                                                                                                                                                                                                                                                                                                                                                                                                                                                                                                                                                                                                                                                                                                                                                                                                                                                                                                                              \n",
       "1100  Thu, 27 Oct 2016 17:02 UTC © Daniel Acker-Bloomberg/Getty Images With their candidate lagging in most of the major polls, Donald Trump's supporters are hoping the election holds a surprise akin to June's Brexit vote. Goldman Sachs, though, believes the chances of a Nov. 8 surprise in the U.S. are remote. The two races differ in several key ways , Goldman economist Alec Phillips said, diminishing the possibility of a repeat where polling incorrectly suggested that Britons would vote to stay in the European Union. \"We think the situation is different for two reasons. First, and most importantly, while both situations represented an opportunity for voters to endorse a change in the status quo, voters in the U.K. were asked to decide on an idea whereas in the U.S. they are being asked to decide on a person ,\" Phillips said in a note to clients Wednesday. \"Second, the polls are simply not as close in the current presidential contest as they were ahead of the U.K. referendum.\" On the first point, Phillips obviously is correct. The second, though, isn't as clear. True, some polls have showed a yawning gap between the two candidates. The latest NBC News/ Wall Street Journal poll put the Hillary Clinton lead at 11 points , the last ABC tracking poll had the Democrat ahead by 8 and CNN has the advantage at 6 points. However, the Real Clear Politics average of all major polls gives Clinton just a 4.4-point edge, and the Los Angeles Times ' tracker even sees Trump with a 1-point lead. By comparison, the final London Telegraph poll heading into the June 23 vote had the \"remain\" vote with a comfortable 4-point lead . Betting odds in the U.K. had given \"remain\" an 88 percent chance of prevailing, against the \"leave\" victory of 4 points. In his analysis, Phillips noted that The Economist magazine published an average of polls that showed the referendum tied, with a large percentage of undecided voters. He also said polls showing Trump ahead, like the LA Times and Rasmussen, use methodology different from many of the other mainstream outlets (though he concedes that polls showing Clinton with outsize leads also could be outliers). Comment: Translation: the other MSM polls are rigged, e.g., with their tendency to oversample Democrats. Phillips mostly dismisses the importance of third-party voters, whom he said often break toward a major-party candidate as Election Day approaches. \"In theory, if undecided voters broke entirely in favor of Mr. Trump on Election Day, this could change the election outcome ,\" he wrote. \"However, the views of undecided and third-party voters suggest that they are more likely to vote for Sec. Clinton than Mr. Trump, if they vote at all.\" Specifically, he cites a Washington Post poll showing that 46 percent of voters not supporting either Clinton or Trump had a \"strongly unfavorable\" view of Clinton, against 71 percent for Trump . Finally, he believes Trump won't be aided significantly by stronger-than-expected turnout, while early voting trends don't appear to favor the Republican either. However, Phillips does not address recent polls showing Trump with a solid chance of winning critical swing states Florida and Ohio, or narrowing gaps in Pennsylvania and North Carolina . \"Overall, while one cannot rule out the possibility of an electoral surprise, most of the theories as to how this might occur are not borne out by the recently available data,\" Phillips said. \"The declining share of undecided and third-party voters is shrinking, leaving fewer voters left to persuade, and while a shift in turnout could upend the models most pollsters use, there are no signs thus far in early voting that such a shift is occurring and, if anything, recent data suggest a slight Democratic turnout advantage.\" Wall Street is heavily invested in a Clinton victory. Securities and investment firms have poured nearly $65 million into her campaign coffers, according to the Center for Responsive Politics. Goldman Sachs employees have donated $284,816 to Clinton and just $3,641 to Trump, who has received $716,407 from Wall Street. Comment: Two possibilities stand out: 1) The puppet masters have learned their lesson from Brexit. In other words, when rigging an election, don't underestimate the number of people who will actually vote the 'wrong' way. If you think you can swing 10% of the vote in your favor when you need 20-30%, you're going to fail, leading to an unexpected and undesired outbreak of actual democracy. 2) Goldman Sachs is just as myopic as their anti-Brexit peers. U.S. voters are not just voting for a person. For many, voting for Trump really is voting for an idea (rightly or wrongly). Even though he's a moron, Michael Moore captured this sentiment quite well: In other words, it's possible Goldman Sachs have started believing their own propaganda and the data from their media partners' fake polls. If so, they may be in for a bigger surprise than they expected.                                                                                                                                                                                                                                                                                                                                                                                                                                                                                                                                                                                                                                                                                                                                                                                                                                                                                                                                                                                                                                                                                                                                                                                                                                                                                                                                                                                                                                                                                                                                                                                                                                                                                                                                                                                                                                                                                                                                                                                                                                                                                                                                                                                                                                                                                                                                                                                                                                                                                                                                                                                                                                                                                                                                                                                                                                                                                                                                                                                                                                                                                                                                                                                                                                                                                                                                                                                                                                                                                                                                                                                                                                                                                                                                                                                                                                                                                                                                                                                                                                                                                                                                                                                                                                                                                                                                                                                                                                                                                                                                                                                                                                                                                                                                                                                                                                                                                                                                                                                                                                                                                                                                                                                                                                                                                                                                                                                                                                                                                                                                                                                                                                                                                                                                                                                                                                                                                                                                                                                                                                                                                                                                                                                                                                                                                                                                                                                                                                                                                                                                                                                                                                                                                                                                                                                                                                                                                                                                                                                                                                                                                                                                                                                                                                                                                                                                                                                                                                                                                    \n",
       "1425  Politics Former British Prime Minister Tony Blair says UK voters ‘have to build the capability to mobilize and to organize’ against Brexit. \\nFormer British Prime Minister Tony Blair says Britain should keep its “options open” on whether or not to leave the European Union until after Brexit talks with the bloc are completed. \\nDuring an interview on Friday with BBC Radio 4's “Today” program, Blair described the EU referendum as “a catastrophe” and said UK voters should be given the option of a second EU referendum. \\nBritain should not withdraw from the EU until it becomes clearer how Brexit would impact UK’s economic, social and cultural future, Blair said. \\n\"The bizarre thing about this referendum is that we took a decision but we still don't know the precise terms,” he said. “There’s got to be some way, either through parliament, or through an election, possibly through another referendum, that people express their view.” \\nThe former premier, who was in office from 1997 until 2007, said it should be possible for the public to switch their verdict if it becomes clear the alternative negotiated by Prime Minister Theresa May is going to be worse. \\nBlair’s argument contrasts sharply with that of May, who has repeatedly said that “Brexit means Brexit” and that she’ll respect the referendum result. Blair had argued that Britain should stay in the EU before the referendum. \\nEconomic growth in the UK is expected to slow significantly next year, due to uncertainty over of the Brexit vote. \\nExperts have warned that leaving the EU will severely hurt London’s position as a financial hub, unless the UK decides to keep its access to the single EU market by loosening its stance on immigration. \\nIf the UK loses its access to the EU’s single market, the resulting increase in the costs of doing business and exporting to the EU would hurt Britain’s competitive position in Europe. Loading ...                                                                                                                                                                                                                                                                                                                                                                                                                                                                                                                                                                                                                                                                                                                                                                                                                                                                                                                                                                                                                                                                                                                                                                                                                                                                                                                                                                                                                                                                                                                                                                                                                                                                                                                                                                                                                                                                                                                                                                                                                                                                                                                                                                                                                                                                                                                                                                                                                                                                                                                                                                                                                                                                                                                                                                                                                                                                                                                                                                                                                                                                                                                                                                                                                                                                                                                                                                                                                                                                                                                                                                                                                                                                                                                                                                                                                                                                                                                                                                                                                                                                                                                                                                                                                                                                                                                                                                                                                                                                                                                                                                                                                                                                                                                                                                                                                                                                                                                                                                                                                                                                                                                                                                                                                                                                                                                                                                                                                                                                                                                                                                                                                                                                                                                                                                                                                                                                                                                                                                                                                                                                                                                                                                                                                                                                                                                                                                                                                                                                                                                                                                                                                                                                                                                                                                                                                                                                                                                                                                                                                                                                                                                                                                                                                                                                                                                                                                                                                                                                                                                                                                                                                                                                                                                                                                                                                                                                                                                                                                                                                                                                                                                                                                                                                                                                                                                                                                                                                                                                                                                                                                                                                                                                                                                                                                                                                                                                                                                                                                                                                                                                                                                                                                                                                                                                                                                                                                                                                                                                                                                                                                                                                                                                                                                                                                                                                                                                                                                                                                                                                                                                                                                                                                                                                                                                                                                                                                                                                                                                                                                                                                                                                                             \n",
       "1536  Back in March, some of the financial sector’s leading analysts bumped the chances of a global economic recession from 20 percent to 30 percent. The chances are still minuscule, but the danger always looms. And given the tragic consequences of the Great Recession, any new indicators leading to another potential recession ought to be met with, at the very least, a tone of seriousness. Today, with the Brexit referendum passing in favor of leaving the European Union, and the subsequent decline in the British pound and, specifically, worsening indicators leading toward a British recession, there’s renewed fears of the Brexit shockfront crushing neighboring economies as well.\\n\\nIn the United States, meanwhile, the Republican position on Brexit seems to be based upon everything except the economic repercussions. Instead, the GOP’s posture appears to be simply blurting the opposite of whatever President Obama and the Democrats have to say about it. Indeed, the standard for any GOP argument since 2008 has been, simply put, Opposite Day. If Obama’s for it, they’re against it — even if Obama’s position was once a GOP position (the individual mandate, NSA metadata collection, predator drones, immigration reform, cap-and-trade, and the list goes on). While the GOP never really supported Brexit, they should have, especially knowing that the E.U. was one of the U.S.’s signature achievements after World War II, further assuring there aren’t continued world wars as the atomic age began. Beyond that, the possibility of a Brexit-induced recession should’ve frightened them away. However, we’re assuming the GOP is driven by rational policy choices in 2016. It’s not.\\n\\nDonald Trump, for his part, isn’t interested in the justifications for, or the post-war history of Europe. He’s only really interested in taking a position because, as with his party, it’s the opposite of Obama’s and Hillary’s. Had he been less driven to blurt a reaction to a potentially cataclysmic event — an event that he was totally unfamiliar with just a month ago, and if he had thought through a strategy that was a slightly more detailed than the 140 character limit on Twitter, he would’ve picked up on a golden opportunity to link Hillary and the Obama administration to a forthcoming recession, regardless of whether it was precipitated by Brexit.\\n\\nThis week, while appearing on stage with Elizabeth Warren for the first time, Hillary Clinton accurately observed that the Wall Street fallout from Brexit cost Americans around $100 billion, all of which vanished when the markets reacted to the Trump-supported Brexit vote:\\n\\nAverage Americans weren’t the only people impacted by Trump’s beloved Brexit vote. Around 400 of his fellow billionaires (if you believe what he says about his net worth) worldwide lost $196.2 billion due to the “leave” vote. This is what Trump supports? Weird. At the very least, experts at Goldman-Sachs are foreseeing a decline in the U.S. economy from around 2.25 percent growth to two-percent straight up. Britain itself appears to be poised for a recession late this year or in early 2017. Nevertheless, Trump missed a fantastic opportunity to sidestep the Brexit vote and, therefore, to fully blame a would-be recession on Hillary Clinton and her allies in the Obama administration. Instead, if Brexit continues to disrupt the world economy, he’ll absolutely remain on-record as having supported the spark that touched off the decline. Simultaneously and moving forward, Hillary can easily marry Trump to Brexit and brand the downturn as the “Trump Recession.” Conversely, had Trump kept his self-defeating mouth shut and, perhaps, continued to mock disabled people — you know, because he has “the best words” — he could’ve solely linked Hillary and Obama to the recession, without even mentioning Brexit as an inciting incident. But, once again, Trump stepped into the pitch and, for no real political gain, took a fastball to the side of his clown-wigged noggin. Sure, Trump is politically astute enough to realize that playing Opposite Day politics plays well with his brainwashed cult-like base. They’re with him no matter what, so, in the near-term it shouldn’t matter. After all, another feature of modern GOP strategy is political expedience over long-term gains. Trump’s got a lock on around 30 percent of American voters, but he’s clearly underestimating the number of Republicans, like George Will, Glenn Beck or Sen. Mark Kirk (R-Ill.), who are easily capable of sidestepping a vote for Trump and supporting someone — anyone — else, not to mention the scores of moderate undecided voters. The question moving forward is whether Trump is capable of making any winnable political choices, given how he’s vowed to “have so much winning, you may get tired of winning.” Instead of positioning himself to immediately link Hillary to a sputtering economy, he’s linked himself to it. He’s, in effect, dropped the ball on two issue areas that are normally owned by the GOP: the economy and national security. According to the new ABC News / Washington Post poll, Obama’s approval on the economy is hovering around 55 percent, while Hillary has been seen more favorably than Trump on her reaction to Orlando. If Trump can’t win on these issues, he might as well give up. And I’m not sure he hasn’t.                                                                                                                                                                                                                                                                                                                                                                                                                                                                                                                                                                                                                                                                                                                                                                                                                                                                                                                                                                                                                                                                                                                                                                                                                                                                                                                                                                                                                                                                                                                                                                                                                                                                                                                                                                                                                                                                                                                                                                                                                                                                                                                                                                                                                                                                                                                                                                                                                                                                                                                                                                                                                                                                                                                                                                                                                                                                                                                                                                                                                                                                                                                                                                                                                                                                                                                                                                                                                                                                                                                                                                                                                                                                                                                                                                                                                                                                                                                                                                                                                                                                                                                                                                                                                                                                                                                                                                                                                                                                                                                                                                                                                                                                                                                                                                                                                                                                                                                                                                                                                                                                                                                                                                                                                                                                                                                                                                                                                                                                                                                                                                                                                                                                                                                                                                                                                                                                                                                                                                                                                                                                                                                                                                                                                                                                                                                                                                                                                                                                                                                                                                                                                                                                                                                                                                                                                                                                                                                                                                                                                                                                                           \n",
       "1633  56 Views November 14, 2016 GOLD , KWN King World News \\nAs the bond market continues to melt down, interest rates rise and the Dollar Index surges above 100, legend Art Cashin gave one of his most important interviews ever to King World News about a Trump presidency, the New World Order, gold, Brexit, the Great Depression, and why we will see panic before the end of the year. \\nEric King: “In Trump’s acceptance speech he said that we are going to have massive infrastructure spending. Is that bearish for gold? I don’t think so.” \\nGold Market Hit As Druckenmiller Sells Art Cashin: “No. That on the face of it would not be a reason to sell gold. One of the things that may have concerned Druckenmiller was not so much your scenario of fiscal spending and building roads and highways, but the fact that despite what the Fed has been doing, the money supply has not been showing any velocity. That’s a topic you and I have discussed time and time again and it’s one of the holdups to gold because if it gets no velocity that’s deflationary. \\nIn fact, the largest growth in money stock is in cash — green pictures of dead presidents — and that is deflationary because that does not have a lending factor that money in a bank would have. So those are two deflationary trends in money and that tends to weigh a little bit on gold and doesn’t allow it to fulfill its promise that you would expect in a somewhat inflationary period.” \\nEric King: “Victor Sperandeo, a former associate of George Sorors, said to me this will be ‘pure money printing.’ That we are going to print trillions of dollars and build infrastructure — talk about how you view that. Obviously there are going to be jobs created and it will be great for infrastructure, so it will juice the economy, but what are the longer-term ramifications?” \\nArt Cashin: “On the face of it, it looks good. As you said, there will be jobs created and there will be improvements in roads and airports and so on. However, the other shoe to fall is that Mr. Trump is also committed to revamping the tax code. And those two things should lead to a massive increase in the deficit. And we are already deeply in debt, so people like Rosenberg and others feel like it will have virtually no impact. \\nOn the face of it the stimulus program should be great for the economy, but because you are in such a high level of debt it might not work out that way. He and others point out that if fiscal stimulus were the answer then Japan would be the king of the world with all of those bridges to nowhere that they built. Japan spent a lot of money, built up their deficit, and their economy never really turned around.” \\nEric King: “Going back even further than that and looking at the Great Depression, the United States was struggling and then FDR devalued the dollar by revaluing the price of gold higher. Those public works projects then got underway, the massive public works projects that built so much of the infrastructure here in the United States, Art. And that did turn the stock market around. It turned many things around — commodities, etc — but then it rolled over by 1937-1938 and then the war came. Is this infrastructure spending program something that can look good for a little while and then it will just roll over like we saw in 1937-1938?” \\nArt Cashin: “It can. And the problem (during the Great Depression) was that the thing didn’t click, as it were. It didn’t lead to the next step. You hire people, you do the road projects, you do whatever, and then you want to see them go out and spend and business begin to borrow and banks to lend. And in ’37 and ’38 that never fully kicked in. U.S. Experiences Second Stock Market Collapse From 1937 To 1938 \\nYou had high government officials, in frustration, go to Congress and testify: “We couldn’t get it started. We just couldn’t get it started.” \\nFor all of the deficit spending, for all of the government programs, it never fully worked. That’s the fear. Again, if you go back to Japan, clearly they spent trillions of Japanese yen in massive building projects and it never kicked in, it never took over. The people continued to worry and hold onto their money. \\nA Worried Public Is Hoarding Cash As I’ve told you before, this whole thing about helicopter money and whatnot, if Bernanke flew over your house and dropped a million dollars in brand new money, and you were so worried that you got up and hid it in the garage until you figured out what the economy was going to do…And that is virtually what has happened to us for the past seven years. \\nThey have tried all kinds of increases in money supply but it has never kicked in and people are so terrified that they are not spending, and basically, as I said, the large amount of growth was in cash. So they are putting it in the mattress, not even in the bank.” \\nEric King: “Art, for so many years on King World News you have been talking about this lending and spending not kicking in, and you have used that Bernanke analogy over and over again. It’s not normal for you to beat up on a point as much as you have. But earlier you brought up Japan, and then when we covered the Great Depression you discussed 1937-1938, and the the testimonies before Congress from people saying, ‘We just couldn’t get it started.’ Did you know all along that it was going to unfold this way to some degree with the lack of lending and spending? Did you know that from history?” \\nArt Cashin: “I had a fear of it and it became pretty evident after some of the first things they (central planners) did. It is not a very difficult game. Every week the Federal Reserve reports the Money Supply and the Federal Reserve of St. Louis reports the Monetary Stock, which is the amount of raw money that the Fed adds in. “We Just Couldn’t Get It Started” – Monetary Stock Plunging \\n“That Shouldn’t Be” For a year now, despite all the things you have heard, despite all the programs and ‘pump-priming’ and Yellen and all the doves, the Monetary Stock has not increased all year. That shouldn’t be. 60-Year Velocity Of Money Stock Hitting New Lows \\nIf money has velocity, then you can see the economy begin to move up. If it gets too much velocity, then you get to see inflation. But so far we are not getting a high dose of either. Although, if you ask somebody standing in the supermarket if they have inflation they might give you a bit of an argument. But by government standards it’s not quite there yet.” \\nEric King: “Along those same lines, Art, you’ve warned repeatedly about Weimar Germany and the experience of the 1920s. This idea that there can be no inflation and then suddenly it just kicks in and then all hell breaks loose. You’ve warned so many time about that. Is that what’s in front of us?” \\nArt Cashin: “You will begin to know it. Everybody talks about the Weimar Republic where they actually printed cash money and flooded the system. It wasn’t just the bank reserves — they actually flooded the system with paper money. And amazingly, amazingly, it was a while before that actually kicked in in an inflationary manner. And as you alluded to, I’ve said this time and time again, it’s one of those things like spontaneous combustion — it’s there and it’s there and it’s there and suddenly it bursts into flames. And when it bursts into flames it consumes everything about it. And that’s when you can have a runaway inflation. \\nBut so far it has not burst into flames. And that is why to even some degree the Fed is frustrated, hoping to get inflation up above 2 percent. And they may be in a position where, be careful what you wish for. Because if they get 2 percent and above it could suddenly combust and things could begin to move rather rapidly.” \\nEric King: “Art, let me ask you this about the Trump presidency. It seems like for those people out there who, as he said, felt lost, the lost Americans, and for those out there who really felt like they were having globalism shoved down their throats in Europe and in the United States, this seemed to be a moment in time where there was going to be some backtracking. The borders were going to be closed, there would be some protectionism — we all know the plusses and minuses of that — but how did you view this Trump election and him becoming president, the idea that the elite got sand kicked in their face and that this New World Order would be slowed down, if only for a moment?” \\nDonald Trump’s Shocker And Why Brexit Is Nowhere Near Over Art Cashin: “I view it as yet one more extension of what looks to be a populist revolt that is sweeping the world. You saw the beginning of it with Brexit, and you have too many pundits on TV saying, ‘Well, that ended quickly in reverse.’ Brexit is nowhere near over. But the reason that markets didn’t continue to spiral (downward) is that they realized that Brexit has basically been postponed. They haven’t gone in and declared Article 50. Once they start the process in motion, the consequences of Brexit are going to be there and they are going to be drastic. \\nNow, if you take Trump’s election as the second leg of populism, the next thing you look for is the December 4th referendum in Italy. And there’s a good chance that will cause the government to fail and Italy will be right back in the middle of a major European crisis, and we’ll be right back where we were with Greece (only much larger in scale). So this game is far from over and we could see further panic as we head into the end of the year.” \\nEric King: “Ahead of what’s going to happen in Italy, because I think that will unfold as you just predicted, Art, a Trump America going forward and this idea that the elites have been pushing globalism down everybody’s throats with NAFTA and so many things that have happened around the world. The globalism and the push to eliminate national boundaries, we’ve seen that in Europe and of course they had talked about combining Canada, the United States and Mexico into one regional unit. This idea that globalism has taken a huge blow here, is that true? Or did it just slow it down? What will a Trump presidency mean in that sense?” \\n“You’re Fired!” Art Cashin: “We’ve got a lot of things to see. Over the next week or two you are going to see whom he appoints to the cabinet and who holds him under their sway. It would appear, however, because of the size of his commitment, he’s got to address globalization and global trade. He’s got to go back and revisit even NAFTA. \\nI think some of his early attempts will be reasonably good. He will do some fiscal stimulus, some building and repairing, hopefully getting the tax structure in better order. But that will not be the end of it. He can pivot a bit but he can’t completely abandon it (his campaign promises). People will have to watch what he does. \\nNow, he may cleverly hire some people and put burdens on their shoulders. If after six months things don’t work out, he can revert to his TV personality and say, ‘You’re fired,’ to show the American people that he’s staying on top. But for now…KWN encourages everyone around the world to listen to one of legendary Art Cashin’s greatest audio interviews ever discussing the gold market at length, including the recent takedown in gold and what to make of Druckenmiller selling, what to surprises to expect in key markets as Trump becomes president, and what impact massive public works projects will have on the United States, inflation, gold, bonds, and much more, by CLICKING HERE OR ON THE IMAGE BELOW. \\n***KWN has now released the extraordinary KWN audio interview with whistleblower Andrew Maguire, where he discusses the gold and silver smash, at what price the large sovereign wholesale bids are located, and much more, and you can listen to it by CLICKING HERE OR ON THE IMAGE BELOW. \\n***ALSO JUST RELEASED: Greyerz – Historic Shocker, A Difficult Road And A Major Short Squeeze About To Unfold CLICK HERE. \\n© 2015 by King World News®. All Rights Reserved. This material may not be published, broadcast, rewritten, or redistributed. However, linking directly to the articles is permitted and encouraged. About author   \n",
       "1902  Wed, 26 Oct 2016 18:08 UTC © Peter Nicholls / Reuters Downing Street insists that the government will \"make a success\" of Brexit, despite a leaked audio recording of UK Prime Minister Theresa May predicting companies could abandon Britain if it leaves the EU. Speaking to a group of Goldman Sachs bankers on May 26 before the EU referendum, then-Home Secretary May said the economic arguments for remaining in the bloc were \" clear. \" In a leaked audio recording of the talk, published by the Guardian, May also claims membership in the EU makes Britain \"more safe.\" \"Being part of a 500-million trading bloc is significant for us. I think, as I was saying to you a little earlier, that one of the issues is that a lot of people will invest here in the UK because it is the UK in Europe. \"If we were not in Europe, I think there would be firms and companies who would be looking to say, do they need to develop a mainland Europe presence rather than a UK presence? So I think there are definite benefits for us in economic terms.\" May went on to say Britain was more secure inside the EU. \"There are definitely things we can do as members of the European Union that I think keep us more safe,\" she said. A Downing Street spokesman did not comment directly on the recording, but insisted Brexit is in the UK's best interests. \"Britain made a clear choice to vote to leave the EU and this Government is determined to make a success of the fresh opportunities it presents,\" he said. \"David Davis made very clear in the House of Commons last week the importance the Government places on financial services across the UK in the negotiation to come, as has the Chancellor in recent weeks. \"We want a smooth and orderly exit from the European Union, which would be in the interests of both Britain and the EU.\" Labour politicians accused May of deceiving the British public over the impact of leaving the EU's single market and called on her to be \"honest.\" Shadow Brexit Secretary Keir Starmer tweeted: Andrew Gwynne, shadow minister without portfolio, said: \"As if we needed it, this recording is cast-iron evidence of how Theresa May and other senior Tories have been saying one thing in private about the economic impact of Brexit and another in the comfort of Tory conference halls. \"It's plain that she recognises what a disaster it would be for Britain to lose access to the single market, so why doesn't she be honest with the British people and say how she plans to retain it?\" Comment: When it comes to leaks in the UK, where the press is very tightly controlled, it's a sure bet that the govt wanted the public to hear this. The 'long goodbye' continues.                                                                                                                                                                                                                                                                                                                                                                                                                                                                                                                                                                                                                                                                                                                                                                                                                                                                                                                                                                                                                                                                                                                                                                                                                                                                                                                                                                                                                                                                                                                                                                                                                                                                                                                                                                                                                                                                                                                                                                                                                                                                                                                                                                                                                                                                                                                                                                                                                                                                                                                                                                                                                                                                                                                                                                                                                                                                                                                                                                                                                                                                                                                                                                                                                                                                                                                                                                                                                                                                                                                                                                                                                                                                                                                                                                                                                                                                                                                                                                                                                                                                                                                                                                                                                                                                                                                                                                                                                                                                                                                                                                                                                                                                                                                                                                                                                                                                                                                                                                                                                                                                                                                                                                                                                                                                                                                                                                                                                                                                                                                                                                                                                                                                                                                                                                                                                                                                                                                                                                                                                                                                                                                                                                                                                                                                                                                                                                                                                                                                                                                                                                                                                                                                                                                                                                                                                                                                                                                                                                                                                                                                                                                                                                                                                                                                                                                                                                                                                                                                                                                                                                                                                                                                                                                                                                                                                                                                                                                                                                                                                                                                                                                                                                                                                                                                                                                                                                                                                                                                                                                                                                                                                                                                                                                                                                                                                                                                                                                                                                                                                                                                                                                                                                                                                                                                                                                                                                                                                                                                                                                                                                                                                                                                                                                                                                                                                                                                     \n",
       "2436  All Brexit arguments settled by 0.5 per cent third-quarter growth 28-10-16 \\nALL debates about the negative impact of Brexit have been settled for good by Britain’s 0.5 per cent third-quarter growth. \\nLeading Remain campaigners, including former chancellor George Osborne, are preparing public apologies and the nation’s 16 million Remain voters are expected to follow suit. \\nJoanna Kramer of Bristol said: “It’s not easy to admit you’re wrong but I don’t see I have any choice. \\n“Britain is thriving with only a 0.2 per cent decline on expected growth, national pride has exploded into a proud display of healthy scepticism towards supposed child refugees, and I was a fool. \\n“How could I have been so blind not to see that glory would be upon us this soon, if only we had the courage to take back control? \\n“I’m sorry, everyone. I’m sorry I was a traitor.” \\nBrexit voter Stephen Malley said: “What am I going to do for conversation now?” \\nShare:                                                                                                                                                                                                                                                                                                                                                                                                                                                                                                                                                                                                                                                                                                                                                                                                                                                                                                                                                                                                                                                                                                                                                                                                                                                                                                                                                                                                                                                                                                                                                                                                                                                                                                                                                                                                                                                                                                                                                                                                                                                                                                                                                                                                                                                                                                                                                                                                                                                                                                                                                                                                                                                                                                                                                                                                                                                                                                                                                                                                                                                                                                                                                                                                                                                                                                                                                                                                                                                                                                                                                                                                                                                                                                                                                                                                                                                                                                                                                                                                                                                                                                                                                                                                                                                                                                                                                                                                                                                                                                                                                                                                                                                                                                                                                                                                                                                                                                                                                                                                                                                                                                                                                                                                                                                                                                                                                                                                                                                                                                                                                                                                                                                                                                                                                                                                                                                                                                                                                                                                                                                                                                                                                                                                                                                                                                                                                                                                                                                                                                                                                                                                                                                                                                                                                                                                                                                                                                                                                                                                                                                                                                                                                                                                                                                                                                                                                                                                                                                                                                                                                                                                                                                                                                                                                                                                                                                                                                                                                                                                                                                                                                                                                                                                                                                                                                                                                                                                                                                                                                                                                                                                                                                                                                                                                                                                                                                                                                                                                                                                                                                                                                                                                                                                                                                                                                                                                                                                                                                                                                                                                                                                                                                                                                                                                                                                                                                                                                                                                                                                                                                                                                                                                                                                                                                                                                                                                                                                                                                                                                                                                                                                                                                                                                                                                                                                                                                                                                                                                                                                                                                                                                                                                                                                                                                                                                                                                                                                                                                                                                                                                                                                                                             \n",
       "2576                                                                                                                                                                                                                                                                                                                                                                                                                                                                                                                                                                                                                                                                                                                                                                                                                                                                                                                                                                                                                                                                                                                                                                                                                                                                                                                                                                                                                                                                                                                                                                                                                                                                                                                                                                                                                                                                                                                                                                                                                                                                                                                                                                                                                                                                                                                                                                                                                                                                                                                                                                                                                                                                                                                                                                                                                                                                                                                                                                                                                                                                                                                                                                                                                                                                                                                                                                                                                                                                                                                                                                                                                                                                                                                                                                                                                                                                                                                                                                                                                                                                                                                                                                                                                                                                                                                                                                                                                                                                                                                                                                                                                                                                                                                                                                                                                                                                                                                                                                                                                                                                                                                                                                                                                                                                                                                                                                                                                                                                                                                                                                                                                                                                                                                                                                                                                                                                                                                                                                                                                                                                                                                                                                                                                                                                                                                                                                                                                                                                                                                                                                                                                                                                                                                                                                                                                                                                                                                                                                                                                                                                                                                                                                                                                                                                                                                                                                                                                                                                                                                                                                                                                                                                                                                                                                                                                                                                                                                                                                                                                                                                                                                                                                                                                                                                                                                                                                                                                                                                                                                                                                                                                                                                                                                                                                                                                                                                                                                                                                                                                                                                                                                                                                                                                                                                                                                                                                                                                                                                                                                                                                                                                                                                                                                                                                                                                                                                                                                                                                                                                                                                                                                                                                                                                                                                                                                                                                                                                                                                                                                                                                                                                                                                                                                                                                                                                                                                                                                                                                                                                                                                                                                                                                                                                                                                                                                                                                                                                                                                                                                                                                                                                                                                                                                                                                                                                                                                                                                                                                                                                                                                                                                                                                                                                                                                                                                                                                                                                                                                                                                                                                                                                                         \n",
       "3358  “Brexit means Clusterfuck” confirms Prime Minister \\nTheresa May has clarified that Brexit actually means one giant, steaming clusterfuck. \\nThe reincarnation of Emperor Palpatine made the statement following the High Court ruling that Parliament would have to give the go-ahead for Britain to officially tell the EU to piss right off. \\n“Brexit does indeed mean clusterfuck,” said the Prime Minister, giving the pained smile of a woman who knows she’s going to be the historical equivalent of Basil Fawlty. \\n“But it is the clusterfuck that the people voted for, and by God, we shall see to it that this clusterfuck gets done right and proper. \\n“I mean, I’d rather not, because it’s going to be dreadful and tedious, but that’s democracy for you.” \\nBrexiter, Simon Williams, said,”If ‘clusterfuck’ means ‘taking back control’ then I say bring on the clusterfuck and damn the consequences. \\n“We’ve already told the experts where to go; there is no going back. Brexit means clusterfuck, and I demand to be clusterfucked immediately.” Get the best NewsThump stories in your mailbox every Friday, for FREE! There are currently                                                                                                                                                                                                                                                                                                                                                                                                                                                                                                                                                                                                                                                                                                                                                                                                                                                                                                                                                                                                                                                                                                                                                                                                                                                                                                                                                                                                                                                                                                                                                                                                                                                                                                                                                                                                                                                                                                                                                                                                                                                                                                                                                                                                                                                                                                                                                                                                                                                                                                                                                                                                                                                                                                                                                                                                                                                                                                                                                                                                                                                                                                                                                                                                                                                                                                                                                                                                                                                                                                                                                                                                                                                                                                                                                                                                                                                                                                                                                                                                                                                                                                                                                                                                                                                                                                                                                                                                                                                                                                                                                                                                                                                                                                                                                                                                                                                                                                                                                                                                                                                                                                                                                                                                                                                                                                                                                                                                                                                                                                                                                                                                                                                                                                                                                                                                                                                                                                                                                                                                                                                                                                                                                                                                                                                                                                                                                                                                                                                                                                                                                                                                                                                                                                                                                                                                                                                                                                                                                                                                                                                                                                                                                                                                                                                                                                                                                                                                                                                                                                                                                                                                                                                                                                                                                                                                                                                                                                                                                                                                                                                                                                                                                                                                                                                                                                                                                                                                                                                                                                                                                                                                                                                                                                                                                                                                                                                                                                                                                                                                                                                                                                                                                                                                                                                                                                                                                                                                                                                                                                                                                                                                                                                                                                                                                                                                                                                                                                                                                                                                                                                                                                                                                                                                                                                                                                                                                                                                                                                                                                                                                                                                                                                                                                                                                                                                                                                                                                                                                                                                                                                                                                                                                                                                                                                                                                                                                                                                                                                                 \n",
       "3773  Next Swipe left/right Have The Sun really darkened the image of Brexit legal challenge winner Gina Miller? \\n@Crookedfootball over on Twitter says, “Look how the Sun has darkened Gina Miller’s skin compared to the Times” \\nThe Sun: \\nThe Times: \\nObviously this could be just web bollocks but @Ajjolley has checked the paper versions next to each other: \\n“Printed in same plant”, he says, “Little doubt the Sun darkened photo of Gina Miller” \\nHowever @CaeruleanSea says, “as much as I loathe the Sun, the Times have upped the exposure on their pic. Google pics from that speech.” \\nAnd yep – he has a point: look at the BBC coverage Source: http://www.bbc.co.uk/news/uk-politics-37861888 \\nIn conclusion: the media has sent us all entirely mad that we’re now checking how dark people are in Photoshop.                                                                                                                                                                                                                                                                                                                                                                                                                                                                                                                                                                                                                                                                                                                                                                                                                                                                                                                                                                                                                                                                                                                                                                                                                                                                                                                                                                                                                                                                                                                                                                                                                                                                                                                                                                                                                                                                                                                                                                                                                                                                                                                                                                                                                                                                                                                                                                                                                                                                                                                                                                                                                                                                                                                                                                                                                                                                                                                                                                                                                                                                                                                                                                                                                                                                                                                                                                                                                                                                                                                                                                                                                                                                                                                                                                                                                                                                                                                                                                                                                                                                                                                                                                                                                                                                                                                                                                                                                                                                                                                                                                                                                                                                                                                                                                                                                                                                                                                                                                                                                                                                                                                                                                                                                                                                                                                                                                                                                                                                                                                                                                                                                                                                                                                                                                                                                                                                                                                                                                                                                                                                                                                                                                                                                                                                                                                                                                                                                                                                                                                                                                                                                                                                                                                                                                                                                                                                                                                                                                                                                                                                                                                                                                                                                                                                                                                                                                                                                                                                                                                                                                                                                                                                                                                                                                                                                                                                                                                                                                                                                                                                                                                                                                                                                                                                                                                                                                                                                                                                                                                                                                                                                                                                                                                                                                                                                                                                                                                                                                                                                                                                                                                                                                                                                                                                                                                                                                                                                                                                                                                                                                                                                                                                                                                                                                                                                                                                                                                                                                                                                                                                                                                                                                                                                                                                                                                                                                                                                                                                                                                                                                                                                                                                                                                                                                                                                                                                                                                                                                                                                                                                                                                                                                                                                                                                                                                                                                                                                                                                                                                                                                                                                                                                                                                                                                                                    \n",
       "4186  London Bankers Fearful of Brexit Blowback October 27, 2016 London Bankers Fearful of Brexit Blowback \\nLondon's financial district has called for a UK regulatory regime that does not harm competitiveness, responding to bankers' fears that being outside the European Union will reduce the capital's clout in global markets. The City of London's Lord Mayor, Jeffrey Mountevans , will tell regulators at a dinner on Wednesday evening that after Britain's vote in June to leave the EU, \"realistic, collaborative\" regulation is needed to keep the sector on an even keel. \"Regulation that will continue to protect our competitiveness and provide liberal market influence across the EU, even after Brexit,\" Mountevans said in remarks released to the media in advance of the annual Mansion House dinner for bankers and regulators. The City is crying out for a consistent and forward-looking Brexit strategy that has a \"bold, bright, buccaneering vision of the future\", Mountevans will say. Some will see this as harking back to a discredited past. \\n(LONDON) - This week the City marks 30 years since the day of the \"Big Bang\" deregulation of London's financial markets that helped to propel London to the top of the league table of global financial centers. \\nThe financial crisis of 2007-09 then forced taxpayers to bail out undercapitalized and poorly supervised lenders, tarnishing the \"light touch\" regulatory approach and ushering in a welter of tougher rules. \\nREAD MORE: BRITISH PRIME MINISTER READY FOR DIFFICULT MOMENTS IN BREXIT TALKS \\nBut since the Brexit vote, Paris, Frankfurt, Luxembourg and Dublin have vied to win a slice of the City's financial pie should banks and other companies move operations to other countries to maintain full access to EU markets. \\nBackers of Brexit have also voiced hopes for an end to EU rules such as caps on banker bonuses. \\nBut Andrew Bailey, chief executive of the Financial Conduct Authority (FCA), who is also due to speak at the Mansion House dinner, has scotched talk of a post-Brexit bonfire of the regulations. \\nAt a launch of the FCA's public consultation on a new \"mission\" statement on Wednesday, Bailey said he would not support making competitiveness an objective. \\n\"The thing that we can contribute to competitiveness is sound regulation,\" Bailey told reporters. \"It's not appropriate, in my view, to have a competitiveness objective.\" Article by Doc Burkhart , Vice-President, General Manager and co-host of TRUNEWS with Rick Wiles Got a news tip? Email us at Help support the ministry of TRUNEWS with your one-time or monthly gift of financial support. DONATE NOW ! DOWNLOAD THE TRUNEWS MOBILE APP! CLICK HERE! Donate Today! Support TRUNEWS to help build a global news network that provides a credible source for world news \\nWe believe Christians need and deserve their own global news network to keep the worldwide Church informed, and to offer Christians a positive alternative to the anti-Christian bigotry of the mainstream news media Top Stories                                                                                                                                                                                                                                                                                                                                                                                                                                                                                                                                                                                                                                                                                                                                                                                                                                                                                                                                                                                                                                                                                                                                                                                                                                                                                                                                                                                                                                                                                                                                                                                                                                                                                                                                                                                                                                                                                                                                                                                                                                                                                                                                                                                                                                                                                                                                                                                                                                                                                                                                                                                                                                                                                                                                                                                                                                                                                                                                                                                                                                                                                                                                                                                                                                                                                                                                                                                                                                                                                                                                                                                                                                                                                                                                                                                                                                                                                                                                                                                                                                                                                                                                                                                                                                                                                                                                                                                                                                                                                                                                                                                                                                                                                                                                                                                                                                                                                                                                                                                                                                                                                                                                                                                                                                                                                                                                                                                                                                                                                                                                                                                                                                                                                                                                                                                                                                                                                                                                                                                                                                                                                                                                                                                                                                                                                                                                                                                                                                                                                                                                                                                                                                                                                                                                                                                                                                                                                                                                                                                                                                                                                                                                                                                                                                                                                                                                                                                                                                                                                                                                                                                                                                                                                                                                                                                                                                                                                                                                                                                                                                                                                                                                                                                                                                                                                                                                                                                                                                                                                                                                                                                                                                                                                                                                                                                                                                                                                                                                                                                                                                                                                                                                                                                                                                                                                                                                                                                                                                                                                                   \n",
       "4897  Home | World | Brexit Lost: Scuppered By May and High Court Brexit Lost: Scuppered By May and High Court By Mr. Charrington 03/11/2016 11:48:44 \\nLONDON – England – The High Court decision today to deny the EU Referendum result is a sign that we are not living in a democracy or a sovereign country. \\n\\nToday is a very sad day for democracy within the UK, and Theresa May a Remain supporter is instrumental in denying the will of the British people to leave the EU. \\nDithering and Delaying Tactics \\nThrough numerous delaying tactics , and the installation of key government posts of Remain campaign MPs, the Brexit referendum was thwarted. \\nIf the government had repealed the 1972 European Communities Act immediately the EU referendum result would be well on the way to materialising. \\nThe total nonchalance and denial of the EU referendum result is firmly on Theresa May’s head and her appointment of Hammond as Chancellor of the Exchequer was a further sign that May was not serious about the EU referendum result. \\nInjustice \\nThe High Court ruling today which is intrusive and false, as well as being undemocratic is a further signal that we are currently not living in a sovereign nation and it is totally controlled by Brussels. \\nDuring the EU Referendum, MPs had their say , MPs campaigned, and when it came to vote in the referendum, they voted. Therefore, parliament has already had a say in the EU referendum, and by going to the High Court, these traitors have sought to annul a democratic vote which was held on June 23 2016. \\nThis ruling is a shameful reminder that Britain has lost all sovereign status to the EU entity, it is a sad day for democracy, for the will of the people and ultimately for the country. \\n17.5 Million People Will Vote on Election Day \\nIn these circumstances, we must as a people show our displeasure at being circumvented by not voting during the next election for any MP or party who is EU centric. \\nThis is not over.                                                                                                                                                                                                                                                                                                                                                                                                                                                                                                                                                                                                                                                                                                                                                                                                                                                                                                                                                                                                                                                                                                                                                                                                                                                                                                                                                                                                                                                                                                                                                                                                                                                                                                                                                                                                                                                                                                                                                                                                                                                                                                                                                                                                                                                                                                                                                                                                                                                                                                                                                                                                                                                                                                                                                                                                                                                                                                                                                                                                                                                                                                                                                                                                                                                                                                                                                                                                                                                                                                                                                                                                                                                                                                                                                                                                                                                                                                                                                                                                                                                                                                                                                                                                                                                                                                                                                                                                                                                                                                                                                                                                                                                                                                                                                                                                                                                                                                                                                                                                                                                                                                                                                                                                                                                                                                                                                                                                                                                                                                                                                                                                                                                                                                                                                                                                                                                                                                                                                                                                                                                                                                                                                                                                                                                                                                                                                                                                                                                                                                                                                                                                                                                                                                                                                                                                                                                                                                                                                                                                                                                                                                                                                                                                                                                                                                                                                                                                                                                                                                                                                                                                                                                                                                                                                                                                                                                                                                                                                                                                                                                                                                                                                                                                                                                                                                                                                                                                                                                                                                                                                                                                                                                                                                                                                                                                                                                                                                                                                                                                                                                                                                                                                                                                                                                                                                                                                                                                                                                                                                                                                                                                                                                                                                                                                                                                                                                                                                                                                                                                                                                                                                                                                                                                                                                                                                                                                                                                                                                                                                                                                                                       \n",
       "5376    WashingtonsBlog \\nCNN’s Jake Tapper hit the nail on the head last night, as he was speaking about why people voted for Trump. \\nTapper said that most Americans are sick of the income inequality, globalization, and politics-as-usual that the status quo have given us. \\nHe even pointed out that only a handful of people have gotten rich off of globalization, and a lot of people have been left behind . \\nIndeed, exit polls last night showed that the economy was the number 1 concern for voters. The Guardian reports : \\n“It’s the economy, stupid” was a phrase coined by her husband’s adviser James Carville in the 1992 election and, in many ways, it ought to have helped Democrats again in 2016. Barack Obama helped rescue the US from the financial crash and presided over a record series of consecutive quarters of job growth. \\nUnfortunately for Clinton, many Americans simply did not feel as positive. Stagnant wage levels and soaring inequality were symptoms of the malaise felt by many voters. Trump successfully convinced them to believe this was caused by bad trade deals and a rigged economy. \\nDespite being pushed in this direction by Sanders in the Democratic primary, Clinton never really found a satisfactory response. Her volte-face on trade sounded – and was later proved by leaked emails – unconvincing at best; deeply cynical at worst. \\nSimilarly, Brexit – the other recent vote which went against all political forecasts – was largely a vote by those who lost out on the benefits of globalization … that only a handful of fatcats really profited from. \\nLeaders of the Brexit campaign noted the confluence of the two votes: \\nJeremy Corbyn described Mr Trump’s victory as “an unmistakable rejection of political establishment” . \\nUkip leader Nigel Farage – who went to the US to appear at a Trump campaign rally – said he was handing over his mantle as the creator of political earthquakes to the new President, saying that 2016 was “the year of two great political revolutions”, adding: “I thought Brexit was big, but boy, this looks like it’s going to be even bigger”. \\nN igel Farage has issued this statement following Donald Trump’s victory. \\n“Today, the establishment is in deep shock. Even more so than after Brexit. What we are witnessing is the end of a period of big business and big politics controlling our lives. \\nVoters across the Western world want nation state democracy, proper border controls and to be in charge of their own lives. \\nI commend Donald Trump for the courage with which he has fought this campaign and I look forward to a closer relationship between the USA and the UK. We now have a President who likes our country and understands our post-Brexit values. \\nPrepare for further political shocks in the years to come.” \\nVoters in the UK and the world’s strongest nation, the U.S., have both rebuked the status quo, including neoliberal trade and economic policies. \\nWhat’s next? \\nThe rebellion will spread … \\nFor example, it’s so probable that Merkel’s Christian Democratic Union party will be thrown out on its ear that Merkel is already trying to distract with silly claims that the Russians will hack the German election. \\nPostscript: There are, of course, other reasons that Trump won. But the economy is the main one.                                                                                                                                                                                                                                                                                                                                                                                                                                                                                                                                                                                                                                                                                                                                                                                                                                                                                                                                                                                                                                                                                                                                                                                                                                                                                                                                                                                                                                                                                                                                                                                                                                                                                                                                                                                                                                                                                                                                                                                                                                                                                                                                                                                                                                                                                                                                                                                                                                                                                                                                                                                                                                                                                                                                                                                                                                                                                                                                                                                                                                                                                                                                                                                                                                                                                                                                                                                                                                                                                                                                                                                                                                                                                                                                                                                                                                                                                                                                                                                                                                                                                                                                                                                                                                                                                                                                                                                                                                                                                                                                                                                                                                                                                                                                                                                                                                                                                                                                                                                                                                                                                                                                                                                                                                                                                                                                                                                                                                                                                                                                                                                                                                                                                                                                                                                                                                                                                                                                                                                                                                                                                                                                                                                                                                                                                                                                                                                                                                                                                                                                                                                                                                                                                                                                                                                                                                                                                                                                                                                                                                                                                                                                                                                                                                                                                                                                                                                                                                                                                                                                                                                                                                                                                                                                                                                                                                                                                                                                                                                                                                                                                                                                                                                                                                                                                                                                                                                                                                                                                                                                                                                                                                                                                                                                                                                                                                                                                                                                                                                                                                                                                                                                                                                                                    \n",
       "5669  Brexit Ruling Just Latest Tactic to Block Will of the People November 3, 2016 Daniel Greenfield \\nAfter the referendum made Brexit possible, I warned that the establishment would do everything possible to stop it. That should not come as a surprise to anyone. Brexit was very much a popular rebellion whose centers were well outside the centers of power. The establishment is culturally and politically hostile to it. And one of the most basic ways that the system has of sabotaging policies it doesn't like is to swamp them in procedural red tape and as much politicking as possible so as to make them unviable. Doing that to a Brexit is trickier, but it's still happening. The same old game plan is to just bog it down as much as possible until its motive energy runs down. It's worked in the past. It may not work this time. But that won't stop them from trying. \\nRerun Brexit through Parliament and maximize the wrangling. The Court's ruling is certain to do that. Keep it going through the grinder long enough and maybe it'll go away.                                                                                                                                                                                                                                                                                                                                                                                                                                                                                                                                                                                                                                                                                                                                                                                                                                                                                                                                                                                                                                                                                                                                                                                                                                                                                                                                                                                                                                                                                                                                                                                                                                                                                                                                                                                                                                                                                                                                                                                                                                                                                                                                                                                                                                                                                                                                                                                                                                                                                                                                                                                                                                                                                                                                                                                                                                                                                                                                                                                                                                                                                                                                                                                                                                                                                                                                                                                                                                                                                                                                                                                                                                                                                                                                                                                                                                                                                                                                                                                                                                                                                                                                                                                                                                                                                                                                                                                                                                                                                                                                                                                                                                                                                                                                                                                                                                                                                                                                                                                                                                                                                                                                                                                                                                                                                                                                                                                                                                                                                                                                                                                                                                                                                                                                                                                                                                                                                                                                                                                                                                                                                                                                                                                                                                                                                                                                                                                                                                                                                                                                                                                                                                                                                                                                                                                                                                                                                                                                                                                                                                                                                                                                                                                                                                                                                                                                                                                                                                                                                                                                                                                                                                                                                                                                                                                                                                                                                                                                                                                                                                                                                                                                                                                                                                                                                                                                                                                                                                                                                                                                                                                                                                                                                                                                                                                                                                                                                                                                                                                                                                                                                                                                                                                                                                                                                                                                                                                                                                                                                                                                                                                                                                                                                                                                                                                                                                                                                                                                                                                                                                                                                                                                                                                                                                                                                                                                                                                                                                                                                                                                                                                                                                                                                                                                                                                                                                                                                                                                                                                                                                                                                                                                                                                                                                                                                                                                                                                                                                                                                                                                                       \n",
       "5737  Trump and Brexit Defeat Globalism, for Now Anyway   14, 2016 \\nTrumpism as a stress test for democracy …. A series of populist anti-globalism shocks is a test for Western democracies. Trump’s stunning ascent to the White House is the clearest signal yet of an anti-establishment revolt unfolding in major democracies, stretching across the Atlantic. – Swiss Info Tech \\nWas Trump’s victory actually created by the very globalist elites that Trump is supposed to have overcome? \\nThere are some who believe the elites are actually splintered into numerous groups and that domestic US elites have positioned themselves against the banking elites in London’s City. We see no fundamental evidence of this. \\nThe world’s real elites in our view may have substantive histories in the hundreds and thousands of years. US elites are basically in the employ of a handful of families, individuals and institutions in our view. \\nIt is confusing because it is hard to tell if Hillary, for instance, is operating on her own accord or at the behest of higher and more powerful authorities. \\nIt is probably a combination of both but at root those who control central banks are managing the world’s move towards globalism. History easily shows us who these groups are – and they are not located in America. \\nThis is a cynical perspective to be sure, and certainly doesn’t remove the impact of Trump’s victory or his courage in waging his election campaign despite what must surely be death threats to himself and his family.. \\nBut if true, this perspective corresponds to predictions that we’ve been making for nearly a decade now, suggesting that sooner or later elites – especially those in London’s City – would have to “take a step back.” \\nMore: \\nThe vote to propel Trump to the US presidency reflects a profound backlash against open markets and borders, and the simmering anger of millions of blue-collar white and working-class people who blame their economic woes on globalisation and multiculturalism. \\n“There are a few parallels to Switzerland – that the losers of globalisation find somebody who is listening to them,” said Swiss professor and lawyer Wolf Linder, a former director of the University of Bern’s political science institute. \\n“Trump is doing his business with the losers of globalisation in the US, like the Swiss People’s Party is doing in Switzerland,” he said. “It is a phenomenon which touches all European nations.” \\nAgain, this article presumes that Trump has “won” and that he intends to attack the larger globalist enterprise and the bankers funding it. On the other hand, it could be that both Trump and Brexit have been engineered to look as if the tide is turning against globalism when it is not. \\nWhy would those in charge want to portray this point of view when it may not be so? Because of what we call the “Internet Reformation” that has blasted open the secretive manipulations of the globalist elite in the past decade or so. \\nIt is almost impossible for globalists to promote internationalist memes in this environment. Yet it is the secretive injection of internationalist memes into the body politic that moves society toward the globalist enterprise. \\nAs we have suggested before, it is perfectly possible that a decision has been made to pretend to grant the larger society a “victory” over internationalism. \\nFollowing this analysis, certain trends would be identified and encouraged that would seem to portray globalism as falling back on its metaphorical heels. \\nIn truth, if this analysis is correct, globalism’s retreat is a kind of pretense that will steer society less obviously in a globalist direction. \\nOne way this could happen is by ensuring the splintering of Europe – but not in a way that actually reduces control from Brussels. It will APPEAR to be so but won’t actually happen. The same thing could take place in the USA under Trump. \\nAgain, this is not to say that Trump is party to this plot or even approves of it. But the idea that Trump is part of a co-option is certainly a feasible alternative to an alternative analysis that takes what is happening at face value. \\nNonetheless, even if an alternative elite strategy has been decided on to realize globalism in another fashion, it ought to be pointed out that things have changed. And the Internet and its revelations are surely responsible. \\nThis is a very big deal and it is one that ought to be emphasized repeatedly. Brexit and Trump could be, somehow, the result of a different elite approach – but the approach HAS changed nonetheless. \\nThink of it this way: Hillary represented the blunt approach toward the realization of further globalism. Her way included an aggressively expanded war and the pursuit of other globalist trends. \\nTrump, rhetorically anyway, has a different approach in mind that would gut many internationalist trends. \\nIf Trump follows through on his rhetoric, the trend toward an internationalist world will be reduced. And while there is controversy over Trump’s recent staff appointments we should also bear in mind that the Trans Pacific Partnership (TPP) and the Transatlantic Trade and Investment Partnership (TTIP) both seem to be failing now. \\nIf indeed Trump’s election has damped the progress of TPP, and TTIP, this is a huge event. As we’ve pointed out, both agreements effectively substituted technocratic corporatism for the current sociopolitical model of “democracy.” \\nThe elites were trying to move toward a new model of world control with these two agreements. This is similar to what happened after the advent of the Gutenberg Press when the elites of the day moved away from royal control and apparently swapped in democracy. \\nIt seems evident that internationalism is now going to take a longer time to realize than we thought. However, this observation may not be entirely accurate if Trump turns out to be something other than his rhetoric suggests – or if Brexit is denied in Europe. \\nAdditionally, one of the elite’s most powerful, operative memes today is “populism vs. globalism” that seeks to contrast the potentially freedom-oriented events of Trump and Brexit to the discarded wisdom of globalism. See here and here. \\nThe reality of these two events, the victories of both Trump and Brexit, stand as signal proof that elite stratagems have been defeated, at least temporarily. Though whether these defeats have been self-inflicted as part of a change in tactics remains to be seen. \\nConclusion: But the change has come. One way or another the Internet and tens of millions or people talking, writing and acting has forced new trends. This can be hardly be emphasized enough. Globalism has been at least temporarily redirected                                                                                                                                                                                                                                                                                                                                                                                                                                                                                                                                                                                                                                                                                                                                                                                                                                                                                                                                                                                                                                                                                                                                                                                                                                                                                                                                                                                                                                                                                                                                                                                                                                                                                                                                                                                                                                                                                                                                                                                                                                                                                                                                                                                                                                                                                                                                                                                                                                                                                                                                                                                                                                                                                                                                                                                                                                                                                                                                                                                                                                                                                                                                                                                                                                                                                                                                                                                                                                                                                                                                                                                                                                                                                                                                                                                                                                                                                                                                                                                                                                                                                                                                                                                                                                                                                                                                                                                                                                                                                                                                                                                                                                                                                                                                                                                                                                                                                                                                                                                                                                                                                                                                                                                                                                                                                                                                                                                                                                                                                                                                                                                                                                             \n",
       "6214  Tony Blair suggests a second referendum to reverse Brexit Tony Blair suggests a second referendum to reverse Brexit By 0 149 \\nFormer British Prime Minister Tony Blair says Britain should keep its “options open” on whether or not to leave the European Union until after Brexit talks with the bloc are completed. \\nDuring an interview on Friday with BBC Radio 4’s “Today” program, Blair described the EU referendum as “a catastrophe” and said UK voters should be given the option of a second EU referendum. \\nBritain should not withdraw from the EU until it becomes clearer how Brexit would impact UK’s economic, social and cultural future, Blair said. \\n“The bizarre thing about this referendum is that we took a decision but we still don’t know the precise terms,” he said. “There’s got to be some way, either through parliament, or through an election, possibly through another referendum, that people express their view.” \\nThe former premier, who was in office from 1997 until 2007, said it should be possible for the public to switch their verdict if it becomes clear the…                                                                                                                                                                                                                                                                                                                                                                                                                                                                                                                                                                                                                                                                                                                                                                                                                                                                                                                                                                                                                                                                                                                                                                                                                                                                                                                                                                                                                                                                                                                                                                                                                                                                                                                                                                                                                                                                                                                                                                                                                                                                                                                                                                                                                                                                                                                                                                                                                                                                                                                                                                                                                                                                                                                                                                                                                                                                                                                                                                                                                                                                                                                                                                                                                                                                                                                                                                                                                                                                                                                                                                                                                                                                                                                                                                                                                                                                                                                                                                                                                                                                                                                                                                                                                                                                                                                                                                                                                                                                                                                                                                                                                                                                                                                                                                                                                                                                                                                                                                                                                                                                                                                                                                                                                                                                                                                                                                                                                                                                                                                                                                                                                                                                                                                                                                                                                                                                                                                                                                                                                                                                                                                                                                                                                                                                                                                                                                                                                                                                                                                                                                                                                                                                                                                                                                                                                                                                                                                                                                                                                                                                                                                                                                                                                                                                                                                                                                                                                                                                                                                                                                                                                                                                                                                                                                                                                                                                                                                                                                                                                                                                                                                                                                                                                                                                                                                                                                                                                                                                                                                                                                                                                                                                                                                                                                                                                                                                                                                                                                                                                                                                                                                                                                                                                                                                                                                                                                                                                                                                                                                                                                                                                                                                                                                                                                                                                                                                                                                                                                                                                                                                                                                                                                                                                                                                                                                                                                                                                                                                                                                                                                                                                                                                                                                                                                                                                                                                                                                                                                                                                                                                                                                                                                                                                                                                                                                                                                                                                                                                                                                  \n",
       "\n",
       "     label  \n",
       "838   FAKE  \n",
       "1042  FAKE  \n",
       "1077  FAKE  \n",
       "1100  FAKE  \n",
       "1425  FAKE  \n",
       "1536  REAL  \n",
       "1633  FAKE  \n",
       "1902  FAKE  \n",
       "2436  FAKE  \n",
       "2576  FAKE  \n",
       "3358  FAKE  \n",
       "3773  FAKE  \n",
       "4186  FAKE  \n",
       "4897  FAKE  \n",
       "5376  FAKE  \n",
       "5669  FAKE  \n",
       "5737  FAKE  \n",
       "6214  FAKE  "
      ]
     },
     "execution_count": 11,
     "metadata": {},
     "output_type": "execute_result"
    }
   ],
   "source": [
    "df[df['title'].str.contains(\"Brexit\")]"
   ]
  },
  {
   "cell_type": "code",
   "execution_count": null,
   "metadata": {
    "collapsed": true
   },
   "outputs": [],
   "source": []
  },
  {
   "cell_type": "code",
   "execution_count": 4,
   "metadata": {},
   "outputs": [
    {
     "data": {
      "text/plain": [
       "'Shocking! Michele Obama & Hillary Caught Glamorizing Date Rape Promoters First lady claims moral high ground while befriending rape-glorifying rappers Infowars.com - October 27, 2016 Comments \\nAlex Jones breaks down the complete hypocrisy of Michele Obama and Hillary Clinton attacking Trump for comments he made over a decade ago while The White House is hosting and promoting rappers who boast about date raping women and selling drugs in their music. \\nRappers who have been welcomed to the White House by the Obama’s include “Rick Ross,” who promotes drugging and raping woman in his song “U.O.N.E.O.” \\nWhile attacking Trump as a sexual predator, Michelle and Hillary have further mainstreamed the degradation of women through their support of so-called musicians who attempt to normalize rape. NEWSLETTER SIGN UP Get the latest breaking news & specials from Alex Jones and the Infowars Crew. Related Articles'"
      ]
     },
     "execution_count": 4,
     "metadata": {},
     "output_type": "execute_result"
    }
   ],
   "source": [
    "#preview of an FAKE article\n",
    "df.iloc[16,2]"
   ]
  },
  {
   "cell_type": "code",
   "execution_count": 5,
   "metadata": {},
   "outputs": [
    {
     "data": {
      "text/plain": [
       "'Hillary Clinton and Donald Trump made some inaccurate claims during an NBC “commander-in-chief” forum on military and veterans issues:\\n\\n• Clinton wrongly claimed Trump supported the war in Iraq after it started, while Trump was wrong, once again, in saying he was against the war before it started.\\n\\n•\\xa0Trump said that President Obama set a “certain date” for withdrawing troops from Iraq, when that date was set before Obama was sworn in.\\n\\n•\\xa0Trump said that Obama’s visits to China, Saudi Arabia and Cuba were “the first time in the history, the storied history of Air Force One” when “high officials” of a host country did not appear to greet the president. Not true.\\n\\n•\\xa0Clinton said that Trump supports privatizing the Veterans Health Administration. That’s false. Trump said he supports allowing veterans to seek care at either public or private hospitals.\\n\\n•\\xa0Trump said Clinton made “a terrible mistake on Libya” when she was secretary of State. But, at the time, Trump also supported U.S. action that led to the removal of Moammar Gadhafi from power.\\n\\n•\\xa0Trump cherry-picked Clinton’s words when he claimed Clinton said “vets are being treated, essentially, just fine.” Clinton had said the problems in the Department of Veterans Affairs were not as “widespread” as some Republicans claimed, but she went on to acknowledge problems, including the issue of wait times for doctors.\\n\\nThe forum, sponsored by NBC News and the Iraq and Afghanistan Veterans of America, was held Sept. 7 at the Intrepid Sea, Air & Space Museum in New York City. Today\\xa0show host Matt Lauer, and members of the military and veterans in the audience, questioned the candidates separately.\\n\\nTrump said he “was totally against the war in Iraq,” while Clinton claimed that he supported the Iraq War before and after it started. The facts don’t support either candidate’s strong assertions.\\n\\nOur review of Trump’s statements before and after the Iraq War started found no evidence that Trump opposed the war before it started. In fact, he expressed mild support for invading Iraq when asked about it on the Howard Stern radio show on Sept. 11, 2002 — about six months before the war started.\\n\\nStern asked Trump if he supported a war with Iraq, and Trump responded, “Yeah, I guess so.”\\n\\nIn the NBC commander in chief forum, Trump cited an Esquire article that appeared in August 2004 to show his opposition to the war. But that article appeared 17 months after the war started.\\n\\nAs for Clinton, who as a senator voted in October 2002 to authorize the war in Iraq, the Democratic nominee claimed that Trump “supported it before it happened, he supported it as it was happening and he is on record as supporting it after it happened.”\\n\\nBut just as there is no evidence that Trump opposed the Iraq War before it started, the Clinton campaign offered no evidence that Trump supported the war “after it happened.”\\n\\nThe Clinton campaign cited Trump’s interview on March 21, 2003, with Neil Cavuto of Fox Business just two days after the war started.\\n\\nCavuto asked Trump about the impact of the war on the stock market. Trump said the war “looks like a tremendous success from a military standpoint,” and he predicted the market will “go up like a rocket” after the war. But Cavuto does not ask Trump whether the U.S. should have gone to war with Iraq or whether he supports the war, and Trump doesn’t offer an opinion.\\n\\nAs early as July 2003, Trump expressed concern on Hardball with Chris Matthews\\xa0about money being spent in Iraq rather than in the U.S. Two months later, Trump told MSNBC’s Joe Scarborough, “I guess maybe if I had to do it, I would have fought terrorism but not necessarily Iraq.”\\n\\nClinton invited her audience to read Trump’s comments on the Iraq War. They can read our timeline, “Donald Trump and the Iraq War.”\\n\\nTrump said President Obama set a “certain date” for withdrawing troops from Iraq, but that date was actually set by President George W. Bush.\\n\\nNBC’s Matt Lauer asked Trump about his tendency to respond, when pushed for details on his military proposals, that he’s not going to give details because he wants to be “unpredictable.” Trump responded, “Absolutely,” and went on to criticize Obama for revealing the withdrawal date.\\n\\nAs we said then, Republicans and Democrats disagree on whether Obama or Bush is to blame for withdrawing all combat troops from Iraq at the end of 2011. But that date was set when Bush signed the Status of Forces Agreement on Dec. 14, 2008. It said: “All the United States Forces shall withdraw from all Iraqi territory no later than December 31, 2011.”\\n\\nIn the NBC forum, Trump also called the withdrawal of troops “a terrible decision.” As we’ve explained before, Condoleezza Rice, Bush’s secretary of State, later wrote that Bush wanted an agreement for a residual force to remain, but Iraqi Prime Minister Nouri al-Maliki objected.\\n\\nOnce Obama took office in January 2009, he had three years to renegotiate the deal, which his administration tried to do, to leave a residual American troop force. But Maliki still didn’t agree. Negotiations broke down in October 2011 over the issue of whether U.S. troops would be shielded from criminal prosecution by Iraqi authorities. Whether Obama did enough is a matter of opinion: His then defense secretary, Leon Panetta, later wrote that the president didn’t press hard enough for a deal. But some experts say Iraq was more closely aligned at the time with Iran and there wasn’t a deal to be made with Maliki.\\n\\nSo, both presidents had a role in the withdrawal of troops. But Trump wrongly said that Obama was the one who set a “certain date” for withdrawal and let U.S. enemies know about it, when that date was set before Obama was sworn in.\\n\\nIt’s worth noting that Trump said in a March 16, 2007, interview on CNN that the troops should be withdrawn quickly from Iraq.\\n\\nTrump said that Obama’s visits to China, Saudi Arabia and Cuba were “the first time in the history, the storied history of Air Force One” when “high officials” of a host country did not appear to greet the president.\\n\\nThat’s not true. Other presidents have encountered similar low-key greetings on foreign trips aboard the presidential aircraft.\\n\\nTrump referred to the fact that Cuba’s president, Raul Castro, did not greet Obama at the airport on his historic visit to Cuba in March, that Saudi Arabia’s King Salman did not meet Air Force One at the start of Obama’s trip to Riyadh in April, and he referred to China’s handling of the president’s arrival in Hangzhou last Saturday for a Group of 20 meeting.\\n\\nWhether or not those arrivals constituted snubs of a U.S. president as Trump claims is a matter of debate. But Trump is wrong on the facts when he claims it has not happened before. It has.\\n\\nIn 1984, for example, Ronald Reagan landed in Beijing and was received by China’s foreign minister rather than the president, whom he met only later. Similarly, on a 1985 trip to West Germany, Reagan was met by the foreign minister and not Chancellor Helmut Kohl.\\n\\nThese and other examples were dug up by our friend Glenn Kessler, the Washington Post‘s “Fact Checker,” who researched a Trump claim in April that Cuba’s and Saudi Arabia’s handling of Obama’s visits were “without precedent.” Kessler said of Trump, “once again he’s wrong, wrong, wrong.”\\n\\nKessler also noted that during Richard Nixon’s historic 1972 visit to China he was greeted at the airport by the country’s number two man, Premier Zhou Enlai. His boss, Chairman Mao, didn’t even agree to meet with Nixon until after he had arrived at a guest house.\\n\\nClinton said that her plan to overhaul the Veterans Health Administration would not include privatization, which she said Trump supports.\\n\\nBut Trump refuted that statement when it was his turn to discuss his plan to help veterans. “I would not do that,” Trump said, referring to Clinton’s claim that he supports privatization.\\n\\nTrump’s campaign published “The Goals Of Donald J. Trump’s Veterans Plan” on its website last October. It doesn’t call for the VA to be completely privatized.\\n\\nOne of the biggest changes that plan would make to the current VA health care system is allowing veterans to get care at any non-VA medical center that accepts Medicare.\\n\\n“Under a Trump Administration, all veterans eligible for VA health care can bring their veteran’s ID card to any doctor or care facility that accepts Medicare to get the care they need immediately,” the plan states.\\n\\n“The power to choose will stop the wait time backlogs and force the VA to improve and compete if the department wants to keep receiving veterans’ healthcare dollars,” the plan says.\\n\\nTrump’s proposal would seemingly go further than the Non-VA Medical Care Program, which allows eligible veterans to access care outside of the VA under certain circumstances, such as when VA medical centers cannot provide services. The program requires pre-approval for veterans to receive care at a non-VA facility in non-emergency situations.\\n\\nTrump’s proposal would also go further than the bipartisan Veterans Choice Act of 2014 that President Obama signed into law, creating a temporary program, separate from the Non-VA Medical Care Program, that allows eligible veterans to receive health care at a non-VA facility if they would have to wait more than 30 days for an appointment at a VA medical center, or if they live more than 40 miles from the nearest VA hospital.\\n\\nTrump stuck to the idea of allowing veterans to choose between public and private hospitals when he released his most recent “Ten Point Plan To Reform The VA” in July.\\n\\nPoint 10 of the plan says: “Mr. Trump will ensure every veteran has the choice to seek care at the VA or at a private service provider of their own choice. Under a Trump Administration, no veteran will die waiting for service.”\\n\\nTrump reinforced that part of his plan during the NBC News forum as well.\\n\\nTo be clear, Trump supports giving veterans a choice between VA hospitals and private ones. That’s not the same thing as supporting the complete privatization of the system that provides care to veterans.\\n\\nTrump criticized Clinton for making “a terrible mistake on Libya” when she was secretary of State. But, at the time, Trump also supported U.S. action that led to the removal of Moammar Gadhafi from power.\\n\\nTrump made his claim in response to a question posed by Lauer on whether Trump will be “prepared on Day One,” if elected president, to tackle “complex national security issues.”\\n\\nThis isn’t the first time Trump has ignored his past support for the U.S. intervention in Libya.\\n\\nDuring the 10th GOP debate, Trump said he had “never discussed that subject” when Sen. Ted Cruz called him out on supporting U.S. action in the country. But, as we wrote, Trump said in 2011 that the U.S. should go into Libya “on a humanitarian basis” and “knock [Gadhafi] out very quickly, very surgically, very effectively and save the lives.”\\n\\nTrump made that comment in a video posted to his YouTube channel in February 2011:\\n\\nEven though Trump now says Clinton’s support for intervention in Libya was a “terrible mistake,” it doesn’t change the fact that five years ago he supported Gadhafi’s removal.\\n\\nTrump twisted Clinton’s words when he claimed Clinton said “vets are being treated, essentially, just fine.” Clinton said the problems in the Department of Veterans Affairs were not as “widespread” as some Republican supporters of privatization of the VA claim, but she went on to acknowledge problems in the VA system — including the issue of wait times for doctors — and what she would do to address them.\\n\\nTrump highlighted the issue of wait times to see a doctor as “one of the big problems” in the VA, and then suggested Clinton doesn’t think the VA has problems.\\n\\nLauer interrupted, noting that Clinton “went on after that and laid out a litany of problems within the VA.”\\n\\nTrump insisted his version was accurate, adding, “I’m telling you … she said she was satisfied with what was going on in the Veterans Administration.”\\n\\nThat’s not accurate. The comments in question from Clinton came during an interview with MSNBC’s Rachel Maddow on Oct. 23, 2015. Maddow asked about talk among some Republicans of abolishing the VA and privatizing it. “The reason they are able to propose something that radical is because the problems at the VA seem so intractable,” Maddow said.\\n\\nMaddow asked if Clinton had any “new ideas for trying to fix” the VA. Here was Clinton’s response, with the part Trump is referring to in bold.\\n\\nClinton accused Republicans of underfunding the VA because they “want it to fail” so they can privatize it.\\n\\nClinton added, “But we have to be more creative about trying to fix the problems that are the legitimate concern, so that we can try to stymie the Republican assault.”\\n\\nIndeed, the Clinton campaign website states that Clinton wants to “fundamentally reform veterans’ health care to ensure access to timely and high quality care.” The campaign says Clinton “was outraged by the recent scandals at the VA, and as president, she will demand accountability and performance from VA leadership.” The site specifically mentions Clinton’s dissatisfaction that “[m]any veterans have to wait an unacceptably long time to see a doctor or to process disability claims and appeals” and promises she will “[b]uild a 21st-century Department of Veterans Affairs to deliver world-class care.”\\n\\nTrump cherry-picked the part of Clinton’s response that said problems in the VA have “not been as widespread as it has been made out to be,” to make the blanket claim that Clinton is “satisfied with what was going on in the Veterans Administration” and that “vets are being treated, essentially, just fine.” But Trump is leaving out the parts of Clinton’s answer that acknowledged problems in the VA — including the wait time issue Trump highlighted as one of his biggest concerns.'"
      ]
     },
     "execution_count": 5,
     "metadata": {},
     "output_type": "execute_result"
    }
   ],
   "source": [
    "#preview of an REAL article\n",
    "df.iloc[8,2]"
   ]
  },
  {
   "cell_type": "code",
   "execution_count": 6,
   "metadata": {},
   "outputs": [
    {
     "data": {
      "text/plain": [
       "<bound method DataFrame.info of       Unnamed: 0                                              title  \\\n",
       "0           8476                       You Can Smell Hillary’s Fear   \n",
       "1          10294  Watch The Exact Moment Paul Ryan Committed Pol...   \n",
       "2           3608        Kerry to go to Paris in gesture of sympathy   \n",
       "3          10142  Bernie supporters on Twitter erupt in anger ag...   \n",
       "4            875   The Battle of New York: Why This Primary Matters   \n",
       "5           6903                                        Tehran, USA   \n",
       "6           7341  Girl Horrified At What She Watches Boyfriend D...   \n",
       "7             95                  ‘Britain’s Schindler’ Dies at 106   \n",
       "8           4869  Fact check: Trump and Clinton at the 'commande...   \n",
       "9           2909  Iran reportedly makes new push for uranium con...   \n",
       "10          1357  With all three Clintons in Iowa, a glimpse at ...   \n",
       "11           988  Donald Trump’s Shockingly Weak Delegate Game S...   \n",
       "12          7041  Strong Solar Storm, Tech Risks Today | S0 News...   \n",
       "13          7623       10 Ways America Is Preparing for World War 3   \n",
       "14          1571                   Trump takes on Cruz, but lightly   \n",
       "15          4739                         How women lead differently   \n",
       "16          7737  Shocking! Michele Obama & Hillary Caught Glamo...   \n",
       "17          8716  Hillary Clinton in HUGE Trouble After America ...   \n",
       "18          3304  What's in that Iran bill that Obama doesn't like?   \n",
       "19          3078  The 1 chart that explains everything you need ...   \n",
       "20          2517  The slippery slope to Trump’s proposed ban on ...   \n",
       "21         10348  Episode #160 – SUNDAY WIRE: ‘Hail to the Deplo...   \n",
       "22           778  Hillary Clinton Makes A Bipartisan Appeal on S...   \n",
       "23          3300  New Senate majority leader’s main goal for GOP...   \n",
       "24          6155              ‘Inferno’ and the Overpopulation Myth   \n",
       "25           636  Anti-Trump forces seek last-ditch delegate revolt   \n",
       "26           755  Sanders Trounces Clinton in W. Va. -- But Will...   \n",
       "27           626  Donald Trump Is Changing His Campaign Slogan t...   \n",
       "28           691  Pure chaos: Donald Trump’s campaign management...   \n",
       "29          5743  Syrian War Report – November 1, 2016: Syrian M...   \n",
       "...          ...                                                ...   \n",
       "6305        6457  Colin Kaepernick hosts ‘Know Your Rights’ camp...   \n",
       "6306        7030  Wikileaks Emails Disclose Aliens Linked to Vat...   \n",
       "6307        9013  US abstains from UN vote calling for end to Cu...   \n",
       "6308        9509  West Ham fans laud aerodynamic properties of n...   \n",
       "6309        3825      How the Obama White House runs foreign policy   \n",
       "6310        4515  ISIS claims responsibility for Garland, Texas,...   \n",
       "6311        2747  The “blame the left” crew: What the right’s ne...   \n",
       "6312        6516  ADHD NATION: How Big Pharma Created the ADHD E...   \n",
       "6313        9636  Donald Trump claims the election will be 'rigg...   \n",
       "6314        7398  REPORT: Dirty Reporter Blackmails Montel… Help...   \n",
       "6315        3717  Police Arrest Suspect In Charleston Church Sho...   \n",
       "6316        5205  Donald Trump’s collapse was caused by one big ...   \n",
       "6317        6696  FINA suspends Russian swimmer for 8 years over...   \n",
       "6318        7991  BREAKING : Hillary Campaign Manager Deletes hi...   \n",
       "6319        1303  Why Ted Cruz Has the Most to Lose in New Hamps...   \n",
       "6320        9051  “Nothing Good Can Come of This Election”–and T...   \n",
       "6321       10200   List of Republicans opposing Trump | OffGuardian   \n",
       "6322       10009  Putin: Use of 'mythical' Russian military thre...   \n",
       "6323        4214  Bernie Sanders says private meeting with Pope ...   \n",
       "6324        2316  Alabama Lawmaker: Same-Sex Couples Don’t Deser...   \n",
       "6325        8411  Will the Media Reset After the Election or Are...   \n",
       "6326        6143  DOJ COMPLAINT: Comey Under Fire Over Partisan ...   \n",
       "6327        3262  GOP Senator David Perdue Jokes About Praying f...   \n",
       "6328        9337  Radio Derb Is On The Air–Leonardo And Brazil’s...   \n",
       "6329        8737  Assange claims ‘crazed’ Clinton campaign tried...   \n",
       "6330        4490  State Department says it can't find emails fro...   \n",
       "6331        8062  The ‘P’ in PBS Should Stand for ‘Plutocratic’ ...   \n",
       "6332        8622  Anti-Trump Protesters Are Tools of the Oligarc...   \n",
       "6333        4021  In Ethiopia, Obama seeks progress on peace, se...   \n",
       "6334        4330  Jeb Bush Is Suddenly Attacking Trump. Here's W...   \n",
       "\n",
       "                                                   text label  \n",
       "0     Daniel Greenfield, a Shillman Journalism Fello...  FAKE  \n",
       "1     Google Pinterest Digg Linkedin Reddit Stumbleu...  FAKE  \n",
       "2     U.S. Secretary of State John F. Kerry said Mon...  REAL  \n",
       "3     — Kaydee King (@KaydeeKing) November 9, 2016 T...  FAKE  \n",
       "4     It's primary day in New York and front-runners...  REAL  \n",
       "5       \\nI’m not an immigrant, but my grandparents ...  FAKE  \n",
       "6     Share This Baylee Luciani (left), Screenshot o...  FAKE  \n",
       "7     A Czech stockbroker who saved more than 650 Je...  REAL  \n",
       "8     Hillary Clinton and Donald Trump made some ina...  REAL  \n",
       "9     Iranian negotiators reportedly have made a las...  REAL  \n",
       "10    CEDAR RAPIDS, Iowa — “I had one of the most wo...  REAL  \n",
       "11    Donald Trump’s organizational problems have go...  REAL  \n",
       "12    Click Here To Learn More About Alexandra's Per...  FAKE  \n",
       "13    October 31, 2016 at 4:52 am \\nPretty factual e...  FAKE  \n",
       "14    Killing Obama administration rules, dismantlin...  REAL  \n",
       "15    As more women move into high offices, they oft...  REAL  \n",
       "16    Shocking! Michele Obama & Hillary Caught Glamo...  FAKE  \n",
       "17    0 \\nHillary Clinton has barely just lost the p...  FAKE  \n",
       "18    Washington (CNN) For months, the White House a...  REAL  \n",
       "19    While paging through Pew's best data visualiza...  REAL  \n",
       "20    With little fanfare this fall, the New York de...  REAL  \n",
       "21    November 13, 2016 By 21wire Leave a Comment \\n...  FAKE  \n",
       "22    Hillary Clinton told a Staten Island crowd tod...  REAL  \n",
       "23    Mitch McConnell has an unusual admonition for ...  REAL  \n",
       "24    Mises.org November 1, 2016 Inferno is a great ...  FAKE  \n",
       "25    Washington (CNN) The faction of the GOP that i...  REAL  \n",
       "26    Meanwhile, Democrat Bernie Sanders picked up m...  REAL  \n",
       "27    After a week of nonstop criticism from Democra...  REAL  \n",
       "28    If you want a glimpse into a presidential cand...  REAL  \n",
       "29    Syrian War Report – October 31, 2016: Al-Nusra...  FAKE  \n",
       "...                                                 ...   ...  \n",
       "6305  Print \\n[Ed. – Now teaching the gospel of raci...  FAKE  \n",
       "6306  Sound too “strange” to be true? We have proof!...  FAKE  \n",
       "6307  US abstains from UN vote calling for end to Cu...  FAKE  \n",
       "6308  Tuesday 1 November 2016 by Formelia Alberthine...  FAKE  \n",
       "6309  When Susan E. Rice took over as President Obam...  REAL  \n",
       "6310  (CNN) ISIS has claimed responsibility for the ...  REAL  \n",
       "6311  It was inevitable that liberals would end up b...  REAL  \n",
       "6312  By Kalee Brown\\nWhile I was at university, man...  FAKE  \n",
       "6313  Email \\nDonald Trump is again riling up his vo...  FAKE  \n",
       "6314  BREAKING: Trump Jumps in FL, Takes 4 Point Lea...  FAKE  \n",
       "6315  Police in Charleston, S.C., say a man they sus...  REAL  \n",
       "6316  Silver of FiveThirtyEight.com has laid out fou...  REAL  \n",
       "6317  This post was originally published on this sit...  FAKE  \n",
       "6318  BREAKING : Hillary Campaign Manager Deletes hi...  FAKE  \n",
       "6319  Ted Cruz took first prize in the Iowa caucuses...  REAL  \n",
       "6320  Posted on November 4, 2016 by Charles Hugh Smi...  FAKE  \n",
       "6321  Charlie Baker , Massachusetts (2015–present)[3...  FAKE  \n",
       "6322  vladimir putin , Valdai , sochi , RBTH Daily R...  FAKE  \n",
       "6323  ROME —  U.S. Democratic presidential candidate...  REAL  \n",
       "6324  Most conservatives who oppose marriage equalit...  REAL  \n",
       "6325  Written by Peter Van Buren   venerable New Yor...  FAKE  \n",
       "6326  DOJ COMPLAINT: Comey Under Fire Over Partisan ...  FAKE  \n",
       "6327  The freshman senator from Georgia quoted scrip...  REAL  \n",
       "6328                                                     FAKE  \n",
       "6329  Julian Assange has claimed the Hillary Clinton...  FAKE  \n",
       "6330  The State Department told the Republican Natio...  REAL  \n",
       "6331  The ‘P’ in PBS Should Stand for ‘Plutocratic’ ...  FAKE  \n",
       "6332   Anti-Trump Protesters Are Tools of the Oligar...  FAKE  \n",
       "6333  ADDIS ABABA, Ethiopia —President Obama convene...  REAL  \n",
       "6334  Jeb Bush Is Suddenly Attacking Trump. Here's W...  REAL  \n",
       "\n",
       "[6335 rows x 4 columns]>"
      ]
     },
     "execution_count": 6,
     "metadata": {},
     "output_type": "execute_result"
    }
   ],
   "source": [
    "df.info"
   ]
  },
  {
   "cell_type": "code",
   "execution_count": 7,
   "metadata": {},
   "outputs": [],
   "source": [
    "columns = df.columns.tolist()"
   ]
  },
  {
   "cell_type": "code",
   "execution_count": 8,
   "metadata": {},
   "outputs": [
    {
     "name": "stdout",
     "output_type": "stream",
     "text": [
      "['Unnamed: 0', 'title', 'text', 'label']\n"
     ]
    }
   ],
   "source": [
    "print(columns)"
   ]
  },
  {
   "cell_type": "code",
   "execution_count": 9,
   "metadata": {},
   "outputs": [
    {
     "data": {
      "text/plain": [
       "REAL    3171\n",
       "FAKE    3164\n",
       "Name: label, dtype: int64"
      ]
     },
     "execution_count": 9,
     "metadata": {},
     "output_type": "execute_result"
    }
   ],
   "source": [
    "df[\"label\"].value_counts()"
   ]
  },
  {
   "cell_type": "markdown",
   "metadata": {},
   "source": [
    "The data set seems to be well balanced."
   ]
  },
  {
   "cell_type": "code",
   "execution_count": 10,
   "metadata": {},
   "outputs": [
    {
     "data": {
      "text/plain": [
       "pandas.core.series.Series"
      ]
     },
     "execution_count": 10,
     "metadata": {},
     "output_type": "execute_result"
    }
   ],
   "source": [
    "type(df[\"title\"])"
   ]
  },
  {
   "cell_type": "code",
   "execution_count": 11,
   "metadata": {},
   "outputs": [
    {
     "data": {
      "text/plain": [
       "pandas.core.series.Series"
      ]
     },
     "execution_count": 11,
     "metadata": {},
     "output_type": "execute_result"
    }
   ],
   "source": [
    "type(df[\"text\"])"
   ]
  },
  {
   "cell_type": "code",
   "execution_count": 12,
   "metadata": {},
   "outputs": [
    {
     "data": {
      "text/plain": [
       "Unnamed: 0     int64\n",
       "title         object\n",
       "text          object\n",
       "label         object\n",
       "dtype: object"
      ]
     },
     "execution_count": 12,
     "metadata": {},
     "output_type": "execute_result"
    }
   ],
   "source": [
    "df.dtypes"
   ]
  },
  {
   "cell_type": "markdown",
   "metadata": {},
   "source": [
    "It appears that \"Unnamed: 0\" is the index since it only contains numbers. The column will be checked for duplicates to check."
   ]
  },
  {
   "cell_type": "code",
   "execution_count": 13,
   "metadata": {},
   "outputs": [
    {
     "name": "stdout",
     "output_type": "stream",
     "text": [
      "False\n"
     ]
    }
   ],
   "source": [
    "print(any(df[\"Unnamed: 0\"].duplicated()))"
   ]
  },
  {
   "cell_type": "code",
   "execution_count": 14,
   "metadata": {},
   "outputs": [
    {
     "data": {
      "text/plain": [
       "False"
      ]
     },
     "execution_count": 14,
     "metadata": {},
     "output_type": "execute_result"
    }
   ],
   "source": [
    "df.isnull().values.any()"
   ]
  },
  {
   "cell_type": "markdown",
   "metadata": {},
   "source": [
    "## Step 3 - Data Preparation"
   ]
  },
  {
   "cell_type": "markdown",
   "metadata": {},
   "source": [
    "### 3 a) - General Polishing"
   ]
  },
  {
   "cell_type": "code",
   "execution_count": 15,
   "metadata": {},
   "outputs": [],
   "source": [
    "#rename \"Unnamed: 0\" and make it the index of the data frame\n",
    "df.columns = [\"index\", \"title\", \"text\", \"label\"]\n",
    "df.set_index(\"index\", inplace=True)"
   ]
  },
  {
   "cell_type": "code",
   "execution_count": 16,
   "metadata": {},
   "outputs": [
    {
     "data": {
      "text/html": [
       "<div>\n",
       "<style scoped>\n",
       "    .dataframe tbody tr th:only-of-type {\n",
       "        vertical-align: middle;\n",
       "    }\n",
       "\n",
       "    .dataframe tbody tr th {\n",
       "        vertical-align: top;\n",
       "    }\n",
       "\n",
       "    .dataframe thead th {\n",
       "        text-align: right;\n",
       "    }\n",
       "</style>\n",
       "<table border=\"1\" class=\"dataframe\">\n",
       "  <thead>\n",
       "    <tr style=\"text-align: right;\">\n",
       "      <th></th>\n",
       "      <th>title</th>\n",
       "      <th>text</th>\n",
       "      <th>label</th>\n",
       "    </tr>\n",
       "    <tr>\n",
       "      <th>index</th>\n",
       "      <th></th>\n",
       "      <th></th>\n",
       "      <th></th>\n",
       "    </tr>\n",
       "  </thead>\n",
       "  <tbody>\n",
       "    <tr>\n",
       "      <th>8476</th>\n",
       "      <td>You Can Smell Hillary’s Fear</td>\n",
       "      <td>Daniel Greenfield, a Shillman Journalism Fello...</td>\n",
       "      <td>FAKE</td>\n",
       "    </tr>\n",
       "    <tr>\n",
       "      <th>10294</th>\n",
       "      <td>Watch The Exact Moment Paul Ryan Committed Pol...</td>\n",
       "      <td>Google Pinterest Digg Linkedin Reddit Stumbleu...</td>\n",
       "      <td>FAKE</td>\n",
       "    </tr>\n",
       "    <tr>\n",
       "      <th>3608</th>\n",
       "      <td>Kerry to go to Paris in gesture of sympathy</td>\n",
       "      <td>U.S. Secretary of State John F. Kerry said Mon...</td>\n",
       "      <td>REAL</td>\n",
       "    </tr>\n",
       "    <tr>\n",
       "      <th>10142</th>\n",
       "      <td>Bernie supporters on Twitter erupt in anger ag...</td>\n",
       "      <td>— Kaydee King (@KaydeeKing) November 9, 2016 T...</td>\n",
       "      <td>FAKE</td>\n",
       "    </tr>\n",
       "    <tr>\n",
       "      <th>875</th>\n",
       "      <td>The Battle of New York: Why This Primary Matters</td>\n",
       "      <td>It's primary day in New York and front-runners...</td>\n",
       "      <td>REAL</td>\n",
       "    </tr>\n",
       "  </tbody>\n",
       "</table>\n",
       "</div>"
      ],
      "text/plain": [
       "                                                   title  \\\n",
       "index                                                      \n",
       "8476                        You Can Smell Hillary’s Fear   \n",
       "10294  Watch The Exact Moment Paul Ryan Committed Pol...   \n",
       "3608         Kerry to go to Paris in gesture of sympathy   \n",
       "10142  Bernie supporters on Twitter erupt in anger ag...   \n",
       "875     The Battle of New York: Why This Primary Matters   \n",
       "\n",
       "                                                    text label  \n",
       "index                                                           \n",
       "8476   Daniel Greenfield, a Shillman Journalism Fello...  FAKE  \n",
       "10294  Google Pinterest Digg Linkedin Reddit Stumbleu...  FAKE  \n",
       "3608   U.S. Secretary of State John F. Kerry said Mon...  REAL  \n",
       "10142  — Kaydee King (@KaydeeKing) November 9, 2016 T...  FAKE  \n",
       "875    It's primary day in New York and front-runners...  REAL  "
      ]
     },
     "execution_count": 16,
     "metadata": {},
     "output_type": "execute_result"
    }
   ],
   "source": [
    "df.head()"
   ]
  },
  {
   "cell_type": "code",
   "execution_count": 17,
   "metadata": {},
   "outputs": [],
   "source": [
    "#order by index\n",
    "df.sort_index(inplace=True)"
   ]
  },
  {
   "cell_type": "code",
   "execution_count": 18,
   "metadata": {},
   "outputs": [
    {
     "data": {
      "text/html": [
       "<div>\n",
       "<style scoped>\n",
       "    .dataframe tbody tr th:only-of-type {\n",
       "        vertical-align: middle;\n",
       "    }\n",
       "\n",
       "    .dataframe tbody tr th {\n",
       "        vertical-align: top;\n",
       "    }\n",
       "\n",
       "    .dataframe thead th {\n",
       "        text-align: right;\n",
       "    }\n",
       "</style>\n",
       "<table border=\"1\" class=\"dataframe\">\n",
       "  <thead>\n",
       "    <tr style=\"text-align: right;\">\n",
       "      <th></th>\n",
       "      <th>title</th>\n",
       "      <th>text</th>\n",
       "      <th>label</th>\n",
       "    </tr>\n",
       "    <tr>\n",
       "      <th>index</th>\n",
       "      <th></th>\n",
       "      <th></th>\n",
       "      <th></th>\n",
       "    </tr>\n",
       "  </thead>\n",
       "  <tbody>\n",
       "    <tr>\n",
       "      <th>2</th>\n",
       "      <td>Study: women had to drive 4 times farther afte...</td>\n",
       "      <td>Ever since Texas laws closed about half of the...</td>\n",
       "      <td>REAL</td>\n",
       "    </tr>\n",
       "    <tr>\n",
       "      <th>3</th>\n",
       "      <td>Trump, Clinton clash in dueling DC speeches</td>\n",
       "      <td>Donald Trump and Hillary Clinton, now at the s...</td>\n",
       "      <td>REAL</td>\n",
       "    </tr>\n",
       "    <tr>\n",
       "      <th>5</th>\n",
       "      <td>As Reproductive Rights Hang In The Balance, De...</td>\n",
       "      <td>WASHINGTON -- Forty-three years after the Supr...</td>\n",
       "      <td>REAL</td>\n",
       "    </tr>\n",
       "    <tr>\n",
       "      <th>6</th>\n",
       "      <td>Despite Constant Debate, Americans' Abortion O...</td>\n",
       "      <td>It's been a big week for abortion news.\\n\\nCar...</td>\n",
       "      <td>REAL</td>\n",
       "    </tr>\n",
       "    <tr>\n",
       "      <th>7</th>\n",
       "      <td>Obama Argues Against Goverment Shutdown Over P...</td>\n",
       "      <td>President Barack Obama said Saturday night tha...</td>\n",
       "      <td>REAL</td>\n",
       "    </tr>\n",
       "  </tbody>\n",
       "</table>\n",
       "</div>"
      ],
      "text/plain": [
       "                                                   title  \\\n",
       "index                                                      \n",
       "2      Study: women had to drive 4 times farther afte...   \n",
       "3            Trump, Clinton clash in dueling DC speeches   \n",
       "5      As Reproductive Rights Hang In The Balance, De...   \n",
       "6      Despite Constant Debate, Americans' Abortion O...   \n",
       "7      Obama Argues Against Goverment Shutdown Over P...   \n",
       "\n",
       "                                                    text label  \n",
       "index                                                           \n",
       "2      Ever since Texas laws closed about half of the...  REAL  \n",
       "3      Donald Trump and Hillary Clinton, now at the s...  REAL  \n",
       "5      WASHINGTON -- Forty-three years after the Supr...  REAL  \n",
       "6      It's been a big week for abortion news.\\n\\nCar...  REAL  \n",
       "7      President Barack Obama said Saturday night tha...  REAL  "
      ]
     },
     "execution_count": 18,
     "metadata": {},
     "output_type": "execute_result"
    }
   ],
   "source": [
    "df.head()"
   ]
  },
  {
   "cell_type": "code",
   "execution_count": 19,
   "metadata": {},
   "outputs": [
    {
     "data": {
      "text/plain": [
       "Int64Index([    2,     3,     5,     6,     7,     9,    10,    12,    14,\n",
       "               16,\n",
       "            ...\n",
       "            10543, 10545, 10546, 10547, 10548, 10549, 10551, 10553, 10555,\n",
       "            10557],\n",
       "           dtype='int64', name='index', length=6335)"
      ]
     },
     "execution_count": 19,
     "metadata": {},
     "output_type": "execute_result"
    }
   ],
   "source": [
    "df.index"
   ]
  },
  {
   "cell_type": "markdown",
   "metadata": {},
   "source": [
    "The index seems to skip some numbers, for example 8 and 11. The index will be properly assigned."
   ]
  },
  {
   "cell_type": "code",
   "execution_count": 20,
   "metadata": {},
   "outputs": [],
   "source": [
    "df['index'] = df.reset_index().index"
   ]
  },
  {
   "cell_type": "code",
   "execution_count": 21,
   "metadata": {},
   "outputs": [
    {
     "data": {
      "text/html": [
       "<div>\n",
       "<style scoped>\n",
       "    .dataframe tbody tr th:only-of-type {\n",
       "        vertical-align: middle;\n",
       "    }\n",
       "\n",
       "    .dataframe tbody tr th {\n",
       "        vertical-align: top;\n",
       "    }\n",
       "\n",
       "    .dataframe thead th {\n",
       "        text-align: right;\n",
       "    }\n",
       "</style>\n",
       "<table border=\"1\" class=\"dataframe\">\n",
       "  <thead>\n",
       "    <tr style=\"text-align: right;\">\n",
       "      <th></th>\n",
       "      <th>title</th>\n",
       "      <th>text</th>\n",
       "      <th>label</th>\n",
       "    </tr>\n",
       "    <tr>\n",
       "      <th>index</th>\n",
       "      <th></th>\n",
       "      <th></th>\n",
       "      <th></th>\n",
       "    </tr>\n",
       "  </thead>\n",
       "  <tbody>\n",
       "    <tr>\n",
       "      <th>0</th>\n",
       "      <td>Study: women had to drive 4 times farther afte...</td>\n",
       "      <td>Ever since Texas laws closed about half of the...</td>\n",
       "      <td>REAL</td>\n",
       "    </tr>\n",
       "    <tr>\n",
       "      <th>1</th>\n",
       "      <td>Trump, Clinton clash in dueling DC speeches</td>\n",
       "      <td>Donald Trump and Hillary Clinton, now at the s...</td>\n",
       "      <td>REAL</td>\n",
       "    </tr>\n",
       "    <tr>\n",
       "      <th>2</th>\n",
       "      <td>As Reproductive Rights Hang In The Balance, De...</td>\n",
       "      <td>WASHINGTON -- Forty-three years after the Supr...</td>\n",
       "      <td>REAL</td>\n",
       "    </tr>\n",
       "    <tr>\n",
       "      <th>3</th>\n",
       "      <td>Despite Constant Debate, Americans' Abortion O...</td>\n",
       "      <td>It's been a big week for abortion news.\\n\\nCar...</td>\n",
       "      <td>REAL</td>\n",
       "    </tr>\n",
       "    <tr>\n",
       "      <th>4</th>\n",
       "      <td>Obama Argues Against Goverment Shutdown Over P...</td>\n",
       "      <td>President Barack Obama said Saturday night tha...</td>\n",
       "      <td>REAL</td>\n",
       "    </tr>\n",
       "  </tbody>\n",
       "</table>\n",
       "</div>"
      ],
      "text/plain": [
       "                                                   title  \\\n",
       "index                                                      \n",
       "0      Study: women had to drive 4 times farther afte...   \n",
       "1            Trump, Clinton clash in dueling DC speeches   \n",
       "2      As Reproductive Rights Hang In The Balance, De...   \n",
       "3      Despite Constant Debate, Americans' Abortion O...   \n",
       "4      Obama Argues Against Goverment Shutdown Over P...   \n",
       "\n",
       "                                                    text label  \n",
       "index                                                           \n",
       "0      Ever since Texas laws closed about half of the...  REAL  \n",
       "1      Donald Trump and Hillary Clinton, now at the s...  REAL  \n",
       "2      WASHINGTON -- Forty-three years after the Supr...  REAL  \n",
       "3      It's been a big week for abortion news.\\n\\nCar...  REAL  \n",
       "4      President Barack Obama said Saturday night tha...  REAL  "
      ]
     },
     "execution_count": 21,
     "metadata": {},
     "output_type": "execute_result"
    }
   ],
   "source": [
    "df.set_index(\"index\", inplace=True)\n",
    "df.head()"
   ]
  },
  {
   "cell_type": "markdown",
   "metadata": {},
   "source": [
    "It appears that the data contains several characters like \\n or \\a. They will be removed from the data set."
   ]
  },
  {
   "cell_type": "markdown",
   "metadata": {},
   "source": [
    "### 3 b) - Normalising The Data"
   ]
  },
  {
   "cell_type": "code",
   "execution_count": 22,
   "metadata": {},
   "outputs": [
    {
     "name": "stdout",
     "output_type": "stream",
     "text": [
      "\u0007 abc\n"
     ]
    }
   ],
   "source": [
    "# the function strip() will be used to remove those characters\n",
    "# Example:\n",
    "s = \"\\n \\a abc \\n \\n\"\n",
    "print(s.strip())"
   ]
  },
  {
   "cell_type": "code",
   "execution_count": 23,
   "metadata": {},
   "outputs": [
    {
     "name": "stdout",
     "output_type": "stream",
     "text": [
      "Car\n"
     ]
    }
   ],
   "source": [
    "s = \"\\n\\nCar\"\n",
    "print(s.strip())"
   ]
  },
  {
   "cell_type": "code",
   "execution_count": 24,
   "metadata": {},
   "outputs": [],
   "source": [
    "df[\"text\"] = df[\"text\"].apply(lambda x: x.strip())"
   ]
  },
  {
   "cell_type": "code",
   "execution_count": 25,
   "metadata": {},
   "outputs": [],
   "source": [
    "# since some characters are part of the string, they have to be removed with the replace function\n",
    "df[\"text\"] = df[\"text\"].apply(lambda x: x.replace(\"\\n\", \"\"))\n",
    "df[\"text\"] = df[\"text\"].apply(lambda x: x.replace(\"\\t\", \"\"))\n",
    "#df[\"text\"] = df[\"text\"].apply(lambda x: x.replace(\"\\x\", \"\"))\n",
    "df[\"text\"] = df[\"text\"].apply(lambda x: x.replace(\"\\xa0\", \"\"))\n",
    "\n",
    "df[\"title\"] = df[\"title\"].apply(lambda x: x.replace(\"\\n\", \"\"))\n",
    "df[\"title\"] = df[\"title\"].apply(lambda x: x.replace(\"\\t\", \"\"))\n",
    "#df[\"title\"] = df[\"title\"].apply(lambda x: x.replace(\"\\x\", \"\"))\n",
    "df[\"title\"] = df[\"title\"].apply(lambda x: x.replace(\"\\xa0\", \"\"))"
   ]
  },
  {
   "cell_type": "code",
   "execution_count": 26,
   "metadata": {},
   "outputs": [
    {
     "data": {
      "text/html": [
       "<div>\n",
       "<style scoped>\n",
       "    .dataframe tbody tr th:only-of-type {\n",
       "        vertical-align: middle;\n",
       "    }\n",
       "\n",
       "    .dataframe tbody tr th {\n",
       "        vertical-align: top;\n",
       "    }\n",
       "\n",
       "    .dataframe thead th {\n",
       "        text-align: right;\n",
       "    }\n",
       "</style>\n",
       "<table border=\"1\" class=\"dataframe\">\n",
       "  <thead>\n",
       "    <tr style=\"text-align: right;\">\n",
       "      <th></th>\n",
       "      <th>title</th>\n",
       "      <th>text</th>\n",
       "      <th>label</th>\n",
       "    </tr>\n",
       "    <tr>\n",
       "      <th>index</th>\n",
       "      <th></th>\n",
       "      <th></th>\n",
       "      <th></th>\n",
       "    </tr>\n",
       "  </thead>\n",
       "  <tbody>\n",
       "    <tr>\n",
       "      <th>0</th>\n",
       "      <td>Study: women had to drive 4 times farther afte...</td>\n",
       "      <td>Ever since Texas laws closed about half of the...</td>\n",
       "      <td>REAL</td>\n",
       "    </tr>\n",
       "    <tr>\n",
       "      <th>1</th>\n",
       "      <td>Trump, Clinton clash in dueling DC speeches</td>\n",
       "      <td>Donald Trump and Hillary Clinton, now at the s...</td>\n",
       "      <td>REAL</td>\n",
       "    </tr>\n",
       "    <tr>\n",
       "      <th>2</th>\n",
       "      <td>As Reproductive Rights Hang In The Balance, De...</td>\n",
       "      <td>WASHINGTON -- Forty-three years after the Supr...</td>\n",
       "      <td>REAL</td>\n",
       "    </tr>\n",
       "    <tr>\n",
       "      <th>3</th>\n",
       "      <td>Despite Constant Debate, Americans' Abortion O...</td>\n",
       "      <td>It's been a big week for abortion news.Carly F...</td>\n",
       "      <td>REAL</td>\n",
       "    </tr>\n",
       "    <tr>\n",
       "      <th>4</th>\n",
       "      <td>Obama Argues Against Goverment Shutdown Over P...</td>\n",
       "      <td>President Barack ObamasaidSaturday night that ...</td>\n",
       "      <td>REAL</td>\n",
       "    </tr>\n",
       "  </tbody>\n",
       "</table>\n",
       "</div>"
      ],
      "text/plain": [
       "                                                   title  \\\n",
       "index                                                      \n",
       "0      Study: women had to drive 4 times farther afte...   \n",
       "1            Trump, Clinton clash in dueling DC speeches   \n",
       "2      As Reproductive Rights Hang In The Balance, De...   \n",
       "3      Despite Constant Debate, Americans' Abortion O...   \n",
       "4      Obama Argues Against Goverment Shutdown Over P...   \n",
       "\n",
       "                                                    text label  \n",
       "index                                                           \n",
       "0      Ever since Texas laws closed about half of the...  REAL  \n",
       "1      Donald Trump and Hillary Clinton, now at the s...  REAL  \n",
       "2      WASHINGTON -- Forty-three years after the Supr...  REAL  \n",
       "3      It's been a big week for abortion news.Carly F...  REAL  \n",
       "4      President Barack ObamasaidSaturday night that ...  REAL  "
      ]
     },
     "execution_count": 26,
     "metadata": {},
     "output_type": "execute_result"
    }
   ],
   "source": [
    "df.head()"
   ]
  },
  {
   "cell_type": "markdown",
   "metadata": {},
   "source": [
    "The next step is to remove punctuation."
   ]
  },
  {
   "cell_type": "code",
   "execution_count": 27,
   "metadata": {},
   "outputs": [],
   "source": [
    "#df[\"text\"] = df[\"text\"].apply(lambda x: x.replace(string.punctuation, \"\"))\n",
    "#df[\"title\"] = df[\"title\"].apply(lambda x: x.replace(string.punctuation, \"\"))\n",
    "\n",
    "df[\"title\"] = df[\"title\"].str.replace(\"[{}]\".format(string.punctuation), \"\")\n",
    "df[\"text\"] = df[\"text\"].str.replace(\"[{}]\".format(string.punctuation), \"\")"
   ]
  },
  {
   "cell_type": "code",
   "execution_count": 28,
   "metadata": {},
   "outputs": [],
   "source": [
    "#convert every word to lower case - normalising case\n",
    "df[\"title\"] = df[\"title\"].str.lower()\n",
    "df[\"text\"] = df[\"text\"].str.lower()\n",
    "df[\"label\"] = df[\"label\"].str.lower()"
   ]
  },
  {
   "cell_type": "code",
   "execution_count": 29,
   "metadata": {},
   "outputs": [
    {
     "data": {
      "text/html": [
       "<div>\n",
       "<style scoped>\n",
       "    .dataframe tbody tr th:only-of-type {\n",
       "        vertical-align: middle;\n",
       "    }\n",
       "\n",
       "    .dataframe tbody tr th {\n",
       "        vertical-align: top;\n",
       "    }\n",
       "\n",
       "    .dataframe thead th {\n",
       "        text-align: right;\n",
       "    }\n",
       "</style>\n",
       "<table border=\"1\" class=\"dataframe\">\n",
       "  <thead>\n",
       "    <tr style=\"text-align: right;\">\n",
       "      <th></th>\n",
       "      <th>title</th>\n",
       "      <th>text</th>\n",
       "      <th>label</th>\n",
       "    </tr>\n",
       "    <tr>\n",
       "      <th>index</th>\n",
       "      <th></th>\n",
       "      <th></th>\n",
       "      <th></th>\n",
       "    </tr>\n",
       "  </thead>\n",
       "  <tbody>\n",
       "    <tr>\n",
       "      <th>0</th>\n",
       "      <td>study women had to drive 4 times farther after...</td>\n",
       "      <td>ever since texas laws closed about half of the...</td>\n",
       "      <td>real</td>\n",
       "    </tr>\n",
       "    <tr>\n",
       "      <th>1</th>\n",
       "      <td>trump clinton clash in dueling dc speeches</td>\n",
       "      <td>donald trump and hillary clinton now at the st...</td>\n",
       "      <td>real</td>\n",
       "    </tr>\n",
       "    <tr>\n",
       "      <th>2</th>\n",
       "      <td>as reproductive rights hang in the balance deb...</td>\n",
       "      <td>washington  fortythree years after the supreme...</td>\n",
       "      <td>real</td>\n",
       "    </tr>\n",
       "    <tr>\n",
       "      <th>3</th>\n",
       "      <td>despite constant debate americans abortion opi...</td>\n",
       "      <td>its been a big week for abortion newscarly fio...</td>\n",
       "      <td>real</td>\n",
       "    </tr>\n",
       "    <tr>\n",
       "      <th>4</th>\n",
       "      <td>obama argues against goverment shutdown over p...</td>\n",
       "      <td>president barack obamasaidsaturday night that ...</td>\n",
       "      <td>real</td>\n",
       "    </tr>\n",
       "  </tbody>\n",
       "</table>\n",
       "</div>"
      ],
      "text/plain": [
       "                                                   title  \\\n",
       "index                                                      \n",
       "0      study women had to drive 4 times farther after...   \n",
       "1             trump clinton clash in dueling dc speeches   \n",
       "2      as reproductive rights hang in the balance deb...   \n",
       "3      despite constant debate americans abortion opi...   \n",
       "4      obama argues against goverment shutdown over p...   \n",
       "\n",
       "                                                    text label  \n",
       "index                                                           \n",
       "0      ever since texas laws closed about half of the...  real  \n",
       "1      donald trump and hillary clinton now at the st...  real  \n",
       "2      washington  fortythree years after the supreme...  real  \n",
       "3      its been a big week for abortion newscarly fio...  real  \n",
       "4      president barack obamasaidsaturday night that ...  real  "
      ]
     },
     "execution_count": 29,
     "metadata": {},
     "output_type": "execute_result"
    }
   ],
   "source": [
    "df.head()"
   ]
  },
  {
   "cell_type": "markdown",
   "metadata": {},
   "source": [
    "Additionally the labels will be converted to binary values: 0 and 1."
   ]
  },
  {
   "cell_type": "code",
   "execution_count": 30,
   "metadata": {},
   "outputs": [],
   "source": [
    "#df[\"label\"] = df[\"label\"].apply(lambda x: x.replace(\"real\", 0))\n",
    "#df[\"label\"] = df[\"label\"].apply(lambda x: x.replace(\"fake\", 1))\n",
    "\n",
    "df[\"label\"] = df[\"label\"].replace(to_replace=[\"real\", \"fake\"], value=[0, 1])"
   ]
  },
  {
   "cell_type": "code",
   "execution_count": 31,
   "metadata": {},
   "outputs": [
    {
     "data": {
      "text/html": [
       "<div>\n",
       "<style scoped>\n",
       "    .dataframe tbody tr th:only-of-type {\n",
       "        vertical-align: middle;\n",
       "    }\n",
       "\n",
       "    .dataframe tbody tr th {\n",
       "        vertical-align: top;\n",
       "    }\n",
       "\n",
       "    .dataframe thead th {\n",
       "        text-align: right;\n",
       "    }\n",
       "</style>\n",
       "<table border=\"1\" class=\"dataframe\">\n",
       "  <thead>\n",
       "    <tr style=\"text-align: right;\">\n",
       "      <th></th>\n",
       "      <th>title</th>\n",
       "      <th>text</th>\n",
       "      <th>label</th>\n",
       "    </tr>\n",
       "    <tr>\n",
       "      <th>index</th>\n",
       "      <th></th>\n",
       "      <th></th>\n",
       "      <th></th>\n",
       "    </tr>\n",
       "  </thead>\n",
       "  <tbody>\n",
       "    <tr>\n",
       "      <th>0</th>\n",
       "      <td>study women had to drive 4 times farther after...</td>\n",
       "      <td>ever since texas laws closed about half of the...</td>\n",
       "      <td>0</td>\n",
       "    </tr>\n",
       "    <tr>\n",
       "      <th>1</th>\n",
       "      <td>trump clinton clash in dueling dc speeches</td>\n",
       "      <td>donald trump and hillary clinton now at the st...</td>\n",
       "      <td>0</td>\n",
       "    </tr>\n",
       "    <tr>\n",
       "      <th>2</th>\n",
       "      <td>as reproductive rights hang in the balance deb...</td>\n",
       "      <td>washington  fortythree years after the supreme...</td>\n",
       "      <td>0</td>\n",
       "    </tr>\n",
       "    <tr>\n",
       "      <th>3</th>\n",
       "      <td>despite constant debate americans abortion opi...</td>\n",
       "      <td>its been a big week for abortion newscarly fio...</td>\n",
       "      <td>0</td>\n",
       "    </tr>\n",
       "    <tr>\n",
       "      <th>4</th>\n",
       "      <td>obama argues against goverment shutdown over p...</td>\n",
       "      <td>president barack obamasaidsaturday night that ...</td>\n",
       "      <td>0</td>\n",
       "    </tr>\n",
       "  </tbody>\n",
       "</table>\n",
       "</div>"
      ],
      "text/plain": [
       "                                                   title  \\\n",
       "index                                                      \n",
       "0      study women had to drive 4 times farther after...   \n",
       "1             trump clinton clash in dueling dc speeches   \n",
       "2      as reproductive rights hang in the balance deb...   \n",
       "3      despite constant debate americans abortion opi...   \n",
       "4      obama argues against goverment shutdown over p...   \n",
       "\n",
       "                                                    text  label  \n",
       "index                                                            \n",
       "0      ever since texas laws closed about half of the...      0  \n",
       "1      donald trump and hillary clinton now at the st...      0  \n",
       "2      washington  fortythree years after the supreme...      0  \n",
       "3      its been a big week for abortion newscarly fio...      0  \n",
       "4      president barack obamasaidsaturday night that ...      0  "
      ]
     },
     "execution_count": 31,
     "metadata": {},
     "output_type": "execute_result"
    }
   ],
   "source": [
    "df.head()"
   ]
  },
  {
   "cell_type": "markdown",
   "metadata": {},
   "source": [
    "In the next step stopwords such as \"the\" or \"a\" will be removed since they do not contribute to a deeper meaning of a sentence."
   ]
  },
  {
   "cell_type": "code",
   "execution_count": 32,
   "metadata": {},
   "outputs": [
    {
     "name": "stdout",
     "output_type": "stream",
     "text": [
      "['i', 'me', 'my', 'myself', 'we', 'our', 'ours', 'ourselves', 'you', \"you're\", \"you've\", \"you'll\", \"you'd\", 'your', 'yours', 'yourself', 'yourselves', 'he', 'him', 'his', 'himself', 'she', \"she's\", 'her', 'hers', 'herself', 'it', \"it's\", 'its', 'itself', 'they', 'them', 'their', 'theirs', 'themselves', 'what', 'which', 'who', 'whom', 'this', 'that', \"that'll\", 'these', 'those', 'am', 'is', 'are', 'was', 'were', 'be', 'been', 'being', 'have', 'has', 'had', 'having', 'do', 'does', 'did', 'doing', 'a', 'an', 'the', 'and', 'but', 'if', 'or', 'because', 'as', 'until', 'while', 'of', 'at', 'by', 'for', 'with', 'about', 'against', 'between', 'into', 'through', 'during', 'before', 'after', 'above', 'below', 'to', 'from', 'up', 'down', 'in', 'out', 'on', 'off', 'over', 'under', 'again', 'further', 'then', 'once', 'here', 'there', 'when', 'where', 'why', 'how', 'all', 'any', 'both', 'each', 'few', 'more', 'most', 'other', 'some', 'such', 'no', 'nor', 'not', 'only', 'own', 'same', 'so', 'than', 'too', 'very', 's', 't', 'can', 'will', 'just', 'don', \"don't\", 'should', \"should've\", 'now', 'd', 'll', 'm', 'o', 're', 've', 'y', 'ain', 'aren', \"aren't\", 'couldn', \"couldn't\", 'didn', \"didn't\", 'doesn', \"doesn't\", 'hadn', \"hadn't\", 'hasn', \"hasn't\", 'haven', \"haven't\", 'isn', \"isn't\", 'ma', 'mightn', \"mightn't\", 'mustn', \"mustn't\", 'needn', \"needn't\", 'shan', \"shan't\", 'shouldn', \"shouldn't\", 'wasn', \"wasn't\", 'weren', \"weren't\", 'won', \"won't\", 'wouldn', \"wouldn't\"]\n"
     ]
    }
   ],
   "source": [
    "from nltk.corpus import stopwords\n",
    "stop_words = stopwords.words('english')\n",
    "print(stop_words)"
   ]
  },
  {
   "cell_type": "code",
   "execution_count": null,
   "metadata": {},
   "outputs": [],
   "source": []
  },
  {
   "cell_type": "code",
   "execution_count": 33,
   "metadata": {},
   "outputs": [],
   "source": [
    "from nltk.tokenize import word_tokenize\n",
    "import string\n",
    "\n",
    "#function that tokenises words and removes stop words, punctuation and non alphanumerical characters in a sentence\n",
    "def func_normalise(sentence):\n",
    "    tokens = word_tokenize(sentence)\n",
    "    #print(tokens)\n",
    "    stop_words = set(stopwords.words(\"english\"))\n",
    "    stop_words.add(\"n't\")\n",
    "    stop_words.add(\"nt\")\n",
    "    stop_words.add(\"u\")\n",
    "    \n",
    "    table = str.maketrans(\"\", \"\", string.punctuation)\n",
    "    stripped = [w.translate(table) for w in tokens]\n",
    "    \n",
    "    words = [word for word in stripped if word.isalpha()]\n",
    "    \n",
    "    new_sentence = [w for w in words if not w in stop_words] \n",
    "            \n",
    "    new_sentence_str = \" \".join(new_sentence)\n",
    "    \n",
    "    return new_sentence_str"
   ]
  },
  {
   "cell_type": "code",
   "execution_count": 34,
   "metadata": {},
   "outputs": [
    {
     "data": {
      "text/plain": [
       "'ever since texas laws closed half'"
      ]
     },
     "execution_count": 34,
     "metadata": {},
     "output_type": "execute_result"
    }
   ],
   "source": [
    "#testing the function\n",
    "func_normalise(\"ever ? since hasn't the / texa*s laws closed about half of the where didn't\")"
   ]
  },
  {
   "cell_type": "markdown",
   "metadata": {},
   "source": [
    "Now the above function will be applied to the data in order to normalise it."
   ]
  },
  {
   "cell_type": "code",
   "execution_count": 35,
   "metadata": {},
   "outputs": [],
   "source": [
    "df[\"title\"] = df[\"title\"].apply(func_normalise)"
   ]
  },
  {
   "cell_type": "code",
   "execution_count": 36,
   "metadata": {},
   "outputs": [],
   "source": [
    "df[\"text\"] = df[\"text\"].apply(func_normalise)"
   ]
  },
  {
   "cell_type": "code",
   "execution_count": 37,
   "metadata": {},
   "outputs": [
    {
     "data": {
      "text/html": [
       "<div>\n",
       "<style scoped>\n",
       "    .dataframe tbody tr th:only-of-type {\n",
       "        vertical-align: middle;\n",
       "    }\n",
       "\n",
       "    .dataframe tbody tr th {\n",
       "        vertical-align: top;\n",
       "    }\n",
       "\n",
       "    .dataframe thead th {\n",
       "        text-align: right;\n",
       "    }\n",
       "</style>\n",
       "<table border=\"1\" class=\"dataframe\">\n",
       "  <thead>\n",
       "    <tr style=\"text-align: right;\">\n",
       "      <th></th>\n",
       "      <th>title</th>\n",
       "      <th>text</th>\n",
       "      <th>label</th>\n",
       "    </tr>\n",
       "    <tr>\n",
       "      <th>index</th>\n",
       "      <th></th>\n",
       "      <th></th>\n",
       "      <th></th>\n",
       "    </tr>\n",
       "  </thead>\n",
       "  <tbody>\n",
       "    <tr>\n",
       "      <th>0</th>\n",
       "      <td>study women drive times farther texas laws clo...</td>\n",
       "      <td>ever since texas laws closed half states abort...</td>\n",
       "      <td>0</td>\n",
       "    </tr>\n",
       "    <tr>\n",
       "      <th>1</th>\n",
       "      <td>trump clinton clash dueling dc speeches</td>\n",
       "      <td>donald trump hillary clinton starting line gen...</td>\n",
       "      <td>0</td>\n",
       "    </tr>\n",
       "    <tr>\n",
       "      <th>2</th>\n",
       "      <td>reproductive rights hang balance debate modera...</td>\n",
       "      <td>washington fortythree years supreme court esta...</td>\n",
       "      <td>0</td>\n",
       "    </tr>\n",
       "    <tr>\n",
       "      <th>3</th>\n",
       "      <td>despite constant debate americans abortion opi...</td>\n",
       "      <td>big week abortion newscarly fiorinas passionat...</td>\n",
       "      <td>0</td>\n",
       "    </tr>\n",
       "    <tr>\n",
       "      <th>4</th>\n",
       "      <td>obama argues goverment shutdown planned parent...</td>\n",
       "      <td>president barack obamasaidsaturday night congr...</td>\n",
       "      <td>0</td>\n",
       "    </tr>\n",
       "  </tbody>\n",
       "</table>\n",
       "</div>"
      ],
      "text/plain": [
       "                                                   title  \\\n",
       "index                                                      \n",
       "0      study women drive times farther texas laws clo...   \n",
       "1                trump clinton clash dueling dc speeches   \n",
       "2      reproductive rights hang balance debate modera...   \n",
       "3      despite constant debate americans abortion opi...   \n",
       "4      obama argues goverment shutdown planned parent...   \n",
       "\n",
       "                                                    text  label  \n",
       "index                                                            \n",
       "0      ever since texas laws closed half states abort...      0  \n",
       "1      donald trump hillary clinton starting line gen...      0  \n",
       "2      washington fortythree years supreme court esta...      0  \n",
       "3      big week abortion newscarly fiorinas passionat...      0  \n",
       "4      president barack obamasaidsaturday night congr...      0  "
      ]
     },
     "execution_count": 37,
     "metadata": {},
     "output_type": "execute_result"
    }
   ],
   "source": [
    "df.head()"
   ]
  },
  {
   "cell_type": "markdown",
   "metadata": {},
   "source": [
    "As seen in the above example the text data has been (successfully) normalised."
   ]
  },
  {
   "cell_type": "markdown",
   "metadata": {},
   "source": [
    "### 3 c) - Stemming "
   ]
  },
  {
   "cell_type": "markdown",
   "metadata": {},
   "source": [
    "Stemming is the process of reducing words to their root. For example, \"playing\" and \"played\" reduce to the stem \"play\". Therefore stemming helps with reducing the vocabulary and allows to focus on the sense of a sentence."
   ]
  },
  {
   "cell_type": "code",
   "execution_count": 38,
   "metadata": {},
   "outputs": [],
   "source": [
    "#from nltk.stem.porter import PorterStemmer\n",
    "#according to the nltk website the snowballstemmer is better than the \"original\" porter stemmer\n",
    "#https://www.nltk.org/howto/stem.html\n",
    "\n",
    "from nltk.stem.snowball import SnowballStemmer\n",
    "\n",
    "#function that stems words in a sentence\n",
    "def func_stem(sentence):\n",
    "    tokens = word_tokenize(sentence)\n",
    "    snowball_stemmer = SnowballStemmer(\"english\")\n",
    "    stemmed_sentence = [snowball_stemmer.stem(word) for word in tokens]\n",
    "    stemmed_sentence_str = \" \".join(stemmed_sentence)\n",
    "    return stemmed_sentence_str"
   ]
  },
  {
   "cell_type": "code",
   "execution_count": 39,
   "metadata": {},
   "outputs": [
    {
     "data": {
      "text/plain": [
       "'play player play play play'"
      ]
     },
     "execution_count": 39,
     "metadata": {},
     "output_type": "execute_result"
    }
   ],
   "source": [
    "#test\n",
    "func_stem(\"playing player play played plays\")"
   ]
  },
  {
   "cell_type": "code",
   "execution_count": 40,
   "metadata": {},
   "outputs": [],
   "source": [
    "df[\"title\"] = df[\"title\"].apply(func_stem)"
   ]
  },
  {
   "cell_type": "code",
   "execution_count": 41,
   "metadata": {},
   "outputs": [],
   "source": [
    "df[\"text\"] = df[\"text\"].apply(func_stem)"
   ]
  },
  {
   "cell_type": "code",
   "execution_count": 42,
   "metadata": {},
   "outputs": [
    {
     "data": {
      "text/html": [
       "<div>\n",
       "<style scoped>\n",
       "    .dataframe tbody tr th:only-of-type {\n",
       "        vertical-align: middle;\n",
       "    }\n",
       "\n",
       "    .dataframe tbody tr th {\n",
       "        vertical-align: top;\n",
       "    }\n",
       "\n",
       "    .dataframe thead th {\n",
       "        text-align: right;\n",
       "    }\n",
       "</style>\n",
       "<table border=\"1\" class=\"dataframe\">\n",
       "  <thead>\n",
       "    <tr style=\"text-align: right;\">\n",
       "      <th></th>\n",
       "      <th>title</th>\n",
       "      <th>text</th>\n",
       "      <th>label</th>\n",
       "    </tr>\n",
       "    <tr>\n",
       "      <th>index</th>\n",
       "      <th></th>\n",
       "      <th></th>\n",
       "      <th></th>\n",
       "    </tr>\n",
       "  </thead>\n",
       "  <tbody>\n",
       "    <tr>\n",
       "      <th>0</th>\n",
       "      <td>studi women drive time farther texa law close ...</td>\n",
       "      <td>ever sinc texa law close half state abort clin...</td>\n",
       "      <td>0</td>\n",
       "    </tr>\n",
       "    <tr>\n",
       "      <th>1</th>\n",
       "      <td>trump clinton clash duel dc speech</td>\n",
       "      <td>donald trump hillari clinton start line genera...</td>\n",
       "      <td>0</td>\n",
       "    </tr>\n",
       "    <tr>\n",
       "      <th>2</th>\n",
       "      <td>reproduct right hang balanc debat moder drop ball</td>\n",
       "      <td>washington fortythre year suprem court establi...</td>\n",
       "      <td>0</td>\n",
       "    </tr>\n",
       "    <tr>\n",
       "      <th>3</th>\n",
       "      <td>despit constant debat american abort opinion r...</td>\n",
       "      <td>big week abort newscar fiorina passion inaccur...</td>\n",
       "      <td>0</td>\n",
       "    </tr>\n",
       "    <tr>\n",
       "      <th>4</th>\n",
       "      <td>obama argu gover shutdown plan parenthood</td>\n",
       "      <td>presid barack obamasaidsaturday night congress...</td>\n",
       "      <td>0</td>\n",
       "    </tr>\n",
       "  </tbody>\n",
       "</table>\n",
       "</div>"
      ],
      "text/plain": [
       "                                                   title  \\\n",
       "index                                                      \n",
       "0      studi women drive time farther texa law close ...   \n",
       "1                     trump clinton clash duel dc speech   \n",
       "2      reproduct right hang balanc debat moder drop ball   \n",
       "3      despit constant debat american abort opinion r...   \n",
       "4              obama argu gover shutdown plan parenthood   \n",
       "\n",
       "                                                    text  label  \n",
       "index                                                            \n",
       "0      ever sinc texa law close half state abort clin...      0  \n",
       "1      donald trump hillari clinton start line genera...      0  \n",
       "2      washington fortythre year suprem court establi...      0  \n",
       "3      big week abort newscar fiorina passion inaccur...      0  \n",
       "4      presid barack obamasaidsaturday night congress...      0  "
      ]
     },
     "execution_count": 42,
     "metadata": {},
     "output_type": "execute_result"
    }
   ],
   "source": [
    "df.head()"
   ]
  },
  {
   "cell_type": "markdown",
   "metadata": {},
   "source": [
    "### 3 d) - Lemmatising"
   ]
  },
  {
   "cell_type": "markdown",
   "metadata": {},
   "source": [
    "According to literature lemmatising and stemming words is similar. However, stemming tries to cut off endings of words whereas lemmatising compares them to other words. To test whether lemmatising makes a difference in accuracy it will be implemented."
   ]
  },
  {
   "cell_type": "code",
   "execution_count": 43,
   "metadata": {},
   "outputs": [],
   "source": [
    "\"\"\"\n",
    "import nltk\n",
    "nltk.download('wordnet')\n",
    "\"\"\"\n",
    "\n",
    "def func_lemmatise(sentence):\n",
    "    tokens = word_tokenize(sentence)\n",
    "    lemmatiser = nltk.WordNetLemmatizer()\n",
    "    lemmatised_sentence = [lemmatiser.lemmatize(word) for word in tokens]\n",
    "    lemmatised_sentence_str = \" \".join(lemmatised_sentence)\n",
    "    return lemmatised_sentence_str"
   ]
  },
  {
   "cell_type": "code",
   "execution_count": 44,
   "metadata": {},
   "outputs": [
    {
     "data": {
      "text/plain": [
       "'playing player play played play'"
      ]
     },
     "execution_count": 44,
     "metadata": {},
     "output_type": "execute_result"
    }
   ],
   "source": [
    "#test\n",
    "func_lemmatise(\"playing player play played plays\")"
   ]
  },
  {
   "cell_type": "code",
   "execution_count": 45,
   "metadata": {},
   "outputs": [],
   "source": [
    "df[\"title\"] = df[\"title\"].apply(func_lemmatise)"
   ]
  },
  {
   "cell_type": "code",
   "execution_count": 46,
   "metadata": {},
   "outputs": [],
   "source": [
    "df[\"text\"] = df[\"text\"].apply(func_lemmatise)"
   ]
  },
  {
   "cell_type": "code",
   "execution_count": 47,
   "metadata": {},
   "outputs": [
    {
     "data": {
      "text/html": [
       "<div>\n",
       "<style scoped>\n",
       "    .dataframe tbody tr th:only-of-type {\n",
       "        vertical-align: middle;\n",
       "    }\n",
       "\n",
       "    .dataframe tbody tr th {\n",
       "        vertical-align: top;\n",
       "    }\n",
       "\n",
       "    .dataframe thead th {\n",
       "        text-align: right;\n",
       "    }\n",
       "</style>\n",
       "<table border=\"1\" class=\"dataframe\">\n",
       "  <thead>\n",
       "    <tr style=\"text-align: right;\">\n",
       "      <th></th>\n",
       "      <th>title</th>\n",
       "      <th>text</th>\n",
       "      <th>label</th>\n",
       "    </tr>\n",
       "    <tr>\n",
       "      <th>index</th>\n",
       "      <th></th>\n",
       "      <th></th>\n",
       "      <th></th>\n",
       "    </tr>\n",
       "  </thead>\n",
       "  <tbody>\n",
       "    <tr>\n",
       "      <th>0</th>\n",
       "      <td>studi woman drive time farther texa law close ...</td>\n",
       "      <td>ever sinc texa law close half state abort clin...</td>\n",
       "      <td>0</td>\n",
       "    </tr>\n",
       "    <tr>\n",
       "      <th>1</th>\n",
       "      <td>trump clinton clash duel dc speech</td>\n",
       "      <td>donald trump hillari clinton start line genera...</td>\n",
       "      <td>0</td>\n",
       "    </tr>\n",
       "    <tr>\n",
       "      <th>2</th>\n",
       "      <td>reproduct right hang balanc debat moder drop ball</td>\n",
       "      <td>washington fortythre year suprem court establi...</td>\n",
       "      <td>0</td>\n",
       "    </tr>\n",
       "    <tr>\n",
       "      <th>3</th>\n",
       "      <td>despit constant debat american abort opinion r...</td>\n",
       "      <td>big week abort newscar fiorina passion inaccur...</td>\n",
       "      <td>0</td>\n",
       "    </tr>\n",
       "    <tr>\n",
       "      <th>4</th>\n",
       "      <td>obama argu gover shutdown plan parenthood</td>\n",
       "      <td>presid barack obamasaidsaturday night congress...</td>\n",
       "      <td>0</td>\n",
       "    </tr>\n",
       "  </tbody>\n",
       "</table>\n",
       "</div>"
      ],
      "text/plain": [
       "                                                   title  \\\n",
       "index                                                      \n",
       "0      studi woman drive time farther texa law close ...   \n",
       "1                     trump clinton clash duel dc speech   \n",
       "2      reproduct right hang balanc debat moder drop ball   \n",
       "3      despit constant debat american abort opinion r...   \n",
       "4              obama argu gover shutdown plan parenthood   \n",
       "\n",
       "                                                    text  label  \n",
       "index                                                            \n",
       "0      ever sinc texa law close half state abort clin...      0  \n",
       "1      donald trump hillari clinton start line genera...      0  \n",
       "2      washington fortythre year suprem court establi...      0  \n",
       "3      big week abort newscar fiorina passion inaccur...      0  \n",
       "4      presid barack obamasaidsaturday night congress...      0  "
      ]
     },
     "execution_count": 47,
     "metadata": {},
     "output_type": "execute_result"
    }
   ],
   "source": [
    "df.head()"
   ]
  },
  {
   "cell_type": "markdown",
   "metadata": {},
   "source": [
    "### 3 e) - TF-IDF "
   ]
  },
  {
   "cell_type": "markdown",
   "metadata": {},
   "source": [
    "Since ML algorithms require numerical data as input instead of text, the text will be vectorised using the TF-IDF method, which stands for term frequency - inverse document frequency. TF-IDF is measure of orginiality of a word by comparing the number of times a word appears in a doc with the number of docs the words appears in."
   ]
  },
  {
   "cell_type": "code",
   "execution_count": 48,
   "metadata": {},
   "outputs": [],
   "source": [
    "#remove arabian characters etc. Maybe activate them later?\n",
    "df[\"title\"] = df[\"title\"].replace(\"[^a-zA-Z0-9 ]\", \"\", regex=True)"
   ]
  },
  {
   "cell_type": "code",
   "execution_count": 49,
   "metadata": {},
   "outputs": [],
   "source": [
    "from sklearn.feature_extraction.text import TfidfVectorizer\n",
    "\n",
    "tfidf = TfidfVectorizer()\n",
    "feature_matrix = tfidf.fit_transform(df[\"title\"])"
   ]
  },
  {
   "cell_type": "code",
   "execution_count": 50,
   "metadata": {},
   "outputs": [
    {
     "data": {
      "text/plain": [
       "array([[0., 0., 0., ..., 0., 0., 0.],\n",
       "       [0., 0., 0., ..., 0., 0., 0.],\n",
       "       [0., 0., 0., ..., 0., 0., 0.],\n",
       "       ...,\n",
       "       [0., 0., 0., ..., 0., 0., 0.],\n",
       "       [0., 0., 0., ..., 0., 0., 0.],\n",
       "       [0., 0., 0., ..., 0., 0., 0.]])"
      ]
     },
     "execution_count": 50,
     "metadata": {},
     "output_type": "execute_result"
    }
   ],
   "source": [
    "feature_matrix.toarray()"
   ]
  },
  {
   "cell_type": "code",
   "execution_count": 51,
   "metadata": {},
   "outputs": [
    {
     "data": {
      "text/plain": [
       "['aap',\n",
       " 'abandon',\n",
       " 'abbi',\n",
       " 'abc',\n",
       " 'abcwapo',\n",
       " 'abduct',\n",
       " 'abdullah',\n",
       " 'abedin',\n",
       " 'abil',\n",
       " 'abl',\n",
       " 'abnorm',\n",
       " 'aboard',\n",
       " 'abolish',\n",
       " 'abort',\n",
       " 'abortionrevers',\n",
       " 'abridg',\n",
       " 'abroad',\n",
       " 'abrog',\n",
       " 'absenc',\n",
       " 'absente',\n",
       " 'absolut',\n",
       " 'abstain',\n",
       " 'absurd',\n",
       " 'abu',\n",
       " 'abus',\n",
       " 'abyss',\n",
       " 'aca',\n",
       " 'accept',\n",
       " 'access',\n",
       " 'accid',\n",
       " 'accident',\n",
       " 'accomplish',\n",
       " 'accord',\n",
       " 'account',\n",
       " 'accur',\n",
       " 'accus',\n",
       " 'acela',\n",
       " 'acheron',\n",
       " 'achiev',\n",
       " 'ackbar',\n",
       " 'acknowledg',\n",
       " 'aclu',\n",
       " 'acquir',\n",
       " 'acquisit',\n",
       " 'acquit',\n",
       " 'acquitt',\n",
       " 'acr',\n",
       " 'across',\n",
       " 'act',\n",
       " 'action',\n",
       " 'activ',\n",
       " 'activist',\n",
       " 'actor',\n",
       " 'actual',\n",
       " 'acupunctur',\n",
       " 'ad',\n",
       " 'adam',\n",
       " 'adapt',\n",
       " 'add',\n",
       " 'adderal',\n",
       " 'addict',\n",
       " 'addictionher',\n",
       " 'address',\n",
       " 'adelson',\n",
       " 'adequ',\n",
       " 'adhd',\n",
       " 'adhm',\n",
       " 'adjust',\n",
       " 'admin',\n",
       " 'administr',\n",
       " 'admir',\n",
       " 'admit',\n",
       " 'adopt',\n",
       " 'ador',\n",
       " 'adpr',\n",
       " 'adpresnet',\n",
       " 'adult',\n",
       " 'advanc',\n",
       " 'advantag',\n",
       " 'advert',\n",
       " 'advertis',\n",
       " 'advic',\n",
       " 'advis',\n",
       " 'advisor',\n",
       " 'advoc',\n",
       " 'aerodynam',\n",
       " 'afar',\n",
       " 'affair',\n",
       " 'affect',\n",
       " 'affili',\n",
       " 'affirm',\n",
       " 'afford',\n",
       " 'affront',\n",
       " 'afghan',\n",
       " 'afghanistan',\n",
       " 'aficionado',\n",
       " 'afraid',\n",
       " 'africa',\n",
       " 'african',\n",
       " 'africanamerican',\n",
       " 'aftermath',\n",
       " 'aftershock',\n",
       " 'ag',\n",
       " 'age',\n",
       " 'agenc',\n",
       " 'agenda',\n",
       " 'agent',\n",
       " 'aggress',\n",
       " 'aggro',\n",
       " 'agit',\n",
       " 'agn',\n",
       " 'ago',\n",
       " 'agoni',\n",
       " 'agre',\n",
       " 'agreement',\n",
       " 'agricultur',\n",
       " 'agropoison',\n",
       " 'ahead',\n",
       " 'ai',\n",
       " 'aid',\n",
       " 'aig',\n",
       " 'ail',\n",
       " 'aim',\n",
       " 'air',\n",
       " 'airbnb',\n",
       " 'aircraft',\n",
       " 'airman',\n",
       " 'airplan',\n",
       " 'airport',\n",
       " 'airstrik',\n",
       " 'akbar',\n",
       " 'al',\n",
       " 'alabadi',\n",
       " 'alabama',\n",
       " 'alarm',\n",
       " 'alarmist',\n",
       " 'alasdair',\n",
       " 'alaska',\n",
       " 'alassad',\n",
       " 'albert',\n",
       " 'alberto',\n",
       " 'albright',\n",
       " 'album',\n",
       " 'alcohol',\n",
       " 'aleppo',\n",
       " 'alert',\n",
       " 'alex',\n",
       " 'alfatah',\n",
       " 'ali',\n",
       " 'alicia',\n",
       " 'alien',\n",
       " 'align',\n",
       " 'alist',\n",
       " 'alito',\n",
       " 'aliv',\n",
       " 'allah',\n",
       " 'allahu',\n",
       " 'allamerican',\n",
       " 'allay',\n",
       " 'alleg',\n",
       " 'allegi',\n",
       " 'allen',\n",
       " 'alli',\n",
       " 'allianc',\n",
       " 'allin',\n",
       " 'alloc',\n",
       " 'allout',\n",
       " 'allow',\n",
       " 'allpay',\n",
       " 'alltim',\n",
       " 'alltoofamiliar',\n",
       " 'almost',\n",
       " 'alnusra',\n",
       " 'alon',\n",
       " 'along',\n",
       " 'aloof',\n",
       " 'alphabet',\n",
       " 'alqaeda',\n",
       " 'alreadi',\n",
       " 'alreadyflag',\n",
       " 'also',\n",
       " 'alsoran',\n",
       " 'alt',\n",
       " 'alter',\n",
       " 'altern',\n",
       " 'altmarket',\n",
       " 'altright',\n",
       " 'altruist',\n",
       " 'alway',\n",
       " 'amaz',\n",
       " 'amazinglook',\n",
       " 'ambassador',\n",
       " 'ambit',\n",
       " 'ambival',\n",
       " 'ambul',\n",
       " 'ambush',\n",
       " 'ambushstyl',\n",
       " 'ame',\n",
       " 'amend',\n",
       " 'america',\n",
       " 'american',\n",
       " 'americana',\n",
       " 'ami',\n",
       " 'amid',\n",
       " 'amish',\n",
       " 'ammo',\n",
       " 'ammon',\n",
       " 'ammosexu',\n",
       " 'amnesti',\n",
       " 'among',\n",
       " 'amount',\n",
       " 'amp',\n",
       " 'amphibi',\n",
       " 'amtrak',\n",
       " 'amur',\n",
       " 'amurexit',\n",
       " 'amus',\n",
       " 'anaheim',\n",
       " 'analysi',\n",
       " 'analyst',\n",
       " 'anarchi',\n",
       " 'anarchist',\n",
       " 'anastasia',\n",
       " 'anatomi',\n",
       " 'anbar',\n",
       " 'anchor',\n",
       " 'ancient',\n",
       " 'anderson',\n",
       " 'andes',\n",
       " 'andrew',\n",
       " 'anew',\n",
       " 'angel',\n",
       " 'angela',\n",
       " 'angelina',\n",
       " 'anger',\n",
       " 'anglin',\n",
       " 'angri',\n",
       " 'angriest',\n",
       " 'anim',\n",
       " 'animos',\n",
       " 'ankl',\n",
       " 'ann',\n",
       " 'anna',\n",
       " 'annihil',\n",
       " 'anniversari',\n",
       " 'annot',\n",
       " 'announc',\n",
       " 'annual',\n",
       " 'annul',\n",
       " 'anonym',\n",
       " 'anot',\n",
       " 'anoth',\n",
       " 'answer',\n",
       " 'ant',\n",
       " 'antarct',\n",
       " 'antarctica',\n",
       " 'anthem',\n",
       " 'anthoni',\n",
       " 'anthropecen',\n",
       " 'anti',\n",
       " 'antiaircraft',\n",
       " 'antibiot',\n",
       " 'antic',\n",
       " 'anticip',\n",
       " 'anticlinton',\n",
       " 'anticommunist',\n",
       " 'anticorrupt',\n",
       " 'antidepress',\n",
       " 'antiestablish',\n",
       " 'antifamin',\n",
       " 'antigovern',\n",
       " 'antigovt',\n",
       " 'antihillari',\n",
       " 'antiiran',\n",
       " 'antiiraq',\n",
       " 'antiisi',\n",
       " 'antiislam',\n",
       " 'antiisrael',\n",
       " 'antijihad',\n",
       " 'antilgbt',\n",
       " 'antimalaria',\n",
       " 'antimissil',\n",
       " 'antimuhammad',\n",
       " 'antimuslim',\n",
       " 'antiparticl',\n",
       " 'antiplan',\n",
       " 'antipoverti',\n",
       " 'antiqu',\n",
       " 'antirussia',\n",
       " 'antirussian',\n",
       " 'antisemit',\n",
       " 'antisex',\n",
       " 'antitank',\n",
       " 'antiterror',\n",
       " 'antithet',\n",
       " 'antitrump',\n",
       " 'antiunion',\n",
       " 'antivax',\n",
       " 'antiwar',\n",
       " 'antonin',\n",
       " 'antonio',\n",
       " 'anxieti',\n",
       " 'anxious',\n",
       " 'anybodi',\n",
       " 'anymor',\n",
       " 'anyon',\n",
       " 'anyth',\n",
       " 'anyway',\n",
       " 'anywher',\n",
       " 'ao',\n",
       " 'ap',\n",
       " 'apart',\n",
       " 'apartheid',\n",
       " 'api',\n",
       " 'apocalyps',\n",
       " 'apocalypt',\n",
       " 'apolog',\n",
       " 'apologis',\n",
       " 'apologistinchief',\n",
       " 'apost',\n",
       " 'app',\n",
       " 'appal',\n",
       " 'appar',\n",
       " 'appeal',\n",
       " 'appear',\n",
       " 'appeas',\n",
       " 'appl',\n",
       " 'applebe',\n",
       " 'appli',\n",
       " 'applic',\n",
       " 'appoint',\n",
       " 'appreci',\n",
       " 'apprentic',\n",
       " 'approach',\n",
       " 'appropri',\n",
       " 'approv',\n",
       " 'april',\n",
       " 'aqutru',\n",
       " 'ar',\n",
       " 'arab',\n",
       " 'arabia',\n",
       " 'arabian',\n",
       " 'arc',\n",
       " 'archil',\n",
       " 'architect',\n",
       " 'arctic',\n",
       " 'arcturian',\n",
       " 'area',\n",
       " 'arent',\n",
       " 'aretha',\n",
       " 'argu',\n",
       " 'argument',\n",
       " 'ari',\n",
       " 'aria',\n",
       " 'arianna',\n",
       " 'ariel',\n",
       " 'aris',\n",
       " 'aristocraci',\n",
       " 'arizona',\n",
       " 'ark',\n",
       " 'arkansa',\n",
       " 'arm',\n",
       " 'armenia',\n",
       " 'armenian',\n",
       " 'armi',\n",
       " 'armstrong',\n",
       " 'arn',\n",
       " 'arnab',\n",
       " 'around',\n",
       " 'arquett',\n",
       " 'arrang',\n",
       " 'arrest',\n",
       " 'arriv',\n",
       " 'arrog',\n",
       " 'arsenal',\n",
       " 'arson',\n",
       " 'art',\n",
       " 'arteri',\n",
       " 'articl',\n",
       " 'artifact',\n",
       " 'artifici',\n",
       " 'artist',\n",
       " 'aryan',\n",
       " 'as',\n",
       " 'ascend',\n",
       " 'asda',\n",
       " 'ashton',\n",
       " 'ashutosh',\n",
       " 'asia',\n",
       " 'asid',\n",
       " 'ask',\n",
       " 'aspartam',\n",
       " 'ass',\n",
       " 'assad',\n",
       " 'assang',\n",
       " 'assangepilg',\n",
       " 'assasin',\n",
       " 'assassin',\n",
       " 'assault',\n",
       " 'assembl',\n",
       " 'assert',\n",
       " 'asset',\n",
       " 'assist',\n",
       " 'assistedsuicid',\n",
       " 'associ',\n",
       " 'assum',\n",
       " 'assumpt',\n",
       " 'assur',\n",
       " 'asthm',\n",
       " 'astonish',\n",
       " 'astronaut',\n",
       " 'astronom',\n",
       " 'asylum',\n",
       " 'atf',\n",
       " 'atlanta',\n",
       " 'atlanti',\n",
       " 'atm',\n",
       " 'atroc',\n",
       " 'att',\n",
       " 'attach',\n",
       " 'attack',\n",
       " 'attempt',\n",
       " 'attend',\n",
       " 'attende',\n",
       " 'attent',\n",
       " 'attir',\n",
       " 'attitud',\n",
       " 'attorney',\n",
       " 'attract',\n",
       " 'atttim',\n",
       " 'audaci',\n",
       " 'audienc',\n",
       " 'audio',\n",
       " 'auditor',\n",
       " 'aumf',\n",
       " 'aussi',\n",
       " 'australia',\n",
       " 'australian',\n",
       " 'austria',\n",
       " 'austrian',\n",
       " 'austyn',\n",
       " 'authent',\n",
       " 'author',\n",
       " 'authoritarian',\n",
       " 'autism',\n",
       " 'autist',\n",
       " 'auto',\n",
       " 'autom',\n",
       " 'automat',\n",
       " 'autonom',\n",
       " 'avail',\n",
       " 'aveng',\n",
       " 'averag',\n",
       " 'avert',\n",
       " 'aviv',\n",
       " 'avocado',\n",
       " 'avoid',\n",
       " 'aw',\n",
       " 'await',\n",
       " 'awaken',\n",
       " 'award',\n",
       " 'away',\n",
       " 'awe',\n",
       " 'awesom',\n",
       " 'awkward',\n",
       " 'awol',\n",
       " 'axelrod',\n",
       " 'axi',\n",
       " 'ayahuasca',\n",
       " 'ayatollah',\n",
       " 'ayott',\n",
       " 'az',\n",
       " 'baba',\n",
       " 'babi',\n",
       " 'babylon',\n",
       " 'back',\n",
       " 'backbon',\n",
       " 'backer',\n",
       " 'backfir',\n",
       " 'background',\n",
       " 'backlash',\n",
       " 'backlog',\n",
       " 'backout',\n",
       " 'backseat',\n",
       " 'backstori',\n",
       " 'backup',\n",
       " 'backward',\n",
       " 'bacon',\n",
       " 'bad',\n",
       " 'badass',\n",
       " 'badasseri',\n",
       " 'bader',\n",
       " 'badg',\n",
       " 'badham',\n",
       " 'badtemp',\n",
       " 'baffl',\n",
       " 'bag',\n",
       " 'baghdad',\n",
       " 'bahaha',\n",
       " 'bahraini',\n",
       " 'baier',\n",
       " 'bail',\n",
       " 'bailout',\n",
       " 'bake',\n",
       " 'bakeri',\n",
       " 'balanc',\n",
       " 'baldfac',\n",
       " 'baldwin',\n",
       " 'balfour',\n",
       " 'balkan',\n",
       " 'ball',\n",
       " 'ballist',\n",
       " 'balloo',\n",
       " 'ballot',\n",
       " 'balochistan',\n",
       " 'baltic',\n",
       " 'baltimor',\n",
       " 'ban',\n",
       " 'banana',\n",
       " 'bancroft',\n",
       " 'bang',\n",
       " 'banish',\n",
       " 'bank',\n",
       " 'banker',\n",
       " 'bankrupt',\n",
       " 'banner',\n",
       " 'bannon',\n",
       " 'bar',\n",
       " 'barack',\n",
       " 'barag',\n",
       " 'barbar',\n",
       " 'barbara',\n",
       " 'barbarian',\n",
       " 'bare',\n",
       " 'bargain',\n",
       " 'barista',\n",
       " 'barney',\n",
       " 'barnstorm',\n",
       " 'baron',\n",
       " 'barrag',\n",
       " 'barrel',\n",
       " 'barrier',\n",
       " 'barter',\n",
       " 'base',\n",
       " 'basebal',\n",
       " 'basement',\n",
       " 'bash',\n",
       " 'bashar',\n",
       " 'basi',\n",
       " 'basic',\n",
       " 'basil',\n",
       " 'basket',\n",
       " 'batch',\n",
       " 'bathroom',\n",
       " 'baton',\n",
       " 'batteri',\n",
       " 'battl',\n",
       " 'battleground',\n",
       " 'battleship',\n",
       " 'bauer',\n",
       " 'bay',\n",
       " 'bayh',\n",
       " 'baylor',\n",
       " 'bbc',\n",
       " 'beammeupscotti',\n",
       " 'bean',\n",
       " 'bear',\n",
       " 'beast',\n",
       " 'beat',\n",
       " 'beaten',\n",
       " 'beau',\n",
       " 'beaulieu',\n",
       " 'beauti',\n",
       " 'becam',\n",
       " 'beck',\n",
       " 'beckel',\n",
       " 'becom',\n",
       " 'bee',\n",
       " 'beef',\n",
       " 'beeley',\n",
       " 'beer',\n",
       " 'beg',\n",
       " 'began',\n",
       " 'begin',\n",
       " 'begun',\n",
       " 'behavior',\n",
       " 'behaviour',\n",
       " 'behead',\n",
       " 'behind',\n",
       " 'bela',\n",
       " 'belarus',\n",
       " 'belgian',\n",
       " 'belgium',\n",
       " 'belief',\n",
       " 'believ',\n",
       " 'beliz',\n",
       " 'bella',\n",
       " 'belliger',\n",
       " 'belong',\n",
       " 'belt',\n",
       " 'beltway',\n",
       " 'ben',\n",
       " 'bend',\n",
       " 'beneath',\n",
       " 'benefit',\n",
       " 'bengaluru',\n",
       " 'benghazi',\n",
       " 'benjamin',\n",
       " 'benni',\n",
       " 'bergdahl',\n",
       " 'berkeley',\n",
       " 'berkley',\n",
       " 'berlin',\n",
       " 'bern',\n",
       " 'bernardino',\n",
       " 'berni',\n",
       " 'berniac',\n",
       " 'bernienom',\n",
       " 'berserk',\n",
       " 'besid',\n",
       " 'best',\n",
       " 'bet',\n",
       " 'betoota',\n",
       " 'betray',\n",
       " 'better',\n",
       " 'bev',\n",
       " 'bevin',\n",
       " 'bewar',\n",
       " 'beyonc',\n",
       " 'beyond',\n",
       " 'bezo',\n",
       " 'bias',\n",
       " 'bibi',\n",
       " 'bibl',\n",
       " 'biblic',\n",
       " 'bid',\n",
       " 'biden',\n",
       " 'big',\n",
       " 'bigger',\n",
       " 'biggest',\n",
       " 'bigmoney',\n",
       " 'bigot',\n",
       " 'bigotri',\n",
       " 'bike',\n",
       " 'biker',\n",
       " 'bikini',\n",
       " 'bill',\n",
       " 'billari',\n",
       " 'billclinton',\n",
       " 'billion',\n",
       " 'billionair',\n",
       " 'bimbo',\n",
       " 'bin',\n",
       " 'bind',\n",
       " 'biolog',\n",
       " 'biometr',\n",
       " 'bionic',\n",
       " 'bipartisan',\n",
       " 'bird',\n",
       " 'birkenfeld',\n",
       " 'birth',\n",
       " 'birthday',\n",
       " 'birther',\n",
       " 'birthplac',\n",
       " 'birthright',\n",
       " 'bishop',\n",
       " 'bison',\n",
       " 'bit',\n",
       " 'bitch',\n",
       " 'bitcoin',\n",
       " 'bite',\n",
       " 'bitter',\n",
       " 'biz',\n",
       " 'bizarr',\n",
       " 'black',\n",
       " 'blackberri',\n",
       " 'blackhead',\n",
       " 'blackheart',\n",
       " 'blacklivesmatt',\n",
       " 'blackmail',\n",
       " 'blackout',\n",
       " 'blackwhit',\n",
       " 'blair',\n",
       " 'blake',\n",
       " 'blame',\n",
       " 'blanc',\n",
       " 'blanket',\n",
       " 'blasio',\n",
       " 'blasphem',\n",
       " 'blasphemi',\n",
       " 'blast',\n",
       " 'blatant',\n",
       " 'bleed',\n",
       " 'bless',\n",
       " 'blew',\n",
       " 'blind',\n",
       " 'blindsid',\n",
       " 'blitz',\n",
       " 'blizzard',\n",
       " 'blm',\n",
       " 'blob',\n",
       " 'bloc',\n",
       " 'block',\n",
       " 'blockbust',\n",
       " 'blog',\n",
       " 'blogopen',\n",
       " 'blood',\n",
       " 'bloodbath',\n",
       " 'bloodi',\n",
       " 'bloomberg',\n",
       " 'bloombergback',\n",
       " 'blot',\n",
       " 'bloviat',\n",
       " 'blow',\n",
       " 'blowback',\n",
       " 'blowhard',\n",
       " 'blown',\n",
       " 'blowout',\n",
       " 'blu',\n",
       " 'blue',\n",
       " 'bluebeam',\n",
       " 'bluff',\n",
       " 'blunder',\n",
       " 'blunt',\n",
       " 'board',\n",
       " 'boast',\n",
       " 'boat',\n",
       " 'boati',\n",
       " 'bob',\n",
       " 'bobbi',\n",
       " 'bodden',\n",
       " 'bode',\n",
       " 'bodi',\n",
       " 'bodyguard',\n",
       " 'boehner',\n",
       " 'boil',\n",
       " 'boko',\n",
       " 'bold',\n",
       " 'bolivian',\n",
       " 'bollywood',\n",
       " 'bolster',\n",
       " 'bomb',\n",
       " 'bombard',\n",
       " 'bomber',\n",
       " 'bombshel',\n",
       " 'bond',\n",
       " 'bone',\n",
       " 'bonfir',\n",
       " 'bonni',\n",
       " 'bonus',\n",
       " 'boo',\n",
       " 'boobi',\n",
       " 'book',\n",
       " 'booker',\n",
       " 'boom',\n",
       " 'boost',\n",
       " 'booth',\n",
       " 'booti',\n",
       " 'booz',\n",
       " 'border',\n",
       " 'bore',\n",
       " 'bori',\n",
       " 'borja',\n",
       " 'born',\n",
       " 'borromeo',\n",
       " 'bos',\n",
       " 'bosanski',\n",
       " 'boston',\n",
       " 'bot',\n",
       " 'botch',\n",
       " 'botox',\n",
       " 'bottom',\n",
       " 'bottomfish',\n",
       " 'bought',\n",
       " 'boulder',\n",
       " 'boulevard',\n",
       " 'bounc',\n",
       " 'boundless',\n",
       " 'bourgeoi',\n",
       " 'bow',\n",
       " 'bowl',\n",
       " 'box',\n",
       " 'boxer',\n",
       " 'boy',\n",
       " 'boycott',\n",
       " 'boyfriend',\n",
       " 'boyl',\n",
       " 'brace',\n",
       " 'bradley',\n",
       " 'brag',\n",
       " 'brain',\n",
       " 'brainwash',\n",
       " 'braless',\n",
       " 'branch',\n",
       " 'brand',\n",
       " 'brandt',\n",
       " 'brave',\n",
       " 'braverman',\n",
       " 'brawl',\n",
       " 'brazen',\n",
       " 'brazil',\n",
       " 'breach',\n",
       " 'break',\n",
       " 'breakdown',\n",
       " 'breakfast',\n",
       " 'breakingexclus',\n",
       " 'breakneck',\n",
       " 'breakout',\n",
       " 'breakthrough',\n",
       " 'breast',\n",
       " 'breath',\n",
       " 'breathtak',\n",
       " 'breitbart',\n",
       " 'breitbartgravi',\n",
       " 'bret',\n",
       " 'brew',\n",
       " 'breweri',\n",
       " 'brexit',\n",
       " 'brexittyp',\n",
       " 'brian',\n",
       " 'bribe',\n",
       " 'briberi',\n",
       " 'bric',\n",
       " 'brick',\n",
       " 'brickbat',\n",
       " 'bridg',\n",
       " 'brief',\n",
       " 'briefli',\n",
       " 'brigad',\n",
       " 'bright',\n",
       " 'brighten',\n",
       " 'brilliant',\n",
       " 'brimelow',\n",
       " 'bring',\n",
       " 'brink',\n",
       " 'brinkmanship',\n",
       " 'bristl',\n",
       " 'britain',\n",
       " 'british',\n",
       " 'briton',\n",
       " 'brittl',\n",
       " 'broad',\n",
       " 'broadcast',\n",
       " 'broaden',\n",
       " 'broadest',\n",
       " 'broccoli',\n",
       " 'broil',\n",
       " 'broke',\n",
       " 'broken',\n",
       " 'broker',\n",
       " 'bronx',\n",
       " 'brothel',\n",
       " 'brother',\n",
       " 'brotherhood',\n",
       " 'brotherjohnf',\n",
       " 'brought',\n",
       " 'broward',\n",
       " 'brown',\n",
       " 'bruce',\n",
       " 'bruis',\n",
       " 'brush',\n",
       " 'brussel',\n",
       " 'brutal',\n",
       " 'bryce',\n",
       " 'bubbl',\n",
       " 'bubl',\n",
       " 'buchanan',\n",
       " 'buck',\n",
       " 'buckley',\n",
       " 'budg',\n",
       " 'budget',\n",
       " 'budgetari',\n",
       " 'budweis',\n",
       " 'buffalo',\n",
       " 'buffett',\n",
       " 'bug',\n",
       " 'build',\n",
       " 'buildup',\n",
       " 'built',\n",
       " 'bulg',\n",
       " 'bull',\n",
       " 'bulldog',\n",
       " 'bullet',\n",
       " 'bulli',\n",
       " 'bullion',\n",
       " 'bum',\n",
       " 'bumbl',\n",
       " 'bumperstick',\n",
       " 'bundi',\n",
       " 'bungl',\n",
       " 'bunk',\n",
       " 'bunni',\n",
       " 'bure',\n",
       " 'bureau',\n",
       " 'burger',\n",
       " 'burglar',\n",
       " 'buri',\n",
       " 'burial',\n",
       " 'burka',\n",
       " 'burn',\n",
       " 'burnout',\n",
       " 'burnt',\n",
       " 'burst',\n",
       " 'bus',\n",
       " 'buse',\n",
       " 'bush',\n",
       " 'busi',\n",
       " 'bust',\n",
       " 'buster',\n",
       " 'butthurt',\n",
       " 'button',\n",
       " 'buy',\n",
       " 'buzz',\n",
       " 'buzzfe',\n",
       " 'bypass',\n",
       " 'ca',\n",
       " 'cabal',\n",
       " 'cabin',\n",
       " 'cabinet',\n",
       " 'cabl',\n",
       " 'cach',\n",
       " 'cadet',\n",
       " 'cafe',\n",
       " 'cahil',\n",
       " 'cahoot',\n",
       " 'cair',\n",
       " 'caitlyn',\n",
       " 'cake',\n",
       " 'calai',\n",
       " 'calam',\n",
       " 'calcium',\n",
       " 'calcul',\n",
       " 'calendar',\n",
       " 'calif',\n",
       " 'california',\n",
       " 'call',\n",
       " 'calm',\n",
       " 'cam',\n",
       " 'camden',\n",
       " 'came',\n",
       " 'camera',\n",
       " 'cameron',\n",
       " 'camilla',\n",
       " 'camp',\n",
       " 'campaign',\n",
       " 'camper',\n",
       " 'campus',\n",
       " 'canada',\n",
       " 'canadian',\n",
       " 'cancel',\n",
       " 'cancer',\n",
       " 'cancerlink',\n",
       " 'candac',\n",
       " 'candid',\n",
       " 'candidaci',\n",
       " 'cannabi',\n",
       " 'cannib',\n",
       " 'cano',\n",
       " 'canspam',\n",
       " 'cant',\n",
       " 'canter',\n",
       " 'cap',\n",
       " 'capabl',\n",
       " 'capit',\n",
       " 'capitan',\n",
       " 'capitol',\n",
       " 'capston',\n",
       " 'captiv',\n",
       " 'captur',\n",
       " 'car',\n",
       " 'carbon',\n",
       " 'carcinogen',\n",
       " 'card',\n",
       " 'cardin',\n",
       " 'care',\n",
       " 'career',\n",
       " 'carey',\n",
       " 'cargo',\n",
       " 'caricatur',\n",
       " 'carl',\n",
       " 'carlo',\n",
       " 'carlzimm',\n",
       " 'carmel',\n",
       " 'carnag',\n",
       " 'carney',\n",
       " 'carol',\n",
       " 'carolina',\n",
       " 'carri',\n",
       " 'carrier',\n",
       " 'carrot',\n",
       " 'carson',\n",
       " 'cart',\n",
       " 'carter',\n",
       " 'cartoon',\n",
       " 'carv',\n",
       " 'case',\n",
       " 'cash',\n",
       " 'cashin',\n",
       " 'cashstrap',\n",
       " 'cast',\n",
       " ...]"
      ]
     },
     "execution_count": 51,
     "metadata": {},
     "output_type": "execute_result"
    }
   ],
   "source": [
    "tfidf.get_feature_names()"
   ]
  },
  {
   "cell_type": "code",
   "execution_count": 52,
   "metadata": {},
   "outputs": [],
   "source": [
    "df_title_tfidf = pd.DataFrame(feature_matrix.toarray(), columns=tfidf.get_feature_names())"
   ]
  },
  {
   "cell_type": "code",
   "execution_count": 53,
   "metadata": {},
   "outputs": [
    {
     "data": {
      "text/html": [
       "<div>\n",
       "<style scoped>\n",
       "    .dataframe tbody tr th:only-of-type {\n",
       "        vertical-align: middle;\n",
       "    }\n",
       "\n",
       "    .dataframe tbody tr th {\n",
       "        vertical-align: top;\n",
       "    }\n",
       "\n",
       "    .dataframe thead th {\n",
       "        text-align: right;\n",
       "    }\n",
       "</style>\n",
       "<table border=\"1\" class=\"dataframe\">\n",
       "  <thead>\n",
       "    <tr style=\"text-align: right;\">\n",
       "      <th></th>\n",
       "      <th>aap</th>\n",
       "      <th>abandon</th>\n",
       "      <th>abbi</th>\n",
       "      <th>abc</th>\n",
       "      <th>abcwapo</th>\n",
       "      <th>abduct</th>\n",
       "      <th>abdullah</th>\n",
       "      <th>abedin</th>\n",
       "      <th>abil</th>\n",
       "      <th>abl</th>\n",
       "      <th>...</th>\n",
       "      <th>zika</th>\n",
       "      <th>zimbabw</th>\n",
       "      <th>zion</th>\n",
       "      <th>zionist</th>\n",
       "      <th>zip</th>\n",
       "      <th>zone</th>\n",
       "      <th>ztech</th>\n",
       "      <th>zuckerberg</th>\n",
       "      <th>zuess</th>\n",
       "      <th>zulu</th>\n",
       "    </tr>\n",
       "  </thead>\n",
       "  <tbody>\n",
       "    <tr>\n",
       "      <th>0</th>\n",
       "      <td>0.0</td>\n",
       "      <td>0.0</td>\n",
       "      <td>0.0</td>\n",
       "      <td>0.0</td>\n",
       "      <td>0.0</td>\n",
       "      <td>0.0</td>\n",
       "      <td>0.0</td>\n",
       "      <td>0.0</td>\n",
       "      <td>0.0</td>\n",
       "      <td>0.0</td>\n",
       "      <td>...</td>\n",
       "      <td>0.0</td>\n",
       "      <td>0.0</td>\n",
       "      <td>0.0</td>\n",
       "      <td>0.0</td>\n",
       "      <td>0.0</td>\n",
       "      <td>0.0</td>\n",
       "      <td>0.0</td>\n",
       "      <td>0.0</td>\n",
       "      <td>0.0</td>\n",
       "      <td>0.0</td>\n",
       "    </tr>\n",
       "    <tr>\n",
       "      <th>1</th>\n",
       "      <td>0.0</td>\n",
       "      <td>0.0</td>\n",
       "      <td>0.0</td>\n",
       "      <td>0.0</td>\n",
       "      <td>0.0</td>\n",
       "      <td>0.0</td>\n",
       "      <td>0.0</td>\n",
       "      <td>0.0</td>\n",
       "      <td>0.0</td>\n",
       "      <td>0.0</td>\n",
       "      <td>...</td>\n",
       "      <td>0.0</td>\n",
       "      <td>0.0</td>\n",
       "      <td>0.0</td>\n",
       "      <td>0.0</td>\n",
       "      <td>0.0</td>\n",
       "      <td>0.0</td>\n",
       "      <td>0.0</td>\n",
       "      <td>0.0</td>\n",
       "      <td>0.0</td>\n",
       "      <td>0.0</td>\n",
       "    </tr>\n",
       "    <tr>\n",
       "      <th>2</th>\n",
       "      <td>0.0</td>\n",
       "      <td>0.0</td>\n",
       "      <td>0.0</td>\n",
       "      <td>0.0</td>\n",
       "      <td>0.0</td>\n",
       "      <td>0.0</td>\n",
       "      <td>0.0</td>\n",
       "      <td>0.0</td>\n",
       "      <td>0.0</td>\n",
       "      <td>0.0</td>\n",
       "      <td>...</td>\n",
       "      <td>0.0</td>\n",
       "      <td>0.0</td>\n",
       "      <td>0.0</td>\n",
       "      <td>0.0</td>\n",
       "      <td>0.0</td>\n",
       "      <td>0.0</td>\n",
       "      <td>0.0</td>\n",
       "      <td>0.0</td>\n",
       "      <td>0.0</td>\n",
       "      <td>0.0</td>\n",
       "    </tr>\n",
       "    <tr>\n",
       "      <th>3</th>\n",
       "      <td>0.0</td>\n",
       "      <td>0.0</td>\n",
       "      <td>0.0</td>\n",
       "      <td>0.0</td>\n",
       "      <td>0.0</td>\n",
       "      <td>0.0</td>\n",
       "      <td>0.0</td>\n",
       "      <td>0.0</td>\n",
       "      <td>0.0</td>\n",
       "      <td>0.0</td>\n",
       "      <td>...</td>\n",
       "      <td>0.0</td>\n",
       "      <td>0.0</td>\n",
       "      <td>0.0</td>\n",
       "      <td>0.0</td>\n",
       "      <td>0.0</td>\n",
       "      <td>0.0</td>\n",
       "      <td>0.0</td>\n",
       "      <td>0.0</td>\n",
       "      <td>0.0</td>\n",
       "      <td>0.0</td>\n",
       "    </tr>\n",
       "    <tr>\n",
       "      <th>4</th>\n",
       "      <td>0.0</td>\n",
       "      <td>0.0</td>\n",
       "      <td>0.0</td>\n",
       "      <td>0.0</td>\n",
       "      <td>0.0</td>\n",
       "      <td>0.0</td>\n",
       "      <td>0.0</td>\n",
       "      <td>0.0</td>\n",
       "      <td>0.0</td>\n",
       "      <td>0.0</td>\n",
       "      <td>...</td>\n",
       "      <td>0.0</td>\n",
       "      <td>0.0</td>\n",
       "      <td>0.0</td>\n",
       "      <td>0.0</td>\n",
       "      <td>0.0</td>\n",
       "      <td>0.0</td>\n",
       "      <td>0.0</td>\n",
       "      <td>0.0</td>\n",
       "      <td>0.0</td>\n",
       "      <td>0.0</td>\n",
       "    </tr>\n",
       "  </tbody>\n",
       "</table>\n",
       "<p>5 rows × 7176 columns</p>\n",
       "</div>"
      ],
      "text/plain": [
       "   aap  abandon  abbi  abc  abcwapo  abduct  abdullah  abedin  abil  abl  ...  \\\n",
       "0  0.0      0.0   0.0  0.0      0.0     0.0       0.0     0.0   0.0  0.0  ...   \n",
       "1  0.0      0.0   0.0  0.0      0.0     0.0       0.0     0.0   0.0  0.0  ...   \n",
       "2  0.0      0.0   0.0  0.0      0.0     0.0       0.0     0.0   0.0  0.0  ...   \n",
       "3  0.0      0.0   0.0  0.0      0.0     0.0       0.0     0.0   0.0  0.0  ...   \n",
       "4  0.0      0.0   0.0  0.0      0.0     0.0       0.0     0.0   0.0  0.0  ...   \n",
       "\n",
       "   zika  zimbabw  zion  zionist  zip  zone  ztech  zuckerberg  zuess  zulu  \n",
       "0   0.0      0.0   0.0      0.0  0.0   0.0    0.0         0.0    0.0   0.0  \n",
       "1   0.0      0.0   0.0      0.0  0.0   0.0    0.0         0.0    0.0   0.0  \n",
       "2   0.0      0.0   0.0      0.0  0.0   0.0    0.0         0.0    0.0   0.0  \n",
       "3   0.0      0.0   0.0      0.0  0.0   0.0    0.0         0.0    0.0   0.0  \n",
       "4   0.0      0.0   0.0      0.0  0.0   0.0    0.0         0.0    0.0   0.0  \n",
       "\n",
       "[5 rows x 7176 columns]"
      ]
     },
     "execution_count": 53,
     "metadata": {},
     "output_type": "execute_result"
    }
   ],
   "source": [
    "df_title_tfidf.head()"
   ]
  },
  {
   "cell_type": "markdown",
   "metadata": {},
   "source": [
    "### 3 f) - Most Frequent Words"
   ]
  },
  {
   "cell_type": "markdown",
   "metadata": {},
   "source": [
    "Most frequent words in \"real\" news within the data set:"
   ]
  },
  {
   "cell_type": "code",
   "execution_count": 54,
   "metadata": {},
   "outputs": [],
   "source": [
    "df_real = df.loc[df[\"label\"] == 0]"
   ]
  },
  {
   "cell_type": "code",
   "execution_count": 55,
   "metadata": {},
   "outputs": [
    {
     "data": {
      "text/plain": [
       "[('trump', 634),\n",
       " ('clinton', 399),\n",
       " ('obama', 293),\n",
       " ('gop', 243),\n",
       " ('donald', 185),\n",
       " ('hillari', 184),\n",
       " ('debat', 167),\n",
       " ('republican', 163),\n",
       " ('new', 141),\n",
       " ('say', 138)]"
      ]
     },
     "execution_count": 55,
     "metadata": {},
     "output_type": "execute_result"
    }
   ],
   "source": [
    "from collections import Counter\n",
    "Counter(\" \".join(df_real[\"title\"]).split()).most_common(10)"
   ]
  },
  {
   "cell_type": "code",
   "execution_count": 56,
   "metadata": {},
   "outputs": [
    {
     "data": {
      "text/plain": [
       "[('said', 15065),\n",
       " ('trump', 13904),\n",
       " ('clinton', 9705),\n",
       " ('state', 9410),\n",
       " ('would', 7747),\n",
       " ('republican', 7681),\n",
       " ('presid', 6377),\n",
       " ('say', 6338),\n",
       " ('one', 6203),\n",
       " ('peopl', 6055)]"
      ]
     },
     "execution_count": 56,
     "metadata": {},
     "output_type": "execute_result"
    }
   ],
   "source": [
    "Counter(\" \".join(df_real[\"text\"]).split()).most_common(10)"
   ]
  },
  {
   "cell_type": "markdown",
   "metadata": {},
   "source": [
    "Most frequent words in \"fake\" news within the data set:"
   ]
  },
  {
   "cell_type": "code",
   "execution_count": 57,
   "metadata": {},
   "outputs": [],
   "source": [
    "df_fake = df.loc[df[\"label\"] == 1]"
   ]
  },
  {
   "cell_type": "code",
   "execution_count": 58,
   "metadata": {},
   "outputs": [
    {
     "data": {
      "text/plain": [
       "[('trump', 451),\n",
       " ('hillari', 398),\n",
       " ('clinton', 336),\n",
       " ('elect', 211),\n",
       " ('u', 200),\n",
       " ('new', 139),\n",
       " ('russia', 125),\n",
       " ('fbi', 122),\n",
       " ('video', 122),\n",
       " ('america', 115)]"
      ]
     },
     "execution_count": 58,
     "metadata": {},
     "output_type": "execute_result"
    }
   ],
   "source": [
    "Counter(\" \".join(df_fake[\"title\"]).split()).most_common(10)"
   ]
  },
  {
   "cell_type": "code",
   "execution_count": 59,
   "metadata": {},
   "outputs": [
    {
     "data": {
      "text/plain": [
       "[('clinton', 6939),\n",
       " ('u', 6852),\n",
       " ('trump', 6515),\n",
       " ('peopl', 5478),\n",
       " ('state', 5402),\n",
       " ('one', 5203),\n",
       " ('would', 4895),\n",
       " ('hillari', 4516),\n",
       " ('like', 4101),\n",
       " ('elect', 4013)]"
      ]
     },
     "execution_count": 59,
     "metadata": {},
     "output_type": "execute_result"
    }
   ],
   "source": [
    "Counter(\" \".join(df_fake[\"text\"]).split()).most_common(10)"
   ]
  },
  {
   "cell_type": "code",
   "execution_count": null,
   "metadata": {},
   "outputs": [],
   "source": []
  },
  {
   "cell_type": "markdown",
   "metadata": {},
   "source": [
    "## Step 4 - Machine Learning"
   ]
  },
  {
   "cell_type": "code",
   "execution_count": 60,
   "metadata": {},
   "outputs": [],
   "source": [
    "#assign the labels to y to compare them with the predictions made by model\n",
    "y = df[\"label\"]"
   ]
  },
  {
   "cell_type": "code",
   "execution_count": 61,
   "metadata": {},
   "outputs": [],
   "source": [
    "from sklearn.metrics import accuracy_score\n",
    "from sklearn.metrics import precision_score\n",
    "from sklearn.metrics import recall_score\n",
    "from sklearn.metrics import f1_score\n",
    "from sklearn.metrics import log_loss\n",
    "from sklearn.metrics import roc_auc_score\n",
    "\n",
    "#function that compares different test_size splits and its result on multiple metric scores\n",
    "def func_classifier_metrics(classifier):\n",
    "    start = time.time()\n",
    "    print(\"-start-\")\n",
    "    for x in range(1, 10):\n",
    "        print(x)\n",
    "        X_train, X_test, y_train, y_test = train_test_split(df_title_tfidf, y, test_size=x/10, random_state=2, shuffle=True)\n",
    "        classifier.fit(X_train ,y_train)\n",
    "        \n",
    "        pred_on_test_data = classifier.predict(X_test)\n",
    "        acc_score = accuracy_score(pred_on_test_data, y_test)\n",
    "        prec = precision_score(y_test.values, pred_on_test_data, pos_label=1)\n",
    "        recall = recall_score(y_test.values, pred_on_test_data)\n",
    "        f1 = f1_score(y_test.values, pred_on_test_data, average=\"binary\")\n",
    "        l_loss = log_loss(y_test.values, pred_on_test_data)\n",
    "        roc_auc = roc_auc_score(y_test.values, pred_on_test_data)\n",
    "        \n",
    "        print(\"Test size: \", x/10, \"| Accuracy: \", \"{0:.4f}\".format(acc_score), \"| Precision: \", \"{0:.4f}\".format(prec), \"| Recall: \", \"{0:.4f}\".format(recall), \"| F1: \", \"{0:.4f}\".format(f1), \"| ROC-AUC: \", \"{0:.4f}\".format(roc_auc), \"| Log. Loss: \", \"{0:.4f}\".format(l_loss))\n",
    "        x = x + 1\n",
    "    print(\"end of loop\")   \n",
    "    print(\"Time: {} mins\".format(round((time.time() - start) / 60, 2)))"
   ]
  },
  {
   "cell_type": "code",
   "execution_count": null,
   "metadata": {},
   "outputs": [],
   "source": []
  },
  {
   "cell_type": "code",
   "execution_count": null,
   "metadata": {},
   "outputs": [],
   "source": []
  },
  {
   "cell_type": "code",
   "execution_count": null,
   "metadata": {},
   "outputs": [],
   "source": []
  },
  {
   "cell_type": "markdown",
   "metadata": {},
   "source": [
    "### 4 a) - Naive Bayes Classifier"
   ]
  },
  {
   "cell_type": "code",
   "execution_count": 62,
   "metadata": {},
   "outputs": [],
   "source": [
    "from sklearn.naive_bayes import MultinomialNB\n",
    "from sklearn.naive_bayes import BernoulliNB\n",
    "from sklearn.naive_bayes import GaussianNB"
   ]
  },
  {
   "cell_type": "code",
   "execution_count": 63,
   "metadata": {},
   "outputs": [
    {
     "name": "stdout",
     "output_type": "stream",
     "text": [
      "-start-\n",
      "1\n",
      "Test size:  0.1 | Accuracy:  0.8044 | Precision:  0.8225 | Recall:  0.7700 | F1:  0.7954 | ROC-AUC:  0.8040 | Log. Loss:  6.7553\n",
      "2\n",
      "Test size:  0.2 | Accuracy:  0.8066 | Precision:  0.8407 | Recall:  0.7540 | F1:  0.7950 | ROC-AUC:  0.8063 | Log. Loss:  6.6788\n",
      "3\n",
      "Test size:  0.3 | Accuracy:  0.8085 | Precision:  0.8357 | Recall:  0.7607 | F1:  0.7964 | ROC-AUC:  0.8078 | Log. Loss:  6.6135\n",
      "4\n",
      "Test size:  0.4 | Accuracy:  0.7987 | Precision:  0.8344 | Recall:  0.7414 | F1:  0.7852 | ROC-AUC:  0.7983 | Log. Loss:  6.9514\n",
      "5\n",
      "Test size:  0.5 | Accuracy:  0.8081 | Precision:  0.8192 | Recall:  0.7778 | F1:  0.7980 | ROC-AUC:  0.8073 | Log. Loss:  6.6287\n",
      "6\n",
      "Test size:  0.6 | Accuracy:  0.7916 | Precision:  0.8016 | Recall:  0.7637 | F1:  0.7822 | ROC-AUC:  0.7911 | Log. Loss:  7.1968\n",
      "7\n",
      "Test size:  0.7 | Accuracy:  0.7781 | Precision:  0.8036 | Recall:  0.7312 | F1:  0.7657 | ROC-AUC:  0.7777 | Log. Loss:  7.6632\n",
      "8\n",
      "Test size:  0.8 | Accuracy:  0.7573 | Precision:  0.7772 | Recall:  0.7173 | F1:  0.7461 | ROC-AUC:  0.7571 | Log. Loss:  8.3826\n",
      "9\n",
      "Test size:  0.9 | Accuracy:  0.7262 | Precision:  0.7443 | Recall:  0.6870 | F1:  0.7145 | ROC-AUC:  0.7261 | Log. Loss:  9.4556\n",
      "end of loop\n",
      "Time: 0.09 mins\n"
     ]
    }
   ],
   "source": [
    "#Multinomial Naive Bayes\n",
    "#https://stats.stackexchange.com/questions/33185/difference-between-naive-bayes-multinomial-naive-bayes\n",
    "\n",
    "mNB = MultinomialNB()\n",
    "func_classifier_metrics(mNB)"
   ]
  },
  {
   "cell_type": "code",
   "execution_count": 64,
   "metadata": {},
   "outputs": [
    {
     "name": "stdout",
     "output_type": "stream",
     "text": [
      "-start-\n",
      "1\n",
      "Test size:  0.1 | Accuracy:  0.7950 | Precision:  0.8123 | Recall:  0.7604 | F1:  0.7855 | ROC-AUC:  0.7945 | Log. Loss:  7.0822\n",
      "2\n",
      "Test size:  0.2 | Accuracy:  0.8090 | Precision:  0.8464 | Recall:  0.7524 | F1:  0.7966 | ROC-AUC:  0.8087 | Log. Loss:  6.5970\n",
      "3\n",
      "Test size:  0.3 | Accuracy:  0.8059 | Precision:  0.8395 | Recall:  0.7489 | F1:  0.7916 | ROC-AUC:  0.8050 | Log. Loss:  6.7043\n",
      "4\n",
      "Test size:  0.4 | Accuracy:  0.7976 | Precision:  0.8432 | Recall:  0.7271 | F1:  0.7809 | ROC-AUC:  0.7970 | Log. Loss:  6.9923\n",
      "5\n",
      "Test size:  0.5 | Accuracy:  0.7973 | Precision:  0.8278 | Recall:  0.7377 | F1:  0.7801 | ROC-AUC:  0.7959 | Log. Loss:  6.9994\n",
      "6\n",
      "Test size:  0.6 | Accuracy:  0.7856 | Precision:  0.8171 | Recall:  0.7245 | F1:  0.7680 | ROC-AUC:  0.7844 | Log. Loss:  7.4058\n",
      "7\n",
      "Test size:  0.7 | Accuracy:  0.7709 | Precision:  0.8115 | Recall:  0.7008 | F1:  0.7521 | ROC-AUC:  0.7703 | Log. Loss:  7.9124\n",
      "8\n",
      "Test size:  0.8 | Accuracy:  0.7536 | Precision:  0.7853 | Recall:  0.6939 | F1:  0.7368 | ROC-AUC:  0.7532 | Log. Loss:  8.5121\n",
      "9\n",
      "Test size:  0.9 | Accuracy:  0.7287 | Precision:  0.7456 | Recall:  0.6919 | F1:  0.7178 | ROC-AUC:  0.7286 | Log. Loss:  9.3708\n",
      "end of loop\n",
      "Time: 0.12 mins\n"
     ]
    }
   ],
   "source": [
    "bNB = BernoulliNB()\n",
    "func_classifier_metrics(bNB)"
   ]
  },
  {
   "cell_type": "code",
   "execution_count": 65,
   "metadata": {},
   "outputs": [
    {
     "name": "stdout",
     "output_type": "stream",
     "text": [
      "-start-\n",
      "1\n",
      "Test size:  0.1 | Accuracy:  0.6719 | Precision:  0.7354 | Recall:  0.5240 | F1:  0.6119 | ROC-AUC:  0.6701 | Log. Loss:  11.3314\n",
      "2\n",
      "Test size:  0.2 | Accuracy:  0.6811 | Precision:  0.7522 | Recall:  0.5349 | F1:  0.6252 | ROC-AUC:  0.6803 | Log. Loss:  11.0132\n",
      "3\n",
      "Test size:  0.3 | Accuracy:  0.6860 | Precision:  0.7504 | Recall:  0.5427 | F1:  0.6299 | ROC-AUC:  0.6838 | Log. Loss:  10.8468\n",
      "4\n",
      "Test size:  0.4 | Accuracy:  0.6669 | Precision:  0.7162 | Recall:  0.5442 | F1:  0.6184 | ROC-AUC:  0.6660 | Log. Loss:  11.5039\n",
      "5\n",
      "Test size:  0.5 | Accuracy:  0.6689 | Precision:  0.7017 | Recall:  0.5576 | F1:  0.6214 | ROC-AUC:  0.6661 | Log. Loss:  11.4367\n",
      "6\n",
      "Test size:  0.6 | Accuracy:  0.6669 | Precision:  0.6943 | Recall:  0.5720 | F1:  0.6272 | ROC-AUC:  0.6650 | Log. Loss:  11.5039\n",
      "7\n",
      "Test size:  0.7 | Accuracy:  0.6773 | Precision:  0.7115 | Recall:  0.5875 | F1:  0.6436 | ROC-AUC:  0.6766 | Log. Loss:  11.1444\n",
      "8\n",
      "Test size:  0.8 | Accuracy:  0.6730 | Precision:  0.6961 | Recall:  0.6074 | F1:  0.6487 | ROC-AUC:  0.6727 | Log. Loss:  11.2927\n",
      "9\n",
      "Test size:  0.9 | Accuracy:  0.6526 | Precision:  0.6689 | Recall:  0.6004 | F1:  0.6328 | ROC-AUC:  0.6524 | Log. Loss:  11.9996\n",
      "end of loop\n",
      "Time: 0.25 mins\n"
     ]
    }
   ],
   "source": [
    "gNB = GaussianNB()\n",
    "func_classifier_metrics(gNB)"
   ]
  },
  {
   "cell_type": "markdown",
   "metadata": {},
   "source": [
    "Multinomial Naive Bayes seems to provide the best accuracy score with a test size of 0.2\n",
    "Accuracy:  0.8113654301499605"
   ]
  },
  {
   "cell_type": "markdown",
   "metadata": {},
   "source": [
    "### 4 b) - Support Vector Machines"
   ]
  },
  {
   "cell_type": "code",
   "execution_count": 66,
   "metadata": {},
   "outputs": [],
   "source": [
    "from sklearn.svm import SVC\n",
    "#svc = SVC(gamma='auto', random_state=0)\n",
    "#svc = SVC(gamma=\"auto\")\n",
    "svc = SVC(gamma=\"scale\")"
   ]
  },
  {
   "cell_type": "code",
   "execution_count": 67,
   "metadata": {},
   "outputs": [
    {
     "data": {
      "text/plain": [
       "'\\nfunc_classifier_acc(svc)\\n'"
      ]
     },
     "execution_count": 67,
     "metadata": {},
     "output_type": "execute_result"
    }
   ],
   "source": [
    "\"\"\"\n",
    "func_classifier_acc(svc)\n",
    "\"\"\""
   ]
  },
  {
   "cell_type": "code",
   "execution_count": 68,
   "metadata": {},
   "outputs": [
    {
     "data": {
      "text/plain": [
       "'\\nsvc = SVC(gamma=\"auto\")\\nfunc_classifier_acc(svc)\\n'"
      ]
     },
     "execution_count": 68,
     "metadata": {},
     "output_type": "execute_result"
    }
   ],
   "source": [
    "\"\"\"\n",
    "svc = SVC(gamma=\"auto\")\n",
    "func_classifier_acc(svc)\n",
    "\"\"\""
   ]
  },
  {
   "cell_type": "code",
   "execution_count": 69,
   "metadata": {},
   "outputs": [],
   "source": [
    "svc_test = SVC(gamma=\"scale\", C=1.5, kernel=\"poly\", degree=2, coef0=0.001)"
   ]
  },
  {
   "cell_type": "code",
   "execution_count": 70,
   "metadata": {},
   "outputs": [],
   "source": [
    "#https://docs.google.com/spreadsheets/d/1eSNWea1PujxDQeiwCEZZRcOWYB3lpEsqjekS0HRSUBw/edit#gid=0\n",
    "#func_classifier_metrics(svc_test)"
   ]
  },
  {
   "cell_type": "markdown",
   "metadata": {},
   "source": [
    "SVM with gamma=scale and a test size of 0.3 yielded in the highest accuracy:  0.8211467648605997"
   ]
  },
  {
   "cell_type": "markdown",
   "metadata": {},
   "source": [
    "### 4 c) - Perceptron"
   ]
  },
  {
   "cell_type": "code",
   "execution_count": 71,
   "metadata": {},
   "outputs": [],
   "source": [
    "from sklearn.neural_network import MLPClassifier"
   ]
  },
  {
   "cell_type": "code",
   "execution_count": 72,
   "metadata": {},
   "outputs": [],
   "source": [
    "mlp = MLPClassifier()"
   ]
  },
  {
   "cell_type": "code",
   "execution_count": 73,
   "metadata": {},
   "outputs": [
    {
     "name": "stderr",
     "output_type": "stream",
     "text": [
      "D:\\Anaconda\\lib\\site-packages\\sklearn\\neural_network\\multilayer_perceptron.py:568: UserWarning: Training interrupted by user.\n",
      "  warnings.warn(\"Training interrupted by user.\")\n"
     ]
    },
    {
     "name": "stdout",
     "output_type": "stream",
     "text": [
      "0.7843240399789585\n"
     ]
    }
   ],
   "source": [
    "X_train, X_test, y_train, y_test = train_test_split(df_title_tfidf, y, test_size=0.3, random_state=2, shuffle=True)\n",
    "mlp.fit(X_train ,y_train)\n",
    "pred_on_test_data = mlp.predict(X_test)\n",
    "acc_score = accuracy_score(pred_on_test_data, y_test)\n",
    "print(acc_score)"
   ]
  },
  {
   "cell_type": "code",
   "execution_count": 74,
   "metadata": {},
   "outputs": [
    {
     "name": "stdout",
     "output_type": "stream",
     "text": [
      "0.7843240399789585\n"
     ]
    }
   ],
   "source": [
    "print(acc_score)"
   ]
  },
  {
   "cell_type": "code",
   "execution_count": 75,
   "metadata": {},
   "outputs": [],
   "source": [
    "mlp = MLPClassifier(hidden_layer_sizes=(150,100,50), max_iter=300,activation = 'relu',solver='adam',random_state=1)"
   ]
  },
  {
   "cell_type": "code",
   "execution_count": null,
   "metadata": {},
   "outputs": [],
   "source": [
    "X_train, X_test, y_train, y_test = train_test_split(df_title_tfidf, y, test_size=0.3, random_state=2, shuffle=True)\n",
    "mlp.fit(X_train ,y_train)\n",
    "pred_on_test_data = mlp.predict(X_test)\n",
    "acc_score = accuracy_score(pred_on_test_data, y_test)\n",
    "print(acc_score)"
   ]
  },
  {
   "cell_type": "code",
   "execution_count": null,
   "metadata": {},
   "outputs": [],
   "source": [
    "from sklearn.linear_model import Perceptron"
   ]
  },
  {
   "cell_type": "code",
   "execution_count": null,
   "metadata": {},
   "outputs": [],
   "source": []
  },
  {
   "cell_type": "code",
   "execution_count": null,
   "metadata": {},
   "outputs": [],
   "source": []
  },
  {
   "cell_type": "code",
   "execution_count": null,
   "metadata": {},
   "outputs": [],
   "source": []
  },
  {
   "cell_type": "code",
   "execution_count": null,
   "metadata": {},
   "outputs": [],
   "source": []
  },
  {
   "cell_type": "code",
   "execution_count": null,
   "metadata": {},
   "outputs": [],
   "source": []
  },
  {
   "cell_type": "markdown",
   "metadata": {},
   "source": [
    "### 4 c) - Random Forest"
   ]
  },
  {
   "cell_type": "code",
   "execution_count": null,
   "metadata": {},
   "outputs": [],
   "source": [
    "from sklearn.ensemble import RandomForestClassifier"
   ]
  },
  {
   "cell_type": "code",
   "execution_count": null,
   "metadata": {},
   "outputs": [],
   "source": [
    "rfc = RandomForestClassifier()\n",
    "func_classifier_metrics(rfc)"
   ]
  },
  {
   "cell_type": "code",
   "execution_count": null,
   "metadata": {},
   "outputs": [],
   "source": [
    "rfc = RandomForestClassifier(n_estimators=150)\n",
    "func_classifier_metrics(rfc)"
   ]
  },
  {
   "cell_type": "code",
   "execution_count": null,
   "metadata": {},
   "outputs": [],
   "source": [
    "rfc = RandomForestClassifier(n_estimators=1000)\n",
    "func_classifier_metrics(rfc)"
   ]
  },
  {
   "cell_type": "code",
   "execution_count": null,
   "metadata": {},
   "outputs": [],
   "source": [
    "rfc = RandomForestClassifier(n_estimators=100, max_features=15)\n",
    "func_classifier_metrics(rfc)"
   ]
  },
  {
   "cell_type": "code",
   "execution_count": null,
   "metadata": {},
   "outputs": [],
   "source": []
  },
  {
   "cell_type": "code",
   "execution_count": null,
   "metadata": {},
   "outputs": [],
   "source": []
  },
  {
   "cell_type": "markdown",
   "metadata": {},
   "source": [
    "### 4 d) - Word2Vec"
   ]
  },
  {
   "cell_type": "code",
   "execution_count": null,
   "metadata": {},
   "outputs": [],
   "source": [
    "import gensim\n",
    "from time import time\n",
    "import multiprocessing\n",
    "from gensim.models import Word2Vec"
   ]
  },
  {
   "cell_type": "code",
   "execution_count": null,
   "metadata": {},
   "outputs": [],
   "source": [
    "cores = multiprocessing.cpu_count()"
   ]
  },
  {
   "cell_type": "code",
   "execution_count": null,
   "metadata": {},
   "outputs": [],
   "source": [
    "w2v_model = Word2Vec(min_count=20, window=2, size=300, sample=6e-5, alpha=0.03, min_alpha=0.0007, negative=20,\n",
    "                     workers=cores-1)"
   ]
  },
  {
   "cell_type": "code",
   "execution_count": null,
   "metadata": {},
   "outputs": [],
   "source": [
    "t = time()\n",
    "\n",
    "w2v_model.build_vocab(df[\"text\"], progress_per=10000)\n",
    "\n",
    "print('Time to build vocab: {} mins'.format(round((time() - t) / 60, 2)))"
   ]
  },
  {
   "cell_type": "code",
   "execution_count": null,
   "metadata": {},
   "outputs": [],
   "source": [
    "w2v_model.train(df[\"text\"], total_examples=w2v_model.corpus_count, epochs=30, report_delay=1)\n",
    "\n",
    "print('Time to train the model: {} mins'.format(round((time() - t) / 60, 2)))"
   ]
  },
  {
   "cell_type": "code",
   "execution_count": null,
   "metadata": {},
   "outputs": [],
   "source": [
    "w2v_model.init_sims(replace=True)"
   ]
  },
  {
   "cell_type": "code",
   "execution_count": null,
   "metadata": {},
   "outputs": [],
   "source": [
    "w2v_model.similar_by_word(\"clinton\")"
   ]
  },
  {
   "cell_type": "code",
   "execution_count": null,
   "metadata": {},
   "outputs": [],
   "source": [
    "w2v_model.wv.most_similar(positive=[\"donald\"])"
   ]
  },
  {
   "cell_type": "code",
   "execution_count": null,
   "metadata": {},
   "outputs": [],
   "source": [
    "import numpy as np\n",
    "from sklearn import metrics\n",
    "y = np.array([1, 1, 2, 2])\n",
    "pred = np.array([0.1, 0.4, 0.35, 0.8])\n",
    "fpr, tpr, thresholds = metrics.roc_curve(y, pred, pos_label=2)\n",
    "metrics.auc(fpr, tpr)"
   ]
  },
  {
   "cell_type": "code",
   "execution_count": null,
   "metadata": {},
   "outputs": [],
   "source": []
  },
  {
   "cell_type": "code",
   "execution_count": null,
   "metadata": {},
   "outputs": [],
   "source": [
    "#import pd.pandas_profiling\n",
    "#pandas_profiling.ProfileReport(df)"
   ]
  },
  {
   "cell_type": "code",
   "execution_count": null,
   "metadata": {},
   "outputs": [],
   "source": [
    "#mNB.fit(X_train ,y_train)\n",
    "\n",
    "#pred_on_test_data = mNB.predict(X_test)\n",
    "#acc_score = accuracy_score(pred_on_test_data, y_test)\n",
    "#print (\"Accuracy in percentage : \" , acc_score, \"%\")"
   ]
  },
  {
   "cell_type": "code",
   "execution_count": null,
   "metadata": {},
   "outputs": [],
   "source": []
  },
  {
   "cell_type": "code",
   "execution_count": null,
   "metadata": {},
   "outputs": [],
   "source": [
    "print(\"Number of training data : \", len(X_train))\n",
    "print(\"Percentage of training data: \",len(X_train) * 100 / len(df), \"%\")\n",
    "print(\"----------------\")\n",
    "print(\"Number of training data : \", len(y_test))\n",
    "print(\"Percentage of training data: \",len(y_test) * 100 / len(df),\"%\")"
   ]
  },
  {
   "cell_type": "code",
   "execution_count": null,
   "metadata": {},
   "outputs": [],
   "source": []
  },
  {
   "cell_type": "code",
   "execution_count": null,
   "metadata": {},
   "outputs": [],
   "source": [
    "df.to_csv(\"data/FakeNews-(balanced)/fake_or_real_news_prepared.csv\", encoding=\"utf-8\")"
   ]
  },
  {
   "cell_type": "code",
   "execution_count": null,
   "metadata": {},
   "outputs": [],
   "source": [
    "\n"
   ]
  },
  {
   "cell_type": "code",
   "execution_count": null,
   "metadata": {},
   "outputs": [],
   "source": []
  },
  {
   "cell_type": "code",
   "execution_count": null,
   "metadata": {},
   "outputs": [],
   "source": [
    "pip install gensim"
   ]
  },
  {
   "cell_type": "code",
   "execution_count": null,
   "metadata": {},
   "outputs": [],
   "source": []
  },
  {
   "cell_type": "code",
   "execution_count": null,
   "metadata": {},
   "outputs": [],
   "source": []
  },
  {
   "cell_type": "code",
   "execution_count": null,
   "metadata": {},
   "outputs": [],
   "source": []
  },
  {
   "cell_type": "markdown",
   "metadata": {},
   "source": [
    "Since this data set is well balanced, accuracy can be perceived as a reliable metric."
   ]
  },
  {
   "cell_type": "code",
   "execution_count": null,
   "metadata": {},
   "outputs": [],
   "source": []
  },
  {
   "cell_type": "code",
   "execution_count": null,
   "metadata": {},
   "outputs": [],
   "source": []
  },
  {
   "cell_type": "code",
   "execution_count": null,
   "metadata": {},
   "outputs": [],
   "source": []
  },
  {
   "cell_type": "code",
   "execution_count": null,
   "metadata": {},
   "outputs": [],
   "source": []
  },
  {
   "cell_type": "code",
   "execution_count": null,
   "metadata": {},
   "outputs": [],
   "source": []
  },
  {
   "cell_type": "markdown",
   "metadata": {},
   "source": [
    "https://www.analyticsvidhya.com/blog/2018/04/a-comprehensive-guide-to-understand-and-implement-text-classification-in-python/"
   ]
  },
  {
   "cell_type": "code",
   "execution_count": null,
   "metadata": {},
   "outputs": [],
   "source": [
    "https://www.sv-europe.com/crisp-dm-methodology/\n",
    "https://www.kaggle.com/aidenloe/data-understanding-using-python\n",
    "https://towardsdatascience.com/exploratory-data-analysis-in-python-c9a77dfa39ce\n",
    "https://towardsdatascience.com/exploratory-data-analysis-tutorial-in-python-15602b417445\n",
    "https://www.learndatasci.com/tutorials/python-pandas-tutorial-complete-introduction-for-beginners/\n"
   ]
  }
 ],
 "metadata": {
  "kernelspec": {
   "display_name": "Python 3",
   "language": "python",
   "name": "python3"
  },
  "language_info": {
   "codemirror_mode": {
    "name": "ipython",
    "version": 3
   },
   "file_extension": ".py",
   "mimetype": "text/x-python",
   "name": "python",
   "nbconvert_exporter": "python",
   "pygments_lexer": "ipython3",
   "version": "3.7.3"
  }
 },
 "nbformat": 4,
 "nbformat_minor": 2
}
